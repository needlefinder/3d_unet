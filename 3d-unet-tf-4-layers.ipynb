{
 "cells": [
  {
   "cell_type": "code",
   "execution_count": 1,
   "metadata": {
    "collapsed": true
   },
   "outputs": [],
   "source": [
    "%matplotlib inline\n",
    "from fns import *\n",
    "from syntheticdata import synthetic_generation\n",
    "# import ipyvolume"
   ]
  },
  {
   "cell_type": "code",
   "execution_count": 2,
   "metadata": {
    "collapsed": true
   },
   "outputs": [],
   "source": [
    "import plotly\n",
    "plotly.tools.set_credentials_file(username='gpernelle', api_key='4KIdNJBBApIeebdKxyN9')\n"
   ]
  },
  {
   "cell_type": "markdown",
   "metadata": {},
   "source": [
    "## setting up the unet"
   ]
  },
  {
   "cell_type": "markdown",
   "metadata": {},
   "source": [
    "## training"
   ]
  },
  {
   "cell_type": "code",
   "execution_count": null,
   "metadata": {
    "scrolled": false
   },
   "outputs": [
    {
     "name": "stderr",
     "output_type": "stream",
     "text": [
      "100%|██████████| 400/400 [00:51<00:00,  6.90it/s]\n",
      "100%|██████████| 20/20 [00:02<00:00,  7.28it/s]\n"
     ]
    },
    {
     "name": "stdout",
     "output_type": "stream",
     "text": [
      "Feature shape: (400, 148, 148, 148, 2)\n",
      "b'\\n%/job:localhost/replica:0/task:0/cpu:0\\x12\\tlocalhost\\x1a\\x0b_0_Iterator \\xa4\\xd6\\xcb\\xd1\\xa6\\xeb\\xb2\\xc1\\xc7\\x01*.N10tensorflow12_GLOBAL__N_116IteratorResourceE'\n",
      "b'\\n%/job:localhost/replica:0/task:0/cpu:0\\x12\\tlocalhost\\x1a\\x0b_0_Iterator \\xa4\\xd6\\xcb\\xd1\\xa6\\xeb\\xb2\\xc1\\xc7\\x01*.N10tensorflow12_GLOBAL__N_116IteratorResourceE'\n",
      "(tf.float32, tf.float32)\n",
      "INFO:tensorflow:Restoring parameters from ./models/unet_trained_mix_dropout-05-clahe30_f32/model 185.cpkt\n"
     ]
    }
   ],
   "source": [
    "trainer = Trainer(batch_size=2, optimizer=\"adam\", filter_size=3, layers=4)\n",
    "path = trainer.train(\"./models/unet_trained_mix_dropout-05-clahe30_f32\",\n",
    "                     synth=0,\n",
    "                     freeze_deep_layers=0,\n",
    "                     training_array = None,\n",
    "                     validation_array = None,\n",
    "                     testing_array = None,\n",
    "                     training_iters=400, \n",
    "                     epochs=300, \n",
    "                     dropout=0.5, \n",
    "                     restore=True,\n",
    "                     display_step=1)"
   ]
  },
  {
   "cell_type": "code",
   "execution_count": 3,
   "metadata": {
    "collapsed": true
   },
   "outputs": [],
   "source": [
    "def dice(logits, labels):\n",
    "        flat_logits = logits.flatten()\n",
    "        flat_labels = labels.flatten()\n",
    "        intersection = np.sum(flat_logits*flat_labels)\n",
    "        union = np.sum(flat_logits) + np.sum(flat_labels)\n",
    "        loss = 1 - 2 * intersection / union\n",
    "        return loss"
   ]
  },
  {
   "cell_type": "markdown",
   "metadata": {
    "collapsed": true
   },
   "source": [
    "### Predict"
   ]
  },
  {
   "cell_type": "code",
   "execution_count": 14,
   "metadata": {
    "scrolled": false
   },
   "outputs": [
    {
     "name": "stdout",
     "output_type": "stream",
     "text": [
      "--------------------------------------------------\n",
      "Loading and Preparing the data\n",
      "Original input shape (300, 195, 204)\n",
      "Padded input shape: (388, 283, 292)\n",
      "# of parts 7 7 5\n",
      "number of tiles: 120 \n",
      "data shape (120, 148, 148, 148)\n",
      "Original input shape (300, 195, 204)\n",
      "Padded input shape: (388, 283, 292)\n",
      "# of parts 7 7 5\n",
      "number of tiles: 120 \n",
      "data shape (120, 148, 148, 148)\n"
     ]
    },
    {
     "name": "stderr",
     "output_type": "stream",
     "text": [
      "100%|██████████| 120/120 [00:00<00:00, 1136154.58it/s]"
     ]
    },
    {
     "name": "stdout",
     "output_type": "stream",
     "text": [
      "--------------------------------------------------\n",
      "Starting the segmenter.\n"
     ]
    },
    {
     "name": "stderr",
     "output_type": "stream",
     "text": [
      "\n"
     ]
    },
    {
     "name": "stdout",
     "output_type": "stream",
     "text": [
      "imgs shape (120, 148, 148, 148, 2)\n",
      "Feature shape:  (120, 148, 148, 148, 2)\n",
      "INFO:tensorflow:Restoring parameters from ./models/unet_trained_mix_dropout-05-clahe30_f16/model 8.cpkt\n"
     ]
    },
    {
     "name": "stderr",
     "output_type": "stream",
     "text": [
      "100%|██████████| 120/120 [00:07<00:00, 15.35it/s]\n"
     ]
    },
    {
     "name": "stdout",
     "output_type": "stream",
     "text": [
      "prediction shape: (120, 1, 60, 60, 60, 1)\n",
      "Merging subvolumes\n",
      "--------------------------------------------------\n",
      "Padded input shape: (388, 283, 292)\n",
      "# of parts 7 7 5\n",
      "# of subvolumes merged:  120\n",
      "(array([ 0,  1,  2,  3,  4,  5,  6,  7,  8,  9, 10, 11, 12], dtype=uint16), array([11812406,    72694,    29016,    11188,     4841,     1410,\n",
      "           1454,      163,      181,      145,      149,      149,      204]))\n",
      "(300, 195, 204)\n"
     ]
    }
   ],
   "source": [
    "case='74'\n",
    "image_name = '/home/gp1514/SSD/preprocessed_data/LabelMapsNEW2_1.00-1.00-1.00_split2/0%s/case.nrrd'%case\n",
    "label_name = '/home/gp1514/SSD/preprocessed_data/LabelMapsNEW2_1.00-1.00-1.00/0%s/needles.nrrd'%case\n",
    "\n",
    "data, options = nrrd.read(image_name)\n",
    "data = data.astype(np.float32)\n",
    "data1, options = nrrd.read(image_name.replace('_split2', ''))\n",
    "data1 = data1.astype(np.float32)\n",
    "\n",
    "label_data, options = nrrd.read(label_name)\n",
    "\n",
    "prediction = predict([data1,data], \"./models/unet_trained_mix_dropout-05-clahe30_f16\")"
   ]
  },
  {
   "cell_type": "code",
   "execution_count": 15,
   "metadata": {
    "collapsed": true
   },
   "outputs": [],
   "source": [
    "# image_name = '/home/gp1514/SSD/preprocessed_data/LabelMapsNEW2_1.00-1.00-1.00_synthetic_occulted_new/numpy/training_case831.npy'\n",
    "# label_name = '/home/gp1514/SSD/preprocessed_data/LabelMapsNEW2_1.00-1.00-1.00_synthetic_occulted_new/numpy/training_labelmap831.npy'\n",
    "# data = np.load(image_name)\n",
    "# label_data = np.load(label_name)"
   ]
  },
  {
   "cell_type": "code",
   "execution_count": 16,
   "metadata": {},
   "outputs": [
    {
     "data": {
      "text/plain": [
       "0.91192655129369882"
      ]
     },
     "execution_count": 16,
     "metadata": {},
     "output_type": "execute_result"
    }
   ],
   "source": [
    "dice(prediction, label_data)"
   ]
  },
  {
   "cell_type": "code",
   "execution_count": 12,
   "metadata": {},
   "outputs": [
    {
     "name": "stdout",
     "output_type": "stream",
     "text": [
      "Number of regions: 398\n",
      "1 1.91852225442 502\n",
      "2 2.70996979024 602\n",
      "3 1.41646827394 192\n",
      "4 2.11349209162 212\n",
      "5 1.07294366672 108\n",
      "6 2.63076223879 365\n",
      "7 1.19188412728 191\n",
      "8 1.22713052659 302\n",
      "9 1.13358721425 221\n",
      "10 1.03473235995 175\n",
      "11 1.32714120192 156\n",
      "12 1.14764644102 102\n",
      "13 1.17408370444 435\n",
      "14 1.04939127581 149\n",
      "15 1.0689997131 239\n",
      "16 1.19059011721 247\n",
      "17 1.08088642918 178\n",
      "18 1.08570779523 126\n",
      "19 1.03777967361 137\n",
      "20 1.09067979445 257\n",
      "21 1.12429523092 246\n",
      "22 1.0456585628 117\n",
      "23 1.10237805575 144\n",
      "24 1.12313866323 297\n",
      "25 1.08917126379 399\n",
      "26 1.33803549946 333\n",
      "27 1.10040945351 213\n",
      "28 1.11225584513 234\n",
      "29 1.07944252025 236\n",
      "30 1.13963386066 194\n",
      "31 1.61673625949 193\n",
      "32 1.20404446171 336\n",
      "33 1.00258001941 215\n",
      "34 1.18572724269 324\n",
      "35 1.00447466264 164\n",
      "36 1.13802895414 314\n",
      "37 1.25062022741 372\n",
      "38 1.10067554124 303\n",
      "39 1.16271578885 487\n",
      "40 1.11607593502 317\n",
      "41 1.02647958944 146\n",
      "42 1.1897499561 199\n",
      "43 1.59241094086 569\n",
      "44 1.08893746607 130\n",
      "45 2.09051780243 200\n",
      "46 1.48852102488 133\n",
      "47 1.06089381401 133\n",
      "48 1.08315934132 110\n",
      "49 1.50766892208 604\n",
      "50 1.18582678441 373\n",
      "51 1.05882358758 134\n",
      "52 1.06982804856 109\n",
      "53 1.11345571161 326\n",
      "54 1.45507759269 341\n",
      "55 1.06420095445 161\n",
      "56 1.0456840973 131\n",
      "57 9.24901605588 8451\n",
      "58 2.45499330725 285\n",
      "59 2.07392771392 237\n",
      "60 1.56051810388 280\n",
      "61 4.42194113992 2339\n"
     ]
    }
   ],
   "source": [
    "islands = post_processing(prediction, min_area=int(100), max_residual=float(10))\n",
    "# islands.shape"
   ]
  },
  {
   "cell_type": "code",
   "execution_count": 13,
   "metadata": {},
   "outputs": [
    {
     "name": "stdout",
     "output_type": "stream",
     "text": [
      "High five! You successfuly sent some data to your account on plotly. View your plot in your browser at https://plot.ly/~gpernelle/0 or inside your plot.ly account where it is named 'simple-3d-scatter'\n"
     ]
    },
    {
     "data": {
      "text/html": [
       "<iframe id=\"igraph\" scrolling=\"no\" style=\"border:none;\" seamless=\"seamless\" src=\"https://plot.ly/~gpernelle/0.embed\" height=\"525px\" width=\"100%\"></iframe>"
      ],
      "text/plain": [
       "<plotly.tools.PlotlyDisplay object>"
      ]
     },
     "execution_count": 13,
     "metadata": {},
     "output_type": "execute_result"
    }
   ],
   "source": [
    "import plotly.plotly as py\n",
    "import plotly.graph_objs as go\n",
    "x,y,z = np.where(label_data == 1)\n",
    "xs,ys,zs = np.where(islands != 0)\n",
    "\n",
    "trace1 = go.Scatter3d(\n",
    "    x=x,\n",
    "    y=y,\n",
    "    z=z,\n",
    "    mode='markers',\n",
    "    marker=dict(\n",
    "        size=3,\n",
    "        line=dict(\n",
    "            color='green',\n",
    "            width=2\n",
    "        ),\n",
    "        opacity=0.3\n",
    "    )\n",
    ")\n",
    "\n",
    "trace2 = go.Scatter3d(\n",
    "    x=xs,\n",
    "    y=ys,\n",
    "    z=zs,\n",
    "    mode='markers',\n",
    "    marker=dict(\n",
    "        color='red',\n",
    "        size=3,\n",
    "        symbol='circle',\n",
    "        line=dict(\n",
    "            color='rgb(204, 204, 204)',\n",
    "            width=1\n",
    "        ),\n",
    "        opacity=0.3\n",
    "    )\n",
    ")\n",
    "data = [trace1, trace2]\n",
    "layout = go.Layout(\n",
    "    margin=dict(\n",
    "        l=0,\n",
    "        r=0,\n",
    "        b=0,\n",
    "        t=0\n",
    "    )\n",
    ")\n",
    "\n",
    "fig = go.Figure(data=data, layout=layout)\n",
    "py.iplot(fig, filename='simple-3d-scatter')"
   ]
  },
  {
   "cell_type": "code",
   "execution_count": null,
   "metadata": {
    "collapsed": true
   },
   "outputs": [],
   "source": [
    "# %matplotlib notebook\n",
    "# xs,ys,zs = np.where(prediction == 1)\n",
    "\n",
    "# fig = plt.figure(figsize=(6,6))\n",
    "# ax = fig.add_subplot(111, projection='3d')\n",
    "# ax.scatter(xs, ys, zs, marker='o', alpha=0.1, s=1)\n",
    "# plt.show()\n",
    "\n",
    "# # fig = plt.figure(figsize=(6,6))\n",
    "# # ax = fig.add_subplot(111, projection='3d')\n",
    "# xs,ys,zs = np.where(label_data == 1)\n",
    "# ax.scatter(xs, ys, zs, marker='o',color='g', alpha=0.1, s=5)\n",
    "# plt.show()"
   ]
  },
  {
   "cell_type": "code",
   "execution_count": 48,
   "metadata": {
    "scrolled": true
   },
   "outputs": [
    {
     "name": "stderr",
     "output_type": "stream",
     "text": [
      "/mnt/DATA/gp1514/.pyenv/versions/anaconda3-4.4.0/envs/needles/lib/python3.6/site-packages/ipyvolume/serialize.py:29: RuntimeWarning: invalid value encountered in true_divide\n",
      "  gradient = gradient / np.sqrt(gradient[0]**2 + gradient[1]**2 + gradient[2]**2)\n",
      "/mnt/DATA/gp1514/.pyenv/versions/anaconda3-4.4.0/envs/needles/lib/python3.6/site-packages/ipyvolume/serialize.py:29: RuntimeWarning: invalid value encountered in true_divide\n",
      "  gradient = gradient / np.sqrt(gradient[0]**2 + gradient[1]**2 + gradient[2]**2)\n"
     ]
    },
    {
     "data": {
      "application/vnd.jupyter.widget-view+json": {
       "model_id": "691c59f04ce043ddbb5640f8e86d1f39"
      }
     },
     "metadata": {},
     "output_type": "display_data"
    }
   ],
   "source": [
    "import ipyvolume.pylab as p3\n",
    "p3.figure(figsize=(15,15))\n",
    "ipyvolume.quickvolshow(islands, opacity=1)\n",
    "ipyvolume.quickvolshow(label_data, opacity=1)"
   ]
  },
  {
   "cell_type": "code",
   "execution_count": 35,
   "metadata": {},
   "outputs": [
    {
     "data": {
      "application/vnd.jupyter.widget-view+json": {
       "model_id": "673c8791c9184766bdd701b5949ac948"
      }
     },
     "metadata": {},
     "output_type": "display_data"
    }
   ],
   "source": [
    "x,y,z = np.where(label_data == 1)\n",
    "ipyvolume.quickscatter(x,y,z, size=0.5, marker=\"sphere\", opacity=0.2)\n",
    "\n",
    "x,y,z = np.where(islands == 1)\n",
    "ipyvolume.quickscatter(x,y,z, size=0.5, marker=\"sphere\", opacity=0.2, color='blue')"
   ]
  },
  {
   "cell_type": "code",
   "execution_count": null,
   "metadata": {
    "collapsed": true
   },
   "outputs": [],
   "source": [
    "np.random.seed(1)\n",
    "islands = measure.label(prediction)\n",
    "K = np.max(islands)\n",
    "cp =sns.color_palette(\"Set2\", K)\n",
    "fig = plt.figure(figsize=(6,6))\n",
    "ax = fig.add_subplot(111, projection='3d')\n",
    "for j in range(1,K):\n",
    "    xs,ys,zs = np.where(islands == j)\n",
    "    ax.scatter(xs, ys, zs, marker='o',color=cp[j], alpha=0.9, s=2)\n",
    "plt.show()"
   ]
  },
  {
   "cell_type": "code",
   "execution_count": null,
   "metadata": {
    "collapsed": true
   },
   "outputs": [],
   "source": [
    "np.random.seed(1)\n",
    "islands = measure.label(label_data[i,...,0][44:-44,44:-44,44:-44])\n",
    "K = np.max(islands)\n",
    "cp =sns.color_palette(\"Set2\", K)\n",
    "fig = plt.figure(figsize=(6,6))\n",
    "ax = fig.add_subplot(111, projection='3d')\n",
    "for j in range(1,K):\n",
    "    xs,ys,zs = np.where(islands == j)\n",
    "    ax.scatter(xs, ys, zs, marker='o',color=cp[j], alpha=0.9, s=2)\n",
    "plt.show()"
   ]
  },
  {
   "cell_type": "code",
   "execution_count": null,
   "metadata": {
    "collapsed": true
   },
   "outputs": [],
   "source": [
    "image_name = '/mnt/DATA/gp1514/Dropbox/2016-paolo/preprocessed_data/LabelMapsNEW2_1.00-1.00-1.00/075/case.nrrd'\n",
    "label_name = '/mnt/DATA/gp1514/Dropbox/2016-paolo/preprocessed_data/LabelMapsNEW2_1.00-1.00-1.00/075/needles.nrrd'"
   ]
  },
  {
   "cell_type": "code",
   "execution_count": null,
   "metadata": {
    "collapsed": true
   },
   "outputs": [],
   "source": [
    "# print(img.shape)\n",
    "# print(data.shape)"
   ]
  },
  {
   "cell_type": "code",
   "execution_count": null,
   "metadata": {
    "collapsed": true
   },
   "outputs": [],
   "source": [
    "# data.shape"
   ]
  },
  {
   "cell_type": "code",
   "execution_count": null,
   "metadata": {
    "collapsed": true
   },
   "outputs": [],
   "source": [
    "tiles = (148,148,148)\n",
    "tile = 148"
   ]
  },
  {
   "cell_type": "code",
   "execution_count": null,
   "metadata": {
    "collapsed": true
   },
   "outputs": [],
   "source": [
    "data, options = nrrd.read(image_name)\n",
    "data = data.astype(np.float32)\n",
    "print(data.shape)\n",
    "d = data.resize(max(data.shape[0],tile),\n",
    "               max(data.shape[1],tile),\n",
    "               max(data.shape[2],tile))\n",
    "print(data.shape)\n",
    "print(options)"
   ]
  },
  {
   "cell_type": "markdown",
   "metadata": {},
   "source": [
    "## Inference pipeline"
   ]
  },
  {
   "cell_type": "code",
   "execution_count": null,
   "metadata": {
    "collapsed": true
   },
   "outputs": [],
   "source": [
    "arr_data = cutVolume(data)\n",
    "arr_pred = predict_full_volume(net, arr_data, model_path=\"./unet_trained/model 99.cpkt\")\n",
    "full_pred = recombine(arr_pred, data)"
   ]
  },
  {
   "cell_type": "code",
   "execution_count": null,
   "metadata": {
    "collapsed": true
   },
   "outputs": [],
   "source": [
    "def post_processing(full_pred, min_area=150, max_residual=10):\n",
    "    ''' Clustering + removing small clusters + keeping only line-looking clusters'''\n",
    "    islands_ = measure.label(full_pred)\n",
    "    regions = measure.regionprops(islands_)\n",
    "    islands = np.zeros_like(full_pred, dtype=np.uint8)\n",
    "    K = len(regions)\n",
    "    print('Number of regions: %d' % K)\n",
    "    i=0\n",
    "    for k in range(K):\n",
    "        region = regions[k]\n",
    "        coords = region.coords\n",
    "        if region.area > min_area:\n",
    "            lm = measure.LineModelND()\n",
    "            lm.estimate(coords)\n",
    "            res = lm.residuals(coords)\n",
    "            mean_res = np.mean(res)\n",
    "            if mean_res < max_residual:\n",
    "                i+=1\n",
    "                print(k, i, mean_res, np.std(res), region.area)\n",
    "                for x,y,z in coords:\n",
    "                    islands[x,y,z] = i\n"
   ]
  },
  {
   "cell_type": "code",
   "execution_count": null,
   "metadata": {
    "collapsed": true
   },
   "outputs": [],
   "source": [
    "islands = post_processing(full_pred)"
   ]
  },
  {
   "cell_type": "code",
   "execution_count": null,
   "metadata": {
    "collapsed": true
   },
   "outputs": [],
   "source": [
    "islands_ = measure.label(full_pred)\n",
    "regions = measure.regionprops(islands_)\n",
    "region = regions[691]\n",
    "lm = measure.LineModelND()\n",
    "lm.estimate(region.coords)\n",
    "res = lm.residuals(region.coords)\n",
    "res\n",
    "K = np.max(islands)\n",
    "cp = sns.color_palette(\"Set2\", K)\n",
    "fig = plt.figure(figsize=(6,6))\n",
    "ax = fig.add_subplot(111, projection='3d')\n",
    "\n",
    "xs,ys,zs = region.coords.T\n",
    "ax.scatter(xs, ys, zs, marker='o',color=cp[j], alpha=0.9, s=2)\n",
    "plt.show()"
   ]
  },
  {
   "cell_type": "code",
   "execution_count": null,
   "metadata": {
    "collapsed": true
   },
   "outputs": [],
   "source": [
    "print(np.unique(islands, return_counts=True))"
   ]
  },
  {
   "cell_type": "code",
   "execution_count": null,
   "metadata": {
    "collapsed": true
   },
   "outputs": [],
   "source": [
    "# islands = measure.label(full_pred)\n",
    "K = np.max(islands)\n",
    "cp = sns.color_palette(\"Set2\", K)\n",
    "fig = plt.figure(figsize=(6,6))\n",
    "ax = fig.add_subplot(111, projection='3d')\n",
    "for j in range(1,K):\n",
    "    xs,ys,zs = np.where(islands == j)\n",
    "    ax.scatter(xs, ys, zs, marker='o',color=cp[j], alpha=0.9, s=2)\n",
    "plt.show()"
   ]
  },
  {
   "cell_type": "code",
   "execution_count": null,
   "metadata": {
    "collapsed": true
   },
   "outputs": [],
   "source": [
    "nrrd.write('test75.nrrd', islands, options=options)"
   ]
  },
  {
   "cell_type": "code",
   "execution_count": null,
   "metadata": {
    "collapsed": true
   },
   "outputs": [],
   "source": [
    "islands.shape\n",
    "print(np.unique(islands, return_counts=True))"
   ]
  },
  {
   "cell_type": "code",
   "execution_count": null,
   "metadata": {
    "collapsed": true
   },
   "outputs": [],
   "source": [
    "image_name = '/mnt/DATA/gp1514/Dropbox/2016-paolo/preprocessed_data/LabelMapsNEW2_1.00-1.00-1.00/074/needles.nrrd'\n",
    "data, options = nrrd.read(image_name)\n",
    "data = data.astype(np.int8)"
   ]
  },
  {
   "cell_type": "code",
   "execution_count": null,
   "metadata": {
    "collapsed": true
   },
   "outputs": [],
   "source": [
    "arr_labels = cutVolume(data)"
   ]
  },
  {
   "cell_type": "code",
   "execution_count": null,
   "metadata": {
    "collapsed": true
   },
   "outputs": [],
   "source": [
    "# '''\n",
    "# EXPORT\n",
    "# '''\n",
    "\n",
    "# with tf.Graph().as_default():\n",
    "#         # Inject placeholder into the graph\n",
    "#         serialized_tf_example = tf.placeholder(tf.string, name='input_image')\n",
    "#         feature_configs = {'data': tf.FixedLenFeature(shape=[1,148,148,148,1], dtype=tf.float32),}\n",
    "#         tf_example = tf.parse_example(serialized_tf_example, feature_configs)\n",
    "#         x_test = tf_example['data']\n",
    "#         # now the image shape is (1,148,148,148,1)\n",
    "\n",
    "#         # Create UNET model\n",
    "#         net = Unet(channels=1, n_class=1, layers=4, pool_size=2, features_root=16, summaries=True)\n",
    "#         # Create saver to restore from checkpoints\n",
    "#         saver = tf.train.Saver()\n",
    "\n",
    "#         with tf.Session() as sess:\n",
    "            \n",
    "#             # Restore the model from last checkpoints\n",
    "#             saver.restore(sess, \"./unet_trained/model 99.cpkt\")\n",
    "            \n",
    "            \n",
    "#             y_dummy = np.empty((1,148,148,148,1))\n",
    "\n",
    "#             # (re-)create export directory\n",
    "#             export_path = './export/'\n",
    "#             if os.path.exists(export_path):\n",
    "#                 shutil.rmtree(export_path)\n",
    "\n",
    "#             # create model builder\n",
    "#             builder = tf.saved_model.builder.SavedModelBuilder(export_path)\n",
    "\n",
    "#             # create tensors info\n",
    "#             predict_tensor_inputs_info = tf.saved_model.utils.build_tensor_info(x_test)\n",
    "#             predict_tensor_scores_info = tf.saved_model.utils.build_tensor_info(net.predicter_label)\n",
    "\n",
    "#             # build prediction signature\n",
    "#             prediction_signature = (\n",
    "#                 tf.saved_model.signature_def_utils.build_signature_def(\n",
    "#                     inputs={'images': predict_tensor_inputs_info},\n",
    "#                     outputs={'scores': predict_tensor_scores_info},\n",
    "#                     method_name=tf.saved_model.signature_constants.PREDICT_METHOD_NAME\n",
    "#                 )\n",
    "#             )\n",
    "\n",
    "#             # save the model\n",
    "#             legacy_init_op = tf.group(tf.tables_initializer(), name='legacy_init_op')\n",
    "#             builder.add_meta_graph_and_variables(\n",
    "#                 sess, [tf.saved_model.tag_constants.SERVING],\n",
    "#                 signature_def_map={\n",
    "#                     'predict_images': prediction_signature\n",
    "#                 },\n",
    "#                 legacy_init_op=legacy_init_op)\n",
    "\n",
    "#             builder.save()\n",
    "\n",
    "# print(\"Successfully exported UNET model\")"
   ]
  },
  {
   "cell_type": "code",
   "execution_count": null,
   "metadata": {
    "collapsed": true
   },
   "outputs": [],
   "source": []
  }
 ],
 "metadata": {
  "anaconda-cloud": {},
  "kernelspec": {
   "display_name": "Python 3",
   "language": "python",
   "name": "python3"
  },
  "language_info": {
   "codemirror_mode": {
    "name": "ipython",
    "version": 3
   },
   "file_extension": ".py",
   "mimetype": "text/x-python",
   "name": "python",
   "nbconvert_exporter": "python",
   "pygments_lexer": "ipython3",
   "version": "3.6.2"
  }
 },
 "nbformat": 4,
 "nbformat_minor": 1
}
