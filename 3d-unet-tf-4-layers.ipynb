{
 "cells": [
  {
   "cell_type": "code",
   "execution_count": 72,
   "metadata": {},
   "outputs": [
    {
     "name": "stderr",
     "output_type": "stream",
     "text": [
      "IOPub data rate exceeded.\n",
      "The notebook server will temporarily stop sending output\n",
      "to the client in order to avoid crashing it.\n",
      "To change this limit, set the config variable\n",
      "`--NotebookApp.iopub_data_rate_limit`.\n"
     ]
    }
   ],
   "source": [
    "%matplotlib inline\n",
    "import plotly\n",
    "from plotly import tools\n",
    "from fns import *\n",
    "from syntheticdata import synthetic_generation\n",
    "plotly.tools.set_credentials_file(username='gpernelle', api_key='4KIdNJBBApIeebdKxyN9')\n",
    "import plotly.offline as offline\n",
    "\n",
    "plotly.offline.init_notebook_mode()"
   ]
  },
  {
   "cell_type": "markdown",
   "metadata": {},
   "source": [
    "## Training"
   ]
  },
  {
   "cell_type": "code",
   "execution_count": null,
   "metadata": {
    "scrolled": false
   },
   "outputs": [
    {
     "name": "stderr",
     "output_type": "stream",
     "text": [
      "100%|██████████| 400/400 [00:51<00:00,  6.90it/s]\n",
      "100%|██████████| 20/20 [00:02<00:00,  7.28it/s]\n"
     ]
    },
    {
     "name": "stdout",
     "output_type": "stream",
     "text": [
      "Feature shape: (400, 148, 148, 148, 2)\n",
      "b'\\n%/job:localhost/replica:0/task:0/cpu:0\\x12\\tlocalhost\\x1a\\x0b_0_Iterator \\xa4\\xd6\\xcb\\xd1\\xa6\\xeb\\xb2\\xc1\\xc7\\x01*.N10tensorflow12_GLOBAL__N_116IteratorResourceE'\n",
      "b'\\n%/job:localhost/replica:0/task:0/cpu:0\\x12\\tlocalhost\\x1a\\x0b_0_Iterator \\xa4\\xd6\\xcb\\xd1\\xa6\\xeb\\xb2\\xc1\\xc7\\x01*.N10tensorflow12_GLOBAL__N_116IteratorResourceE'\n",
      "(tf.float32, tf.float32)\n",
      "INFO:tensorflow:Restoring parameters from ./models/unet_trained_mix_dropout-05-clahe30_f32/model 185.cpkt\n"
     ]
    }
   ],
   "source": [
    "trainer = Trainer(batch_size=2, optimizer=\"adam\", filter_size=3, layers=4)\n",
    "path = trainer.train(\"./models/unet_trained_mix_dropout-05-clahe30_f32\",\n",
    "                     synth=0,\n",
    "                     freeze_deep_layers=0,\n",
    "                     training_array = None,\n",
    "                     validation_array = None,\n",
    "                     testing_array = None,\n",
    "                     training_iters=400, \n",
    "                     epochs=300, \n",
    "                     dropout=0.5, \n",
    "                     restore=True,\n",
    "                     display_step=1)"
   ]
  },
  {
   "cell_type": "code",
   "execution_count": 3,
   "metadata": {
    "collapsed": true
   },
   "outputs": [],
   "source": [
    "def dice(logits, labels):\n",
    "        flat_logits = logits.flatten()\n",
    "        flat_labels = labels.flatten()\n",
    "        intersection = np.sum(flat_logits*flat_labels)\n",
    "        union = np.sum(flat_logits) + np.sum(flat_labels)\n",
    "        loss = 1 - 2 * intersection / union\n",
    "        return loss"
   ]
  },
  {
   "cell_type": "markdown",
   "metadata": {
    "collapsed": true
   },
   "source": [
    "## Inference"
   ]
  },
  {
   "cell_type": "code",
   "execution_count": 4,
   "metadata": {
    "scrolled": false
   },
   "outputs": [
    {
     "name": "stdout",
     "output_type": "stream",
     "text": [
      "--------------------------------------------------\n",
      "Loading and Preparing the data\n",
      "Original input shape (300, 195, 192)\n",
      "Padded input shape: (388, 283, 280)\n",
      "# of parts 7 7 5\n",
      "number of tiles: 96 \n",
      "data shape (96, 148, 148, 148)\n",
      "Original input shape (300, 195, 192)\n",
      "Padded input shape: (388, 283, 280)\n",
      "# of parts 7 7 5\n",
      "number of tiles: 96 \n",
      "data shape (96, 148, 148, 148)\n"
     ]
    },
    {
     "name": "stderr",
     "output_type": "stream",
     "text": [
      "100%|██████████| 96/96 [00:00<00:00, 729444.17it/s]"
     ]
    },
    {
     "name": "stdout",
     "output_type": "stream",
     "text": [
      "--------------------------------------------------\n",
      "Starting the segmenter.\n"
     ]
    },
    {
     "name": "stderr",
     "output_type": "stream",
     "text": [
      "\n"
     ]
    },
    {
     "name": "stdout",
     "output_type": "stream",
     "text": [
      "imgs shape (96, 148, 148, 148, 2)\n",
      "Feature shape:  (96, 148, 148, 148, 2)\n",
      "INFO:tensorflow:Restoring parameters from ./models/unet_trained_mix_dropout-05-clahe30_f32/model 41.cpkt\n"
     ]
    },
    {
     "name": "stderr",
     "output_type": "stream",
     "text": [
      "100%|██████████| 96/96 [00:47<00:00,  2.18it/s]\n"
     ]
    },
    {
     "name": "stdout",
     "output_type": "stream",
     "text": [
      "prediction shape: (96, 1, 60, 60, 60, 1)\n",
      "Merging subvolumes\n",
      "--------------------------------------------------\n",
      "Padded input shape: (388, 283, 280)\n",
      "# of parts 7 7 5\n",
      "# of subvolumes merged:  96\n",
      "(array([0, 1, 2, 3, 4, 5, 6, 7], dtype=uint16), array([11206553,    17706,     7169,      277,      264,       18,\n",
      "              8,        5]))\n",
      "(300, 195, 192)\n"
     ]
    }
   ],
   "source": [
    "case='72'\n",
    "image_name = '/home/gp1514/SSD/preprocessed_data/LabelMapsNEW2_1.00-1.00-1.00_split2/0%s/case.nrrd'%case\n",
    "label_name = '/home/gp1514/SSD/preprocessed_data/LabelMapsNEW2_1.00-1.00-1.00/0%s/needles.nrrd'%case\n",
    "\n",
    "data, options = nrrd.read(image_name)\n",
    "data = data.astype(np.float32)\n",
    "data1, options = nrrd.read(image_name.replace('_split2', ''))\n",
    "data1 = data1.astype(np.float32)\n",
    "\n",
    "label_data, options = nrrd.read(label_name)\n",
    "\n",
    "prediction = predict([data1,data], \"./models/unet_trained_mix_dropout-05-clahe30_f32\")"
   ]
  },
  {
   "cell_type": "code",
   "execution_count": 5,
   "metadata": {},
   "outputs": [
    {
     "data": {
      "text/plain": [
       "0.35283225129955598"
      ]
     },
     "execution_count": 5,
     "metadata": {},
     "output_type": "execute_result"
    }
   ],
   "source": [
    "dice(prediction, label_data)"
   ]
  },
  {
   "cell_type": "code",
   "execution_count": 30,
   "metadata": {},
   "outputs": [
    {
     "name": "stdout",
     "output_type": "stream",
     "text": [
      "Number of regions: 67\n",
      "1 1.02826171946 116\n",
      "2 1.15177152722 297\n",
      "3 1.12340012298 178\n",
      "4 1.16889649616 112\n",
      "5 3.67933554757 2580\n",
      "6 1.17268402643 941\n",
      "7 1.15137775692 857\n",
      "8 1.98433331641 1403\n",
      "9 1.19710388199 986\n",
      "10 1.12828942045 927\n",
      "11 1.18400254281 486\n",
      "12 1.51766449149 221\n",
      "13 1.14371138304 499\n",
      "14 1.19906235038 137\n",
      "15 1.0440969806 124\n",
      "16 1.06518561515 156\n",
      "17 1.14601242062 433\n",
      "18 1.14039425844 990\n",
      "19 1.12425107633 384\n",
      "20 1.1222831301 535\n",
      "21 1.15644452255 949\n",
      "22 1.21801716084 511\n",
      "23 1.1667043662 1089\n",
      "24 1.16976536829 888\n",
      "25 1.21132853169 663\n",
      "26 1.16099200078 797\n",
      "27 1.13387091809 849\n",
      "28 1.01131256407 144\n",
      "29 1.24940084293 933\n",
      "30 1.11572836494 780\n",
      "31 1.21372014749 988\n",
      "32 1.04008536685 125\n",
      "33 0.993174034858 192\n"
     ]
    }
   ],
   "source": [
    "islands = post_processing(prediction, min_area=int(100), max_residual=float(4))\n",
    "# islands.shape"
   ]
  },
  {
   "cell_type": "code",
   "execution_count": 95,
   "metadata": {},
   "outputs": [
    {
     "data": {
      "text/html": [
       "<iframe id=\"igraph\" scrolling=\"no\" style=\"border:none;\" seamless=\"seamless\" src=\"https://plot.ly/~gpernelle/2.embed\" height=\"525px\" width=\"100%\"></iframe>"
      ],
      "text/plain": [
       "<plotly.tools.PlotlyDisplay object>"
      ]
     },
     "execution_count": 95,
     "metadata": {},
     "output_type": "execute_result"
    }
   ],
   "source": [
    "import plotly.plotly as py\n",
    "import plotly.graph_objs as go\n",
    "x,y,z = np.where(label_data == 1)\n",
    "xs,ys,zs = np.where(islands != 0)\n",
    "\n",
    "trace1 = go.Scatter3d(\n",
    "    x=x,\n",
    "    y=y,\n",
    "    z=z,\n",
    "    mode='markers',\n",
    "    marker=dict(\n",
    "        size=3,\n",
    "        line=dict(\n",
    "            color='green',\n",
    "            width=2\n",
    "        ),\n",
    "        opacity=0.3\n",
    "    )\n",
    ")\n",
    "\n",
    "trace2 = go.Scatter3d(\n",
    "    x=xs,\n",
    "    y=ys,\n",
    "    z=zs,\n",
    "    mode='markers',\n",
    "    marker=dict(\n",
    "        color='red',\n",
    "        size=3,\n",
    "        symbol='circle',\n",
    "        line=dict(\n",
    "            color='rgb(204, 204, 204)',\n",
    "            width=1\n",
    "        ),\n",
    "        opacity=0.3\n",
    "    )\n",
    ")\n",
    "data = [trace1, trace2]\n",
    "layout = go.Layout(\n",
    "    title=\"72\",\n",
    "    margin=dict(\n",
    "        l=0,\n",
    "        r=0,\n",
    "        b=0,\n",
    "        t=100\n",
    "    )\n",
    ")\n",
    "\n",
    "fig = go.Figure(data=data, layout=layout)\n",
    "py.iplot(fig, filename='72')"
   ]
  },
  {
   "cell_type": "code",
   "execution_count": 81,
   "metadata": {},
   "outputs": [
    {
     "name": "stdout",
     "output_type": "stream",
     "text": [
      "<plotly.tools.PlotlyDisplay object>\n"
     ]
    }
   ],
   "source": []
  },
  {
   "cell_type": "code",
   "execution_count": null,
   "metadata": {
    "collapsed": true
   },
   "outputs": [],
   "source": []
  }
 ],
 "metadata": {
  "anaconda-cloud": {},
  "kernelspec": {
   "display_name": "Python 3",
   "language": "python",
   "name": "python3"
  },
  "language_info": {
   "codemirror_mode": {
    "name": "ipython",
    "version": 3
   },
   "file_extension": ".py",
   "mimetype": "text/x-python",
   "name": "python",
   "nbconvert_exporter": "python",
   "pygments_lexer": "ipython3",
   "version": "3.6.2"
  }
 },
 "nbformat": 4,
 "nbformat_minor": 1
}
