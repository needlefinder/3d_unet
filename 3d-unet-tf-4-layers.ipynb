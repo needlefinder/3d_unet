{
 "cells": [
  {
   "cell_type": "code",
   "execution_count": 1,
   "metadata": {
    "collapsed": true
   },
   "outputs": [],
   "source": [
    "%matplotlib inline\n",
    "from fns import *\n",
    "from syntheticdata import synthetic_generation\n",
    "# import ipyvolume"
   ]
  },
  {
   "cell_type": "code",
   "execution_count": 2,
   "metadata": {
    "collapsed": true
   },
   "outputs": [],
   "source": [
    "import plotly\n",
    "plotly.tools.set_credentials_file(username='gpernelle', api_key='4KIdNJBBApIeebdKxyN9')\n"
   ]
  },
  {
   "cell_type": "markdown",
   "metadata": {},
   "source": [
    "## setting up the unet"
   ]
  },
  {
   "cell_type": "markdown",
   "metadata": {},
   "source": [
    "## training"
   ]
  },
  {
   "cell_type": "code",
   "execution_count": null,
   "metadata": {
    "scrolled": false
   },
   "outputs": [
    {
     "name": "stderr",
     "output_type": "stream",
     "text": [
      "100%|██████████| 415/415 [00:59<00:00,  5.91it/s]\n",
      "100%|██████████| 16/16 [00:01<00:00, 11.32it/s]\n"
     ]
    },
    {
     "name": "stdout",
     "output_type": "stream",
     "text": [
      "Feature shape: (415, 148, 148, 148, 1)\n",
      "b'\\n%/job:localhost/replica:0/task:0/cpu:0\\x12\\tlocalhost\\x1a\\x0b_0_Iterator \\xa4\\xd6\\xcb\\xd1\\xa6\\xeb\\xb2\\xc1\\xc7\\x01*.N10tensorflow12_GLOBAL__N_116IteratorResourceE'\n",
      "b'\\n%/job:localhost/replica:0/task:0/cpu:0\\x12\\tlocalhost\\x1a\\x0b_0_Iterator \\xa4\\xd6\\xcb\\xd1\\xa6\\xeb\\xb2\\xc1\\xc7\\x01*.N10tensorflow12_GLOBAL__N_116IteratorResourceE'\n",
      "(tf.float32, tf.float32)\n"
     ]
    }
   ],
   "source": [
    "trainer = Trainer(batch_size=3, optimizer=\"adam\", filter_size=3, layers=4)\n",
    "path = trainer.train(\"./models/unet_trained_mix_dropout-025\",\n",
    "                     synth=1,\n",
    "                     freeze_deep_layers=0,\n",
    "                     training_array = None,\n",
    "                     validation_array = None,\n",
    "                     testing_array = None,\n",
    "                     training_iters=415, \n",
    "                     epochs=100, \n",
    "                     dropout=0.5, \n",
    "                     restore=True,\n",
    "                     display_step=1)"
   ]
  },
  {
   "cell_type": "code",
   "execution_count": 4,
   "metadata": {
    "collapsed": true
   },
   "outputs": [],
   "source": [
    "# with tf.Session() as sess:\n",
    "#     saver = tf.train.Saver()\n",
    "#     ckpt = tf.train.get_checkpoint_state('./unet_trained')\n",
    "#     if ckpt and ckpt.model_checkpoint_path:\n",
    "#         saver.restore(sess, ckpt.model_checkpoint_path)\n",
    "        \n",
    "#     tvars = tf.trainable_variables()\n",
    "#     layer_down_0 = [var for var in tvars if 'layer_down_0' in var.name]\n",
    "#     for var in layer_down_0:\n",
    "#         print(var)"
   ]
  },
  {
   "cell_type": "markdown",
   "metadata": {
    "collapsed": true
   },
   "source": [
    "### Predict"
   ]
  },
  {
   "cell_type": "code",
   "execution_count": 14,
   "metadata": {
    "collapsed": true
   },
   "outputs": [],
   "source": [
    "case=72\n",
    "image_name = '/mnt/DATA/gp1514/Dropbox/2016-paolo/preprocessed_data/LabelMapsNEW2_1.00-1.00-1.00/0%d/case.nrrd'%case\n",
    "label_name = '/mnt/DATA/gp1514/Dropbox/2016-paolo/preprocessed_data/LabelMapsNEW2_1.00-1.00-1.00/0%d/needles.nrrd'%case"
   ]
  },
  {
   "cell_type": "code",
   "execution_count": 14,
   "metadata": {
    "collapsed": true
   },
   "outputs": [],
   "source": [
    "image_name = '/mnt/DATA/gp1514/Dropbox/2016-paolo/preprocessed_data/LabelMapsNEW2_1.00-1.00-1.00_synthetic_occulted/nrrd/training_case20.nrrd'\n",
    "label_name = '/mnt/DATA/gp1514/Dropbox/2016-paolo/preprocessed_data/LabelMapsNEW2_1.00-1.00-1.00_synthetic_occulted/nrrd/training_labelmap20.nrrd'"
   ]
  },
  {
   "cell_type": "code",
   "execution_count": 25,
   "metadata": {
    "collapsed": true
   },
   "outputs": [],
   "source": [
    "data, options = nrrd.read(image_name)\n",
    "label_data, options = nrrd.read(label_name)"
   ]
  },
  {
   "cell_type": "code",
   "execution_count": 29,
   "metadata": {
    "scrolled": false
   },
   "outputs": [
    {
     "name": "stdout",
     "output_type": "stream",
     "text": [
      "--------------------------------------------------\n",
      "Loading and Preparing the data\n",
      "Original input shape (300, 195, 192)\n",
      "Padded input shape: (388, 283, 280)\n",
      "# of parts 7 7 5\n",
      "number of tiles: 96 \n",
      "data shape (96, 148, 148, 148)\n"
     ]
    },
    {
     "name": "stderr",
     "output_type": "stream",
     "text": [
      " 10%|█         | 10/96 [00:00<00:00, 93.61it/s]"
     ]
    },
    {
     "name": "stdout",
     "output_type": "stream",
     "text": [
      "--------------------------------------------------\n",
      "Starting the segmenter.\n"
     ]
    },
    {
     "name": "stderr",
     "output_type": "stream",
     "text": [
      "100%|██████████| 96/96 [00:01<00:00, 93.76it/s]\n"
     ]
    },
    {
     "name": "stdout",
     "output_type": "stream",
     "text": [
      "Feature shape:  (96, 148, 148, 148, 1)\n",
      "INFO:tensorflow:Restoring parameters from ./models/unet_trained_bk_2/model 65.cpkt\n"
     ]
    },
    {
     "name": "stderr",
     "output_type": "stream",
     "text": [
      "100%|██████████| 96/96 [00:10<00:00,  9.50it/s]\n"
     ]
    },
    {
     "name": "stdout",
     "output_type": "stream",
     "text": [
      "prediction shape: (96, 1, 60, 60, 60, 1)\n",
      "(300, 195, 192) (96, 148, 148, 148)\n",
      "Merging subvolumes\n",
      "--------------------------------------------------\n",
      "Padded input shape: (388, 283, 280)\n",
      "# of parts 7 7 5\n",
      "# of subvolumes merged:  96\n",
      "(array([0, 1, 2, 3, 4, 5, 6, 7], dtype=uint16), array([11186129,    37819,     7570,      348,      127,        4,\n",
      "              2,        1]))\n",
      "(300, 195, 192)\n"
     ]
    }
   ],
   "source": [
    "data = data.astype(np.float32)\n",
    "# prediction = predict(data, \"./models/unet_trained_mix_minmax_l4_f3\")\n",
    "# prediction = predict(data, \"./models/unet_trained_mix_dropout-025\")\n",
    "prediction = predict(data, \"./models/unet_trained_bk_2\")"
   ]
  },
  {
   "cell_type": "code",
   "execution_count": 30,
   "metadata": {
    "collapsed": true
   },
   "outputs": [],
   "source": [
    "def dice(logits, labels):\n",
    "        flat_logits = logits.flatten()\n",
    "        flat_labels = labels.flatten()\n",
    "        intersection = np.sum(flat_logits*flat_labels)\n",
    "        union = np.sum(flat_logits) + np.sum(flat_labels)\n",
    "        loss = 1 - 2 * intersection / union\n",
    "        return loss"
   ]
  },
  {
   "cell_type": "code",
   "execution_count": 31,
   "metadata": {},
   "outputs": [
    {
     "data": {
      "text/plain": [
       "0.61717780127821964"
      ]
     },
     "execution_count": 31,
     "metadata": {},
     "output_type": "execute_result"
    }
   ],
   "source": [
    "dice(prediction, label_data)"
   ]
  },
  {
   "cell_type": "code",
   "execution_count": 32,
   "metadata": {},
   "outputs": [
    {
     "name": "stdout",
     "output_type": "stream",
     "text": [
      "Number of regions: 3768\n",
      "1 1.00690668576 236\n",
      "2 1.35952475755 402\n",
      "3 1.38733703236 309\n",
      "4 1.17615834233 394\n",
      "5 1.13228116317 817\n",
      "6 1.08189981065 216\n",
      "7 1.32486760665 517\n",
      "8 1.08249467432 346\n",
      "9 1.89892639071 442\n",
      "10 1.14771430718 514\n",
      "11 1.1640663427 630\n",
      "12 1.98927214603 961\n",
      "13 1.15825292699 410\n",
      "14 1.16590763864 458\n",
      "15 1.10359705092 398\n",
      "16 1.03556442425 244\n",
      "17 1.17355098432 401\n",
      "18 1.13819161118 363\n",
      "19 1.10021092882 515\n",
      "20 1.13426083234 416\n",
      "21 1.07052842857 300\n",
      "22 1.1993428943 225\n",
      "23 1.16310827731 517\n",
      "24 1.64365072697 279\n",
      "25 1.14753776442 467\n",
      "26 1.13588867453 399\n",
      "27 1.20630827002 580\n",
      "28 1.37647455234 444\n",
      "29 1.12918674261 239\n",
      "30 1.15509080492 692\n",
      "31 1.15529849421 793\n",
      "32 1.10289474571 338\n",
      "33 1.1469051261 843\n",
      "34 1.16238944516 410\n",
      "35 1.17854649003 513\n",
      "36 1.27056281542 332\n"
     ]
    },
    {
     "data": {
      "text/plain": [
       "(300, 195, 192)"
      ]
     },
     "execution_count": 32,
     "metadata": {},
     "output_type": "execute_result"
    }
   ],
   "source": [
    "islands = post_processing(prediction, min_area=int(200), max_residual=float(2))\n",
    "islands.shape"
   ]
  },
  {
   "cell_type": "code",
   "execution_count": 33,
   "metadata": {
    "collapsed": true
   },
   "outputs": [],
   "source": [
    "# %matplotlib notebook\n",
    "# xs,ys,zs = np.where(prediction == 1)\n",
    "\n",
    "# fig = plt.figure(figsize=(6,6))\n",
    "# ax = fig.add_subplot(111, projection='3d')\n",
    "# ax.scatter(xs, ys, zs, marker='o', alpha=0.1, s=1)\n",
    "# plt.show()\n",
    "\n",
    "# # fig = plt.figure(figsize=(6,6))\n",
    "# # ax = fig.add_subplot(111, projection='3d')\n",
    "# xs,ys,zs = np.where(label_data == 1)\n",
    "# ax.scatter(xs, ys, zs, marker='o',color='g', alpha=0.1, s=5)\n",
    "# plt.show()"
   ]
  },
  {
   "cell_type": "code",
   "execution_count": 34,
   "metadata": {},
   "outputs": [
    {
     "name": "stdout",
     "output_type": "stream",
     "text": [
      "High five! You successfuly sent some data to your account on plotly. View your plot in your browser at https://plot.ly/~gpernelle/0 or inside your plot.ly account where it is named 'simple-3d-scatter'\n"
     ]
    },
    {
     "data": {
      "text/html": [
       "<iframe id=\"igraph\" scrolling=\"no\" style=\"border:none;\" seamless=\"seamless\" src=\"https://plot.ly/~gpernelle/0.embed\" height=\"525px\" width=\"100%\"></iframe>"
      ],
      "text/plain": [
       "<plotly.tools.PlotlyDisplay object>"
      ]
     },
     "execution_count": 34,
     "metadata": {},
     "output_type": "execute_result"
    }
   ],
   "source": [
    "import plotly.plotly as py\n",
    "import plotly.graph_objs as go\n",
    "x,y,z = np.where(label_data == 1)\n",
    "xs,ys,zs = np.where(islands != 0)\n",
    "\n",
    "trace1 = go.Scatter3d(\n",
    "    x=x,\n",
    "    y=y,\n",
    "    z=z,\n",
    "    mode='markers',\n",
    "    marker=dict(\n",
    "        size=3,\n",
    "        line=dict(\n",
    "            color='green',\n",
    "            width=2\n",
    "        ),\n",
    "        opacity=0.3\n",
    "    )\n",
    ")\n",
    "\n",
    "trace2 = go.Scatter3d(\n",
    "    x=xs,\n",
    "    y=ys,\n",
    "    z=zs,\n",
    "    mode='markers',\n",
    "    marker=dict(\n",
    "        color='red',\n",
    "        size=3,\n",
    "        symbol='circle',\n",
    "        line=dict(\n",
    "            color='rgb(204, 204, 204)',\n",
    "            width=1\n",
    "        ),\n",
    "        opacity=0.3\n",
    "    )\n",
    ")\n",
    "data = [trace1, trace2]\n",
    "layout = go.Layout(\n",
    "    margin=dict(\n",
    "        l=0,\n",
    "        r=0,\n",
    "        b=0,\n",
    "        t=0\n",
    "    )\n",
    ")\n",
    "\n",
    "fig = go.Figure(data=data, layout=layout)\n",
    "py.iplot(fig, filename='simple-3d-scatter')"
   ]
  },
  {
   "cell_type": "code",
   "execution_count": 48,
   "metadata": {
    "scrolled": true
   },
   "outputs": [
    {
     "name": "stderr",
     "output_type": "stream",
     "text": [
      "/mnt/DATA/gp1514/.pyenv/versions/anaconda3-4.4.0/envs/needles/lib/python3.6/site-packages/ipyvolume/serialize.py:29: RuntimeWarning: invalid value encountered in true_divide\n",
      "  gradient = gradient / np.sqrt(gradient[0]**2 + gradient[1]**2 + gradient[2]**2)\n",
      "/mnt/DATA/gp1514/.pyenv/versions/anaconda3-4.4.0/envs/needles/lib/python3.6/site-packages/ipyvolume/serialize.py:29: RuntimeWarning: invalid value encountered in true_divide\n",
      "  gradient = gradient / np.sqrt(gradient[0]**2 + gradient[1]**2 + gradient[2]**2)\n"
     ]
    },
    {
     "data": {
      "application/vnd.jupyter.widget-view+json": {
       "model_id": "691c59f04ce043ddbb5640f8e86d1f39"
      }
     },
     "metadata": {},
     "output_type": "display_data"
    }
   ],
   "source": [
    "import ipyvolume.pylab as p3\n",
    "p3.figure(figsize=(15,15))\n",
    "ipyvolume.quickvolshow(islands, opacity=1)\n",
    "ipyvolume.quickvolshow(label_data, opacity=1)"
   ]
  },
  {
   "cell_type": "code",
   "execution_count": 35,
   "metadata": {},
   "outputs": [
    {
     "data": {
      "application/vnd.jupyter.widget-view+json": {
       "model_id": "673c8791c9184766bdd701b5949ac948"
      }
     },
     "metadata": {},
     "output_type": "display_data"
    }
   ],
   "source": [
    "x,y,z = np.where(label_data == 1)\n",
    "ipyvolume.quickscatter(x,y,z, size=0.5, marker=\"sphere\", opacity=0.2)\n",
    "\n",
    "x,y,z = np.where(islands == 1)\n",
    "ipyvolume.quickscatter(x,y,z, size=0.5, marker=\"sphere\", opacity=0.2, color='blue')"
   ]
  },
  {
   "cell_type": "code",
   "execution_count": null,
   "metadata": {
    "collapsed": true
   },
   "outputs": [],
   "source": [
    "np.random.seed(1)\n",
    "islands = measure.label(prediction)\n",
    "K = np.max(islands)\n",
    "cp =sns.color_palette(\"Set2\", K)\n",
    "fig = plt.figure(figsize=(6,6))\n",
    "ax = fig.add_subplot(111, projection='3d')\n",
    "for j in range(1,K):\n",
    "    xs,ys,zs = np.where(islands == j)\n",
    "    ax.scatter(xs, ys, zs, marker='o',color=cp[j], alpha=0.9, s=2)\n",
    "plt.show()"
   ]
  },
  {
   "cell_type": "code",
   "execution_count": null,
   "metadata": {
    "collapsed": true
   },
   "outputs": [],
   "source": [
    "np.random.seed(1)\n",
    "islands = measure.label(label_data[i,...,0][44:-44,44:-44,44:-44])\n",
    "K = np.max(islands)\n",
    "cp =sns.color_palette(\"Set2\", K)\n",
    "fig = plt.figure(figsize=(6,6))\n",
    "ax = fig.add_subplot(111, projection='3d')\n",
    "for j in range(1,K):\n",
    "    xs,ys,zs = np.where(islands == j)\n",
    "    ax.scatter(xs, ys, zs, marker='o',color=cp[j], alpha=0.9, s=2)\n",
    "plt.show()"
   ]
  },
  {
   "cell_type": "code",
   "execution_count": null,
   "metadata": {
    "collapsed": true
   },
   "outputs": [],
   "source": [
    "image_name = '/mnt/DATA/gp1514/Dropbox/2016-paolo/preprocessed_data/LabelMapsNEW2_1.00-1.00-1.00/075/case.nrrd'\n",
    "label_name = '/mnt/DATA/gp1514/Dropbox/2016-paolo/preprocessed_data/LabelMapsNEW2_1.00-1.00-1.00/075/needles.nrrd'"
   ]
  },
  {
   "cell_type": "code",
   "execution_count": null,
   "metadata": {
    "collapsed": true
   },
   "outputs": [],
   "source": [
    "# print(img.shape)\n",
    "# print(data.shape)"
   ]
  },
  {
   "cell_type": "code",
   "execution_count": null,
   "metadata": {
    "collapsed": true
   },
   "outputs": [],
   "source": [
    "# data.shape"
   ]
  },
  {
   "cell_type": "code",
   "execution_count": null,
   "metadata": {
    "collapsed": true
   },
   "outputs": [],
   "source": [
    "tiles = (148,148,148)\n",
    "tile = 148"
   ]
  },
  {
   "cell_type": "code",
   "execution_count": null,
   "metadata": {
    "collapsed": true
   },
   "outputs": [],
   "source": [
    "data, options = nrrd.read(image_name)\n",
    "data = data.astype(np.float32)\n",
    "print(data.shape)\n",
    "d = data.resize(max(data.shape[0],tile),\n",
    "               max(data.shape[1],tile),\n",
    "               max(data.shape[2],tile))\n",
    "print(data.shape)\n",
    "print(options)"
   ]
  },
  {
   "cell_type": "markdown",
   "metadata": {},
   "source": [
    "## Inference pipeline"
   ]
  },
  {
   "cell_type": "code",
   "execution_count": null,
   "metadata": {
    "collapsed": true
   },
   "outputs": [],
   "source": [
    "arr_data = cutVolume(data)\n",
    "arr_pred = predict_full_volume(net, arr_data, model_path=\"./unet_trained/model 99.cpkt\")\n",
    "full_pred = recombine(arr_pred, data)"
   ]
  },
  {
   "cell_type": "code",
   "execution_count": null,
   "metadata": {
    "collapsed": true
   },
   "outputs": [],
   "source": [
    "def post_processing(full_pred, min_area=150, max_residual=10):\n",
    "    ''' Clustering + removing small clusters + keeping only line-looking clusters'''\n",
    "    islands_ = measure.label(full_pred)\n",
    "    regions = measure.regionprops(islands_)\n",
    "    islands = np.zeros_like(full_pred, dtype=np.uint8)\n",
    "    K = len(regions)\n",
    "    print('Number of regions: %d' % K)\n",
    "    i=0\n",
    "    for k in range(K):\n",
    "        region = regions[k]\n",
    "        coords = region.coords\n",
    "        if region.area > min_area:\n",
    "            lm = measure.LineModelND()\n",
    "            lm.estimate(coords)\n",
    "            res = lm.residuals(coords)\n",
    "            mean_res = np.mean(res)\n",
    "            if mean_res < max_residual:\n",
    "                i+=1\n",
    "                print(k, i, mean_res, np.std(res), region.area)\n",
    "                for x,y,z in coords:\n",
    "                    islands[x,y,z] = i\n"
   ]
  },
  {
   "cell_type": "code",
   "execution_count": null,
   "metadata": {
    "collapsed": true
   },
   "outputs": [],
   "source": [
    "islands = post_processing(full_pred)"
   ]
  },
  {
   "cell_type": "code",
   "execution_count": null,
   "metadata": {
    "collapsed": true
   },
   "outputs": [],
   "source": [
    "islands_ = measure.label(full_pred)\n",
    "regions = measure.regionprops(islands_)\n",
    "region = regions[691]\n",
    "lm = measure.LineModelND()\n",
    "lm.estimate(region.coords)\n",
    "res = lm.residuals(region.coords)\n",
    "res\n",
    "K = np.max(islands)\n",
    "cp = sns.color_palette(\"Set2\", K)\n",
    "fig = plt.figure(figsize=(6,6))\n",
    "ax = fig.add_subplot(111, projection='3d')\n",
    "\n",
    "xs,ys,zs = region.coords.T\n",
    "ax.scatter(xs, ys, zs, marker='o',color=cp[j], alpha=0.9, s=2)\n",
    "plt.show()"
   ]
  },
  {
   "cell_type": "code",
   "execution_count": null,
   "metadata": {
    "collapsed": true
   },
   "outputs": [],
   "source": [
    "print(np.unique(islands, return_counts=True))"
   ]
  },
  {
   "cell_type": "code",
   "execution_count": null,
   "metadata": {
    "collapsed": true
   },
   "outputs": [],
   "source": [
    "# islands = measure.label(full_pred)\n",
    "K = np.max(islands)\n",
    "cp = sns.color_palette(\"Set2\", K)\n",
    "fig = plt.figure(figsize=(6,6))\n",
    "ax = fig.add_subplot(111, projection='3d')\n",
    "for j in range(1,K):\n",
    "    xs,ys,zs = np.where(islands == j)\n",
    "    ax.scatter(xs, ys, zs, marker='o',color=cp[j], alpha=0.9, s=2)\n",
    "plt.show()"
   ]
  },
  {
   "cell_type": "code",
   "execution_count": null,
   "metadata": {
    "collapsed": true
   },
   "outputs": [],
   "source": [
    "nrrd.write('test75.nrrd', islands, options=options)"
   ]
  },
  {
   "cell_type": "code",
   "execution_count": null,
   "metadata": {
    "collapsed": true
   },
   "outputs": [],
   "source": [
    "islands.shape\n",
    "print(np.unique(islands, return_counts=True))"
   ]
  },
  {
   "cell_type": "code",
   "execution_count": null,
   "metadata": {
    "collapsed": true
   },
   "outputs": [],
   "source": [
    "image_name = '/mnt/DATA/gp1514/Dropbox/2016-paolo/preprocessed_data/LabelMapsNEW2_1.00-1.00-1.00/074/needles.nrrd'\n",
    "data, options = nrrd.read(image_name)\n",
    "data = data.astype(np.int8)"
   ]
  },
  {
   "cell_type": "code",
   "execution_count": null,
   "metadata": {
    "collapsed": true
   },
   "outputs": [],
   "source": [
    "arr_labels = cutVolume(data)"
   ]
  },
  {
   "cell_type": "code",
   "execution_count": null,
   "metadata": {
    "collapsed": true
   },
   "outputs": [],
   "source": [
    "# '''\n",
    "# EXPORT\n",
    "# '''\n",
    "\n",
    "# with tf.Graph().as_default():\n",
    "#         # Inject placeholder into the graph\n",
    "#         serialized_tf_example = tf.placeholder(tf.string, name='input_image')\n",
    "#         feature_configs = {'data': tf.FixedLenFeature(shape=[1,148,148,148,1], dtype=tf.float32),}\n",
    "#         tf_example = tf.parse_example(serialized_tf_example, feature_configs)\n",
    "#         x_test = tf_example['data']\n",
    "#         # now the image shape is (1,148,148,148,1)\n",
    "\n",
    "#         # Create UNET model\n",
    "#         net = Unet(channels=1, n_class=1, layers=4, pool_size=2, features_root=16, summaries=True)\n",
    "#         # Create saver to restore from checkpoints\n",
    "#         saver = tf.train.Saver()\n",
    "\n",
    "#         with tf.Session() as sess:\n",
    "            \n",
    "#             # Restore the model from last checkpoints\n",
    "#             saver.restore(sess, \"./unet_trained/model 99.cpkt\")\n",
    "            \n",
    "            \n",
    "#             y_dummy = np.empty((1,148,148,148,1))\n",
    "\n",
    "#             # (re-)create export directory\n",
    "#             export_path = './export/'\n",
    "#             if os.path.exists(export_path):\n",
    "#                 shutil.rmtree(export_path)\n",
    "\n",
    "#             # create model builder\n",
    "#             builder = tf.saved_model.builder.SavedModelBuilder(export_path)\n",
    "\n",
    "#             # create tensors info\n",
    "#             predict_tensor_inputs_info = tf.saved_model.utils.build_tensor_info(x_test)\n",
    "#             predict_tensor_scores_info = tf.saved_model.utils.build_tensor_info(net.predicter_label)\n",
    "\n",
    "#             # build prediction signature\n",
    "#             prediction_signature = (\n",
    "#                 tf.saved_model.signature_def_utils.build_signature_def(\n",
    "#                     inputs={'images': predict_tensor_inputs_info},\n",
    "#                     outputs={'scores': predict_tensor_scores_info},\n",
    "#                     method_name=tf.saved_model.signature_constants.PREDICT_METHOD_NAME\n",
    "#                 )\n",
    "#             )\n",
    "\n",
    "#             # save the model\n",
    "#             legacy_init_op = tf.group(tf.tables_initializer(), name='legacy_init_op')\n",
    "#             builder.add_meta_graph_and_variables(\n",
    "#                 sess, [tf.saved_model.tag_constants.SERVING],\n",
    "#                 signature_def_map={\n",
    "#                     'predict_images': prediction_signature\n",
    "#                 },\n",
    "#                 legacy_init_op=legacy_init_op)\n",
    "\n",
    "#             builder.save()\n",
    "\n",
    "# print(\"Successfully exported UNET model\")"
   ]
  },
  {
   "cell_type": "code",
   "execution_count": null,
   "metadata": {
    "collapsed": true
   },
   "outputs": [],
   "source": []
  }
 ],
 "metadata": {
  "anaconda-cloud": {},
  "kernelspec": {
   "display_name": "Python 3",
   "language": "python",
   "name": "python3"
  },
  "language_info": {
   "codemirror_mode": {
    "name": "ipython",
    "version": 3
   },
   "file_extension": ".py",
   "mimetype": "text/x-python",
   "name": "python",
   "nbconvert_exporter": "python",
   "pygments_lexer": "ipython3",
   "version": "3.6.2"
  }
 },
 "nbformat": 4,
 "nbformat_minor": 1
}
