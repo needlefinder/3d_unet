{
 "cells": [
  {
   "cell_type": "code",
   "execution_count": 1,
   "metadata": {},
   "outputs": [
    {
     "name": "stderr",
     "output_type": "stream",
     "text": [
      "Using TensorFlow backend.\n",
      "/home/gp1514/.pyenv/versions/anaconda3-4.3.0/envs/needles/lib/python3.6/site-packages/tensorflow/python/util/tf_inspect.py:45: DeprecationWarning: inspect.getargspec() is deprecated, use inspect.signature() or inspect.getfullargspec()\n",
      "  if d.decorator_argspec is not None), _inspect.getargspec(target))\n",
      "/home/gp1514/.pyenv/versions/anaconda3-4.3.0/envs/needles/lib/python3.6/site-packages/tensorflow/python/util/tf_inspect.py:45: DeprecationWarning: inspect.getargspec() is deprecated, use inspect.signature() or inspect.getfullargspec()\n",
      "  if d.decorator_argspec is not None), _inspect.getargspec(target))\n",
      "/home/gp1514/.pyenv/versions/anaconda3-4.3.0/envs/needles/lib/python3.6/site-packages/tensorflow/python/util/tf_inspect.py:45: DeprecationWarning: inspect.getargspec() is deprecated, use inspect.signature() or inspect.getfullargspec()\n",
      "  if d.decorator_argspec is not None), _inspect.getargspec(target))\n",
      "/home/gp1514/.pyenv/versions/anaconda3-4.3.0/envs/needles/lib/python3.6/site-packages/tensorflow/python/util/tf_inspect.py:45: DeprecationWarning: inspect.getargspec() is deprecated, use inspect.signature() or inspect.getfullargspec()\n",
      "  if d.decorator_argspec is not None), _inspect.getargspec(target))\n",
      "/home/gp1514/.pyenv/versions/anaconda3-4.3.0/envs/needles/lib/python3.6/site-packages/tensorflow/python/util/tf_inspect.py:45: DeprecationWarning: inspect.getargspec() is deprecated, use inspect.signature() or inspect.getfullargspec()\n",
      "  if d.decorator_argspec is not None), _inspect.getargspec(target))\n",
      "/home/gp1514/.pyenv/versions/anaconda3-4.3.0/envs/needles/lib/python3.6/site-packages/tensorflow/python/util/tf_inspect.py:45: DeprecationWarning: inspect.getargspec() is deprecated, use inspect.signature() or inspect.getfullargspec()\n",
      "  if d.decorator_argspec is not None), _inspect.getargspec(target))\n",
      "/home/gp1514/.pyenv/versions/anaconda3-4.3.0/envs/needles/lib/python3.6/site-packages/tensorflow/python/util/tf_inspect.py:45: DeprecationWarning: inspect.getargspec() is deprecated, use inspect.signature() or inspect.getfullargspec()\n",
      "  if d.decorator_argspec is not None), _inspect.getargspec(target))\n",
      "/home/gp1514/.pyenv/versions/anaconda3-4.3.0/envs/needles/lib/python3.6/site-packages/tensorflow/python/util/tf_inspect.py:45: DeprecationWarning: inspect.getargspec() is deprecated, use inspect.signature() or inspect.getfullargspec()\n",
      "  if d.decorator_argspec is not None), _inspect.getargspec(target))\n",
      "/home/gp1514/.pyenv/versions/anaconda3-4.3.0/envs/needles/lib/python3.6/site-packages/tensorflow/python/util/tf_inspect.py:45: DeprecationWarning: inspect.getargspec() is deprecated, use inspect.signature() or inspect.getfullargspec()\n",
      "  if d.decorator_argspec is not None), _inspect.getargspec(target))\n",
      "/home/gp1514/.pyenv/versions/anaconda3-4.3.0/envs/needles/lib/python3.6/site-packages/tensorflow/python/util/tf_inspect.py:45: DeprecationWarning: inspect.getargspec() is deprecated, use inspect.signature() or inspect.getfullargspec()\n",
      "  if d.decorator_argspec is not None), _inspect.getargspec(target))\n",
      "/home/gp1514/.pyenv/versions/anaconda3-4.3.0/envs/needles/lib/python3.6/site-packages/tensorflow/python/util/tf_inspect.py:45: DeprecationWarning: inspect.getargspec() is deprecated, use inspect.signature() or inspect.getfullargspec()\n",
      "  if d.decorator_argspec is not None), _inspect.getargspec(target))\n",
      "/home/gp1514/.pyenv/versions/anaconda3-4.3.0/envs/needles/lib/python3.6/site-packages/tensorflow/python/util/tf_inspect.py:45: DeprecationWarning: inspect.getargspec() is deprecated, use inspect.signature() or inspect.getfullargspec()\n",
      "  if d.decorator_argspec is not None), _inspect.getargspec(target))\n",
      "/home/gp1514/.pyenv/versions/anaconda3-4.3.0/envs/needles/lib/python3.6/site-packages/tensorflow/python/util/tf_inspect.py:45: DeprecationWarning: inspect.getargspec() is deprecated, use inspect.signature() or inspect.getfullargspec()\n",
      "  if d.decorator_argspec is not None), _inspect.getargspec(target))\n",
      "/home/gp1514/.pyenv/versions/anaconda3-4.3.0/envs/needles/lib/python3.6/site-packages/tensorflow/python/util/tf_inspect.py:45: DeprecationWarning: inspect.getargspec() is deprecated, use inspect.signature() or inspect.getfullargspec()\n",
      "  if d.decorator_argspec is not None), _inspect.getargspec(target))\n",
      "/home/gp1514/.pyenv/versions/anaconda3-4.3.0/envs/needles/lib/python3.6/site-packages/tensorflow/python/util/tf_inspect.py:45: DeprecationWarning: inspect.getargspec() is deprecated, use inspect.signature() or inspect.getfullargspec()\n",
      "  if d.decorator_argspec is not None), _inspect.getargspec(target))\n",
      "/home/gp1514/.pyenv/versions/anaconda3-4.3.0/envs/needles/lib/python3.6/site-packages/tensorflow/python/util/tf_inspect.py:45: DeprecationWarning: inspect.getargspec() is deprecated, use inspect.signature() or inspect.getfullargspec()\n",
      "  if d.decorator_argspec is not None), _inspect.getargspec(target))\n",
      "/home/gp1514/.pyenv/versions/anaconda3-4.3.0/envs/needles/lib/python3.6/site-packages/tensorflow/python/util/tf_inspect.py:45: DeprecationWarning: inspect.getargspec() is deprecated, use inspect.signature() or inspect.getfullargspec()\n",
      "  if d.decorator_argspec is not None), _inspect.getargspec(target))\n",
      "/home/gp1514/.pyenv/versions/anaconda3-4.3.0/envs/needles/lib/python3.6/site-packages/tensorflow/python/util/tf_inspect.py:45: DeprecationWarning: inspect.getargspec() is deprecated, use inspect.signature() or inspect.getfullargspec()\n",
      "  if d.decorator_argspec is not None), _inspect.getargspec(target))\n",
      "/home/gp1514/.pyenv/versions/anaconda3-4.3.0/envs/needles/lib/python3.6/site-packages/tensorflow/python/util/tf_inspect.py:45: DeprecationWarning: inspect.getargspec() is deprecated, use inspect.signature() or inspect.getfullargspec()\n",
      "  if d.decorator_argspec is not None), _inspect.getargspec(target))\n",
      "/home/gp1514/.pyenv/versions/anaconda3-4.3.0/envs/needles/lib/python3.6/site-packages/tensorflow/python/util/tf_inspect.py:45: DeprecationWarning: inspect.getargspec() is deprecated, use inspect.signature() or inspect.getfullargspec()\n",
      "  if d.decorator_argspec is not None), _inspect.getargspec(target))\n",
      "/home/gp1514/.pyenv/versions/anaconda3-4.3.0/envs/needles/lib/python3.6/site-packages/tensorflow/python/util/tf_inspect.py:45: DeprecationWarning: inspect.getargspec() is deprecated, use inspect.signature() or inspect.getfullargspec()\n",
      "  if d.decorator_argspec is not None), _inspect.getargspec(target))\n",
      "/home/gp1514/.pyenv/versions/anaconda3-4.3.0/envs/needles/lib/python3.6/site-packages/tensorflow/python/util/tf_inspect.py:45: DeprecationWarning: inspect.getargspec() is deprecated, use inspect.signature() or inspect.getfullargspec()\n",
      "  if d.decorator_argspec is not None), _inspect.getargspec(target))\n",
      "/home/gp1514/.pyenv/versions/anaconda3-4.3.0/envs/needles/lib/python3.6/site-packages/tensorflow/python/util/tf_inspect.py:45: DeprecationWarning: inspect.getargspec() is deprecated, use inspect.signature() or inspect.getfullargspec()\n",
      "  if d.decorator_argspec is not None), _inspect.getargspec(target))\n",
      "/home/gp1514/.pyenv/versions/anaconda3-4.3.0/envs/needles/lib/python3.6/site-packages/tensorflow/python/util/tf_inspect.py:45: DeprecationWarning: inspect.getargspec() is deprecated, use inspect.signature() or inspect.getfullargspec()\n",
      "  if d.decorator_argspec is not None), _inspect.getargspec(target))\n",
      "/home/gp1514/.pyenv/versions/anaconda3-4.3.0/envs/needles/lib/python3.6/site-packages/tensorflow/python/util/tf_inspect.py:45: DeprecationWarning: inspect.getargspec() is deprecated, use inspect.signature() or inspect.getfullargspec()\n",
      "  if d.decorator_argspec is not None), _inspect.getargspec(target))\n",
      "/home/gp1514/.pyenv/versions/anaconda3-4.3.0/envs/needles/lib/python3.6/site-packages/tensorflow/python/util/tf_inspect.py:45: DeprecationWarning: inspect.getargspec() is deprecated, use inspect.signature() or inspect.getfullargspec()\n",
      "  if d.decorator_argspec is not None), _inspect.getargspec(target))\n",
      "/home/gp1514/.pyenv/versions/anaconda3-4.3.0/envs/needles/lib/python3.6/site-packages/tensorflow/python/util/tf_inspect.py:45: DeprecationWarning: inspect.getargspec() is deprecated, use inspect.signature() or inspect.getfullargspec()\n",
      "  if d.decorator_argspec is not None), _inspect.getargspec(target))\n",
      "/home/gp1514/.pyenv/versions/anaconda3-4.3.0/envs/needles/lib/python3.6/site-packages/tensorflow/python/util/tf_inspect.py:45: DeprecationWarning: inspect.getargspec() is deprecated, use inspect.signature() or inspect.getfullargspec()\n",
      "  if d.decorator_argspec is not None), _inspect.getargspec(target))\n",
      "/home/gp1514/.pyenv/versions/anaconda3-4.3.0/envs/needles/lib/python3.6/site-packages/tensorflow/python/util/tf_inspect.py:45: DeprecationWarning: inspect.getargspec() is deprecated, use inspect.signature() or inspect.getfullargspec()\n",
      "  if d.decorator_argspec is not None), _inspect.getargspec(target))\n",
      "/home/gp1514/.pyenv/versions/anaconda3-4.3.0/envs/needles/lib/python3.6/site-packages/tensorflow/python/util/tf_inspect.py:45: DeprecationWarning: inspect.getargspec() is deprecated, use inspect.signature() or inspect.getfullargspec()\n",
      "  if d.decorator_argspec is not None), _inspect.getargspec(target))\n",
      "/home/gp1514/.pyenv/versions/anaconda3-4.3.0/envs/needles/lib/python3.6/site-packages/tensorflow/python/util/tf_inspect.py:45: DeprecationWarning: inspect.getargspec() is deprecated, use inspect.signature() or inspect.getfullargspec()\n",
      "  if d.decorator_argspec is not None), _inspect.getargspec(target))\n",
      "/home/gp1514/.pyenv/versions/anaconda3-4.3.0/envs/needles/lib/python3.6/site-packages/tensorflow/python/util/tf_inspect.py:45: DeprecationWarning: inspect.getargspec() is deprecated, use inspect.signature() or inspect.getfullargspec()\n",
      "  if d.decorator_argspec is not None), _inspect.getargspec(target))\n",
      "/home/gp1514/.pyenv/versions/anaconda3-4.3.0/envs/needles/lib/python3.6/site-packages/tensorflow/python/util/tf_inspect.py:45: DeprecationWarning: inspect.getargspec() is deprecated, use inspect.signature() or inspect.getfullargspec()\n",
      "  if d.decorator_argspec is not None), _inspect.getargspec(target))\n",
      "/home/gp1514/.pyenv/versions/anaconda3-4.3.0/envs/needles/lib/python3.6/site-packages/tensorflow/python/util/tf_inspect.py:45: DeprecationWarning: inspect.getargspec() is deprecated, use inspect.signature() or inspect.getfullargspec()\n",
      "  if d.decorator_argspec is not None), _inspect.getargspec(target))\n",
      "/home/gp1514/.pyenv/versions/anaconda3-4.3.0/envs/needles/lib/python3.6/site-packages/tensorflow/python/util/tf_inspect.py:45: DeprecationWarning: inspect.getargspec() is deprecated, use inspect.signature() or inspect.getfullargspec()\n",
      "  if d.decorator_argspec is not None), _inspect.getargspec(target))\n",
      "/home/gp1514/.pyenv/versions/anaconda3-4.3.0/envs/needles/lib/python3.6/site-packages/tensorflow/python/util/tf_inspect.py:45: DeprecationWarning: inspect.getargspec() is deprecated, use inspect.signature() or inspect.getfullargspec()\n",
      "  if d.decorator_argspec is not None), _inspect.getargspec(target))\n",
      "/home/gp1514/.pyenv/versions/anaconda3-4.3.0/envs/needles/lib/python3.6/site-packages/tensorflow/python/util/tf_inspect.py:45: DeprecationWarning: inspect.getargspec() is deprecated, use inspect.signature() or inspect.getfullargspec()\n",
      "  if d.decorator_argspec is not None), _inspect.getargspec(target))\n",
      "/home/gp1514/.pyenv/versions/anaconda3-4.3.0/envs/needles/lib/python3.6/site-packages/tensorflow/python/util/tf_inspect.py:45: DeprecationWarning: inspect.getargspec() is deprecated, use inspect.signature() or inspect.getfullargspec()\n",
      "  if d.decorator_argspec is not None), _inspect.getargspec(target))\n",
      "/home/gp1514/.pyenv/versions/anaconda3-4.3.0/envs/needles/lib/python3.6/site-packages/tensorflow/python/util/tf_inspect.py:45: DeprecationWarning: inspect.getargspec() is deprecated, use inspect.signature() or inspect.getfullargspec()\n",
      "  if d.decorator_argspec is not None), _inspect.getargspec(target))\n",
      "/home/gp1514/.pyenv/versions/anaconda3-4.3.0/envs/needles/lib/python3.6/site-packages/tensorflow/python/util/tf_inspect.py:45: DeprecationWarning: inspect.getargspec() is deprecated, use inspect.signature() or inspect.getfullargspec()\n",
      "  if d.decorator_argspec is not None), _inspect.getargspec(target))\n",
      "/home/gp1514/.pyenv/versions/anaconda3-4.3.0/envs/needles/lib/python3.6/site-packages/tensorflow/python/util/tf_inspect.py:45: DeprecationWarning: inspect.getargspec() is deprecated, use inspect.signature() or inspect.getfullargspec()\n",
      "  if d.decorator_argspec is not None), _inspect.getargspec(target))\n",
      "/home/gp1514/.pyenv/versions/anaconda3-4.3.0/envs/needles/lib/python3.6/site-packages/tensorflow/python/util/tf_inspect.py:45: DeprecationWarning: inspect.getargspec() is deprecated, use inspect.signature() or inspect.getfullargspec()\n",
      "  if d.decorator_argspec is not None), _inspect.getargspec(target))\n",
      "/home/gp1514/.pyenv/versions/anaconda3-4.3.0/envs/needles/lib/python3.6/site-packages/tensorflow/python/util/tf_inspect.py:45: DeprecationWarning: inspect.getargspec() is deprecated, use inspect.signature() or inspect.getfullargspec()\n",
      "  if d.decorator_argspec is not None), _inspect.getargspec(target))\n",
      "/home/gp1514/.pyenv/versions/anaconda3-4.3.0/envs/needles/lib/python3.6/site-packages/tensorflow/python/util/tf_inspect.py:45: DeprecationWarning: inspect.getargspec() is deprecated, use inspect.signature() or inspect.getfullargspec()\n",
      "  if d.decorator_argspec is not None), _inspect.getargspec(target))\n",
      "/home/gp1514/.pyenv/versions/anaconda3-4.3.0/envs/needles/lib/python3.6/site-packages/tensorflow/python/util/tf_inspect.py:45: DeprecationWarning: inspect.getargspec() is deprecated, use inspect.signature() or inspect.getfullargspec()\n",
      "  if d.decorator_argspec is not None), _inspect.getargspec(target))\n",
      "/home/gp1514/.pyenv/versions/anaconda3-4.3.0/envs/needles/lib/python3.6/site-packages/tensorflow/python/util/tf_inspect.py:45: DeprecationWarning: inspect.getargspec() is deprecated, use inspect.signature() or inspect.getfullargspec()\n",
      "  if d.decorator_argspec is not None), _inspect.getargspec(target))\n",
      "/home/gp1514/.pyenv/versions/anaconda3-4.3.0/envs/needles/lib/python3.6/site-packages/tensorflow/python/util/tf_inspect.py:45: DeprecationWarning: inspect.getargspec() is deprecated, use inspect.signature() or inspect.getfullargspec()\n",
      "  if d.decorator_argspec is not None), _inspect.getargspec(target))\n",
      "/home/gp1514/.pyenv/versions/anaconda3-4.3.0/envs/needles/lib/python3.6/site-packages/tensorflow/python/util/tf_inspect.py:45: DeprecationWarning: inspect.getargspec() is deprecated, use inspect.signature() or inspect.getfullargspec()\n",
      "  if d.decorator_argspec is not None), _inspect.getargspec(target))\n",
      "/home/gp1514/.pyenv/versions/anaconda3-4.3.0/envs/needles/lib/python3.6/site-packages/tensorflow/python/util/tf_inspect.py:45: DeprecationWarning: inspect.getargspec() is deprecated, use inspect.signature() or inspect.getfullargspec()\n",
      "  if d.decorator_argspec is not None), _inspect.getargspec(target))\n",
      "/home/gp1514/.pyenv/versions/anaconda3-4.3.0/envs/needles/lib/python3.6/site-packages/tensorflow/python/util/tf_inspect.py:45: DeprecationWarning: inspect.getargspec() is deprecated, use inspect.signature() or inspect.getfullargspec()\n",
      "  if d.decorator_argspec is not None), _inspect.getargspec(target))\n",
      "/home/gp1514/.pyenv/versions/anaconda3-4.3.0/envs/needles/lib/python3.6/site-packages/tensorflow/python/util/tf_inspect.py:45: DeprecationWarning: inspect.getargspec() is deprecated, use inspect.signature() or inspect.getfullargspec()\n",
      "  if d.decorator_argspec is not None), _inspect.getargspec(target))\n",
      "/home/gp1514/.pyenv/versions/anaconda3-4.3.0/envs/needles/lib/python3.6/site-packages/tensorflow/python/util/tf_inspect.py:45: DeprecationWarning: inspect.getargspec() is deprecated, use inspect.signature() or inspect.getfullargspec()\n",
      "  if d.decorator_argspec is not None), _inspect.getargspec(target))\n",
      "/home/gp1514/.pyenv/versions/anaconda3-4.3.0/envs/needles/lib/python3.6/site-packages/tensorflow/python/util/tf_inspect.py:45: DeprecationWarning: inspect.getargspec() is deprecated, use inspect.signature() or inspect.getfullargspec()\n",
      "  if d.decorator_argspec is not None), _inspect.getargspec(target))\n",
      "/home/gp1514/.pyenv/versions/anaconda3-4.3.0/envs/needles/lib/python3.6/site-packages/tensorflow/python/util/tf_inspect.py:45: DeprecationWarning: inspect.getargspec() is deprecated, use inspect.signature() or inspect.getfullargspec()\n",
      "  if d.decorator_argspec is not None), _inspect.getargspec(target))\n",
      "/home/gp1514/.pyenv/versions/anaconda3-4.3.0/envs/needles/lib/python3.6/site-packages/tensorflow/python/util/tf_inspect.py:45: DeprecationWarning: inspect.getargspec() is deprecated, use inspect.signature() or inspect.getfullargspec()\n",
      "  if d.decorator_argspec is not None), _inspect.getargspec(target))\n",
      "/home/gp1514/.pyenv/versions/anaconda3-4.3.0/envs/needles/lib/python3.6/site-packages/tensorflow/python/util/tf_inspect.py:45: DeprecationWarning: inspect.getargspec() is deprecated, use inspect.signature() or inspect.getfullargspec()\n",
      "  if d.decorator_argspec is not None), _inspect.getargspec(target))\n",
      "/home/gp1514/.pyenv/versions/anaconda3-4.3.0/envs/needles/lib/python3.6/site-packages/tensorflow/python/util/tf_inspect.py:45: DeprecationWarning: inspect.getargspec() is deprecated, use inspect.signature() or inspect.getfullargspec()\n",
      "  if d.decorator_argspec is not None), _inspect.getargspec(target))\n",
      "/home/gp1514/.pyenv/versions/anaconda3-4.3.0/envs/needles/lib/python3.6/site-packages/tensorflow/python/util/tf_inspect.py:45: DeprecationWarning: inspect.getargspec() is deprecated, use inspect.signature() or inspect.getfullargspec()\n",
      "  if d.decorator_argspec is not None), _inspect.getargspec(target))\n",
      "/home/gp1514/.pyenv/versions/anaconda3-4.3.0/envs/needles/lib/python3.6/site-packages/tensorflow/python/util/tf_inspect.py:45: DeprecationWarning: inspect.getargspec() is deprecated, use inspect.signature() or inspect.getfullargspec()\n",
      "  if d.decorator_argspec is not None), _inspect.getargspec(target))\n",
      "/home/gp1514/.pyenv/versions/anaconda3-4.3.0/envs/needles/lib/python3.6/site-packages/tensorflow/python/util/tf_inspect.py:45: DeprecationWarning: inspect.getargspec() is deprecated, use inspect.signature() or inspect.getfullargspec()\n",
      "  if d.decorator_argspec is not None), _inspect.getargspec(target))\n",
      "/home/gp1514/.pyenv/versions/anaconda3-4.3.0/envs/needles/lib/python3.6/site-packages/tensorflow/python/util/tf_inspect.py:45: DeprecationWarning: inspect.getargspec() is deprecated, use inspect.signature() or inspect.getfullargspec()\n",
      "  if d.decorator_argspec is not None), _inspect.getargspec(target))\n",
      "/home/gp1514/.pyenv/versions/anaconda3-4.3.0/envs/needles/lib/python3.6/site-packages/tensorflow/python/util/tf_inspect.py:45: DeprecationWarning: inspect.getargspec() is deprecated, use inspect.signature() or inspect.getfullargspec()\n",
      "  if d.decorator_argspec is not None), _inspect.getargspec(target))\n",
      "/home/gp1514/.pyenv/versions/anaconda3-4.3.0/envs/needles/lib/python3.6/site-packages/tensorflow/python/util/tf_inspect.py:45: DeprecationWarning: inspect.getargspec() is deprecated, use inspect.signature() or inspect.getfullargspec()\n",
      "  if d.decorator_argspec is not None), _inspect.getargspec(target))\n",
      "/home/gp1514/.pyenv/versions/anaconda3-4.3.0/envs/needles/lib/python3.6/site-packages/tensorflow/python/util/tf_inspect.py:45: DeprecationWarning: inspect.getargspec() is deprecated, use inspect.signature() or inspect.getfullargspec()\n",
      "  if d.decorator_argspec is not None), _inspect.getargspec(target))\n",
      "/home/gp1514/.pyenv/versions/anaconda3-4.3.0/envs/needles/lib/python3.6/site-packages/tensorflow/python/util/tf_inspect.py:45: DeprecationWarning: inspect.getargspec() is deprecated, use inspect.signature() or inspect.getfullargspec()\n",
      "  if d.decorator_argspec is not None), _inspect.getargspec(target))\n",
      "/home/gp1514/.pyenv/versions/anaconda3-4.3.0/envs/needles/lib/python3.6/site-packages/tensorflow/python/util/tf_inspect.py:45: DeprecationWarning: inspect.getargspec() is deprecated, use inspect.signature() or inspect.getfullargspec()\n",
      "  if d.decorator_argspec is not None), _inspect.getargspec(target))\n",
      "/home/gp1514/.pyenv/versions/anaconda3-4.3.0/envs/needles/lib/python3.6/site-packages/tensorflow/python/util/tf_inspect.py:45: DeprecationWarning: inspect.getargspec() is deprecated, use inspect.signature() or inspect.getfullargspec()\n",
      "  if d.decorator_argspec is not None), _inspect.getargspec(target))\n",
      "/home/gp1514/.pyenv/versions/anaconda3-4.3.0/envs/needles/lib/python3.6/site-packages/tensorflow/python/util/tf_inspect.py:45: DeprecationWarning: inspect.getargspec() is deprecated, use inspect.signature() or inspect.getfullargspec()\n",
      "  if d.decorator_argspec is not None), _inspect.getargspec(target))\n",
      "/home/gp1514/.pyenv/versions/anaconda3-4.3.0/envs/needles/lib/python3.6/site-packages/tensorflow/python/util/tf_inspect.py:45: DeprecationWarning: inspect.getargspec() is deprecated, use inspect.signature() or inspect.getfullargspec()\n",
      "  if d.decorator_argspec is not None), _inspect.getargspec(target))\n",
      "/home/gp1514/.pyenv/versions/anaconda3-4.3.0/envs/needles/lib/python3.6/site-packages/tensorflow/python/util/tf_inspect.py:45: DeprecationWarning: inspect.getargspec() is deprecated, use inspect.signature() or inspect.getfullargspec()\n",
      "  if d.decorator_argspec is not None), _inspect.getargspec(target))\n",
      "/home/gp1514/.pyenv/versions/anaconda3-4.3.0/envs/needles/lib/python3.6/site-packages/tensorflow/python/util/tf_inspect.py:45: DeprecationWarning: inspect.getargspec() is deprecated, use inspect.signature() or inspect.getfullargspec()\n",
      "  if d.decorator_argspec is not None), _inspect.getargspec(target))\n",
      "/home/gp1514/.pyenv/versions/anaconda3-4.3.0/envs/needles/lib/python3.6/site-packages/tensorflow/python/util/tf_inspect.py:45: DeprecationWarning: inspect.getargspec() is deprecated, use inspect.signature() or inspect.getfullargspec()\n",
      "  if d.decorator_argspec is not None), _inspect.getargspec(target))\n",
      "/home/gp1514/.pyenv/versions/anaconda3-4.3.0/envs/needles/lib/python3.6/site-packages/tensorflow/python/util/tf_inspect.py:45: DeprecationWarning: inspect.getargspec() is deprecated, use inspect.signature() or inspect.getfullargspec()\n",
      "  if d.decorator_argspec is not None), _inspect.getargspec(target))\n",
      "/home/gp1514/.pyenv/versions/anaconda3-4.3.0/envs/needles/lib/python3.6/site-packages/tensorflow/python/util/tf_inspect.py:45: DeprecationWarning: inspect.getargspec() is deprecated, use inspect.signature() or inspect.getfullargspec()\n",
      "  if d.decorator_argspec is not None), _inspect.getargspec(target))\n",
      "/home/gp1514/.pyenv/versions/anaconda3-4.3.0/envs/needles/lib/python3.6/site-packages/tensorflow/python/util/tf_inspect.py:45: DeprecationWarning: inspect.getargspec() is deprecated, use inspect.signature() or inspect.getfullargspec()\n",
      "  if d.decorator_argspec is not None), _inspect.getargspec(target))\n",
      "/home/gp1514/.pyenv/versions/anaconda3-4.3.0/envs/needles/lib/python3.6/site-packages/tensorflow/python/util/tf_inspect.py:45: DeprecationWarning: inspect.getargspec() is deprecated, use inspect.signature() or inspect.getfullargspec()\n",
      "  if d.decorator_argspec is not None), _inspect.getargspec(target))\n",
      "/home/gp1514/.pyenv/versions/anaconda3-4.3.0/envs/needles/lib/python3.6/site-packages/tensorflow/python/util/tf_inspect.py:45: DeprecationWarning: inspect.getargspec() is deprecated, use inspect.signature() or inspect.getfullargspec()\n",
      "  if d.decorator_argspec is not None), _inspect.getargspec(target))\n",
      "/home/gp1514/.pyenv/versions/anaconda3-4.3.0/envs/needles/lib/python3.6/site-packages/tensorflow/python/util/tf_inspect.py:45: DeprecationWarning: inspect.getargspec() is deprecated, use inspect.signature() or inspect.getfullargspec()\n",
      "  if d.decorator_argspec is not None), _inspect.getargspec(target))\n",
      "/home/gp1514/.pyenv/versions/anaconda3-4.3.0/envs/needles/lib/python3.6/site-packages/tensorflow/python/util/tf_inspect.py:45: DeprecationWarning: inspect.getargspec() is deprecated, use inspect.signature() or inspect.getfullargspec()\n",
      "  if d.decorator_argspec is not None), _inspect.getargspec(target))\n",
      "/home/gp1514/.pyenv/versions/anaconda3-4.3.0/envs/needles/lib/python3.6/site-packages/tensorflow/python/util/tf_inspect.py:45: DeprecationWarning: inspect.getargspec() is deprecated, use inspect.signature() or inspect.getfullargspec()\n",
      "  if d.decorator_argspec is not None), _inspect.getargspec(target))\n",
      "/home/gp1514/.pyenv/versions/anaconda3-4.3.0/envs/needles/lib/python3.6/site-packages/tensorflow/python/util/tf_inspect.py:45: DeprecationWarning: inspect.getargspec() is deprecated, use inspect.signature() or inspect.getfullargspec()\n",
      "  if d.decorator_argspec is not None), _inspect.getargspec(target))\n",
      "/home/gp1514/.pyenv/versions/anaconda3-4.3.0/envs/needles/lib/python3.6/site-packages/tensorflow/python/util/tf_inspect.py:45: DeprecationWarning: inspect.getargspec() is deprecated, use inspect.signature() or inspect.getfullargspec()\n",
      "  if d.decorator_argspec is not None), _inspect.getargspec(target))\n",
      "/home/gp1514/.pyenv/versions/anaconda3-4.3.0/envs/needles/lib/python3.6/site-packages/tensorflow/python/util/tf_inspect.py:45: DeprecationWarning: inspect.getargspec() is deprecated, use inspect.signature() or inspect.getfullargspec()\n",
      "  if d.decorator_argspec is not None), _inspect.getargspec(target))\n",
      "/home/gp1514/.pyenv/versions/anaconda3-4.3.0/envs/needles/lib/python3.6/site-packages/tensorflow/python/util/tf_inspect.py:45: DeprecationWarning: inspect.getargspec() is deprecated, use inspect.signature() or inspect.getfullargspec()\n",
      "  if d.decorator_argspec is not None), _inspect.getargspec(target))\n",
      "/home/gp1514/.pyenv/versions/anaconda3-4.3.0/envs/needles/lib/python3.6/site-packages/tensorflow/python/util/tf_inspect.py:45: DeprecationWarning: inspect.getargspec() is deprecated, use inspect.signature() or inspect.getfullargspec()\n",
      "  if d.decorator_argspec is not None), _inspect.getargspec(target))\n",
      "/home/gp1514/.pyenv/versions/anaconda3-4.3.0/envs/needles/lib/python3.6/site-packages/tensorflow/python/util/tf_inspect.py:45: DeprecationWarning: inspect.getargspec() is deprecated, use inspect.signature() or inspect.getfullargspec()\n",
      "  if d.decorator_argspec is not None), _inspect.getargspec(target))\n",
      "/home/gp1514/.pyenv/versions/anaconda3-4.3.0/envs/needles/lib/python3.6/site-packages/tensorflow/python/util/tf_inspect.py:45: DeprecationWarning: inspect.getargspec() is deprecated, use inspect.signature() or inspect.getfullargspec()\n",
      "  if d.decorator_argspec is not None), _inspect.getargspec(target))\n",
      "/home/gp1514/.pyenv/versions/anaconda3-4.3.0/envs/needles/lib/python3.6/site-packages/tensorflow/python/util/tf_inspect.py:45: DeprecationWarning: inspect.getargspec() is deprecated, use inspect.signature() or inspect.getfullargspec()\n",
      "  if d.decorator_argspec is not None), _inspect.getargspec(target))\n",
      "/home/gp1514/.pyenv/versions/anaconda3-4.3.0/envs/needles/lib/python3.6/site-packages/tensorflow/python/util/tf_inspect.py:45: DeprecationWarning: inspect.getargspec() is deprecated, use inspect.signature() or inspect.getfullargspec()\n",
      "  if d.decorator_argspec is not None), _inspect.getargspec(target))\n",
      "/home/gp1514/.pyenv/versions/anaconda3-4.3.0/envs/needles/lib/python3.6/site-packages/tensorflow/python/util/tf_inspect.py:45: DeprecationWarning: inspect.getargspec() is deprecated, use inspect.signature() or inspect.getfullargspec()\n",
      "  if d.decorator_argspec is not None), _inspect.getargspec(target))\n",
      "/home/gp1514/.pyenv/versions/anaconda3-4.3.0/envs/needles/lib/python3.6/site-packages/tensorflow/python/util/tf_inspect.py:45: DeprecationWarning: inspect.getargspec() is deprecated, use inspect.signature() or inspect.getfullargspec()\n",
      "  if d.decorator_argspec is not None), _inspect.getargspec(target))\n",
      "/home/gp1514/.pyenv/versions/anaconda3-4.3.0/envs/needles/lib/python3.6/site-packages/tensorflow/python/util/tf_inspect.py:45: DeprecationWarning: inspect.getargspec() is deprecated, use inspect.signature() or inspect.getfullargspec()\n",
      "  if d.decorator_argspec is not None), _inspect.getargspec(target))\n",
      "/home/gp1514/.pyenv/versions/anaconda3-4.3.0/envs/needles/lib/python3.6/site-packages/tensorflow/python/util/tf_inspect.py:45: DeprecationWarning: inspect.getargspec() is deprecated, use inspect.signature() or inspect.getfullargspec()\n",
      "  if d.decorator_argspec is not None), _inspect.getargspec(target))\n",
      "/home/gp1514/.pyenv/versions/anaconda3-4.3.0/envs/needles/lib/python3.6/site-packages/tensorflow/python/util/tf_inspect.py:45: DeprecationWarning: inspect.getargspec() is deprecated, use inspect.signature() or inspect.getfullargspec()\n",
      "  if d.decorator_argspec is not None), _inspect.getargspec(target))\n",
      "/home/gp1514/.pyenv/versions/anaconda3-4.3.0/envs/needles/lib/python3.6/site-packages/tensorflow/python/util/tf_inspect.py:45: DeprecationWarning: inspect.getargspec() is deprecated, use inspect.signature() or inspect.getfullargspec()\n",
      "  if d.decorator_argspec is not None), _inspect.getargspec(target))\n",
      "/home/gp1514/.pyenv/versions/anaconda3-4.3.0/envs/needles/lib/python3.6/site-packages/tensorflow/python/util/tf_inspect.py:45: DeprecationWarning: inspect.getargspec() is deprecated, use inspect.signature() or inspect.getfullargspec()\n",
      "  if d.decorator_argspec is not None), _inspect.getargspec(target))\n",
      "/home/gp1514/.pyenv/versions/anaconda3-4.3.0/envs/needles/lib/python3.6/site-packages/tensorflow/python/util/tf_inspect.py:45: DeprecationWarning: inspect.getargspec() is deprecated, use inspect.signature() or inspect.getfullargspec()\n",
      "  if d.decorator_argspec is not None), _inspect.getargspec(target))\n",
      "/home/gp1514/.pyenv/versions/anaconda3-4.3.0/envs/needles/lib/python3.6/site-packages/tensorflow/python/util/tf_inspect.py:45: DeprecationWarning: inspect.getargspec() is deprecated, use inspect.signature() or inspect.getfullargspec()\n",
      "  if d.decorator_argspec is not None), _inspect.getargspec(target))\n",
      "/home/gp1514/.pyenv/versions/anaconda3-4.3.0/envs/needles/lib/python3.6/site-packages/tensorflow/python/util/tf_inspect.py:45: DeprecationWarning: inspect.getargspec() is deprecated, use inspect.signature() or inspect.getfullargspec()\n",
      "  if d.decorator_argspec is not None), _inspect.getargspec(target))\n",
      "/home/gp1514/.pyenv/versions/anaconda3-4.3.0/envs/needles/lib/python3.6/site-packages/tensorflow/python/util/tf_inspect.py:45: DeprecationWarning: inspect.getargspec() is deprecated, use inspect.signature() or inspect.getfullargspec()\n",
      "  if d.decorator_argspec is not None), _inspect.getargspec(target))\n",
      "/home/gp1514/.pyenv/versions/anaconda3-4.3.0/envs/needles/lib/python3.6/site-packages/tensorflow/python/util/tf_inspect.py:45: DeprecationWarning: inspect.getargspec() is deprecated, use inspect.signature() or inspect.getfullargspec()\n",
      "  if d.decorator_argspec is not None), _inspect.getargspec(target))\n",
      "/home/gp1514/.pyenv/versions/anaconda3-4.3.0/envs/needles/lib/python3.6/site-packages/tensorflow/python/util/tf_inspect.py:45: DeprecationWarning: inspect.getargspec() is deprecated, use inspect.signature() or inspect.getfullargspec()\n",
      "  if d.decorator_argspec is not None), _inspect.getargspec(target))\n",
      "/home/gp1514/.pyenv/versions/anaconda3-4.3.0/envs/needles/lib/python3.6/site-packages/tensorflow/python/util/tf_inspect.py:45: DeprecationWarning: inspect.getargspec() is deprecated, use inspect.signature() or inspect.getfullargspec()\n",
      "  if d.decorator_argspec is not None), _inspect.getargspec(target))\n",
      "/home/gp1514/.pyenv/versions/anaconda3-4.3.0/envs/needles/lib/python3.6/site-packages/tensorflow/python/util/tf_inspect.py:45: DeprecationWarning: inspect.getargspec() is deprecated, use inspect.signature() or inspect.getfullargspec()\n",
      "  if d.decorator_argspec is not None), _inspect.getargspec(target))\n",
      "/home/gp1514/.pyenv/versions/anaconda3-4.3.0/envs/needles/lib/python3.6/site-packages/tensorflow/python/util/tf_inspect.py:45: DeprecationWarning: inspect.getargspec() is deprecated, use inspect.signature() or inspect.getfullargspec()\n",
      "  if d.decorator_argspec is not None), _inspect.getargspec(target))\n",
      "/home/gp1514/.pyenv/versions/anaconda3-4.3.0/envs/needles/lib/python3.6/site-packages/tensorflow/python/util/tf_inspect.py:45: DeprecationWarning: inspect.getargspec() is deprecated, use inspect.signature() or inspect.getfullargspec()\n",
      "  if d.decorator_argspec is not None), _inspect.getargspec(target))\n",
      "/home/gp1514/.pyenv/versions/anaconda3-4.3.0/envs/needles/lib/python3.6/site-packages/tensorflow/python/util/tf_inspect.py:45: DeprecationWarning: inspect.getargspec() is deprecated, use inspect.signature() or inspect.getfullargspec()\n",
      "  if d.decorator_argspec is not None), _inspect.getargspec(target))\n",
      "/home/gp1514/.pyenv/versions/anaconda3-4.3.0/envs/needles/lib/python3.6/site-packages/tensorflow/python/util/tf_inspect.py:45: DeprecationWarning: inspect.getargspec() is deprecated, use inspect.signature() or inspect.getfullargspec()\n",
      "  if d.decorator_argspec is not None), _inspect.getargspec(target))\n",
      "/home/gp1514/.pyenv/versions/anaconda3-4.3.0/envs/needles/lib/python3.6/site-packages/tensorflow/python/util/tf_inspect.py:45: DeprecationWarning: inspect.getargspec() is deprecated, use inspect.signature() or inspect.getfullargspec()\n",
      "  if d.decorator_argspec is not None), _inspect.getargspec(target))\n",
      "/home/gp1514/.pyenv/versions/anaconda3-4.3.0/envs/needles/lib/python3.6/site-packages/tensorflow/python/util/tf_inspect.py:45: DeprecationWarning: inspect.getargspec() is deprecated, use inspect.signature() or inspect.getfullargspec()\n",
      "  if d.decorator_argspec is not None), _inspect.getargspec(target))\n",
      "/home/gp1514/.pyenv/versions/anaconda3-4.3.0/envs/needles/lib/python3.6/site-packages/tensorflow/python/util/tf_inspect.py:45: DeprecationWarning: inspect.getargspec() is deprecated, use inspect.signature() or inspect.getfullargspec()\n",
      "  if d.decorator_argspec is not None), _inspect.getargspec(target))\n",
      "/home/gp1514/.pyenv/versions/anaconda3-4.3.0/envs/needles/lib/python3.6/site-packages/tensorflow/python/util/tf_inspect.py:45: DeprecationWarning: inspect.getargspec() is deprecated, use inspect.signature() or inspect.getfullargspec()\n",
      "  if d.decorator_argspec is not None), _inspect.getargspec(target))\n",
      "/home/gp1514/.pyenv/versions/anaconda3-4.3.0/envs/needles/lib/python3.6/site-packages/tensorflow/python/util/tf_inspect.py:45: DeprecationWarning: inspect.getargspec() is deprecated, use inspect.signature() or inspect.getfullargspec()\n",
      "  if d.decorator_argspec is not None), _inspect.getargspec(target))\n",
      "/home/gp1514/.pyenv/versions/anaconda3-4.3.0/envs/needles/lib/python3.6/site-packages/tensorflow/python/util/tf_inspect.py:45: DeprecationWarning: inspect.getargspec() is deprecated, use inspect.signature() or inspect.getfullargspec()\n",
      "  if d.decorator_argspec is not None), _inspect.getargspec(target))\n",
      "/home/gp1514/.pyenv/versions/anaconda3-4.3.0/envs/needles/lib/python3.6/site-packages/tensorflow/python/util/tf_inspect.py:45: DeprecationWarning: inspect.getargspec() is deprecated, use inspect.signature() or inspect.getfullargspec()\n",
      "  if d.decorator_argspec is not None), _inspect.getargspec(target))\n",
      "/home/gp1514/.pyenv/versions/anaconda3-4.3.0/envs/needles/lib/python3.6/site-packages/tensorflow/python/util/tf_inspect.py:45: DeprecationWarning: inspect.getargspec() is deprecated, use inspect.signature() or inspect.getfullargspec()\n",
      "  if d.decorator_argspec is not None), _inspect.getargspec(target))\n",
      "/home/gp1514/.pyenv/versions/anaconda3-4.3.0/envs/needles/lib/python3.6/site-packages/tensorflow/python/util/tf_inspect.py:45: DeprecationWarning: inspect.getargspec() is deprecated, use inspect.signature() or inspect.getfullargspec()\n",
      "  if d.decorator_argspec is not None), _inspect.getargspec(target))\n",
      "/home/gp1514/.pyenv/versions/anaconda3-4.3.0/envs/needles/lib/python3.6/site-packages/tensorflow/python/util/tf_inspect.py:45: DeprecationWarning: inspect.getargspec() is deprecated, use inspect.signature() or inspect.getfullargspec()\n",
      "  if d.decorator_argspec is not None), _inspect.getargspec(target))\n",
      "/home/gp1514/.pyenv/versions/anaconda3-4.3.0/envs/needles/lib/python3.6/site-packages/tensorflow/python/util/tf_inspect.py:45: DeprecationWarning: inspect.getargspec() is deprecated, use inspect.signature() or inspect.getfullargspec()\n",
      "  if d.decorator_argspec is not None), _inspect.getargspec(target))\n",
      "/home/gp1514/.pyenv/versions/anaconda3-4.3.0/envs/needles/lib/python3.6/site-packages/tensorflow/python/util/tf_inspect.py:45: DeprecationWarning: inspect.getargspec() is deprecated, use inspect.signature() or inspect.getfullargspec()\n",
      "  if d.decorator_argspec is not None), _inspect.getargspec(target))\n",
      "/home/gp1514/.pyenv/versions/anaconda3-4.3.0/envs/needles/lib/python3.6/site-packages/tensorflow/python/util/tf_inspect.py:45: DeprecationWarning: inspect.getargspec() is deprecated, use inspect.signature() or inspect.getfullargspec()\n",
      "  if d.decorator_argspec is not None), _inspect.getargspec(target))\n",
      "/home/gp1514/.pyenv/versions/anaconda3-4.3.0/envs/needles/lib/python3.6/site-packages/tensorflow/python/util/tf_inspect.py:45: DeprecationWarning: inspect.getargspec() is deprecated, use inspect.signature() or inspect.getfullargspec()\n",
      "  if d.decorator_argspec is not None), _inspect.getargspec(target))\n",
      "/home/gp1514/.pyenv/versions/anaconda3-4.3.0/envs/needles/lib/python3.6/site-packages/tensorflow/python/util/tf_inspect.py:45: DeprecationWarning: inspect.getargspec() is deprecated, use inspect.signature() or inspect.getfullargspec()\n",
      "  if d.decorator_argspec is not None), _inspect.getargspec(target))\n",
      "/home/gp1514/.pyenv/versions/anaconda3-4.3.0/envs/needles/lib/python3.6/site-packages/tensorflow/python/util/tf_inspect.py:45: DeprecationWarning: inspect.getargspec() is deprecated, use inspect.signature() or inspect.getfullargspec()\n",
      "  if d.decorator_argspec is not None), _inspect.getargspec(target))\n",
      "/home/gp1514/.pyenv/versions/anaconda3-4.3.0/envs/needles/lib/python3.6/site-packages/tensorflow/python/util/tf_inspect.py:45: DeprecationWarning: inspect.getargspec() is deprecated, use inspect.signature() or inspect.getfullargspec()\n",
      "  if d.decorator_argspec is not None), _inspect.getargspec(target))\n"
     ]
    }
   ],
   "source": [
    "%matplotlib inline\n",
    "import sys\n",
    "sys.path.append('../')\n",
    "from fns import *\n",
    "import glob\n",
    "import xgboost as xgb\n",
    "import yadlt as ya\n",
    "import keras\n",
    "from keras.layers import Input, Dense, Conv3D, MaxPooling3D, UpSampling3D, merge, BatchNormalization, Dropout\n",
    "from keras.models import Model\n",
    "from keras import backend as K"
   ]
  },
  {
   "cell_type": "code",
   "execution_count": 2,
   "metadata": {
    "collapsed": true
   },
   "outputs": [],
   "source": [
    "import plotly\n",
    "plotly.tools.set_credentials_file(username='gpernelle', api_key='4KIdNJBBApIeebdKxyN9')\n",
    "import plotly.plotly as py\n",
    "import plotly.graph_objs as go"
   ]
  },
  {
   "cell_type": "code",
   "execution_count": 3,
   "metadata": {
    "collapsed": true
   },
   "outputs": [],
   "source": [
    "def dice(logits, labels):\n",
    "        flat_logits = logits.flatten()\n",
    "        flat_labels = labels.flatten()\n",
    "        intersection = np.sum(flat_logits*flat_labels)\n",
    "        union = np.sum(flat_logits) + np.sum(flat_labels)\n",
    "        loss = 1 - 2 * intersection / union\n",
    "        return loss"
   ]
  },
  {
   "cell_type": "markdown",
   "metadata": {
    "collapsed": true
   },
   "source": [
    "### Predict"
   ]
  },
  {
   "cell_type": "code",
   "execution_count": 4,
   "metadata": {
    "collapsed": true
   },
   "outputs": [],
   "source": [
    "trainingCases = loadCases(\"preprocessing/training.txt\")\n",
    "validationCases = loadCases(\"preprocessing/validation.txt\")\n",
    "testingCases = loadCases(\"preprocessing/testing.txt\")"
   ]
  },
  {
   "cell_type": "code",
   "execution_count": 5,
   "metadata": {
    "collapsed": true
   },
   "outputs": [],
   "source": [
    "# # for case in trainingCases:\n",
    "# for case in validationCases+testingCases:\n",
    "#     image_name = '/home/gp1514/SSD/preprocessed_data/LabelMapsNEW2_1.00-1.00-1.00_split2/%s/case.nrrd'%case\n",
    "#     label_name = '/home/gp1514/SSD/preprocessed_data/LabelMapsNEW2_1.00-1.00-1.00/%s/needles.nrrd'%case\n",
    "#     data, options = nrrd.read(image_name)\n",
    "#     label_data, options = nrrd.read(label_name)\n",
    "#     data = data.astype(np.float32)\n",
    "#     prediction = predict(data, \"./models/unet_trained_mix_dropout-05-f3_l4_148_clahe\")\n",
    "#     xs,ys,zs = np.where(prediction != 0)\n",
    "#     np.save('prediction/%s.npy'%case, np.array([xs,ys,zs]).T)"
   ]
  },
  {
   "cell_type": "code",
   "execution_count": 6,
   "metadata": {
    "collapsed": true
   },
   "outputs": [],
   "source": [
    "def _process_data(data, clahe_filter=True):\n",
    "        data = np.clip(np.fabs(data), -np.inf, np.inf)\n",
    "        # normalization\n",
    "        data -= np.amin(data)\n",
    "        data /= np.amax(data)\n",
    "        \n",
    "        # data -= np.mean(data)\n",
    "        # data /= np.std(data)\n",
    "        return data\n",
    "    \n",
    "    \n",
    "def _load_file(path, dtype=np.float32):\n",
    "        data = np.load(path).astype(dtype)\n",
    "        return data"
   ]
  },
  {
   "cell_type": "code",
   "execution_count": 7,
   "metadata": {
    "collapsed": true
   },
   "outputs": [],
   "source": [
    "def predict_data(min_iter=np.inf, mode='training', synth=0, tile=60):\n",
    "    if synth:\n",
    "        synth_str = '_synth'\n",
    "    else:\n",
    "        synth_str = ''\n",
    "\n",
    "\n",
    "    with open('preprocessing/%s_subvolumes%s.txt' % (mode, synth_str), 'r') as f:\n",
    "        files = f.read().splitlines()\n",
    "        \n",
    "    if mode=='training':\n",
    "        with open('preprocessing/%s_subvolumes_synth.txt' % (mode), 'r') as f:\n",
    "            files += f.read().splitlines()\n",
    "        \n",
    "    \n",
    "        \n",
    "    # with open('preprocessing/%s_subvolumes%s.txt' % (mode,synth_str), 'r') as f:\n",
    "    #     files = f.read().splitlines()\n",
    "    \n",
    "\n",
    "    data, target = [], []\n",
    "    for i in trange(min(min_iter,len(files))):\n",
    "        image_path = files[i]\n",
    "\n",
    "        label_name = image_path.replace('_case', '_labelmap')\n",
    "        label_name = label_name.replace('case', 'needles')\n",
    "\n",
    "        img = _load_file(image_path, np.float32)\n",
    "        #img = _process_data(img)[...,np.newaxis]\n",
    "        \n",
    "        prediction = predict(img, \"./models/unet_trained_mix_dropout-05-f3_l4_148_clahe\")\n",
    "        \n",
    "        xs,ys,zs = np.where(prediction != 0)\n",
    "        np.save('prediction_subvolumes/x_%s.npy'%i, np.array([xs,ys,zs]).T)\n",
    "                \n",
    "        annotation = _load_file(label_name, np.float32)\n",
    "        xs,ys,zs = np.where(annotation != 0)\n",
    "        np.save('prediction_subvolumes/y_%s.npy'%i, np.array([xs,ys,zs]).T)\n",
    "        \n",
    "# predict_data()\n"
   ]
  },
  {
   "cell_type": "markdown",
   "metadata": {},
   "source": [
    "## DATA for training"
   ]
  },
  {
   "cell_type": "code",
   "execution_count": 8,
   "metadata": {
    "collapsed": true
   },
   "outputs": [],
   "source": [
    "def dice_coef(y_true, y_pred, smooth=0.1):\n",
    "    intersection = K.sum(y_true * y_pred, axis=[1,2,3,4])\n",
    "    union = K.sum(y_true, axis=[1,2,3,4]) + K.sum(y_pred, axis=[1,2,3,4])\n",
    "    return 1-K.mean( (2. * intersection + smooth) / (union + smooth), axis=0)"
   ]
  },
  {
   "cell_type": "code",
   "execution_count": 9,
   "metadata": {},
   "outputs": [],
   "source": [
    "# SHAPE = (200,200,200)\n",
    "# input_img = Input(shape=(SHAPE[0], SHAPE[1], SHAPE[2], 1))  # adapt this if using `channels_first` image data format\n",
    "\n",
    "# n_filter = 16\n",
    "# filter_s = (3,3,3)\n",
    "# conv1 = Conv3D(n_filter, filter_s, activation='elu', padding='same')(input_img)\n",
    "# conv1 = MaxPooling3D((2, 2, 2), padding='same', name='conv1')(conv1)\n",
    "# conv1 = Dropout(0.5)(conv1)\n",
    "\n",
    "# n_filter *=2\n",
    "# conv2 = Conv3D(n_filter, filter_s, activation='elu', padding='same')(conv1)\n",
    "# conv2 = MaxPooling3D((2, 2, 2), padding='same', name='conv2')(conv2)\n",
    "# conv2 = Dropout(0.5)(conv2)\n",
    "\n",
    "\n",
    "# n_filter *=2\n",
    "# conv3 = Conv3D(n_filter, filter_s, activation='elu', padding='same')(conv2)\n",
    "# conv3 = MaxPooling3D((2, 2, 2), padding='same')(conv3)\n",
    "# conv3 = Dropout(0.5)(conv3)\n",
    "\n",
    "\n",
    "# # at this point the representation is (7, 7, n_filter)\n",
    "\n",
    "# res1 = BatchNormalization(axis=1, name='batch1')(conv3)\n",
    "# res1 = Conv3D(n_filter, filter_s, activation='elu', padding='same')(res1)\n",
    "# res1 = UpSampling3D((2, 2, 2), name='res1')(res1)\n",
    "# res1 = Dropout(0.5)(res1)\n",
    "\n",
    "\n",
    "# n_filter //=2\n",
    "# res2 = BatchNormalization(axis=1, name='batch2')(res1)\n",
    "# merge1 = merge((conv2, res1), mode='concat', name='merge1', concat_axis=-1)\n",
    "# res2 = Conv3D(n_filter, filter_s, activation='elu', padding='same')(merge1)\n",
    "# res2 = UpSampling3D((2, 2, 2), name='res2')(res2)\n",
    "# res2 = Dropout(0.5)(res2)\n",
    "\n",
    "\n",
    "# n_filter //=2\n",
    "# res3 = BatchNormalization(axis=1, name='batch3')(res2)\n",
    "# merge2 = merge((conv1, res2), mode='concat', name='merge2', concat_axis=-1)\n",
    "# res3 = Conv3D(n_filter, filter_s, activation='elu', padding='same')(merge2)\n",
    "# res3 = UpSampling3D((2, 2, 2))(res3)\n",
    "# res3 = Dropout(0.5)(res3)\n",
    "\n",
    "\n",
    "# decoded = Conv3D(1, filter_s, activation='sigmoid', padding='same')(res3)\n",
    "\n",
    "# autoencoder = Model(input_img, decoded)\n",
    "# autoencoder.compile(optimizer='adadelta', loss=dice_coef)"
   ]
  },
  {
   "cell_type": "code",
   "execution_count": 10,
   "metadata": {},
   "outputs": [],
   "source": [
    "# SHAPE = (200,200,200)\n",
    "# input_img = Input(shape=(SHAPE[0], SHAPE[1], SHAPE[2], 1))  # adapt this if using `channels_first` image data format\n",
    "\n",
    "# n_filter = 16\n",
    "# filter_s = (5,5,5)\n",
    "# conv1 = Conv3D(n_filter, filter_s, activation='elu', padding='same')(input_img)\n",
    "# conv1 = MaxPooling3D((2, 2, 2), padding='same')(conv1)\n",
    "\n",
    "# conv2 = Conv3D(n_filter, filter_s, activation='elu', padding='same')(conv1)\n",
    "# conv2 = MaxPooling3D((2, 2, 2), padding='same')(conv2)\n",
    "\n",
    "# # at this point the representation is (7, 7, n_filter)\n",
    "\n",
    "# res1 = Conv3D(n_filter, filter_s, activation='elu', padding='same')(conv2)\n",
    "# res1 = UpSampling3D((2, 2, 2))(res1)\n",
    "\n",
    "# merge1 = merge((conv1, res1), mode='concat', name='merge1', concat_axis=1)\n",
    "\n",
    "# res2 = Conv3D(n_filter, filter_s, activation='elu', padding='same')(res1)\n",
    "# res2 = UpSampling3D((2, 2, 2))(res2)\n",
    "# decoded = Conv3D(1, filter_s, activation='sigmoid', padding='same')(res2)\n",
    "\n",
    "# autoencoder = Model(input_img, decoded)\n",
    "# autoencoder.compile(optimizer='adam', loss=dice_coef)"
   ]
  },
  {
   "cell_type": "code",
   "execution_count": 59,
   "metadata": {
    "collapsed": true
   },
   "outputs": [],
   "source": [
    "SHAPE = (200,200,200)\n",
    "input_img = Input(shape=(SHAPE[0], SHAPE[1], SHAPE[2], 2))  # adapt this if using `channels_first` image data format\n",
    "\n",
    "n_filter = 16\n",
    "filter_s = (3,3,3)\n",
    "x = Conv3D(n_filter, filter_s, activation='elu', padding='same')(input_img)\n",
    "x = MaxPooling3D((2, 2, 2), padding='same')(x)\n",
    "x = Conv3D(n_filter, filter_s, activation='elu', padding='same')(x)\n",
    "encoded = MaxPooling3D((2, 2, 2), padding='same')(x)\n",
    "\n",
    "# at this point the representation is (7, 7, n_filter)\n",
    "\n",
    "x = Conv3D(n_filter, filter_s, activation='elu', padding='same')(encoded)\n",
    "x = UpSampling3D((2, 2, 2))(x)\n",
    "x = Conv3D(n_filter, filter_s, activation='elu', padding='same')(x)\n",
    "x = UpSampling3D((2, 2, 2))(x)\n",
    "decoded = Conv3D(1, filter_s, activation='sigmoid', padding='same')(x)\n",
    "\n",
    "autoencoder = Model(input_img, decoded)\n",
    "autoencoder.compile(optimizer='adam', loss=dice_coef)"
   ]
  },
  {
   "cell_type": "code",
   "execution_count": 60,
   "metadata": {
    "collapsed": true
   },
   "outputs": [],
   "source": [
    "# SHAPE = (208,208,208)\n",
    "# input_img = Input(shape=(SHAPE[0], SHAPE[1], SHAPE[2], 2))  # adapt this if using `channels_first` image data format\n",
    "\n",
    "# n_filter = 16\n",
    "# filter_s = (3,3,9)\n",
    "# pool_s = (4,4,4)\n",
    "# x = Conv3D(n_filter, filter_s, activation='elu', padding='same')(input_img)\n",
    "# x = MaxPooling3D(pool_s, padding='same')(x)\n",
    "# x = Conv3D(n_filter, filter_s, activation='relu', padding='same')(x)\n",
    "# encoded = MaxPooling3D(pool_s, padding='same')(x)\n",
    "\n",
    "# # at this point the representation is (7, 7, n_filter)\n",
    "\n",
    "# x = Conv3D(n_filter, filter_s, activation='relu', padding='same')(encoded)\n",
    "# x = UpSampling3D(pool_s)(x)\n",
    "# x = Conv3D(n_filter, filter_s, activation='elu', padding='same')(x)\n",
    "# x = UpSampling3D(pool_s)(x)\n",
    "# decoded = Conv3D(1, filter_s, activation='sigmoid', padding='same')(x)\n",
    "\n",
    "# autoencoder = Model(input_img, decoded)\n",
    "# autoencoder.compile(optimizer='adam', loss=dice_coef)"
   ]
  },
  {
   "cell_type": "code",
   "execution_count": 13,
   "metadata": {},
   "outputs": [],
   "source": [
    "DTYPE = 'int8'"
   ]
  },
  {
   "cell_type": "code",
   "execution_count": 14,
   "metadata": {},
   "outputs": [],
   "source": [
    "# def prepare_data_train(cases, start=0, end=100):\n",
    "#     X_ = []\n",
    "#     Y_ = []\n",
    "#     for case in range(start,end):\n",
    "#         X = np.load('prediction_subvolumes/x_%s.npy'%case).astype('uint8')\n",
    "#         Y = np.load('prediction_subvolumes/y_%s.npy'%case).astype('uint8')\n",
    "        \n",
    "#         x = np.zeros(SHAPE).astype(DTYPE)\n",
    "#         y = np.zeros(SHAPE).astype(DTYPE)\n",
    "#         try:\n",
    "#             x[[X[:,0], X[:,1], X[:,2]]] = 1\n",
    "#             y[[Y[:,0], Y[:,1], Y[:,2]]] = 1\n",
    "#             X_.append(x[:SHAPE[0], :SHAPE[1], :SHAPE[2]])\n",
    "#             Y_.append(y[:SHAPE[0], :SHAPE[1], :SHAPE[2]])\n",
    "#         except:\n",
    "#             pass\n",
    "#     X_ = np.array(X_)\n",
    "#     Y_ = np.array(Y_)\n",
    "#     x_train = np.reshape(X_, (X_.shape[0], SHAPE[0], SHAPE[1], SHAPE[2], 1))\n",
    "#     y_train = np.reshape(Y_, (Y_.shape[0], SHAPE[0], SHAPE[1], SHAPE[2], 1))\n",
    "#     return x_train, y_train\n",
    "\n",
    "# N=100\n",
    "# x_train, y_train  = prepare_data_train(trainingCases, start=0, end=N)"
   ]
  },
  {
   "cell_type": "code",
   "execution_count": 62,
   "metadata": {},
   "outputs": [],
   "source": [
    "def prepare_data_train(cases, start=0, end=100, mode='training'):\n",
    "    X_ = []\n",
    "    Y_ = []\n",
    "    \n",
    "    with open('preprocessing/%s_subvolumes.txt' % (mode), 'r') as f:\n",
    "        files = f.read().splitlines()\n",
    "        \n",
    "    with open('preprocessing/%s_subvolumes_synth.txt' % (mode), 'r') as f:\n",
    "            files += f.read().splitlines()\n",
    "        \n",
    "    \n",
    "        \n",
    "    # with open('preprocessing/%s_subvolumes%s.txt' % (mode,synth_str), 'r') as f:\n",
    "    #     files = f.read().splitlines()\n",
    "    \n",
    "    \n",
    "    \n",
    "    for case in range(start,end):\n",
    "        image_path = files[case]\n",
    "        img = _load_file(image_path, np.float32)\n",
    "        to_pad = SHAPE[0] - img.shape[0]\n",
    "        img = np.pad(img, [(0, to_pad), (0, to_pad), (0, to_pad)], mode='constant', constant_values=[0])\n",
    "        \n",
    "        X = np.load('prediction_subvolumes/x_%s.npy'%case).astype('uint8')\n",
    "        Y = np.load('prediction_subvolumes/y_%s.npy'%case).astype('uint8')\n",
    "        \n",
    "        x = np.zeros(SHAPE).astype(DTYPE)\n",
    "        y = np.zeros(SHAPE).astype(DTYPE)\n",
    "        try:\n",
    "            x[[X[:,0], X[:,1], X[:,2]]] = 1\n",
    "            y[[Y[:,0], Y[:,1], Y[:,2]]] = 1\n",
    "            \n",
    "            x = x[:SHAPE[0], :SHAPE[1], :SHAPE[2]]\n",
    "            \n",
    "            img = np.array([x,img]).T\n",
    "            \n",
    "            X_.append(img)\n",
    "            Y_.append(y[:SHAPE[0], :SHAPE[1], :SHAPE[2]])\n",
    "        except:\n",
    "            pass\n",
    "    X_ = np.array(X_)\n",
    "    Y_ = np.array(Y_)\n",
    "    x_train = np.reshape(X_, (X_.shape[0], SHAPE[0], SHAPE[1], SHAPE[2], 2))\n",
    "    y_train = np.reshape(Y_, (Y_.shape[0], SHAPE[0], SHAPE[1], SHAPE[2], 1))\n",
    "    return x_train, y_train\n",
    "\n",
    "N=10\n",
    "x_train, y_train  = prepare_data_train(trainingCases, start=0, end=N)"
   ]
  },
  {
   "cell_type": "code",
   "execution_count": 63,
   "metadata": {},
   "outputs": [],
   "source": [
    "def prepare_data(cases,  mode='validation'):\n",
    "    X_ = []\n",
    "    Y_ = []\n",
    "            \n",
    "    for case in cases:\n",
    "        \n",
    "        X = np.load('prediction/%s.npy'%case)\n",
    "        \n",
    "        img_path = '/home/gp1514/SSD/preprocessed_data/LabelMapsNEW2_1.00-1.00-1.00_split2/%s/case.nrrd'%case\n",
    "        img, options = nrrd.read(img_path)\n",
    "        img = img.astype(np.float32)[:SHAPE[0], :SHAPE[1], :SHAPE[2]]\n",
    "        to_pad = [SHAPE[i] - img.shape[i] for i in range(3)]\n",
    "        img = np.pad(img, [(0, to_pad[0]), (0, to_pad[1]), (0, to_pad[2])], mode='constant', constant_values=[0])\n",
    "        \n",
    "        \n",
    "        label_name = '/home/gp1514/SSD/preprocessed_data/LabelMapsNEW2_1.00-1.00-1.00/%s/needles.nrrd'%case\n",
    "        label_data, options = nrrd.read(label_name)\n",
    "        data = label_data.astype(np.float32)\n",
    "        tx,ty,tz = np.where(label_data == 1)\n",
    "        x = np.zeros((400,400,400)).astype(DTYPE)\n",
    "        y = np.zeros((400,400,400)).astype(DTYPE)\n",
    "        try:\n",
    "            x[[X[:,0], X[:,1], X[:,2]]] = 1\n",
    "            x = x[:SHAPE[0], :SHAPE[1], :SHAPE[2]]\n",
    "            img = np.array([x,img]).T\n",
    "            y[[tx,ty,tz]] = 1\n",
    "            X_.append(img)\n",
    "            Y_.append(y[:SHAPE[0], :SHAPE[1], :SHAPE[2]])\n",
    "        except:\n",
    "            pass\n",
    "\n",
    "\n",
    "    X_ = np.array(X_)\n",
    "    Y_ = np.array(Y_)\n",
    "    x_train = np.reshape(X_, (X_.shape[0], SHAPE[0], SHAPE[1], SHAPE[2], 2))\n",
    "    y_train = np.reshape(Y_, (Y_.shape[0], SHAPE[0], SHAPE[1], SHAPE[2], 1))\n",
    "    return x_train, y_train\n",
    "\n",
    "# x_train, y_train  = prepare_data(trainingCases)\n",
    "# x_test, y_test = prepare_data(testingCases)\n",
    "x_test, y_test = prepare_data(validationCases)"
   ]
  },
  {
   "cell_type": "code",
   "execution_count": 64,
   "metadata": {},
   "outputs": [
    {
     "name": "stdout",
     "output_type": "stream",
     "text": [
      "(100, 200, 200, 200, 2) (11, 200, 200, 200, 2)\n"
     ]
    }
   ],
   "source": [
    "print(x_train.shape, x_test.shape)"
   ]
  },
  {
   "cell_type": "markdown",
   "metadata": {},
   "source": [
    "## Training"
   ]
  },
  {
   "cell_type": "code",
   "execution_count": 65,
   "metadata": {
    "scrolled": false
   },
   "outputs": [
    {
     "name": "stdout",
     "output_type": "stream",
     "text": [
      "Train on 100 samples, validate on 11 samples\n",
      "Epoch 1/100\n",
      "100/100 [==============================] - 49s - loss: 0.9961 - val_loss: 0.9978\n",
      "Epoch 2/100\n",
      "100/100 [==============================] - 30s - loss: 0.9979 - val_loss: 1.0000\n",
      "Epoch 3/100\n",
      "100/100 [==============================] - 30s - loss: 1.0000 - val_loss: 1.0000\n",
      "Epoch 4/100\n",
      "100/100 [==============================] - 30s - loss: 1.0000 - val_loss: 1.0000\n",
      "Epoch 5/100\n",
      "100/100 [==============================] - 30s - loss: 1.0000 - val_loss: 1.0000\n",
      "Epoch 6/100\n",
      "100/100 [==============================] - 30s - loss: 1.0000 - val_loss: 1.0000\n",
      "Epoch 7/100\n",
      "100/100 [==============================] - 30s - loss: 1.0000 - val_loss: 1.0000\n",
      "Epoch 8/100\n",
      "100/100 [==============================] - 30s - loss: 1.0000 - val_loss: 1.0000\n",
      "Epoch 9/100\n",
      "100/100 [==============================] - 30s - loss: 1.0000 - val_loss: 1.0000\n",
      "Epoch 10/100\n",
      "100/100 [==============================] - 30s - loss: 1.0000 - val_loss: 1.0000\n",
      "Epoch 11/100\n",
      "100/100 [==============================] - 30s - loss: 1.0000 - val_loss: 1.0000\n",
      "Epoch 12/100\n",
      "100/100 [==============================] - 30s - loss: 1.0000 - val_loss: 1.0000\n",
      "Epoch 13/100\n",
      "100/100 [==============================] - 30s - loss: 1.0000 - val_loss: 1.0000\n",
      "Epoch 14/100\n",
      "100/100 [==============================] - 30s - loss: 1.0000 - val_loss: 1.0000\n",
      "Epoch 15/100\n",
      "100/100 [==============================] - 30s - loss: 1.0000 - val_loss: 1.0000\n",
      "Epoch 16/100\n",
      "100/100 [==============================] - 30s - loss: 1.0000 - val_loss: 1.0000\n",
      "Epoch 17/100\n",
      "100/100 [==============================] - 30s - loss: 1.0000 - val_loss: 1.0000\n",
      "Epoch 18/100\n",
      "100/100 [==============================] - 30s - loss: 1.0000 - val_loss: 1.0000\n",
      "Epoch 19/100\n",
      "100/100 [==============================] - 30s - loss: 1.0000 - val_loss: 1.0000\n",
      "Epoch 20/100\n",
      "100/100 [==============================] - 30s - loss: 1.0000 - val_loss: 1.0000\n",
      "Epoch 21/100\n",
      "100/100 [==============================] - 30s - loss: 1.0000 - val_loss: 1.0000\n",
      "Epoch 22/100\n",
      "100/100 [==============================] - 30s - loss: 1.0000 - val_loss: 1.0000\n",
      "Epoch 23/100\n",
      "100/100 [==============================] - 30s - loss: 1.0000 - val_loss: 1.0000\n",
      "Epoch 24/100\n",
      "100/100 [==============================] - 30s - loss: 1.0000 - val_loss: 1.0000\n",
      "Epoch 25/100\n",
      "100/100 [==============================] - 30s - loss: 1.0000 - val_loss: 1.0000\n",
      "Epoch 26/100\n",
      "100/100 [==============================] - 30s - loss: 1.0000 - val_loss: 1.0000\n",
      "Epoch 27/100\n",
      "100/100 [==============================] - 30s - loss: 1.0000 - val_loss: 1.0000\n",
      "Epoch 28/100\n",
      "100/100 [==============================] - 30s - loss: 1.0000 - val_loss: 1.0000\n",
      "Epoch 29/100\n",
      "100/100 [==============================] - 30s - loss: 1.0000 - val_loss: 1.0000\n",
      "Epoch 30/100\n",
      "100/100 [==============================] - 30s - loss: 1.0000 - val_loss: 1.0000\n",
      "Epoch 31/100\n",
      "100/100 [==============================] - 30s - loss: 1.0000 - val_loss: 1.0000\n",
      "Epoch 32/100\n",
      "100/100 [==============================] - 30s - loss: 1.0000 - val_loss: 1.0000\n",
      "Epoch 33/100\n",
      "100/100 [==============================] - 30s - loss: 1.0000 - val_loss: 1.0000\n",
      "Epoch 34/100\n",
      "100/100 [==============================] - 30s - loss: 1.0000 - val_loss: 1.0000\n",
      "Epoch 35/100\n",
      "100/100 [==============================] - 30s - loss: 1.0000 - val_loss: 1.0000\n",
      "Epoch 36/100\n",
      "100/100 [==============================] - 30s - loss: 1.0000 - val_loss: 1.0000\n",
      "Epoch 37/100\n",
      "100/100 [==============================] - 30s - loss: 1.0000 - val_loss: 1.0000\n",
      "Epoch 38/100\n",
      "100/100 [==============================] - 30s - loss: 1.0000 - val_loss: 1.0000\n",
      "Epoch 39/100\n",
      "100/100 [==============================] - 30s - loss: 1.0000 - val_loss: 1.0000\n",
      "Epoch 40/100\n",
      "100/100 [==============================] - 31s - loss: 1.0000 - val_loss: 1.0000\n",
      "Epoch 41/100\n",
      "100/100 [==============================] - 32s - loss: 1.0000 - val_loss: 1.0000\n",
      "Epoch 42/100\n",
      "100/100 [==============================] - 31s - loss: 1.0000 - val_loss: 1.0000\n",
      "Epoch 43/100\n",
      "100/100 [==============================] - 32s - loss: 1.0000 - val_loss: 1.0000\n",
      "Epoch 44/100\n",
      "100/100 [==============================] - 32s - loss: 1.0000 - val_loss: 1.0000\n",
      "Epoch 45/100\n",
      "100/100 [==============================] - 32s - loss: 1.0000 - val_loss: 1.0000\n",
      "Epoch 46/100\n",
      "100/100 [==============================] - 32s - loss: 1.0000 - val_loss: 1.0000\n",
      "Epoch 47/100\n",
      "100/100 [==============================] - 32s - loss: 1.0000 - val_loss: 1.0000\n",
      "Epoch 48/100\n",
      "100/100 [==============================] - 32s - loss: 1.0000 - val_loss: 1.0000\n",
      "Epoch 49/100\n",
      "100/100 [==============================] - 33s - loss: 1.0000 - val_loss: 1.0000\n",
      "Epoch 50/100\n",
      "100/100 [==============================] - 32s - loss: 1.0000 - val_loss: 1.0000\n",
      "Epoch 51/100\n",
      "100/100 [==============================] - 32s - loss: 1.0000 - val_loss: 1.0000\n",
      "Epoch 52/100\n",
      "100/100 [==============================] - 32s - loss: 1.0000 - val_loss: 1.0000\n",
      "Epoch 53/100\n",
      "100/100 [==============================] - 33s - loss: 1.0000 - val_loss: 1.0000\n",
      "Epoch 54/100\n",
      "100/100 [==============================] - 33s - loss: 1.0000 - val_loss: 1.0000\n",
      "Epoch 55/100\n",
      "100/100 [==============================] - 33s - loss: 1.0000 - val_loss: 1.0000\n",
      "Epoch 56/100\n",
      "100/100 [==============================] - 32s - loss: 1.0000 - val_loss: 1.0000\n",
      "Epoch 57/100\n",
      "100/100 [==============================] - 33s - loss: 1.0000 - val_loss: 1.0000\n",
      "Epoch 58/100\n",
      "100/100 [==============================] - 33s - loss: 1.0000 - val_loss: 1.0000\n",
      "Epoch 59/100\n",
      "100/100 [==============================] - 33s - loss: 1.0000 - val_loss: 1.0000\n",
      "Epoch 60/100\n",
      "100/100 [==============================] - 33s - loss: 1.0000 - val_loss: 1.0000\n",
      "Epoch 61/100\n",
      "100/100 [==============================] - 32s - loss: 1.0000 - val_loss: 1.0000\n",
      "Epoch 62/100\n",
      "100/100 [==============================] - 33s - loss: 1.0000 - val_loss: 1.0000\n",
      "Epoch 63/100\n",
      "100/100 [==============================] - 33s - loss: 1.0000 - val_loss: 1.0000\n",
      "Epoch 64/100\n",
      "100/100 [==============================] - 33s - loss: 1.0000 - val_loss: 1.0000\n",
      "Epoch 65/100\n",
      "100/100 [==============================] - 32s - loss: 1.0000 - val_loss: 1.0000\n",
      "Epoch 66/100\n",
      "100/100 [==============================] - 33s - loss: 1.0000 - val_loss: 1.0000\n",
      "Epoch 67/100\n",
      "100/100 [==============================] - 33s - loss: 1.0000 - val_loss: 1.0000\n",
      "Epoch 68/100\n",
      "  9/100 [=>............................] - ETA: 30s - loss: 1.0000"
     ]
    },
    {
     "ename": "KeyboardInterrupt",
     "evalue": "",
     "output_type": "error",
     "traceback": [
      "\u001b[0;31m---------------------------------------------------------------------------\u001b[0m",
      "\u001b[0;31mKeyboardInterrupt\u001b[0m                         Traceback (most recent call last)",
      "\u001b[0;32m<ipython-input-65-b785a48e9bcf>\u001b[0m in \u001b[0;36m<module>\u001b[0;34m()\u001b[0m\n\u001b[1;32m      7\u001b[0m                 \u001b[0mshuffle\u001b[0m\u001b[0;34m=\u001b[0m\u001b[0;32mTrue\u001b[0m\u001b[0;34m,\u001b[0m\u001b[0;34m\u001b[0m\u001b[0m\n\u001b[1;32m      8\u001b[0m                 \u001b[0mvalidation_data\u001b[0m\u001b[0;34m=\u001b[0m\u001b[0;34m(\u001b[0m\u001b[0mx_test\u001b[0m\u001b[0;34m,\u001b[0m \u001b[0my_test\u001b[0m\u001b[0;34m)\u001b[0m\u001b[0;34m,\u001b[0m\u001b[0;34m\u001b[0m\u001b[0m\n\u001b[0;32m----> 9\u001b[0;31m                 callbacks=[TensorBoard(log_dir='/tmp/autoencoder1')])\n\u001b[0m",
      "\u001b[0;32m~/.pyenv/versions/anaconda3-4.3.0/envs/needles/lib/python3.6/site-packages/keras/engine/training.py\u001b[0m in \u001b[0;36mfit\u001b[0;34m(self, x, y, batch_size, epochs, verbose, callbacks, validation_split, validation_data, shuffle, class_weight, sample_weight, initial_epoch, steps_per_epoch, validation_steps, **kwargs)\u001b[0m\n\u001b[1;32m   1593\u001b[0m                               \u001b[0minitial_epoch\u001b[0m\u001b[0;34m=\u001b[0m\u001b[0minitial_epoch\u001b[0m\u001b[0;34m,\u001b[0m\u001b[0;34m\u001b[0m\u001b[0m\n\u001b[1;32m   1594\u001b[0m                               \u001b[0msteps_per_epoch\u001b[0m\u001b[0;34m=\u001b[0m\u001b[0msteps_per_epoch\u001b[0m\u001b[0;34m,\u001b[0m\u001b[0;34m\u001b[0m\u001b[0m\n\u001b[0;32m-> 1595\u001b[0;31m                               validation_steps=validation_steps)\n\u001b[0m\u001b[1;32m   1596\u001b[0m \u001b[0;34m\u001b[0m\u001b[0m\n\u001b[1;32m   1597\u001b[0m     def evaluate(self, x, y,\n",
      "\u001b[0;32m~/.pyenv/versions/anaconda3-4.3.0/envs/needles/lib/python3.6/site-packages/keras/engine/training.py\u001b[0m in \u001b[0;36m_fit_loop\u001b[0;34m(self, f, ins, out_labels, batch_size, epochs, verbose, callbacks, val_f, val_ins, shuffle, callback_metrics, initial_epoch, steps_per_epoch, validation_steps)\u001b[0m\n\u001b[1;32m   1180\u001b[0m                     \u001b[0mbatch_logs\u001b[0m\u001b[0;34m[\u001b[0m\u001b[0;34m'size'\u001b[0m\u001b[0;34m]\u001b[0m \u001b[0;34m=\u001b[0m \u001b[0mlen\u001b[0m\u001b[0;34m(\u001b[0m\u001b[0mbatch_ids\u001b[0m\u001b[0;34m)\u001b[0m\u001b[0;34m\u001b[0m\u001b[0m\n\u001b[1;32m   1181\u001b[0m                     \u001b[0mcallbacks\u001b[0m\u001b[0;34m.\u001b[0m\u001b[0mon_batch_begin\u001b[0m\u001b[0;34m(\u001b[0m\u001b[0mbatch_index\u001b[0m\u001b[0;34m,\u001b[0m \u001b[0mbatch_logs\u001b[0m\u001b[0;34m)\u001b[0m\u001b[0;34m\u001b[0m\u001b[0m\n\u001b[0;32m-> 1182\u001b[0;31m                     \u001b[0mouts\u001b[0m \u001b[0;34m=\u001b[0m \u001b[0mf\u001b[0m\u001b[0;34m(\u001b[0m\u001b[0mins_batch\u001b[0m\u001b[0;34m)\u001b[0m\u001b[0;34m\u001b[0m\u001b[0m\n\u001b[0m\u001b[1;32m   1183\u001b[0m                     \u001b[0;32mif\u001b[0m \u001b[0;32mnot\u001b[0m \u001b[0misinstance\u001b[0m\u001b[0;34m(\u001b[0m\u001b[0mouts\u001b[0m\u001b[0;34m,\u001b[0m \u001b[0mlist\u001b[0m\u001b[0;34m)\u001b[0m\u001b[0;34m:\u001b[0m\u001b[0;34m\u001b[0m\u001b[0m\n\u001b[1;32m   1184\u001b[0m                         \u001b[0mouts\u001b[0m \u001b[0;34m=\u001b[0m \u001b[0;34m[\u001b[0m\u001b[0mouts\u001b[0m\u001b[0;34m]\u001b[0m\u001b[0;34m\u001b[0m\u001b[0m\n",
      "\u001b[0;32m~/.pyenv/versions/anaconda3-4.3.0/envs/needles/lib/python3.6/site-packages/keras/backend/tensorflow_backend.py\u001b[0m in \u001b[0;36m__call__\u001b[0;34m(self, inputs)\u001b[0m\n\u001b[1;32m   2268\u001b[0m         updated = session.run(self.outputs + [self.updates_op],\n\u001b[1;32m   2269\u001b[0m                               \u001b[0mfeed_dict\u001b[0m\u001b[0;34m=\u001b[0m\u001b[0mfeed_dict\u001b[0m\u001b[0;34m,\u001b[0m\u001b[0;34m\u001b[0m\u001b[0m\n\u001b[0;32m-> 2270\u001b[0;31m                               **self.session_kwargs)\n\u001b[0m\u001b[1;32m   2271\u001b[0m         \u001b[0;32mreturn\u001b[0m \u001b[0mupdated\u001b[0m\u001b[0;34m[\u001b[0m\u001b[0;34m:\u001b[0m\u001b[0mlen\u001b[0m\u001b[0;34m(\u001b[0m\u001b[0mself\u001b[0m\u001b[0;34m.\u001b[0m\u001b[0moutputs\u001b[0m\u001b[0;34m)\u001b[0m\u001b[0;34m]\u001b[0m\u001b[0;34m\u001b[0m\u001b[0m\n\u001b[1;32m   2272\u001b[0m \u001b[0;34m\u001b[0m\u001b[0m\n",
      "\u001b[0;32m~/.pyenv/versions/anaconda3-4.3.0/envs/needles/lib/python3.6/site-packages/tensorflow/python/client/session.py\u001b[0m in \u001b[0;36mrun\u001b[0;34m(self, fetches, feed_dict, options, run_metadata)\u001b[0m\n\u001b[1;32m    893\u001b[0m     \u001b[0;32mtry\u001b[0m\u001b[0;34m:\u001b[0m\u001b[0;34m\u001b[0m\u001b[0m\n\u001b[1;32m    894\u001b[0m       result = self._run(None, fetches, feed_dict, options_ptr,\n\u001b[0;32m--> 895\u001b[0;31m                          run_metadata_ptr)\n\u001b[0m\u001b[1;32m    896\u001b[0m       \u001b[0;32mif\u001b[0m \u001b[0mrun_metadata\u001b[0m\u001b[0;34m:\u001b[0m\u001b[0;34m\u001b[0m\u001b[0m\n\u001b[1;32m    897\u001b[0m         \u001b[0mproto_data\u001b[0m \u001b[0;34m=\u001b[0m \u001b[0mtf_session\u001b[0m\u001b[0;34m.\u001b[0m\u001b[0mTF_GetBuffer\u001b[0m\u001b[0;34m(\u001b[0m\u001b[0mrun_metadata_ptr\u001b[0m\u001b[0;34m)\u001b[0m\u001b[0;34m\u001b[0m\u001b[0m\n",
      "\u001b[0;32m~/.pyenv/versions/anaconda3-4.3.0/envs/needles/lib/python3.6/site-packages/tensorflow/python/client/session.py\u001b[0m in \u001b[0;36m_run\u001b[0;34m(self, handle, fetches, feed_dict, options, run_metadata)\u001b[0m\n\u001b[1;32m   1122\u001b[0m     \u001b[0;32mif\u001b[0m \u001b[0mfinal_fetches\u001b[0m \u001b[0;32mor\u001b[0m \u001b[0mfinal_targets\u001b[0m \u001b[0;32mor\u001b[0m \u001b[0;34m(\u001b[0m\u001b[0mhandle\u001b[0m \u001b[0;32mand\u001b[0m \u001b[0mfeed_dict_tensor\u001b[0m\u001b[0;34m)\u001b[0m\u001b[0;34m:\u001b[0m\u001b[0;34m\u001b[0m\u001b[0m\n\u001b[1;32m   1123\u001b[0m       results = self._do_run(handle, final_targets, final_fetches,\n\u001b[0;32m-> 1124\u001b[0;31m                              feed_dict_tensor, options, run_metadata)\n\u001b[0m\u001b[1;32m   1125\u001b[0m     \u001b[0;32melse\u001b[0m\u001b[0;34m:\u001b[0m\u001b[0;34m\u001b[0m\u001b[0m\n\u001b[1;32m   1126\u001b[0m       \u001b[0mresults\u001b[0m \u001b[0;34m=\u001b[0m \u001b[0;34m[\u001b[0m\u001b[0;34m]\u001b[0m\u001b[0;34m\u001b[0m\u001b[0m\n",
      "\u001b[0;32m~/.pyenv/versions/anaconda3-4.3.0/envs/needles/lib/python3.6/site-packages/tensorflow/python/client/session.py\u001b[0m in \u001b[0;36m_do_run\u001b[0;34m(self, handle, target_list, fetch_list, feed_dict, options, run_metadata)\u001b[0m\n\u001b[1;32m   1319\u001b[0m     \u001b[0;32mif\u001b[0m \u001b[0mhandle\u001b[0m \u001b[0;32mis\u001b[0m \u001b[0;32mNone\u001b[0m\u001b[0;34m:\u001b[0m\u001b[0;34m\u001b[0m\u001b[0m\n\u001b[1;32m   1320\u001b[0m       return self._do_call(_run_fn, self._session, feeds, fetches, targets,\n\u001b[0;32m-> 1321\u001b[0;31m                            options, run_metadata)\n\u001b[0m\u001b[1;32m   1322\u001b[0m     \u001b[0;32melse\u001b[0m\u001b[0;34m:\u001b[0m\u001b[0;34m\u001b[0m\u001b[0m\n\u001b[1;32m   1323\u001b[0m       \u001b[0;32mreturn\u001b[0m \u001b[0mself\u001b[0m\u001b[0;34m.\u001b[0m\u001b[0m_do_call\u001b[0m\u001b[0;34m(\u001b[0m\u001b[0m_prun_fn\u001b[0m\u001b[0;34m,\u001b[0m \u001b[0mself\u001b[0m\u001b[0;34m.\u001b[0m\u001b[0m_session\u001b[0m\u001b[0;34m,\u001b[0m \u001b[0mhandle\u001b[0m\u001b[0;34m,\u001b[0m \u001b[0mfeeds\u001b[0m\u001b[0;34m,\u001b[0m \u001b[0mfetches\u001b[0m\u001b[0;34m)\u001b[0m\u001b[0;34m\u001b[0m\u001b[0m\n",
      "\u001b[0;32m~/.pyenv/versions/anaconda3-4.3.0/envs/needles/lib/python3.6/site-packages/tensorflow/python/client/session.py\u001b[0m in \u001b[0;36m_do_call\u001b[0;34m(self, fn, *args)\u001b[0m\n\u001b[1;32m   1325\u001b[0m   \u001b[0;32mdef\u001b[0m \u001b[0m_do_call\u001b[0m\u001b[0;34m(\u001b[0m\u001b[0mself\u001b[0m\u001b[0;34m,\u001b[0m \u001b[0mfn\u001b[0m\u001b[0;34m,\u001b[0m \u001b[0;34m*\u001b[0m\u001b[0margs\u001b[0m\u001b[0;34m)\u001b[0m\u001b[0;34m:\u001b[0m\u001b[0;34m\u001b[0m\u001b[0m\n\u001b[1;32m   1326\u001b[0m     \u001b[0;32mtry\u001b[0m\u001b[0;34m:\u001b[0m\u001b[0;34m\u001b[0m\u001b[0m\n\u001b[0;32m-> 1327\u001b[0;31m       \u001b[0;32mreturn\u001b[0m \u001b[0mfn\u001b[0m\u001b[0;34m(\u001b[0m\u001b[0;34m*\u001b[0m\u001b[0margs\u001b[0m\u001b[0;34m)\u001b[0m\u001b[0;34m\u001b[0m\u001b[0m\n\u001b[0m\u001b[1;32m   1328\u001b[0m     \u001b[0;32mexcept\u001b[0m \u001b[0merrors\u001b[0m\u001b[0;34m.\u001b[0m\u001b[0mOpError\u001b[0m \u001b[0;32mas\u001b[0m \u001b[0me\u001b[0m\u001b[0;34m:\u001b[0m\u001b[0;34m\u001b[0m\u001b[0m\n\u001b[1;32m   1329\u001b[0m       \u001b[0mmessage\u001b[0m \u001b[0;34m=\u001b[0m \u001b[0mcompat\u001b[0m\u001b[0;34m.\u001b[0m\u001b[0mas_text\u001b[0m\u001b[0;34m(\u001b[0m\u001b[0me\u001b[0m\u001b[0;34m.\u001b[0m\u001b[0mmessage\u001b[0m\u001b[0;34m)\u001b[0m\u001b[0;34m\u001b[0m\u001b[0m\n",
      "\u001b[0;32m~/.pyenv/versions/anaconda3-4.3.0/envs/needles/lib/python3.6/site-packages/tensorflow/python/client/session.py\u001b[0m in \u001b[0;36m_run_fn\u001b[0;34m(session, feed_dict, fetch_list, target_list, options, run_metadata)\u001b[0m\n\u001b[1;32m   1304\u001b[0m           return tf_session.TF_Run(session, options,\n\u001b[1;32m   1305\u001b[0m                                    \u001b[0mfeed_dict\u001b[0m\u001b[0;34m,\u001b[0m \u001b[0mfetch_list\u001b[0m\u001b[0;34m,\u001b[0m \u001b[0mtarget_list\u001b[0m\u001b[0;34m,\u001b[0m\u001b[0;34m\u001b[0m\u001b[0m\n\u001b[0;32m-> 1306\u001b[0;31m                                    status, run_metadata)\n\u001b[0m\u001b[1;32m   1307\u001b[0m \u001b[0;34m\u001b[0m\u001b[0m\n\u001b[1;32m   1308\u001b[0m     \u001b[0;32mdef\u001b[0m \u001b[0m_prun_fn\u001b[0m\u001b[0;34m(\u001b[0m\u001b[0msession\u001b[0m\u001b[0;34m,\u001b[0m \u001b[0mhandle\u001b[0m\u001b[0;34m,\u001b[0m \u001b[0mfeed_dict\u001b[0m\u001b[0;34m,\u001b[0m \u001b[0mfetch_list\u001b[0m\u001b[0;34m)\u001b[0m\u001b[0;34m:\u001b[0m\u001b[0;34m\u001b[0m\u001b[0m\n",
      "\u001b[0;31mKeyboardInterrupt\u001b[0m: "
     ]
    }
   ],
   "source": [
    "from keras.callbacks import TensorBoard\n",
    "\n",
    "\n",
    "autoencoder.fit(x_train, y_train,\n",
    "                epochs=100,\n",
    "                batch_size=3,\n",
    "                shuffle=True,\n",
    "                validation_data=(x_test, y_test),\n",
    "                callbacks=[TensorBoard(log_dir='/tmp/autoencoder1')])"
   ]
  },
  {
   "cell_type": "markdown",
   "metadata": {},
   "source": [
    "## Save"
   ]
  },
  {
   "cell_type": "code",
   "execution_count": 117,
   "metadata": {},
   "outputs": [
    {
     "data": {
      "text/plain": [
       "<matplotlib.image.AxesImage at 0x7f953693c0f0>"
      ]
     },
     "execution_count": 117,
     "metadata": {},
     "output_type": "execute_result"
    },
    {
     "data": {
      "image/png": "[encoded data removed]",
      "text/plain": [
       "<matplotlib.figure.Figure at 0x7f95360dad30>"
      ]
     },
     "metadata": {},
     "output_type": "display_data"
    }
   ],
   "source": [
    "f(15,15)\n",
    "plt.imshow(x_test[10][30,:,:,1], cmap=plt.cm.RdPu_r, alpha=0.8)\n",
    "# plt.imshow(x_test[10][30,:,:,0], cmap=plt.cm.GnBu_r, alpha=0.3)\n",
    "\n",
    "# f(15,15)\n",
    "plt.imshow(y_test[10][...,30,0], alpha=0.3)"
   ]
  },
  {
   "cell_type": "code",
   "execution_count": 34,
   "metadata": {},
   "outputs": [
    {
     "ename": "ImportError",
     "evalue": "`save_model` requires h5py.",
     "output_type": "error",
     "traceback": [
      "\u001b[0;31m---------------------------------------------------------------------------\u001b[0m",
      "\u001b[0;31mImportError\u001b[0m                               Traceback (most recent call last)",
      "\u001b[0;32m<ipython-input-34-44cf8d859d7b>\u001b[0m in \u001b[0;36m<module>\u001b[0;34m()\u001b[0m\n\u001b[1;32m      1\u001b[0m \u001b[0;32mimport\u001b[0m \u001b[0mh5py\u001b[0m\u001b[0;34m\u001b[0m\u001b[0m\n\u001b[1;32m      2\u001b[0m \u001b[0;32mfrom\u001b[0m \u001b[0mkeras\u001b[0m\u001b[0;34m.\u001b[0m\u001b[0mmodels\u001b[0m \u001b[0;32mimport\u001b[0m \u001b[0mload_model\u001b[0m\u001b[0;34m\u001b[0m\u001b[0m\n\u001b[0;32m----> 3\u001b[0;31m \u001b[0mautoencoder\u001b[0m\u001b[0;34m.\u001b[0m\u001b[0msave\u001b[0m\u001b[0;34m(\u001b[0m\u001b[0;34m'models/unet-AE.h5'\u001b[0m\u001b[0;34m)\u001b[0m\u001b[0;34m\u001b[0m\u001b[0m\n\u001b[0m",
      "\u001b[0;32m~/.pyenv/versions/anaconda3-4.3.0/envs/needles/lib/python3.6/site-packages/keras/engine/topology.py\u001b[0m in \u001b[0;36msave\u001b[0;34m(self, filepath, overwrite, include_optimizer)\u001b[0m\n\u001b[1;32m   2551\u001b[0m         \"\"\"\n\u001b[1;32m   2552\u001b[0m         \u001b[0;32mfrom\u001b[0m \u001b[0;34m.\u001b[0m\u001b[0;34m.\u001b[0m\u001b[0mmodels\u001b[0m \u001b[0;32mimport\u001b[0m \u001b[0msave_model\u001b[0m\u001b[0;34m\u001b[0m\u001b[0m\n\u001b[0;32m-> 2553\u001b[0;31m         \u001b[0msave_model\u001b[0m\u001b[0;34m(\u001b[0m\u001b[0mself\u001b[0m\u001b[0;34m,\u001b[0m \u001b[0mfilepath\u001b[0m\u001b[0;34m,\u001b[0m \u001b[0moverwrite\u001b[0m\u001b[0;34m,\u001b[0m \u001b[0minclude_optimizer\u001b[0m\u001b[0;34m)\u001b[0m\u001b[0;34m\u001b[0m\u001b[0m\n\u001b[0m\u001b[1;32m   2554\u001b[0m \u001b[0;34m\u001b[0m\u001b[0m\n\u001b[1;32m   2555\u001b[0m     \u001b[0;32mdef\u001b[0m \u001b[0msave_weights\u001b[0m\u001b[0;34m(\u001b[0m\u001b[0mself\u001b[0m\u001b[0;34m,\u001b[0m \u001b[0mfilepath\u001b[0m\u001b[0;34m,\u001b[0m \u001b[0moverwrite\u001b[0m\u001b[0;34m=\u001b[0m\u001b[0;32mTrue\u001b[0m\u001b[0;34m)\u001b[0m\u001b[0;34m:\u001b[0m\u001b[0;34m\u001b[0m\u001b[0m\n",
      "\u001b[0;32m~/.pyenv/versions/anaconda3-4.3.0/envs/needles/lib/python3.6/site-packages/keras/models.py\u001b[0m in \u001b[0;36msave_model\u001b[0;34m(model, filepath, overwrite, include_optimizer)\u001b[0m\n\u001b[1;32m     54\u001b[0m \u001b[0;34m\u001b[0m\u001b[0m\n\u001b[1;32m     55\u001b[0m     \u001b[0;32mif\u001b[0m \u001b[0mh5py\u001b[0m \u001b[0;32mis\u001b[0m \u001b[0;32mNone\u001b[0m\u001b[0;34m:\u001b[0m\u001b[0;34m\u001b[0m\u001b[0m\n\u001b[0;32m---> 56\u001b[0;31m         \u001b[0;32mraise\u001b[0m \u001b[0mImportError\u001b[0m\u001b[0;34m(\u001b[0m\u001b[0;34m'`save_model` requires h5py.'\u001b[0m\u001b[0;34m)\u001b[0m\u001b[0;34m\u001b[0m\u001b[0m\n\u001b[0m\u001b[1;32m     57\u001b[0m \u001b[0;34m\u001b[0m\u001b[0m\n\u001b[1;32m     58\u001b[0m     \u001b[0;32mdef\u001b[0m \u001b[0mget_json_type\u001b[0m\u001b[0;34m(\u001b[0m\u001b[0mobj\u001b[0m\u001b[0;34m)\u001b[0m\u001b[0;34m:\u001b[0m\u001b[0;34m\u001b[0m\u001b[0m\n",
      "\u001b[0;31mImportError\u001b[0m: `save_model` requires h5py."
     ]
    }
   ],
   "source": [
    "import h5py\n",
    "from keras.models import load_model\n",
    "autoencoder.save('models/unet-AE.h5')"
   ]
  },
  {
   "cell_type": "markdown",
   "metadata": {},
   "source": [
    "## Testing"
   ]
  },
  {
   "cell_type": "code",
   "execution_count": 25,
   "metadata": {},
   "outputs": [
    {
     "name": "stdout",
     "output_type": "stream",
     "text": [
      "(1, 200, 200, 200, 1)\n",
      "21808\n"
     ]
    }
   ],
   "source": [
    "case = '074'\n",
    "label_name = '/home/gp1514/SSD/preprocessed_data/LabelMapsNEW2_1.00-1.00-1.00/%s/needles.nrrd'%case\n",
    "label_data, options = nrrd.read(label_name)\n",
    "tx,ty,tz = np.where(label_data == 1)\n",
    "X = np.load('prediction/%s.npy'%case)\n",
    "\n",
    "x = np.zeros((400,400,400)).astype('uint8')\n",
    "y = np.zeros((400,400,400)).astype('uint8')\n",
    "\n",
    "x[[X[:,0], X[:,1], X[:,2]]] = 1\n",
    "y[[tx,ty,tz]] = 1\n",
    "xtest = x[:SHAPE[0], :SHAPE[1], :SHAPE[2]]\n",
    "ytest = y[:SHAPE[0], :SHAPE[1], :SHAPE[2]]\n",
    "\n",
    "pred = autoencoder.predict(x=xtest.reshape(1,SHAPE[0], SHAPE[1], SHAPE[2],1))\n",
    "print(pred.shape)\n",
    "xs, ys, zs = np.where(pred[0,...,0]==1)\n",
    "x, y, z = np.where(ytest==1)\n",
    "print(np.sum(pred>0.1))\n",
    "# pred"
   ]
  },
  {
   "cell_type": "code",
   "execution_count": 26,
   "metadata": {},
   "outputs": [
    {
     "data": {
      "text/plain": [
       "0.79632778326433917"
      ]
     },
     "execution_count": 26,
     "metadata": {},
     "output_type": "execute_result"
    }
   ],
   "source": [
    "dice(pred,ytest)"
   ]
  },
  {
   "cell_type": "code",
   "execution_count": 27,
   "metadata": {},
   "outputs": [
    {
     "name": "stdout",
     "output_type": "stream",
     "text": [
      "High five! You successfuly sent some data to your account on plotly. View your plot in your browser at https://plot.ly/~gpernelle/0 or inside your plot.ly account where it is named 'simple-3d-scatter'\n"
     ]
    },
    {
     "data": {
      "text/html": [
       "<iframe id=\"igraph\" scrolling=\"no\" style=\"border:none;\" seamless=\"seamless\" src=\"https://plot.ly/~gpernelle/0.embed\" height=\"525px\" width=\"100%\"></iframe>"
      ],
      "text/plain": [
       "<plotly.tools.PlotlyDisplay object>"
      ]
     },
     "execution_count": 27,
     "metadata": {},
     "output_type": "execute_result"
    }
   ],
   "source": [
    "trace1 = go.Scatter3d(\n",
    "    x=x,\n",
    "    y=y,\n",
    "    z=z,\n",
    "    mode='markers',\n",
    "    marker=dict(\n",
    "        size=3,\n",
    "        line=dict(\n",
    "            color='green',\n",
    "            width=2\n",
    "        ),\n",
    "        opacity=0.3\n",
    "    )\n",
    ")\n",
    "\n",
    "trace2 = go.Scatter3d(\n",
    "    x=xs,\n",
    "    y=ys,\n",
    "    z=zs,\n",
    "    mode='markers',\n",
    "    marker=dict(\n",
    "        color='red',\n",
    "        size=3,\n",
    "        symbol='circle',\n",
    "        line=dict(\n",
    "            color='rgb(204, 204, 204)',\n",
    "            width=1\n",
    "        ),\n",
    "        opacity=0.3\n",
    "    )\n",
    ")\n",
    "data = [trace1, trace2]\n",
    "layout = go.Layout(\n",
    "    margin=dict(\n",
    "        l=0,\n",
    "        r=0,\n",
    "        b=0,\n",
    "        t=0\n",
    "    )\n",
    ")\n",
    "\n",
    "fig = go.Figure(data=data, layout=layout)\n",
    "py.iplot(fig, filename='simple-3d-scatter')"
   ]
  },
  {
   "cell_type": "code",
   "execution_count": 37,
   "metadata": {
    "collapsed": true
   },
   "outputs": [],
   "source": [
    "case=10\n",
    "X = np.load('prediction_subvolumes/x_%s.npy'%case)\n",
    "Y = np.load('prediction_subvolumes/y_%s.npy'%case)\n",
    "x = np.zeros((200,200,200))\n",
    "y = np.zeros((200,200,200))\n",
    "x[[X[:,0], X[:,1], X[:,2]]] = 1\n",
    "y[[Y[:,0], Y[:,1], Y[:,2]]] = 1\n",
    "xx = (x[:SHAPE[0], :SHAPE[1], :SHAPE[2]])\n",
    "yy = (y[:SHAPE[0], :SHAPE[1], :SHAPE[2]])"
   ]
  },
  {
   "cell_type": "code",
   "execution_count": 38,
   "metadata": {},
   "outputs": [
    {
     "data": {
      "text/plain": [
       "1471932"
      ]
     },
     "execution_count": 38,
     "metadata": {},
     "output_type": "execute_result"
    }
   ],
   "source": [
    "np.sum(Y)"
   ]
  },
  {
   "cell_type": "code",
   "execution_count": 39,
   "metadata": {},
   "outputs": [
    {
     "data": {
      "text/plain": [
       "0.77812593599520774"
      ]
     },
     "execution_count": 39,
     "metadata": {},
     "output_type": "execute_result"
    }
   ],
   "source": [
    "dice(xx,yy)"
   ]
  },
  {
   "cell_type": "code",
   "execution_count": 5,
   "metadata": {
    "collapsed": true
   },
   "outputs": [],
   "source": [
    "# image_name = '/home/gp1514/SSD/preprocessed_data/LabelMapsNEW2_1.00-1.00-1.00_synthetic_occulted_new/numpy/training_case831.npy'\n",
    "# label_name = '/home/gp1514/SSD/preprocessed_data/LabelMapsNEW2_1.00-1.00-1.00_synthetic_occulted_new/numpy/training_labelmap831.npy'\n",
    "# data = np.load(image_name)\n",
    "# label_data = np.load(label_name)"
   ]
  },
  {
   "cell_type": "code",
   "execution_count": 6,
   "metadata": {},
   "outputs": [
    {
     "data": {
      "text/plain": [
       "0.77363054813912235"
      ]
     },
     "execution_count": 6,
     "metadata": {},
     "output_type": "execute_result"
    }
   ],
   "source": [
    "dice(prediction, label_data)"
   ]
  },
  {
   "cell_type": "code",
   "execution_count": 7,
   "metadata": {},
   "outputs": [
    {
     "name": "stdout",
     "output_type": "stream",
     "text": [
      "Number of regions: 817\n",
      "1 1.16464669478 143\n",
      "2 1.69413118611 254\n",
      "3 2.75653816861 271\n",
      "4 2.22627113658 157\n",
      "5 1.70122839367 487\n",
      "6 1.1339726399 241\n",
      "7 1.1739844063 105\n",
      "8 1.20633406669 190\n",
      "9 1.21773331764 369\n",
      "10 1.22737532168 130\n",
      "11 1.13893731271 144\n",
      "12 1.2177035222 145\n",
      "13 1.4771532169 706\n",
      "14 1.09494129293 102\n",
      "15 2.95254678379 281\n",
      "16 2.59886672468 701\n",
      "17 1.91248214308 337\n",
      "18 1.19591432983 415\n",
      "19 2.2319504299 263\n",
      "20 1.05359213549 102\n",
      "21 1.06915015529 106\n",
      "22 1.33975957664 105\n",
      "23 2.08613400435 684\n",
      "24 1.97584304793 867\n",
      "25 1.29570554408 172\n",
      "26 1.43300573738 157\n",
      "27 2.13952962297 144\n",
      "28 1.7041465787 134\n",
      "29 1.41023546223 131\n",
      "30 1.91024777151 187\n",
      "31 5.71486458185 2375\n",
      "32 1.0579093242 174\n",
      "33 1.08515659246 162\n",
      "34 1.71480695721 112\n",
      "35 2.97174052751 535\n",
      "36 1.35257091197 217\n",
      "37 2.25076334156 382\n",
      "38 1.09321486413 270\n",
      "39 1.71331447339 413\n",
      "40 3.02712274889 874\n",
      "41 1.4697341907 138\n",
      "42 1.34105154463 169\n",
      "43 1.14220376308 107\n",
      "44 2.01992880794 429\n",
      "45 1.97009901754 121\n",
      "46 2.64223737395 723\n",
      "47 1.53525557151 382\n",
      "48 1.48630252835 120\n",
      "49 2.30227671703 237\n",
      "50 1.1527621622 147\n",
      "51 1.07534031844 106\n",
      "52 2.43436720173 227\n",
      "53 1.13466572626 144\n",
      "54 1.31976993608 257\n",
      "55 2.17928231713 689\n",
      "56 3.38588364048 547\n",
      "57 2.14740155138 418\n",
      "58 1.46959619439 115\n",
      "59 1.42802635649 152\n",
      "60 2.12331241617 235\n",
      "61 1.22674223715 128\n",
      "62 1.26756815672 135\n",
      "63 1.15428416701 111\n",
      "64 1.44564445434 199\n",
      "65 1.27137691591 142\n",
      "66 1.90734903401 433\n",
      "67 1.14574503642 374\n",
      "68 1.53143934159 234\n",
      "69 2.08835036668 494\n",
      "70 1.0612745443 133\n",
      "71 1.14696107562 129\n",
      "72 1.79059809871 953\n",
      "73 1.54128438911 256\n",
      "74 1.09412592858 102\n",
      "75 1.21068922437 126\n",
      "76 1.17520494239 333\n",
      "77 1.92668950823 566\n",
      "78 2.22919322707 423\n",
      "79 1.11076719634 120\n",
      "80 1.1882655077 235\n",
      "81 2.64448197587 258\n",
      "82 2.46495991055 2025\n",
      "83 2.01326930173 401\n",
      "84 1.34335148839 406\n",
      "85 2.03466209034 252\n",
      "86 1.87668367231 195\n",
      "87 2.73740823253 738\n",
      "88 9.95465052304 12037\n",
      "89 1.32222717576 117\n",
      "90 1.66960801234 166\n",
      "91 1.14653688492 253\n",
      "92 1.42692356604 217\n",
      "93 2.14152505179 631\n",
      "94 1.1970077319 142\n",
      "95 1.44336579486 159\n",
      "96 1.3293195025 112\n",
      "97 1.3532705764 130\n",
      "98 1.1146521644 140\n",
      "99 1.36833523531 163\n",
      "100 1.67973010409 1473\n",
      "101 1.17395585248 118\n",
      "102 1.26611210829 200\n",
      "103 2.14851378442 1434\n",
      "104 1.09726152621 204\n",
      "105 1.37764003598 341\n",
      "106 1.98648522639 182\n",
      "107 1.09264781959 101\n",
      "108 1.42413118869 149\n",
      "109 1.80659886252 119\n",
      "110 1.47459392357 399\n",
      "111 1.12327877474 242\n",
      "112 1.74237116249 685\n",
      "113 1.46688278583 145\n",
      "114 1.19321314376 151\n",
      "115 1.33784593914 372\n",
      "116 1.78210646423 238\n",
      "117 2.05422702489 274\n",
      "118 1.45442507667 101\n",
      "119 1.26586327895 229\n",
      "120 1.53781891208 185\n",
      "121 1.38761185049 192\n",
      "122 3.97559044421 521\n",
      "123 2.27232560118 319\n",
      "124 1.74131949721 720\n",
      "125 2.24683226664 645\n",
      "126 1.17865793508 102\n",
      "127 1.63661226345 437\n",
      "128 2.19766401618 294\n",
      "129 1.42722067968 136\n",
      "130 1.28210939682 125\n",
      "131 1.93302407599 617\n",
      "132 1.12401916113 112\n",
      "133 1.23296769513 152\n",
      "134 1.26484943046 104\n",
      "135 1.79999646449 240\n",
      "136 4.47147429302 1664\n",
      "137 1.09483911947 119\n",
      "138 1.10792580082 216\n",
      "139 1.83438291386 310\n",
      "140 2.83814836836 1639\n",
      "141 1.17933278453 115\n",
      "142 1.39523517004 302\n",
      "143 1.17314617389 121\n",
      "144 1.55280390978 126\n",
      "145 1.26704697004 141\n",
      "146 1.07080598431 112\n",
      "147 1.14303144501 184\n",
      "148 1.10942631211 122\n",
      "149 1.13650339706 255\n",
      "150 1.33256518479 369\n",
      "151 1.85654467171 285\n",
      "152 1.16022235673 102\n",
      "153 2.42503832947 277\n",
      "154 1.379586995 267\n",
      "155 1.19534754183 181\n",
      "156 2.23440696447 299\n",
      "157 0.959900351336 135\n",
      "158 2.21945587454 1106\n",
      "159 2.51787683608 695\n",
      "160 1.38980434942 178\n",
      "161 1.30667966046 388\n",
      "162 1.63509204694 340\n",
      "163 3.29639521299 996\n",
      "164 2.04121487089 242\n",
      "165 3.21922892941 837\n",
      "166 2.38484050606 348\n",
      "167 2.24007694781 677\n",
      "168 1.17028165549 117\n",
      "169 6.03149771034 1284\n",
      "170 0.938153655092 241\n",
      "171 1.00966783689 187\n",
      "172 1.86976483145 123\n",
      "173 1.59073993919 147\n",
      "174 1.61074178532 399\n",
      "175 1.57930171124 122\n",
      "176 1.56508154542 102\n",
      "177 2.00004005776 454\n",
      "178 1.8802314343 258\n",
      "179 6.06350855044 1832\n",
      "180 1.47505802882 146\n"
     ]
    }
   ],
   "source": [
    "islands = post_processing(prediction, min_area=int(100), max_residual=float(10))\n",
    "# islands.shape"
   ]
  },
  {
   "cell_type": "code",
   "execution_count": 33,
   "metadata": {
    "scrolled": false
   },
   "outputs": [
    {
     "name": "stdout",
     "output_type": "stream",
     "text": [
      "High five! You successfuly sent some data to your account on plotly. View your plot in your browser at https://plot.ly/~gpernelle/0 or inside your plot.ly account where it is named 'simple-3d-scatter'\n"
     ]
    },
    {
     "data": {
      "text/html": [
       "<iframe id=\"igraph\" scrolling=\"no\" style=\"border:none;\" seamless=\"seamless\" src=\"https://plot.ly/~gpernelle/0.embed\" height=\"525px\" width=\"100%\"></iframe>"
      ],
      "text/plain": [
       "<plotly.tools.PlotlyDisplay object>"
      ]
     },
     "execution_count": 33,
     "metadata": {},
     "output_type": "execute_result"
    }
   ],
   "source": [
    "import plotly.plotly as py\n",
    "import plotly.graph_objs as go\n",
    "x,y,z = np.where(yy == 1)\n",
    "xs,ys,zs = np.where(xx != 0)\n",
    "\n",
    "trace1 = go.Scatter3d(\n",
    "    x=x,\n",
    "    y=y,\n",
    "    z=z,\n",
    "    mode='markers',\n",
    "    marker=dict(\n",
    "        size=3,\n",
    "        line=dict(\n",
    "            color='green',\n",
    "            width=2\n",
    "        ),\n",
    "        opacity=0.3\n",
    "    )\n",
    ")\n",
    "\n",
    "trace2 = go.Scatter3d(\n",
    "    x=xs,\n",
    "    y=ys,\n",
    "    z=zs,\n",
    "    mode='markers',\n",
    "    marker=dict(\n",
    "        color='red',\n",
    "        size=3,\n",
    "        symbol='circle',\n",
    "        line=dict(\n",
    "            color='rgb(204, 204, 204)',\n",
    "            width=1\n",
    "        ),\n",
    "        opacity=0.3\n",
    "    )\n",
    ")\n",
    "data = [trace1, trace2]\n",
    "layout = go.Layout(\n",
    "    margin=dict(\n",
    "        l=0,\n",
    "        r=0,\n",
    "        b=0,\n",
    "        t=0\n",
    "    )\n",
    ")\n",
    "\n",
    "fig = go.Figure(data=data, layout=layout)\n",
    "py.iplot(fig, filename='simple-3d-scatter')"
   ]
  },
  {
   "cell_type": "code",
   "execution_count": 43,
   "metadata": {},
   "outputs": [
    {
     "ename": "IndexError",
     "evalue": "index 300 is out of bounds for axis 0 with size 300",
     "output_type": "error",
     "traceback": [
      "\u001b[0;31m---------------------------------------------------------------------------\u001b[0m",
      "\u001b[0;31mIndexError\u001b[0m                                Traceback (most recent call last)",
      "\u001b[0;32m<ipython-input-43-bab2f541f1fb>\u001b[0m in \u001b[0;36m<module>\u001b[0;34m()\u001b[0m\n\u001b[1;32m      1\u001b[0m \u001b[0mX\u001b[0m \u001b[0;34m=\u001b[0m \u001b[0mnp\u001b[0m\u001b[0;34m.\u001b[0m\u001b[0marray\u001b[0m\u001b[0;34m(\u001b[0m\u001b[0;34m[\u001b[0m\u001b[0mxs\u001b[0m\u001b[0;34m,\u001b[0m\u001b[0mys\u001b[0m\u001b[0;34m,\u001b[0m\u001b[0mzs\u001b[0m\u001b[0;34m]\u001b[0m\u001b[0;34m)\u001b[0m\u001b[0;34m.\u001b[0m\u001b[0mT\u001b[0m\u001b[0;34m\u001b[0m\u001b[0m\n\u001b[0;32m----> 2\u001b[0;31m \u001b[0mY\u001b[0m \u001b[0;34m=\u001b[0m \u001b[0mlabel_data\u001b[0m\u001b[0;34m[\u001b[0m\u001b[0;34m[\u001b[0m\u001b[0mxs\u001b[0m\u001b[0;34m,\u001b[0m\u001b[0mys\u001b[0m\u001b[0;34m,\u001b[0m\u001b[0mzs\u001b[0m\u001b[0;34m]\u001b[0m\u001b[0;34m]\u001b[0m\u001b[0;34m\u001b[0m\u001b[0m\n\u001b[0m",
      "\u001b[0;31mIndexError\u001b[0m: index 300 is out of bounds for axis 0 with size 300"
     ]
    }
   ],
   "source": [
    "X = np.array([xs,ys,zs]).T\n",
    "Y = label_data[[xs,ys,zs]]"
   ]
  },
  {
   "cell_type": "code",
   "execution_count": 34,
   "metadata": {},
   "outputs": [
    {
     "data": {
      "text/plain": [
       "(73993, 3)"
      ]
     },
     "execution_count": 34,
     "metadata": {},
     "output_type": "execute_result"
    }
   ],
   "source": [
    "X.shape"
   ]
  },
  {
   "cell_type": "code",
   "execution_count": 35,
   "metadata": {},
   "outputs": [
    {
     "data": {
      "text/plain": [
       "(73993,)"
      ]
     },
     "execution_count": 35,
     "metadata": {},
     "output_type": "execute_result"
    }
   ],
   "source": [
    "Y.shape"
   ]
  },
  {
   "cell_type": "code",
   "execution_count": 39,
   "metadata": {
    "collapsed": true
   },
   "outputs": [],
   "source": [
    "dtrain = xgb.DMatrix(X,label=Y)\n",
    "Xtest = xgb.DMatrix(X)"
   ]
  },
  {
   "cell_type": "code",
   "execution_count": 37,
   "metadata": {
    "collapsed": true
   },
   "outputs": [],
   "source": [
    "param = {'max_depth':2, 'eta':1, 'silent':1, 'objective':'binary:logistic' }\n",
    "param['eval_metric'] = 'auc'\n",
    "param['gpu_id'] = 0\n",
    "param['max_bin'] = 16\n",
    "param['tree_method'] = 'gpu_hist'\n"
   ]
  },
  {
   "cell_type": "code",
   "execution_count": 38,
   "metadata": {
    "collapsed": true
   },
   "outputs": [],
   "source": [
    "num_round = 10\n",
    "bst = xgb.train( param, dtrain, num_round )"
   ]
  },
  {
   "cell_type": "code",
   "execution_count": 42,
   "metadata": {},
   "outputs": [
    {
     "ename": "NameError",
     "evalue": "name 'Xtest' is not defined",
     "output_type": "error",
     "traceback": [
      "\u001b[0;31m---------------------------------------------------------------------------\u001b[0m",
      "\u001b[0;31mNameError\u001b[0m                                 Traceback (most recent call last)",
      "\u001b[0;32m<ipython-input-42-f564a093a125>\u001b[0m in \u001b[0;36m<module>\u001b[0;34m()\u001b[0m\n\u001b[0;32m----> 1\u001b[0;31m \u001b[0mpred\u001b[0m \u001b[0;34m=\u001b[0m \u001b[0mbst\u001b[0m\u001b[0;34m.\u001b[0m\u001b[0mpredict\u001b[0m\u001b[0;34m(\u001b[0m\u001b[0mXtest\u001b[0m\u001b[0;34m)\u001b[0m\u001b[0;34m\u001b[0m\u001b[0m\n\u001b[0m",
      "\u001b[0;31mNameError\u001b[0m: name 'Xtest' is not defined"
     ]
    }
   ],
   "source": [
    "pred = bst.predict(Xtest)"
   ]
  },
  {
   "cell_type": "code",
   "execution_count": 52,
   "metadata": {},
   "outputs": [
    {
     "data": {
      "text/plain": [
       "(3, 15094)"
      ]
     },
     "execution_count": 52,
     "metadata": {},
     "output_type": "execute_result"
    }
   ],
   "source": [
    "X[pred>0.5].T.shape"
   ]
  },
  {
   "cell_type": "code",
   "execution_count": 49,
   "metadata": {},
   "outputs": [
    {
     "data": {
      "text/plain": [
       "15094"
      ]
     },
     "execution_count": 49,
     "metadata": {},
     "output_type": "execute_result"
    }
   ],
   "source": [
    "np.sum(pred>0.5)"
   ]
  },
  {
   "cell_type": "code",
   "execution_count": 53,
   "metadata": {},
   "outputs": [
    {
     "name": "stdout",
     "output_type": "stream",
     "text": [
      "High five! You successfuly sent some data to your account on plotly. View your plot in your browser at https://plot.ly/~gpernelle/0 or inside your plot.ly account where it is named 'simple-3d-scatter'\n"
     ]
    },
    {
     "data": {
      "text/html": [
       "<iframe id=\"igraph\" scrolling=\"no\" style=\"border:none;\" seamless=\"seamless\" src=\"https://plot.ly/~gpernelle/0.embed\" height=\"525px\" width=\"100%\"></iframe>"
      ],
      "text/plain": [
       "<plotly.tools.PlotlyDisplay object>"
      ]
     },
     "execution_count": 53,
     "metadata": {},
     "output_type": "execute_result"
    }
   ],
   "source": [
    "x,y,z = np.where(label_data == 1)\n",
    "xs,ys,zs = X[pred>0.5].T\n",
    "\n",
    "trace1 = go.Scatter3d(\n",
    "    x=x,\n",
    "    y=y,\n",
    "    z=z,\n",
    "    mode='markers',\n",
    "    marker=dict(\n",
    "        size=3,\n",
    "        line=dict(\n",
    "            color='green',\n",
    "            width=2\n",
    "        ),\n",
    "        opacity=0.3\n",
    "    )\n",
    ")\n",
    "\n",
    "trace2 = go.Scatter3d(\n",
    "    x=xs,\n",
    "    y=ys,\n",
    "    z=zs,\n",
    "    mode='markers',\n",
    "    marker=dict(\n",
    "        color='red',\n",
    "        size=3,\n",
    "        symbol='circle',\n",
    "        line=dict(\n",
    "            color='rgb(204, 204, 204)',\n",
    "            width=1\n",
    "        ),\n",
    "        opacity=0.3\n",
    "    )\n",
    ")\n",
    "data = [trace1, trace2]\n",
    "layout = go.Layout(\n",
    "    margin=dict(\n",
    "        l=0,\n",
    "        r=0,\n",
    "        b=0,\n",
    "        t=0\n",
    "    )\n",
    ")\n",
    "\n",
    "fig = go.Figure(data=data, layout=layout)\n",
    "py.iplot(fig, filename='simple-3d-scatter')"
   ]
  },
  {
   "cell_type": "code",
   "execution_count": null,
   "metadata": {
    "collapsed": true
   },
   "outputs": [],
   "source": [
    "# %matplotlib notebook\n",
    "# xs,ys,zs = np.where(prediction == 1)\n",
    "\n",
    "# fig = plt.figure(figsize=(6,6))\n",
    "# ax = fig.add_subplot(111, projection='3d')\n",
    "# ax.scatter(xs, ys, zs, marker='o', alpha=0.1, s=1)\n",
    "# plt.show()\n",
    "\n",
    "# # fig = plt.figure(figsize=(6,6))\n",
    "# # ax = fig.add_subplot(111, projection='3d')\n",
    "# xs,ys,zs = np.where(label_data == 1)\n",
    "# ax.scatter(xs, ys, zs, marker='o',color='g', alpha=0.1, s=5)\n",
    "# plt.show()"
   ]
  },
  {
   "cell_type": "code",
   "execution_count": 48,
   "metadata": {
    "scrolled": true
   },
   "outputs": [
    {
     "name": "stderr",
     "output_type": "stream",
     "text": [
      "/mnt/DATA/gp1514/.pyenv/versions/anaconda3-4.4.0/envs/needles/lib/python3.6/site-packages/ipyvolume/serialize.py:29: RuntimeWarning: invalid value encountered in true_divide\n",
      "  gradient = gradient / np.sqrt(gradient[0]**2 + gradient[1]**2 + gradient[2]**2)\n",
      "/mnt/DATA/gp1514/.pyenv/versions/anaconda3-4.4.0/envs/needles/lib/python3.6/site-packages/ipyvolume/serialize.py:29: RuntimeWarning: invalid value encountered in true_divide\n",
      "  gradient = gradient / np.sqrt(gradient[0]**2 + gradient[1]**2 + gradient[2]**2)\n"
     ]
    },
    {
     "data": {
      "application/vnd.jupyter.widget-view+json": {
       "model_id": "691c59f04ce043ddbb5640f8e86d1f39"
      }
     },
     "metadata": {},
     "output_type": "display_data"
    }
   ],
   "source": [
    "import ipyvolume.pylab as p3\n",
    "p3.figure(figsize=(15,15))\n",
    "ipyvolume.quickvolshow(islands, opacity=1)\n",
    "ipyvolume.quickvolshow(label_data, opacity=1)"
   ]
  },
  {
   "cell_type": "code",
   "execution_count": 35,
   "metadata": {},
   "outputs": [
    {
     "data": {
      "application/vnd.jupyter.widget-view+json": {
       "model_id": "673c8791c9184766bdd701b5949ac948"
      }
     },
     "metadata": {},
     "output_type": "display_data"
    }
   ],
   "source": [
    "x,y,z = np.where(label_data == 1)\n",
    "ipyvolume.quickscatter(x,y,z, size=0.5, marker=\"sphere\", opacity=0.2)\n",
    "\n",
    "x,y,z = np.where(islands == 1)\n",
    "ipyvolume.quickscatter(x,y,z, size=0.5, marker=\"sphere\", opacity=0.2, color='blue')"
   ]
  },
  {
   "cell_type": "code",
   "execution_count": null,
   "metadata": {
    "collapsed": true
   },
   "outputs": [],
   "source": [
    "np.random.seed(1)\n",
    "islands = measure.label(prediction)\n",
    "K = np.max(islands)\n",
    "cp =sns.color_palette(\"Set2\", K)\n",
    "fig = plt.figure(figsize=(6,6))\n",
    "ax = fig.add_subplot(111, projection='3d')\n",
    "for j in range(1,K):\n",
    "    xs,ys,zs = np.where(islands == j)\n",
    "    ax.scatter(xs, ys, zs, marker='o',color=cp[j], alpha=0.9, s=2)\n",
    "plt.show()"
   ]
  },
  {
   "cell_type": "code",
   "execution_count": null,
   "metadata": {
    "collapsed": true
   },
   "outputs": [],
   "source": [
    "np.random.seed(1)\n",
    "islands = measure.label(label_data[i,...,0][44:-44,44:-44,44:-44])\n",
    "K = np.max(islands)\n",
    "cp =sns.color_palette(\"Set2\", K)\n",
    "fig = plt.figure(figsize=(6,6))\n",
    "ax = fig.add_subplot(111, projection='3d')\n",
    "for j in range(1,K):\n",
    "    xs,ys,zs = np.where(islands == j)\n",
    "    ax.scatter(xs, ys, zs, marker='o',color=cp[j], alpha=0.9, s=2)\n",
    "plt.show()"
   ]
  },
  {
   "cell_type": "code",
   "execution_count": null,
   "metadata": {
    "collapsed": true
   },
   "outputs": [],
   "source": [
    "image_name = '/mnt/DATA/gp1514/Dropbox/2016-paolo/preprocessed_data/LabelMapsNEW2_1.00-1.00-1.00/075/case.nrrd'\n",
    "label_name = '/mnt/DATA/gp1514/Dropbox/2016-paolo/preprocessed_data/LabelMapsNEW2_1.00-1.00-1.00/075/needles.nrrd'"
   ]
  },
  {
   "cell_type": "code",
   "execution_count": null,
   "metadata": {
    "collapsed": true
   },
   "outputs": [],
   "source": [
    "# print(img.shape)\n",
    "# print(data.shape)"
   ]
  },
  {
   "cell_type": "code",
   "execution_count": null,
   "metadata": {
    "collapsed": true
   },
   "outputs": [],
   "source": [
    "# data.shape"
   ]
  },
  {
   "cell_type": "code",
   "execution_count": null,
   "metadata": {
    "collapsed": true
   },
   "outputs": [],
   "source": [
    "tiles = (148,148,148)\n",
    "tile = 148"
   ]
  },
  {
   "cell_type": "code",
   "execution_count": null,
   "metadata": {
    "collapsed": true
   },
   "outputs": [],
   "source": [
    "data, options = nrrd.read(image_name)\n",
    "data = data.astype(np.float32)\n",
    "print(data.shape)\n",
    "d = data.resize(max(data.shape[0],tile),\n",
    "               max(data.shape[1],tile),\n",
    "               max(data.shape[2],tile))\n",
    "print(data.shape)\n",
    "print(options)"
   ]
  },
  {
   "cell_type": "markdown",
   "metadata": {},
   "source": [
    "## Inference pipeline"
   ]
  },
  {
   "cell_type": "code",
   "execution_count": null,
   "metadata": {
    "collapsed": true
   },
   "outputs": [],
   "source": [
    "arr_data = cutVolume(data)\n",
    "arr_pred = predict_full_volume(net, arr_data, model_path=\"./unet_trained/model 99.cpkt\")\n",
    "full_pred = recombine(arr_pred, data)"
   ]
  },
  {
   "cell_type": "code",
   "execution_count": null,
   "metadata": {
    "collapsed": true
   },
   "outputs": [],
   "source": [
    "def post_processing(full_pred, min_area=150, max_residual=10):\n",
    "    ''' Clustering + removing small clusters + keeping only line-looking clusters'''\n",
    "    islands_ = measure.label(full_pred)\n",
    "    regions = measure.regionprops(islands_)\n",
    "    islands = np.zeros_like(full_pred, dtype=np.uint8)\n",
    "    K = len(regions)\n",
    "    print('Number of regions: %d' % K)\n",
    "    i=0\n",
    "    for k in range(K):\n",
    "        region = regions[k]\n",
    "        coords = region.coords\n",
    "        if region.area > min_area:\n",
    "            lm = measure.LineModelND()\n",
    "            lm.estimate(coords)\n",
    "            res = lm.residuals(coords)\n",
    "            mean_res = np.mean(res)\n",
    "            if mean_res < max_residual:\n",
    "                i+=1\n",
    "                print(k, i, mean_res, np.std(res), region.area)\n",
    "                for x,y,z in coords:\n",
    "                    islands[x,y,z] = i\n"
   ]
  },
  {
   "cell_type": "code",
   "execution_count": null,
   "metadata": {
    "collapsed": true
   },
   "outputs": [],
   "source": [
    "islands = post_processing(full_pred)"
   ]
  },
  {
   "cell_type": "code",
   "execution_count": null,
   "metadata": {
    "collapsed": true
   },
   "outputs": [],
   "source": [
    "islands_ = measure.label(full_pred)\n",
    "regions = measure.regionprops(islands_)\n",
    "region = regions[691]\n",
    "lm = measure.LineModelND()\n",
    "lm.estimate(region.coords)\n",
    "res = lm.residuals(region.coords)\n",
    "res\n",
    "K = np.max(islands)\n",
    "cp = sns.color_palette(\"Set2\", K)\n",
    "fig = plt.figure(figsize=(6,6))\n",
    "ax = fig.add_subplot(111, projection='3d')\n",
    "\n",
    "xs,ys,zs = region.coords.T\n",
    "ax.scatter(xs, ys, zs, marker='o',color=cp[j], alpha=0.9, s=2)\n",
    "plt.show()"
   ]
  },
  {
   "cell_type": "code",
   "execution_count": null,
   "metadata": {
    "collapsed": true
   },
   "outputs": [],
   "source": [
    "print(np.unique(islands, return_counts=True))"
   ]
  },
  {
   "cell_type": "code",
   "execution_count": null,
   "metadata": {
    "collapsed": true
   },
   "outputs": [],
   "source": [
    "# islands = measure.label(full_pred)\n",
    "K = np.max(islands)\n",
    "cp = sns.color_palette(\"Set2\", K)\n",
    "fig = plt.figure(figsize=(6,6))\n",
    "ax = fig.add_subplot(111, projection='3d')\n",
    "for j in range(1,K):\n",
    "    xs,ys,zs = np.where(islands == j)\n",
    "    ax.scatter(xs, ys, zs, marker='o',color=cp[j], alpha=0.9, s=2)\n",
    "plt.show()"
   ]
  },
  {
   "cell_type": "code",
   "execution_count": null,
   "metadata": {
    "collapsed": true
   },
   "outputs": [],
   "source": [
    "nrrd.write('test75.nrrd', islands, options=options)"
   ]
  },
  {
   "cell_type": "code",
   "execution_count": null,
   "metadata": {
    "collapsed": true
   },
   "outputs": [],
   "source": [
    "islands.shape\n",
    "print(np.unique(islands, return_counts=True))"
   ]
  },
  {
   "cell_type": "code",
   "execution_count": null,
   "metadata": {
    "collapsed": true
   },
   "outputs": [],
   "source": [
    "image_name = '/mnt/DATA/gp1514/Dropbox/2016-paolo/preprocessed_data/LabelMapsNEW2_1.00-1.00-1.00/074/needles.nrrd'\n",
    "data, options = nrrd.read(image_name)\n",
    "data = data.astype(np.int8)"
   ]
  },
  {
   "cell_type": "code",
   "execution_count": null,
   "metadata": {
    "collapsed": true
   },
   "outputs": [],
   "source": [
    "arr_labels = cutVolume(data)"
   ]
  },
  {
   "cell_type": "code",
   "execution_count": null,
   "metadata": {
    "collapsed": true
   },
   "outputs": [],
   "source": [
    "# '''\n",
    "# EXPORT\n",
    "# '''\n",
    "\n",
    "# with tf.Graph().as_default():\n",
    "#         # Inject placeholder into the graph\n",
    "#         serialized_tf_example = tf.placeholder(tf.string, name='input_image')\n",
    "#         feature_configs = {'data': tf.FixedLenFeature(shape=[1,148,148,148,1], dtype=tf.float32),}\n",
    "#         tf_example = tf.parse_example(serialized_tf_example, feature_configs)\n",
    "#         x_test = tf_example['data']\n",
    "#         # now the image shape is (1,148,148,148,1)\n",
    "\n",
    "#         # Create UNET model\n",
    "#         net = Unet(channels=1, n_class=1, layers=4, pool_size=2, features_root=16, summaries=True)\n",
    "#         # Create saver to restore from checkpoints\n",
    "#         saver = tf.train.Saver()\n",
    "\n",
    "#         with tf.Session() as sess:\n",
    "            \n",
    "#             # Restore the model from last checkpoints\n",
    "#             saver.restore(sess, \"./unet_trained/model 99.cpkt\")\n",
    "            \n",
    "            \n",
    "#             y_dummy = np.empty((1,148,148,148,1))\n",
    "\n",
    "#             # (re-)create export directory\n",
    "#             export_path = './export/'\n",
    "#             if os.path.exists(export_path):\n",
    "#                 shutil.rmtree(export_path)\n",
    "\n",
    "#             # create model builder\n",
    "#             builder = tf.saved_model.builder.SavedModelBuilder(export_path)\n",
    "\n",
    "#             # create tensors info\n",
    "#             predict_tensor_inputs_info = tf.saved_model.utils.build_tensor_info(x_test)\n",
    "#             predict_tensor_scores_info = tf.saved_model.utils.build_tensor_info(net.predicter_label)\n",
    "\n",
    "#             # build prediction signature\n",
    "#             prediction_signature = (\n",
    "#                 tf.saved_model.signature_def_utils.build_signature_def(\n",
    "#                     inputs={'images': predict_tensor_inputs_info},\n",
    "#                     outputs={'scores': predict_tensor_scores_info},\n",
    "#                     method_name=tf.saved_model.signature_constants.PREDICT_METHOD_NAME\n",
    "#                 )\n",
    "#             )\n",
    "\n",
    "#             # save the model\n",
    "#             legacy_init_op = tf.group(tf.tables_initializer(), name='legacy_init_op')\n",
    "#             builder.add_meta_graph_and_variables(\n",
    "#                 sess, [tf.saved_model.tag_constants.SERVING],\n",
    "#                 signature_def_map={\n",
    "#                     'predict_images': prediction_signature\n",
    "#                 },\n",
    "#                 legacy_init_op=legacy_init_op)\n",
    "\n",
    "#             builder.save()\n",
    "\n",
    "# print(\"Successfully exported UNET model\")"
   ]
  },
  {
   "cell_type": "code",
   "execution_count": 133,
   "metadata": {},
   "outputs": [],
   "source": [
    "import sounddevice as sd\n",
    "\n",
    "sd.default.samplerate = fs = 44100\n",
    "\n",
    "time = 10.0\n",
    "frequency = 440\n",
    "A = 10000\n",
    "\n",
    "# Generate time of samples between 0 and two seconds\n",
    "samples = np.arange(44100 * time) / 44100.0\n",
    "# Recall that a sinusoidal wave of frequency f has formula w(t) = A*sin(2*pi*f*t)\n",
    "wave = A * np.sin(2 * np.pi * frequency * samples)\n",
    "wave = A * np.random.uniform(-1, 1, int(fs*time))\n",
    "# Convert it to wav format (16 bits)\n",
    "wav_wave = np.array(wave, dtype=np.int16)\n",
    "\n",
    "sd.play(wav_wave, blocking=True)"
   ]
  },
  {
   "cell_type": "code",
   "execution_count": 189,
   "metadata": {},
   "outputs": [],
   "source": [
    "def CWN(time):\n",
    "    fs = 1000\n",
    "    sd.default.samplerate = fs\n",
    "\n",
    "    frequency = 440\n",
    "    A = 10000\n",
    "\n",
    "    # Generate time of samples between 0 and two seconds\n",
    "    samples = np.arange(fs * time) / fs\n",
    "    # Recall that a sinusoidal wave of frequency f has formula w(t) = A*sin(2*pi*f*t)\n",
    "    # wave = A * np.sin(2 * np.pi * frequency * samples)\n",
    "    wave = A * np.random.uniform(-1, 1, int(fs*time))\n",
    "    # Convert it to wav format (16 bits)\n",
    "    wav_wave = np.array(wave, dtype=np.int16)\n",
    "    sd.play(wav_wave, blocking=True)\n",
    "    return wave\n",
    "\n",
    "def OWN(time, freq=12):\n",
    "    fs = 1000\n",
    "    sd.default.samplerate = fs\n",
    "    \n",
    "    # Generate time of samples between 0 and two seconds\n",
    "    samples = np.arange(fs * time) / fs\n",
    "    \n",
    "    A = 8000 * 0.5 *(1+np.sin(2*np.pi*freq*samples)) + 2000\n",
    "\n",
    "    \n",
    "    # Recall that a sinusoidal wave of frequency f has formula w(t) = A*sin(2*pi*f*t)\n",
    "    # wave = A * np.sin(2 * np.pi * frequency * samples)\n",
    "    wave = A * np.random.uniform(-1, 1, int(fs*time))\n",
    "    # Convert it to wav format (16 bits)\n",
    "    wav_wave = np.array(wave, dtype=np.int16)\n",
    "    sd.play(wav_wave, blocking=True)\n",
    "    return wave\n",
    "\n",
    "def movingaverage(values, window):\n",
    "    weigths = np.repeat(1.0, window) / window\n",
    "    smas = np.convolve(values, weigths, 'valid')\n",
    "    return smas  # as a numpy array\n",
    "\n",
    "\n",
    "def genInput(freq=12, rep=5):\n",
    "    return np.concatenate([ np.concatenate([OWN(2, freq), CWN(8)]) for i in range(rep)])"
   ]
  },
  {
   "cell_type": "code",
   "execution_count": 168,
   "metadata": {
    "collapsed": true
   },
   "outputs": [],
   "source": [
    "w = OWN(15, freq=15)"
   ]
  },
  {
   "cell_type": "code",
   "execution_count": 166,
   "metadata": {},
   "outputs": [
    {
     "data": {
      "text/plain": [
       "(0, 1000)"
      ]
     },
     "execution_count": 166,
     "metadata": {},
     "output_type": "execute_result"
    },
    {
     "data": {
      "image/png": "[encoded data removed]",
      "text/plain": [
       "<matplotlib.figure.Figure at 0x7f94ed53bc88>"
      ]
     },
     "metadata": {},
     "output_type": "display_data"
    }
   ],
   "source": [
    "f(15,4)\n",
    "plt.plot(w)\n",
    "plt.xlim([0,1000])"
   ]
  },
  {
   "cell_type": "code",
   "execution_count": 190,
   "metadata": {},
   "outputs": [
    {
     "ename": "KeyboardInterrupt",
     "evalue": "",
     "output_type": "error",
     "traceback": [
      "\u001b[0;31m---------------------------------------------------------------------------\u001b[0m",
      "\u001b[0;31mKeyboardInterrupt\u001b[0m                         Traceback (most recent call last)",
      "\u001b[0;32m<ipython-input-190-e35088e6c21d>\u001b[0m in \u001b[0;36m<module>\u001b[0;34m()\u001b[0m\n\u001b[0;32m----> 1\u001b[0;31m \u001b[0mw\u001b[0m \u001b[0;34m=\u001b[0m \u001b[0mgenInput\u001b[0m\u001b[0;34m(\u001b[0m\u001b[0;34m)\u001b[0m\u001b[0;34m\u001b[0m\u001b[0m\n\u001b[0m\u001b[1;32m      2\u001b[0m \u001b[0mlen\u001b[0m\u001b[0;34m(\u001b[0m\u001b[0mw\u001b[0m\u001b[0;34m)\u001b[0m\u001b[0;34m\u001b[0m\u001b[0m\n\u001b[1;32m      3\u001b[0m \u001b[0mf\u001b[0m\u001b[0;34m(\u001b[0m\u001b[0;36m15\u001b[0m\u001b[0;34m,\u001b[0m\u001b[0;36m4\u001b[0m\u001b[0;34m)\u001b[0m\u001b[0;34m\u001b[0m\u001b[0m\n\u001b[1;32m      4\u001b[0m \u001b[0mplt\u001b[0m\u001b[0;34m.\u001b[0m\u001b[0mplot\u001b[0m\u001b[0;34m(\u001b[0m\u001b[0mw\u001b[0m\u001b[0;34m)\u001b[0m\u001b[0;34m\u001b[0m\u001b[0m\n\u001b[1;32m      5\u001b[0m \u001b[0mplt\u001b[0m\u001b[0;34m.\u001b[0m\u001b[0mxlim\u001b[0m\u001b[0;34m(\u001b[0m\u001b[0;34m[\u001b[0m\u001b[0;36m0\u001b[0m\u001b[0;34m,\u001b[0m\u001b[0;36m10000\u001b[0m\u001b[0;34m]\u001b[0m\u001b[0;34m)\u001b[0m\u001b[0;34m\u001b[0m\u001b[0m\n",
      "\u001b[0;32m<ipython-input-189-a4a5152562a5>\u001b[0m in \u001b[0;36mgenInput\u001b[0;34m(freq, rep)\u001b[0m\n\u001b[1;32m     41\u001b[0m \u001b[0;34m\u001b[0m\u001b[0m\n\u001b[1;32m     42\u001b[0m \u001b[0;32mdef\u001b[0m \u001b[0mgenInput\u001b[0m\u001b[0;34m(\u001b[0m\u001b[0mfreq\u001b[0m\u001b[0;34m=\u001b[0m\u001b[0;36m12\u001b[0m\u001b[0;34m,\u001b[0m \u001b[0mrep\u001b[0m\u001b[0;34m=\u001b[0m\u001b[0;36m5\u001b[0m\u001b[0;34m)\u001b[0m\u001b[0;34m:\u001b[0m\u001b[0;34m\u001b[0m\u001b[0m\n\u001b[0;32m---> 43\u001b[0;31m     \u001b[0;32mreturn\u001b[0m \u001b[0mmovingaverage\u001b[0m\u001b[0;34m(\u001b[0m\u001b[0mnp\u001b[0m\u001b[0;34m.\u001b[0m\u001b[0mconcatenate\u001b[0m\u001b[0;34m(\u001b[0m\u001b[0;34m[\u001b[0m \u001b[0mnp\u001b[0m\u001b[0;34m.\u001b[0m\u001b[0mconcatenate\u001b[0m\u001b[0;34m(\u001b[0m\u001b[0;34m[\u001b[0m\u001b[0mOWN\u001b[0m\u001b[0;34m(\u001b[0m\u001b[0;36m2\u001b[0m\u001b[0;34m,\u001b[0m \u001b[0mfreq\u001b[0m\u001b[0;34m)\u001b[0m\u001b[0;34m,\u001b[0m \u001b[0mCWN\u001b[0m\u001b[0;34m(\u001b[0m\u001b[0;36m8\u001b[0m\u001b[0;34m)\u001b[0m\u001b[0;34m]\u001b[0m\u001b[0;34m)\u001b[0m \u001b[0;32mfor\u001b[0m \u001b[0mi\u001b[0m \u001b[0;32min\u001b[0m \u001b[0mrange\u001b[0m\u001b[0;34m(\u001b[0m\u001b[0mrep\u001b[0m\u001b[0;34m)\u001b[0m\u001b[0;34m]\u001b[0m\u001b[0;34m)\u001b[0m\u001b[0;34m,\u001b[0m\u001b[0;36m4\u001b[0m\u001b[0;34m)\u001b[0m\u001b[0;34m\u001b[0m\u001b[0m\n\u001b[0m",
      "\u001b[0;32m<ipython-input-189-a4a5152562a5>\u001b[0m in \u001b[0;36m<listcomp>\u001b[0;34m(.0)\u001b[0m\n\u001b[1;32m     41\u001b[0m \u001b[0;34m\u001b[0m\u001b[0m\n\u001b[1;32m     42\u001b[0m \u001b[0;32mdef\u001b[0m \u001b[0mgenInput\u001b[0m\u001b[0;34m(\u001b[0m\u001b[0mfreq\u001b[0m\u001b[0;34m=\u001b[0m\u001b[0;36m12\u001b[0m\u001b[0;34m,\u001b[0m \u001b[0mrep\u001b[0m\u001b[0;34m=\u001b[0m\u001b[0;36m5\u001b[0m\u001b[0;34m)\u001b[0m\u001b[0;34m:\u001b[0m\u001b[0;34m\u001b[0m\u001b[0m\n\u001b[0;32m---> 43\u001b[0;31m     \u001b[0;32mreturn\u001b[0m \u001b[0mmovingaverage\u001b[0m\u001b[0;34m(\u001b[0m\u001b[0mnp\u001b[0m\u001b[0;34m.\u001b[0m\u001b[0mconcatenate\u001b[0m\u001b[0;34m(\u001b[0m\u001b[0;34m[\u001b[0m \u001b[0mnp\u001b[0m\u001b[0;34m.\u001b[0m\u001b[0mconcatenate\u001b[0m\u001b[0;34m(\u001b[0m\u001b[0;34m[\u001b[0m\u001b[0mOWN\u001b[0m\u001b[0;34m(\u001b[0m\u001b[0;36m2\u001b[0m\u001b[0;34m,\u001b[0m \u001b[0mfreq\u001b[0m\u001b[0;34m)\u001b[0m\u001b[0;34m,\u001b[0m \u001b[0mCWN\u001b[0m\u001b[0;34m(\u001b[0m\u001b[0;36m8\u001b[0m\u001b[0;34m)\u001b[0m\u001b[0;34m]\u001b[0m\u001b[0;34m)\u001b[0m \u001b[0;32mfor\u001b[0m \u001b[0mi\u001b[0m \u001b[0;32min\u001b[0m \u001b[0mrange\u001b[0m\u001b[0;34m(\u001b[0m\u001b[0mrep\u001b[0m\u001b[0;34m)\u001b[0m\u001b[0;34m]\u001b[0m\u001b[0;34m)\u001b[0m\u001b[0;34m,\u001b[0m\u001b[0;36m4\u001b[0m\u001b[0;34m)\u001b[0m\u001b[0;34m\u001b[0m\u001b[0m\n\u001b[0m",
      "\u001b[0;32m<ipython-input-189-a4a5152562a5>\u001b[0m in \u001b[0;36mCWN\u001b[0;34m(time)\u001b[0m\n\u001b[1;32m     13\u001b[0m     \u001b[0;31m# Convert it to wav format (16 bits)\u001b[0m\u001b[0;34m\u001b[0m\u001b[0;34m\u001b[0m\u001b[0m\n\u001b[1;32m     14\u001b[0m     \u001b[0mwav_wave\u001b[0m \u001b[0;34m=\u001b[0m \u001b[0mnp\u001b[0m\u001b[0;34m.\u001b[0m\u001b[0marray\u001b[0m\u001b[0;34m(\u001b[0m\u001b[0mwave\u001b[0m\u001b[0;34m,\u001b[0m \u001b[0mdtype\u001b[0m\u001b[0;34m=\u001b[0m\u001b[0mnp\u001b[0m\u001b[0;34m.\u001b[0m\u001b[0mint16\u001b[0m\u001b[0;34m)\u001b[0m\u001b[0;34m\u001b[0m\u001b[0m\n\u001b[0;32m---> 15\u001b[0;31m     \u001b[0msd\u001b[0m\u001b[0;34m.\u001b[0m\u001b[0mplay\u001b[0m\u001b[0;34m(\u001b[0m\u001b[0mwav_wave\u001b[0m\u001b[0;34m,\u001b[0m \u001b[0mblocking\u001b[0m\u001b[0;34m=\u001b[0m\u001b[0;32mTrue\u001b[0m\u001b[0;34m)\u001b[0m\u001b[0;34m\u001b[0m\u001b[0m\n\u001b[0m\u001b[1;32m     16\u001b[0m     \u001b[0;32mreturn\u001b[0m \u001b[0mwave\u001b[0m\u001b[0;34m\u001b[0m\u001b[0m\n\u001b[1;32m     17\u001b[0m \u001b[0;34m\u001b[0m\u001b[0m\n",
      "\u001b[0;32m~/.pyenv/versions/anaconda3-4.3.0/envs/needles/lib/python3.6/site-packages/sounddevice.py\u001b[0m in \u001b[0;36mplay\u001b[0;34m(data, samplerate, mapping, blocking, loop, **kwargs)\u001b[0m\n\u001b[1;32m    419\u001b[0m                      \u001b[0mctx\u001b[0m\u001b[0;34m.\u001b[0m\u001b[0moutput_dtype\u001b[0m\u001b[0;34m,\u001b[0m \u001b[0mcallback\u001b[0m\u001b[0;34m,\u001b[0m \u001b[0mblocking\u001b[0m\u001b[0;34m,\u001b[0m\u001b[0;34m\u001b[0m\u001b[0m\n\u001b[1;32m    420\u001b[0m                      \u001b[0mprime_output_buffers_using_stream_callback\u001b[0m\u001b[0;34m=\u001b[0m\u001b[0;32mFalse\u001b[0m\u001b[0;34m,\u001b[0m\u001b[0;34m\u001b[0m\u001b[0m\n\u001b[0;32m--> 421\u001b[0;31m                      **kwargs)\n\u001b[0m\u001b[1;32m    422\u001b[0m \u001b[0;34m\u001b[0m\u001b[0m\n\u001b[1;32m    423\u001b[0m \u001b[0;34m\u001b[0m\u001b[0m\n",
      "\u001b[0;32m~/.pyenv/versions/anaconda3-4.3.0/envs/needles/lib/python3.6/site-packages/sounddevice.py\u001b[0m in \u001b[0;36mstart_stream\u001b[0;34m(self, StreamClass, samplerate, channels, dtype, callback, blocking, **kwargs)\u001b[0m\n\u001b[1;32m   2677\u001b[0m         \u001b[0m_last_callback\u001b[0m \u001b[0;34m=\u001b[0m \u001b[0mself\u001b[0m\u001b[0;34m\u001b[0m\u001b[0m\n\u001b[1;32m   2678\u001b[0m         \u001b[0;32mif\u001b[0m \u001b[0mblocking\u001b[0m\u001b[0;34m:\u001b[0m\u001b[0;34m\u001b[0m\u001b[0m\n\u001b[0;32m-> 2679\u001b[0;31m             \u001b[0mself\u001b[0m\u001b[0;34m.\u001b[0m\u001b[0mwait\u001b[0m\u001b[0;34m(\u001b[0m\u001b[0;34m)\u001b[0m\u001b[0;34m\u001b[0m\u001b[0m\n\u001b[0m\u001b[1;32m   2680\u001b[0m \u001b[0;34m\u001b[0m\u001b[0m\n\u001b[1;32m   2681\u001b[0m     \u001b[0;32mdef\u001b[0m \u001b[0mwait\u001b[0m\u001b[0;34m(\u001b[0m\u001b[0mself\u001b[0m\u001b[0;34m,\u001b[0m \u001b[0mignore_errors\u001b[0m\u001b[0;34m=\u001b[0m\u001b[0;32mTrue\u001b[0m\u001b[0;34m)\u001b[0m\u001b[0;34m:\u001b[0m\u001b[0;34m\u001b[0m\u001b[0m\n",
      "\u001b[0;32m~/.pyenv/versions/anaconda3-4.3.0/envs/needles/lib/python3.6/site-packages/sounddevice.py\u001b[0m in \u001b[0;36mwait\u001b[0;34m(self, ignore_errors)\u001b[0m\n\u001b[1;32m   2686\u001b[0m         \"\"\"\n\u001b[1;32m   2687\u001b[0m         \u001b[0;32mtry\u001b[0m\u001b[0;34m:\u001b[0m\u001b[0;34m\u001b[0m\u001b[0m\n\u001b[0;32m-> 2688\u001b[0;31m             \u001b[0mself\u001b[0m\u001b[0;34m.\u001b[0m\u001b[0mevent\u001b[0m\u001b[0;34m.\u001b[0m\u001b[0mwait\u001b[0m\u001b[0;34m(\u001b[0m\u001b[0;34m)\u001b[0m\u001b[0;34m\u001b[0m\u001b[0m\n\u001b[0m\u001b[1;32m   2689\u001b[0m         \u001b[0;32mfinally\u001b[0m\u001b[0;34m:\u001b[0m\u001b[0;34m\u001b[0m\u001b[0m\n\u001b[1;32m   2690\u001b[0m             \u001b[0mself\u001b[0m\u001b[0;34m.\u001b[0m\u001b[0mstream\u001b[0m\u001b[0;34m.\u001b[0m\u001b[0mclose\u001b[0m\u001b[0;34m(\u001b[0m\u001b[0mignore_errors\u001b[0m\u001b[0;34m)\u001b[0m\u001b[0;34m\u001b[0m\u001b[0m\n",
      "\u001b[0;32m~/.pyenv/versions/anaconda3-4.3.0/envs/needles/lib/python3.6/threading.py\u001b[0m in \u001b[0;36mwait\u001b[0;34m(self, timeout)\u001b[0m\n\u001b[1;32m    549\u001b[0m             \u001b[0msignaled\u001b[0m \u001b[0;34m=\u001b[0m \u001b[0mself\u001b[0m\u001b[0;34m.\u001b[0m\u001b[0m_flag\u001b[0m\u001b[0;34m\u001b[0m\u001b[0m\n\u001b[1;32m    550\u001b[0m             \u001b[0;32mif\u001b[0m \u001b[0;32mnot\u001b[0m \u001b[0msignaled\u001b[0m\u001b[0;34m:\u001b[0m\u001b[0;34m\u001b[0m\u001b[0m\n\u001b[0;32m--> 551\u001b[0;31m                 \u001b[0msignaled\u001b[0m \u001b[0;34m=\u001b[0m \u001b[0mself\u001b[0m\u001b[0;34m.\u001b[0m\u001b[0m_cond\u001b[0m\u001b[0;34m.\u001b[0m\u001b[0mwait\u001b[0m\u001b[0;34m(\u001b[0m\u001b[0mtimeout\u001b[0m\u001b[0;34m)\u001b[0m\u001b[0;34m\u001b[0m\u001b[0m\n\u001b[0m\u001b[1;32m    552\u001b[0m             \u001b[0;32mreturn\u001b[0m \u001b[0msignaled\u001b[0m\u001b[0;34m\u001b[0m\u001b[0m\n\u001b[1;32m    553\u001b[0m \u001b[0;34m\u001b[0m\u001b[0m\n",
      "\u001b[0;32m~/.pyenv/versions/anaconda3-4.3.0/envs/needles/lib/python3.6/threading.py\u001b[0m in \u001b[0;36mwait\u001b[0;34m(self, timeout)\u001b[0m\n\u001b[1;32m    293\u001b[0m         \u001b[0;32mtry\u001b[0m\u001b[0;34m:\u001b[0m    \u001b[0;31m# restore state no matter what (e.g., KeyboardInterrupt)\u001b[0m\u001b[0;34m\u001b[0m\u001b[0m\n\u001b[1;32m    294\u001b[0m             \u001b[0;32mif\u001b[0m \u001b[0mtimeout\u001b[0m \u001b[0;32mis\u001b[0m \u001b[0;32mNone\u001b[0m\u001b[0;34m:\u001b[0m\u001b[0;34m\u001b[0m\u001b[0m\n\u001b[0;32m--> 295\u001b[0;31m                 \u001b[0mwaiter\u001b[0m\u001b[0;34m.\u001b[0m\u001b[0macquire\u001b[0m\u001b[0;34m(\u001b[0m\u001b[0;34m)\u001b[0m\u001b[0;34m\u001b[0m\u001b[0m\n\u001b[0m\u001b[1;32m    296\u001b[0m                 \u001b[0mgotit\u001b[0m \u001b[0;34m=\u001b[0m \u001b[0;32mTrue\u001b[0m\u001b[0;34m\u001b[0m\u001b[0m\n\u001b[1;32m    297\u001b[0m             \u001b[0;32melse\u001b[0m\u001b[0;34m:\u001b[0m\u001b[0;34m\u001b[0m\u001b[0m\n",
      "\u001b[0;31mKeyboardInterrupt\u001b[0m: "
     ]
    }
   ],
   "source": [
    "w = genInput()\n",
    "len(w)\n",
    "f(15,4)\n",
    "plt.plot(w)\n",
    "plt.xlim([0,10000])"
   ]
  },
  {
   "cell_type": "code",
   "execution_count": null,
   "metadata": {
    "collapsed": true
   },
   "outputs": [],
   "source": []
  }
 ],
 "metadata": {
  "anaconda-cloud": {},
  "kernelspec": {
   "display_name": "Python 3",
   "language": "python",
   "name": "python3"
  },
  "language_info": {
   "codemirror_mode": {
    "name": "ipython",
    "version": 3
   },
   "file_extension": ".py",
   "mimetype": "text/x-python",
   "name": "python",
   "nbconvert_exporter": "python",
   "pygments_lexer": "ipython3",
   "version": "3.6.2"
  }
 },
 "nbformat": 4,
 "nbformat_minor": 1
}
