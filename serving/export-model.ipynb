{
 "cells": [
  {
   "cell_type": "code",
   "execution_count": 1,
   "metadata": {
    "collapsed": true
   },
   "outputs": [],
   "source": [
    "%matplotlib inline\n",
    "%load_ext autoreload\n",
    "%autoreload 2\n",
    "from fns import *\n",
    "from syntheticdata import synthetic_generation"
   ]
  },
  {
   "cell_type": "code",
   "execution_count": null,
   "metadata": {
    "collapsed": true
   },
   "outputs": [],
   "source": []
  },
  {
   "cell_type": "code",
   "execution_count": 2,
   "metadata": {},
   "outputs": [
    {
     "ename": "IndentationError",
     "evalue": "unexpected indent (<ipython-input-2-f2d14f2ae6ce>, line 13)",
     "output_type": "error",
     "traceback": [
      "\u001b[0;36m  File \u001b[0;32m\"<ipython-input-2-f2d14f2ae6ce>\"\u001b[0;36m, line \u001b[0;32m13\u001b[0m\n\u001b[0;31m    if len(sys.argv) < 2 or sys.argv[-1].startswith('-'):\u001b[0m\n\u001b[0m    ^\u001b[0m\n\u001b[0;31mIndentationError\u001b[0m\u001b[0;31m:\u001b[0m unexpected indent\n"
     ]
    }
   ],
   "source": [
    "import tensorflow as tf\n",
    "\n",
    "from tensorflow_serving.example import mnist_input_data\n",
    "\n",
    "tf.app.flags.DEFINE_integer('training_iteration', 1000,\n",
    "                            'number of training iterations.')\n",
    "tf.app.flags.DEFINE_integer('model_version', 1, 'version number of the model.')\n",
    "tf.app.flags.DEFINE_string('work_dir', '/tmp', 'Working directory.')\n",
    "FLAGS = tf.app.flags.FLAGS\n",
    "\n",
    "\n",
    "\n",
    "  if len(sys.argv) < 2 or sys.argv[-1].startswith('-'):\n",
    "    print('Usage: mnist_export.py [--training_iteration=x] '\n",
    "          '[--model_version=y] export_dir')\n",
    "    sys.exit(-1)\n",
    "  if FLAGS.training_iteration <= 0:\n",
    "    print 'Please specify a positive value for training iteration.'\n",
    "    sys.exit(-1)\n",
    "  if FLAGS.model_version <= 0:\n",
    "    print 'Please specify a positive value for version number.'\n",
    "    sys.exit(-1)\n",
    "\n",
    "  # Train model\n",
    "  print 'Training model...'\n",
    "  mnist = mnist_input_data.read_data_sets(FLAGS.work_dir, one_hot=True)\n",
    "  sess = tf.InteractiveSession()\n",
    "  serialized_tf_example = tf.placeholder(tf.string, name='tf_example')\n",
    "  feature_configs = {'x': tf.FixedLenFeature(shape=[784], dtype=tf.float32),}\n",
    "  tf_example = tf.parse_example(serialized_tf_example, feature_configs)\n",
    "  x = tf.identity(tf_example['x'], name='x')  # use tf.identity() to assign name\n",
    "  y_ = tf.placeholder('float', shape=[None, 10])\n",
    "  w = tf.Variable(tf.zeros([784, 10]))\n",
    "  b = tf.Variable(tf.zeros([10]))\n",
    "  sess.run(tf.global_variables_initializer())\n",
    "  y = tf.nn.softmax(tf.matmul(x, w) + b, name='y')\n",
    "  cross_entropy = -tf.reduce_sum(y_ * tf.log(y))\n",
    "  train_step = tf.train.GradientDescentOptimizer(0.01).minimize(cross_entropy)\n",
    "  values, indices = tf.nn.top_k(y, 10)\n",
    "  table = tf.contrib.lookup.index_to_string_table_from_tensor(\n",
    "      tf.constant([str(i) for i in xrange(10)]))\n",
    "  prediction_classes = table.lookup(tf.to_int64(indices))\n",
    "  for _ in range(FLAGS.training_iteration):\n",
    "    batch = mnist.train.next_batch(50)\n",
    "    train_step.run(feed_dict={x: batch[0], y_: batch[1]})\n",
    "  correct_prediction = tf.equal(tf.argmax(y, 1), tf.argmax(y_, 1))\n",
    "  accuracy = tf.reduce_mean(tf.cast(correct_prediction, 'float'))\n",
    "  print 'training accuracy %g' % sess.run(\n",
    "      accuracy, feed_dict={x: mnist.test.images,\n",
    "                           y_: mnist.test.labels})\n",
    "  print 'Done training!'\n",
    "\n",
    "'''\n",
    "EXPORT\n",
    "'''\n",
    "export_path_base = sys.argv[-1]\n",
    "export_path = './export-%d/'%time.time()\n",
    "print('Exporting trained model to', export_path)\n",
    "\n",
    "builder = tf.saved_model.builder.SavedModelBuilder(export_path)\n",
    "\n",
    "# Build the signature_def_map.\n",
    "serialized_tf_example = tf.placeholder(tf.string, name='tf_example')\n",
    "\n",
    "feature_configs = {'x': tf.FixedLenFeature(shape=[148,148,148], dtype=tf.float32),}\n",
    "tf_example = tf.parse_example(serialized_tf_example, feature_configs)\n",
    "feature_configs_output = {'y': tf.FixedLenFeature(shape=[60,60,60], dtype=tf.bool),}\n",
    "tf_example_out = tf.parse_example(serialized_tf_example, feature_configs)\n",
    "\n",
    "x = tf.identity(tf_example['x'], name='x')  # assign name\n",
    "\n",
    "y = net.predict(\"./unet_trained/model 99.cpkt\", x[np.newaxis,...])[0][:,:,:,0]\n",
    "tensor_info_x = tf.saved_model.utils.build_tensor_info(x)\n",
    "tensor_info_y = tf.saved_model.utils.build_tensor_info(y)  # y = unet_predict\n",
    "\n",
    "prediction_signature = (\n",
    "  tf.saved_model.signature_def_utils.build_signature_def(\n",
    "      inputs={'images': tensor_info_x},\n",
    "      outputs={'prediction': tensor_info_y},\n",
    "      method_name=tf.saved_model.signature_constants.PREDICT_METHOD_NAME))\n",
    "\n",
    "builder.add_meta_graph_and_variables(\n",
    "  sess, [tf.saved_model.tag_constants.SERVING],\n",
    "  signature_def_map={\n",
    "      'predict_volumes':\n",
    "          prediction_signature,\n",
    "      tf.saved_model.signature_constants.DEFAULT_SERVING_SIGNATURE_DEF_KEY:\n",
    "          segmentation_signature,\n",
    "  })\n",
    "\n",
    "builder.save()"
   ]
  },
  {
   "cell_type": "code",
   "execution_count": null,
   "metadata": {
    "collapsed": true
   },
   "outputs": [],
   "source": []
  }
 ],
 "metadata": {
  "kernelspec": {
   "display_name": "Python 3",
   "language": "python",
   "name": "python3"
  },
  "language_info": {
   "codemirror_mode": {
    "name": "ipython",
    "version": 3
   },
   "file_extension": ".py",
   "mimetype": "text/x-python",
   "name": "python",
   "nbconvert_exporter": "python",
   "pygments_lexer": "ipython3",
   "version": "3.6.2"
  }
 },
 "nbformat": 4,
 "nbformat_minor": 2
}
