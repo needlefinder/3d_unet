{
 "cells": [
  {
   "cell_type": "code",
   "execution_count": 1,
   "metadata": {
    "collapsed": true
   },
   "outputs": [],
   "source": [
    "%matplotlib inline\n",
    "import os\n",
    "import shutil\n",
    "import numpy as np\n",
    "from collections import OrderedDict\n",
    "import logging\n",
    "logging.basicConfig(level=logging.DEBUG, format='%(asctime)s %(message)s')\n",
    "import nrrd\n",
    "from mpl_toolkits.mplot3d import Axes3D\n",
    "import tensorflow as tf\n",
    "import matplotlib.pylab as plt\n",
    "from PIL import Image"
   ]
  },
  {
   "cell_type": "code",
   "execution_count": 9,
   "metadata": {
    "collapsed": false
   },
   "outputs": [
    {
     "name": "stdout",
     "output_type": "stream",
     "text": [
      "Tensor(\"strided_slice_14:0\", shape=(), dtype=int32) Tensor(\"strided_slice_15:0\", shape=(), dtype=int32) Tensor(\"strided_slice_16:0\", shape=(), dtype=int32)\n",
      "Tensor(\"strided_slice_17:0\", shape=(), dtype=int32)\n"
     ]
    }
   ],
   "source": [
    "channels = 1\n",
    "n_class = 2\n",
    "x = tf.placeholder(\"float\", shape=[None, None, None, None, channels], name='data')\n",
    "y = tf.placeholder(\"float\", shape=[None, None, None, None,  n_class], name='target')\n",
    "\n",
    "nx = tf.shape(x)[1]\n",
    "ny = tf.shape(x)[2]\n",
    "nz = tf.shape(x)[3]\n",
    "print(nx,ny,nz)\n",
    "\n",
    "x_image = tf.reshape(x, tf.stack([-1,nx,ny,nz,channels]), name='input_reshape')\n",
    "in_node = x_image\n",
    "batch_size = tf.shape(x_image)[0]\n",
    "print(batch_size)"
   ]
  },
  {
   "cell_type": "code",
   "execution_count": null,
   "metadata": {
    "collapsed": true
   },
   "outputs": [],
   "source": []
  }
 ],
 "metadata": {
  "kernelspec": {
   "display_name": "Python [conda root]",
   "language": "python",
   "name": "conda-root-py"
  },
  "language_info": {
   "codemirror_mode": {
    "name": "ipython",
    "version": 3
   },
   "file_extension": ".py",
   "mimetype": "text/x-python",
   "name": "python",
   "nbconvert_exporter": "python",
   "pygments_lexer": "ipython3",
   "version": "3.5.2"
  }
 },
 "nbformat": 4,
 "nbformat_minor": 1
}
