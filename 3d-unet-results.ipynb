{
 "cells": [
  {
   "cell_type": "code",
   "execution_count": 3,
   "metadata": {
    "collapsed": true
   },
   "outputs": [],
   "source": [
    "%matplotlib inline\n",
    "from fns import *\n",
    "from syntheticdata import synthetic_generation\n",
    "# import ipyvolume"
   ]
  },
  {
   "cell_type": "code",
   "execution_count": 4,
   "metadata": {
    "collapsed": true
   },
   "outputs": [],
   "source": [
    "import plotly\n",
    "plotly.tools.set_credentials_file(username='gpernelle', api_key='4KIdNJBBApIeebdKxyN9')\n",
    "import plotly.plotly as py\n",
    "import plotly.graph_objs as go\n"
   ]
  },
  {
   "cell_type": "code",
   "execution_count": 5,
   "metadata": {
    "collapsed": true
   },
   "outputs": [],
   "source": [
    "def dice(logits, labels):\n",
    "        flat_logits = logits.flatten()\n",
    "        flat_labels = labels.flatten()\n",
    "        intersection = np.sum(flat_logits*flat_labels)\n",
    "        union = np.sum(flat_logits) + np.sum(flat_labels)\n",
    "        loss = 1 - 2 * intersection / union\n",
    "        return loss"
   ]
  },
  {
   "cell_type": "markdown",
   "metadata": {
    "collapsed": true
   },
   "source": [
    "### Predict"
   ]
  },
  {
   "cell_type": "code",
   "execution_count": 24,
   "metadata": {
    "scrolled": false
   },
   "outputs": [],
   "source": [
    "def predict_case(caseNumber):\n",
    "    case=str(caseNumber)\n",
    "    image_name = '/home/gp1514/SSD/preprocessed_data/LabelMapsNEW2_1.00-1.00-1.00_split2/%s/case.nrrd'%case\n",
    "    label_name = '/home/gp1514/SSD/preprocessed_data/LabelMapsNEW2_1.00-1.00-1.00/%s/needles.nrrd'%case\n",
    "\n",
    "    data, options_ = nrrd.read(image_name)\n",
    "    data = data.astype(np.float32)\n",
    "    data1, options = nrrd.read(image_name.replace('_split2', ''))\n",
    "    data1 = data1.astype(np.float32)\n",
    "\n",
    "    label_data, options_ = nrrd.read(label_name)\n",
    "\n",
    "    prediction = predict([data1,data], \"./models/unet_trained_mix_dropout-05-clahe30_f32\")\n",
    "    return label_data, prediction, options\n",
    "\n",
    "\n",
    "def save_case(caseNumber):\n",
    "    case=str(caseNumber)\n",
    "    image_name = '/home/gp1514/SSD/preprocessed_data/LabelMapsNEW2_1.00-1.00-1.00_split2/%s/case.nrrd'%case\n",
    "    data1, options = nrrd.read(image_name.replace('_split2', ''))\n",
    "    data1 = data1.astype(np.float32)\n",
    "    nrrd.write('predictions/case_%s.nrrd'%str(caseNumber), data1, options=options)\n",
    "\n"
   ]
  },
  {
   "cell_type": "code",
   "execution_count": 18,
   "metadata": {},
   "outputs": [],
   "source": [
    "def predict_and_save(caseNumber):\n",
    "    label_data, prediction, options = predict_case(caseNumber)\n",
    "    dice(prediction, label_data)\n",
    "    islands = post_processing(prediction, min_area=int(50), max_residual=float(4))\n",
    "    nrrd.write('predictions/%s.nrrd'%str(caseNumber), islands, options=options)\n",
    "\n",
    "def predict_and_plot3d(caseNumber):\n",
    "    label_data, prediction, options = predict_case(caseNumber)\n",
    "    dice(prediction, label_data)\n",
    "    islands = post_processing(prediction, min_area=int(50), max_residual=float(4))\n",
    "    nrrd.write('predictions/%s.nrrd'%str(caseNumber), islands, options=options)\n",
    "    x,y,z = np.where(label_data == 1)\n",
    "    xs,ys,zs = np.where(islands != 0)\n",
    "\n",
    "    trace1 = go.Scatter3d(\n",
    "        x=x,\n",
    "        y=y,\n",
    "        z=z,\n",
    "        mode='markers',\n",
    "        marker=dict(\n",
    "            size=3,\n",
    "            line=dict(\n",
    "                color='green',\n",
    "                width=2\n",
    "            ),\n",
    "            opacity=0.3\n",
    "        )\n",
    "    )\n",
    "\n",
    "    trace2 = go.Scatter3d(\n",
    "        x=xs,\n",
    "        y=ys,\n",
    "        z=zs,\n",
    "        mode='markers',\n",
    "        marker=dict(\n",
    "            color='red',\n",
    "            size=3,\n",
    "            symbol='circle',\n",
    "            line=dict(\n",
    "                color='rgb(204, 204, 204)',\n",
    "                width=1\n",
    "            ),\n",
    "            opacity=0.3\n",
    "        )\n",
    "    )\n",
    "    data = [trace1, trace2]\n",
    "    layout = go.Layout(\n",
    "        margin=dict(\n",
    "            l=0,\n",
    "            r=0,\n",
    "            b=0,\n",
    "            t=0\n",
    "        )\n",
    "    )\n",
    "\n",
    "    fig = go.Figure(data=data, layout=layout)\n",
    "    py.iplot(fig, filename='simple-3d-scatter')"
   ]
  },
  {
   "cell_type": "code",
   "execution_count": 8,
   "metadata": {},
   "outputs": [],
   "source": [
    "validationCases = loadCases(\"preprocessing/validation.txt\")\n",
    "testingCases = loadCases(\"preprocessing/testing.txt\")"
   ]
  },
  {
   "cell_type": "code",
   "execution_count": 9,
   "metadata": {},
   "outputs": [
    {
     "data": {
      "text/plain": [
       "['021', '023', '037', '038', '070', '071', '072', '074', '075', '076', '077']"
      ]
     },
     "execution_count": 9,
     "metadata": {},
     "output_type": "execute_result"
    }
   ],
   "source": [
    "validationCases"
   ]
  },
  {
   "cell_type": "code",
   "execution_count": 10,
   "metadata": {},
   "outputs": [
    {
     "data": {
      "text/plain": [
       "['028', '051', '054']"
      ]
     },
     "execution_count": 10,
     "metadata": {},
     "output_type": "execute_result"
    }
   ],
   "source": [
    "testingCases"
   ]
  },
  {
   "cell_type": "code",
   "execution_count": 15,
   "metadata": {},
   "outputs": [
    {
     "name": "stdout",
     "output_type": "stream",
     "text": [
      "--------------------------------------------------\n",
      "Loading and Preparing the data\n",
      "Original input shape (200, 200, 77)\n",
      "Padded input shape: (288, 288, 165)\n",
      "# of parts 5 5 3\n",
      "number of tiles: 75 \n",
      "data shape (75, 148, 148, 148)\n",
      "Original input shape (200, 200, 77)\n",
      "Padded input shape: (288, 288, 165)\n",
      "# of parts 5 5 3\n",
      "number of tiles: 75 \n",
      "data shape (75, 148, 148, 148)\n"
     ]
    },
    {
     "name": "stderr",
     "output_type": "stream",
     "text": [
      "100%|██████████| 75/75 [00:00<00:00, 639375.61it/s]"
     ]
    },
    {
     "name": "stdout",
     "output_type": "stream",
     "text": [
      "--------------------------------------------------\n",
      "Starting the segmenter.\n"
     ]
    },
    {
     "name": "stderr",
     "output_type": "stream",
     "text": [
      "\n"
     ]
    },
    {
     "name": "stdout",
     "output_type": "stream",
     "text": [
      "imgs shape (75, 148, 148, 148, 2)\n",
      "Feature shape:  (75, 148, 148, 148, 2)\n",
      "INFO:tensorflow:Restoring parameters from ./models/unet_trained_mix_dropout-05-clahe30_f32/model 3.cpkt\n"
     ]
    },
    {
     "name": "stderr",
     "output_type": "stream",
     "text": [
      "100%|██████████| 75/75 [00:32<00:00,  2.61it/s]\n"
     ]
    },
    {
     "name": "stdout",
     "output_type": "stream",
     "text": [
      "prediction shape: (75, 1, 60, 60, 60, 1)\n",
      "Merging subvolumes\n",
      "--------------------------------------------------\n",
      "Padded input shape: (288, 288, 165)\n",
      "# of parts 5 5 3\n",
      "# of subvolumes merged:  75\n",
      "(array([ 0,  1,  2,  3,  4,  5,  6,  7,  8,  9, 10, 11, 12, 13, 14, 15], dtype=uint16), array([3077040,    1085,     613,     832,     103,      45,      41,\n",
      "            46,      51,      37,      35,      27,      15,      18,\n",
      "             5,       7]))\n",
      "(200, 200, 77)\n",
      "Number of regions: 18\n",
      "1 1.03882356434 118\n",
      "2 1.14661786773 241\n",
      "3 1.12693186823 202\n",
      "4 1.17225105284 193\n",
      "5 1.07417868319 157\n",
      "6 1.1670551589 147\n",
      "7 1.06904409815 106\n",
      "8 1.04412159822 163\n",
      "9 1.64221277971 232\n",
      "--------------------------------------------------\n",
      "Loading and Preparing the data\n",
      "Original input shape (200, 200, 240)\n",
      "Padded input shape: (288, 288, 328)\n",
      "# of parts 5 5 6\n",
      "number of tiles: 125 \n",
      "data shape (125, 148, 148, 148)\n",
      "Original input shape (200, 200, 240)\n",
      "Padded input shape: (288, 288, 328)\n",
      "# of parts 5 5 6\n",
      "number of tiles: 125 \n",
      "data shape (125, 148, 148, 148)\n"
     ]
    },
    {
     "name": "stderr",
     "output_type": "stream",
     "text": [
      "100%|██████████| 125/125 [00:00<00:00, 787219.22it/s]"
     ]
    },
    {
     "name": "stdout",
     "output_type": "stream",
     "text": [
      "--------------------------------------------------\n",
      "Starting the segmenter.\n"
     ]
    },
    {
     "name": "stderr",
     "output_type": "stream",
     "text": [
      "\n"
     ]
    },
    {
     "name": "stdout",
     "output_type": "stream",
     "text": [
      "imgs shape (125, 148, 148, 148, 2)\n",
      "Feature shape:  (125, 148, 148, 148, 2)\n",
      "INFO:tensorflow:Restoring parameters from ./models/unet_trained_mix_dropout-05-clahe30_f32/model 3.cpkt\n"
     ]
    },
    {
     "name": "stderr",
     "output_type": "stream",
     "text": [
      "100%|██████████| 125/125 [00:51<00:00,  2.53it/s]\n"
     ]
    },
    {
     "name": "stdout",
     "output_type": "stream",
     "text": [
      "prediction shape: (125, 1, 60, 60, 60, 1)\n",
      "Merging subvolumes\n",
      "--------------------------------------------------\n",
      "Padded input shape: (288, 288, 328)\n",
      "# of parts 5 5 6\n",
      "# of subvolumes merged:  125\n",
      "(array([0, 1, 2, 3], dtype=uint16), array([9587203,   11508,    1112,     177]))\n",
      "(200, 200, 240)\n",
      "Number of regions: 62\n",
      "1 3.73389990529 1563\n",
      "2 1.14351180286 250\n",
      "3 1.01814572583 93\n",
      "4 1.14415810746 76\n",
      "5 1.1101837314 163\n",
      "6 1.0594522935 106\n",
      "7 0.94956822085 65\n",
      "8 0.96360935794 57\n",
      "9 2.24505963343 624\n",
      "10 1.01846418015 81\n",
      "11 1.08364005714 172\n",
      "12 1.12620933089 340\n",
      "13 0.956561978922 95\n",
      "14 1.10292467103 267\n",
      "15 1.08082632405 281\n",
      "16 2.00833530863 1120\n",
      "17 1.22247704313 180\n",
      "18 1.11469843032 172\n",
      "19 2.54912547713 307\n",
      "20 1.03951256196 270\n",
      "21 2.3253252079 1313\n",
      "22 1.07836258105 242\n",
      "23 1.56501527859 390\n",
      "24 1.73132786814 913\n",
      "25 2.90779949179 1614\n",
      "26 1.1339460438 315\n",
      "27 1.04535165401 192\n",
      "28 1.17921122557 123\n",
      "29 1.07720819737 255\n",
      "30 1.57315283909 527\n",
      "31 1.47902579814 95\n",
      "32 1.59269499952 177\n",
      "33 1.16078658587 51\n",
      "--------------------------------------------------\n",
      "Loading and Preparing the data\n",
      "Original input shape (300, 195, 153)\n",
      "Padded input shape: (388, 283, 241)\n",
      "# of parts 7 7 5\n",
      "number of tiles: 96 \n",
      "data shape (96, 148, 148, 148)\n",
      "Original input shape (300, 195, 153)\n",
      "Padded input shape: (388, 283, 241)\n",
      "# of parts 7 7 5\n",
      "number of tiles: 96 \n",
      "data shape (96, 148, 148, 148)\n"
     ]
    },
    {
     "name": "stderr",
     "output_type": "stream",
     "text": [
      "100%|██████████| 96/96 [00:00<00:00, 738813.18it/s]"
     ]
    },
    {
     "name": "stdout",
     "output_type": "stream",
     "text": [
      "--------------------------------------------------\n",
      "Starting the segmenter.\n"
     ]
    },
    {
     "name": "stderr",
     "output_type": "stream",
     "text": [
      "\n"
     ]
    },
    {
     "name": "stdout",
     "output_type": "stream",
     "text": [
      "imgs shape (96, 148, 148, 148, 2)\n",
      "Feature shape:  (96, 148, 148, 148, 2)\n",
      "INFO:tensorflow:Restoring parameters from ./models/unet_trained_mix_dropout-05-clahe30_f32/model 3.cpkt\n"
     ]
    },
    {
     "name": "stderr",
     "output_type": "stream",
     "text": [
      "100%|██████████| 96/96 [00:38<00:00,  2.47it/s]\n"
     ]
    },
    {
     "name": "stdout",
     "output_type": "stream",
     "text": [
      "prediction shape: (96, 1, 60, 60, 60, 1)\n",
      "Merging subvolumes\n",
      "--------------------------------------------------\n",
      "Padded input shape: (388, 283, 241)\n",
      "# of parts 7 7 5\n",
      "# of subvolumes merged:  96\n",
      "(array([ 0,  1,  2,  3,  4,  5,  6,  7,  8,  9, 10, 11, 12], dtype=uint16), array([8941983,    4305,    1172,    1662,     249,     202,     202,\n",
      "           153,     204,     202,     134,      25,       7]))\n",
      "(300, 195, 153)\n",
      "Number of regions: 48\n",
      "1 1.0248624473 115\n",
      "2 1.01406675859 165\n",
      "3 1.06542989086 227\n",
      "4 1.13878930651 605\n",
      "5 1.14494475354 265\n",
      "6 1.13942349763 709\n",
      "7 1.14880171221 585\n",
      "8 1.10890893225 625\n",
      "9 1.16072924923 182\n",
      "10 1.11390420992 171\n",
      "11 1.07355643392 111\n",
      "12 1.15313685574 180\n",
      "13 1.05077275914 129\n",
      "14 1.00471152815 238\n",
      "15 1.34465075367 242\n",
      "16 1.11554858529 208\n",
      "17 1.17976290785 211\n",
      "18 1.07368013632 118\n",
      "19 1.94075435208 157\n",
      "20 2.47627775797 265\n",
      "21 1.40231249608 65\n",
      "--------------------------------------------------\n",
      "Loading and Preparing the data\n",
      "Original input shape (319, 319, 128)\n",
      "Padded input shape: (407, 407, 216)\n",
      "# of parts 7 7 4\n",
      "number of tiles: 147 \n",
      "data shape (147, 148, 148, 148)\n",
      "Original input shape (319, 319, 128)\n",
      "Padded input shape: (407, 407, 216)\n",
      "# of parts 7 7 4\n",
      "number of tiles: 147 \n",
      "data shape (147, 148, 148, 148)\n"
     ]
    },
    {
     "name": "stderr",
     "output_type": "stream",
     "text": [
      "100%|██████████| 147/147 [00:00<00:00, 934185.89it/s]"
     ]
    },
    {
     "name": "stdout",
     "output_type": "stream",
     "text": [
      "--------------------------------------------------\n",
      "Starting the segmenter.\n"
     ]
    },
    {
     "name": "stderr",
     "output_type": "stream",
     "text": [
      "\n"
     ]
    },
    {
     "name": "stdout",
     "output_type": "stream",
     "text": [
      "imgs shape (147, 148, 148, 148, 2)\n",
      "Feature shape:  (147, 148, 148, 148, 2)\n",
      "INFO:tensorflow:Restoring parameters from ./models/unet_trained_mix_dropout-05-clahe30_f32/model 4.cpkt\n"
     ]
    },
    {
     "name": "stderr",
     "output_type": "stream",
     "text": [
      "100%|██████████| 147/147 [00:59<00:00,  2.55it/s]\n"
     ]
    },
    {
     "name": "stdout",
     "output_type": "stream",
     "text": [
      "prediction shape: (147, 1, 60, 60, 60, 1)\n",
      "Merging subvolumes\n",
      "--------------------------------------------------\n",
      "Padded input shape: (407, 407, 216)\n",
      "# of parts 7 7 4\n",
      "# of subvolumes merged:  147\n",
      "(array([0, 1, 2, 3, 4], dtype=uint16), array([13009135,     9308,     4967,     1109,      889]))\n",
      "(319, 319, 128)\n",
      "Number of regions: 40\n",
      "1 1.20067954788 963\n",
      "2 1.19040008856 945\n",
      "3 1.05931341431 137\n",
      "4 3.17504569928 1939\n",
      "5 1.13112702008 861\n",
      "6 1.13910333935 789\n",
      "7 1.00043361477 86\n",
      "8 1.79564429612 1112\n",
      "9 1.31289078007 187\n",
      "10 1.08723023316 173\n",
      "11 1.82258435378 335\n",
      "12 1.04401532938 142\n",
      "13 1.36479709602 926\n",
      "14 1.00942520273 65\n",
      "15 3.47138634617 649\n",
      "16 1.00319158294 51\n",
      "17 1.19279608884 65\n",
      "--------------------------------------------------\n",
      "Loading and Preparing the data\n",
      "Original input shape (300, 195, 230)\n",
      "Padded input shape: (388, 283, 318)\n",
      "# of parts 7 7 6\n",
      "number of tiles: 120 \n",
      "data shape (120, 148, 148, 148)\n",
      "Original input shape (300, 195, 230)\n",
      "Padded input shape: (388, 283, 318)\n",
      "# of parts 7 7 6\n",
      "number of tiles: 120 \n",
      "data shape (120, 148, 148, 148)\n"
     ]
    },
    {
     "name": "stderr",
     "output_type": "stream",
     "text": [
      "100%|██████████| 120/120 [00:00<00:00, 186137.75it/s]"
     ]
    },
    {
     "name": "stdout",
     "output_type": "stream",
     "text": [
      "--------------------------------------------------\n",
      "Starting the segmenter.\n"
     ]
    },
    {
     "name": "stderr",
     "output_type": "stream",
     "text": [
      "\n"
     ]
    },
    {
     "name": "stdout",
     "output_type": "stream",
     "text": [
      "imgs shape (120, 148, 148, 148, 2)\n",
      "Feature shape:  (120, 148, 148, 148, 2)\n",
      "INFO:tensorflow:Restoring parameters from ./models/unet_trained_mix_dropout-05-clahe30_f32/model 4.cpkt\n"
     ]
    },
    {
     "name": "stderr",
     "output_type": "stream",
     "text": [
      "100%|██████████| 120/120 [00:46<00:00,  2.57it/s]\n"
     ]
    },
    {
     "name": "stdout",
     "output_type": "stream",
     "text": [
      "prediction shape: (120, 1, 60, 60, 60, 1)\n",
      "Merging subvolumes\n",
      "--------------------------------------------------\n",
      "Padded input shape: (388, 283, 318)\n",
      "# of parts 7 7 6\n",
      "# of subvolumes merged:  120\n",
      "(array([0, 1, 2, 3], dtype=uint16), array([13439814,    14821,      318,       47]))\n",
      "(300, 195, 230)\n",
      "Number of regions: 55\n",
      "1 0.97212478627 90\n",
      "2 0.932433579914 52\n",
      "3 1.14328129879 205\n",
      "4 1.03122485519 126\n",
      "5 1.15306061201 748\n",
      "6 1.1279032769 625\n",
      "7 1.36689280679 989\n",
      "8 1.15378371291 333\n",
      "9 1.11323860841 375\n",
      "10 1.11581782567 350\n",
      "11 1.11712885919 265\n",
      "12 1.14170736998 159\n",
      "13 1.14472248712 180\n",
      "14 1.02605075546 183\n",
      "15 1.61884222639 363\n",
      "16 1.11495137882 905\n",
      "17 1.10148974438 176\n",
      "18 1.14302590399 433\n",
      "19 1.25512741114 1005\n",
      "20 0.979761850095 67\n",
      "21 0.972674455346 72\n",
      "22 1.12266865729 347\n",
      "23 2.90440594733 309\n",
      "--------------------------------------------------\n",
      "Loading and Preparing the data\n",
      "Original input shape (300, 195, 230)\n",
      "Padded input shape: (388, 283, 318)\n",
      "# of parts 7 7 6\n",
      "number of tiles: 120 \n",
      "data shape (120, 148, 148, 148)\n",
      "Original input shape (300, 195, 230)\n",
      "Padded input shape: (388, 283, 318)\n",
      "# of parts 7 7 6\n",
      "number of tiles: 120 \n",
      "data shape (120, 148, 148, 148)\n"
     ]
    },
    {
     "name": "stderr",
     "output_type": "stream",
     "text": [
      "100%|██████████| 120/120 [00:00<00:00, 869285.80it/s]"
     ]
    },
    {
     "name": "stdout",
     "output_type": "stream",
     "text": [
      "--------------------------------------------------\n",
      "Starting the segmenter.\n"
     ]
    },
    {
     "name": "stderr",
     "output_type": "stream",
     "text": [
      "\n"
     ]
    },
    {
     "name": "stdout",
     "output_type": "stream",
     "text": [
      "imgs shape (120, 148, 148, 148, 2)\n",
      "Feature shape:  (120, 148, 148, 148, 2)\n",
      "INFO:tensorflow:Restoring parameters from ./models/unet_trained_mix_dropout-05-clahe30_f32/model 4.cpkt\n"
     ]
    },
    {
     "name": "stderr",
     "output_type": "stream",
     "text": [
      "100%|██████████| 120/120 [00:46<00:00,  2.54it/s]\n"
     ]
    },
    {
     "name": "stdout",
     "output_type": "stream",
     "text": [
      "prediction shape: (120, 1, 60, 60, 60, 1)\n",
      "Merging subvolumes\n",
      "--------------------------------------------------\n",
      "Padded input shape: (388, 283, 318)\n",
      "# of parts 7 7 6\n",
      "# of subvolumes merged:  120\n",
      "(array([0, 1, 2, 3, 4, 5, 6], dtype=uint16), array([13428190,    19374,     6692,      389,      167,      132,       56]))\n",
      "(300, 195, 230)\n",
      "Number of regions: 87\n",
      "1 1.30929859138 60\n",
      "2 0.933493815787 57\n",
      "3 0.920058052235 67\n",
      "4 1.10363295902 850\n",
      "5 1.13970772983 965\n",
      "6 2.85281228818 1872\n",
      "7 1.15520428563 879\n",
      "8 0.998309459623 87\n",
      "9 0.978788649827 95\n",
      "10 1.08166702612 237\n",
      "11 1.13722916086 313\n",
      "12 1.15486206836 328\n",
      "13 1.32575089728 373\n",
      "14 1.01348090455 73\n",
      "15 1.1290230054 597\n",
      "16 1.15385121725 304\n",
      "17 1.17766816344 1046\n",
      "18 1.16981447916 382\n",
      "19 1.03004661306 60\n",
      "20 1.12975674411 72\n",
      "21 1.14140549009 946\n",
      "22 1.10266476431 624\n",
      "23 1.1038642623 638\n",
      "24 1.64160959109 235\n",
      "25 2.09365174548 339\n",
      "26 1.18614624161 275\n",
      "27 0.984458785111 82\n",
      "28 1.01244518246 73\n",
      "29 2.59411394511 349\n",
      "--------------------------------------------------\n",
      "Loading and Preparing the data\n",
      "Original input shape (300, 195, 192)\n",
      "Padded input shape: (388, 283, 280)\n",
      "# of parts 7 7 5\n",
      "number of tiles: 96 \n",
      "data shape (96, 148, 148, 148)\n",
      "Original input shape (300, 195, 192)\n",
      "Padded input shape: (388, 283, 280)\n",
      "# of parts 7 7 5\n",
      "number of tiles: 96 \n",
      "data shape (96, 148, 148, 148)\n"
     ]
    },
    {
     "name": "stderr",
     "output_type": "stream",
     "text": [
      "100%|██████████| 96/96 [00:00<00:00, 675592.59it/s]"
     ]
    },
    {
     "name": "stdout",
     "output_type": "stream",
     "text": [
      "--------------------------------------------------\n",
      "Starting the segmenter.\n"
     ]
    },
    {
     "name": "stderr",
     "output_type": "stream",
     "text": [
      "\n"
     ]
    },
    {
     "name": "stdout",
     "output_type": "stream",
     "text": [
      "imgs shape (96, 148, 148, 148, 2)\n",
      "Feature shape:  (96, 148, 148, 148, 2)\n",
      "INFO:tensorflow:Restoring parameters from ./models/unet_trained_mix_dropout-05-clahe30_f32/model 4.cpkt\n"
     ]
    },
    {
     "name": "stderr",
     "output_type": "stream",
     "text": [
      "100%|██████████| 96/96 [00:39<00:00,  2.49it/s]\n"
     ]
    },
    {
     "name": "stdout",
     "output_type": "stream",
     "text": [
      "prediction shape: (96, 1, 60, 60, 60, 1)\n",
      "Merging subvolumes\n",
      "--------------------------------------------------\n",
      "Padded input shape: (388, 283, 280)\n",
      "# of parts 7 7 5\n",
      "# of subvolumes merged:  96\n",
      "(array([0, 1, 2, 3, 4, 5, 6], dtype=uint16), array([11207126,    17095,     6884,      362,      481,       26,       26]))\n",
      "(300, 195, 192)\n",
      "Number of regions: 55\n",
      "1 1.06266773537 209\n",
      "2 1.15575771226 207\n",
      "3 1.12098408827 152\n",
      "4 1.1176558295 111\n",
      "5 3.80791237244 2473\n",
      "6 1.14572473868 871\n",
      "7 1.12697814581 804\n",
      "8 1.02353741846 113\n",
      "9 1.16531583788 899\n",
      "10 1.46531502822 869\n",
      "11 1.03367001511 97\n",
      "12 1.15962149299 964\n",
      "13 1.15114480222 432\n",
      "14 1.03186310196 55\n",
      "15 1.09078701084 121\n",
      "16 1.14177862136 504\n",
      "17 2.08438482513 1141\n",
      "18 1.14063773735 374\n",
      "19 1.12224597418 1009\n",
      "20 1.12234545422 430\n",
      "21 1.06515293323 70\n",
      "22 1.0957780534 265\n",
      "23 1.18274806769 504\n",
      "24 1.15183321011 1018\n",
      "25 1.16226576449 885\n",
      "26 1.16526271831 605\n",
      "27 1.06059803331 190\n",
      "28 1.11643114908 755\n",
      "29 1.13423587694 883\n",
      "30 1.14364400425 878\n",
      "31 1.09769771295 782\n",
      "32 1.14455743336 935\n",
      "33 1.14046936377 169\n",
      "34 1.06997404713 113\n",
      "--------------------------------------------------\n",
      "Loading and Preparing the data\n",
      "Original input shape (300, 195, 204)\n",
      "Padded input shape: (388, 283, 292)\n",
      "# of parts 7 7 5\n",
      "number of tiles: 120 \n",
      "data shape (120, 148, 148, 148)\n",
      "Original input shape (300, 195, 204)\n",
      "Padded input shape: (388, 283, 292)\n",
      "# of parts 7 7 5\n",
      "number of tiles: 120 \n",
      "data shape (120, 148, 148, 148)\n"
     ]
    },
    {
     "name": "stderr",
     "output_type": "stream",
     "text": [
      "100%|██████████| 120/120 [00:00<00:00, 354698.01it/s]"
     ]
    },
    {
     "name": "stdout",
     "output_type": "stream",
     "text": [
      "--------------------------------------------------\n",
      "Starting the segmenter.\n"
     ]
    },
    {
     "name": "stderr",
     "output_type": "stream",
     "text": [
      "\n"
     ]
    },
    {
     "name": "stdout",
     "output_type": "stream",
     "text": [
      "imgs shape (120, 148, 148, 148, 2)\n",
      "Feature shape:  (120, 148, 148, 148, 2)\n",
      "INFO:tensorflow:Restoring parameters from ./models/unet_trained_mix_dropout-05-clahe30_f32/model 4.cpkt\n"
     ]
    },
    {
     "name": "stderr",
     "output_type": "stream",
     "text": [
      "100%|██████████| 120/120 [00:48<00:00,  2.58it/s]\n"
     ]
    },
    {
     "name": "stdout",
     "output_type": "stream",
     "text": [
      "prediction shape: (120, 1, 60, 60, 60, 1)\n",
      "Merging subvolumes\n",
      "--------------------------------------------------\n",
      "Padded input shape: (388, 283, 292)\n",
      "# of parts 7 7 5\n",
      "# of subvolumes merged:  120\n",
      "(array([ 0,  1,  2,  3,  4,  5,  6,  7,  8,  9, 10, 11], dtype=uint16), array([11915326,    12177,     3705,     1840,      190,      114,\n",
      "            147,      176,      198,       91,       30,        6]))\n",
      "(300, 195, 204)\n",
      "Number of regions: 196\n",
      "1 1.51878846734 210\n",
      "2 0.978228305124 60\n",
      "3 1.00639212396 91\n",
      "4 1.48396145948 390\n",
      "5 1.01619817347 97\n",
      "6 1.44006892416 195\n",
      "7 0.871333428868 58\n",
      "8 1.71315872421 264\n",
      "9 1.08694154891 111\n",
      "10 1.1208321981 216\n",
      "11 1.1247589501 201\n",
      "12 1.07645236928 143\n",
      "13 1.1993353979 926\n",
      "14 1.138625528 73\n",
      "15 1.07878842529 275\n",
      "16 1.10375120239 95\n",
      "17 1.18454637278 353\n",
      "18 1.15244082231 433\n",
      "19 0.90388768243 57\n",
      "20 1.09460904994 266\n",
      "21 1.01387839123 56\n",
      "22 1.06255331968 201\n",
      "23 1.0511163794 427\n",
      "24 1.02774415638 239\n",
      "25 0.943166920527 63\n",
      "26 1.09377968088 308\n",
      "27 1.21331499806 451\n",
      "28 1.11179511264 201\n",
      "29 1.25576825121 386\n",
      "30 0.961384142503 83\n",
      "31 1.78133563802 416\n",
      "32 1.01357966653 58\n",
      "33 0.977541170784 74\n",
      "34 1.97314143621 514\n",
      "35 1.11339591348 85\n",
      "36 1.14742451417 242\n",
      "37 1.14382171097 362\n",
      "38 0.982118873578 61\n",
      "39 1.03480081004 202\n",
      "40 1.10079604834 215\n",
      "41 1.20232952206 365\n",
      "42 1.15180514053 94\n",
      "43 0.977124335069 184\n",
      "44 1.09636850414 112\n",
      "45 0.943482074019 65\n",
      "46 1.01857219997 133\n",
      "47 1.08522434076 257\n",
      "48 1.05859682858 125\n",
      "49 1.1299470785 262\n",
      "50 1.07926082835 136\n",
      "51 1.21303782223 336\n",
      "52 1.20385424851 477\n",
      "53 0.927908492576 103\n",
      "54 0.991752153509 74\n",
      "55 1.38447484319 157\n",
      "56 3.84402803498 617\n",
      "57 1.58464906012 117\n",
      "58 1.4298017454 94\n",
      "--------------------------------------------------\n",
      "Loading and Preparing the data\n",
      "Original input shape (300, 195, 179)\n",
      "Padded input shape: (388, 283, 267)\n",
      "# of parts 7 7 5\n",
      "number of tiles: 96 \n",
      "data shape (96, 148, 148, 148)\n",
      "Original input shape (300, 195, 179)\n",
      "Padded input shape: (388, 283, 267)\n",
      "# of parts 7 7 5\n",
      "number of tiles: 96 \n",
      "data shape (96, 148, 148, 148)\n"
     ]
    },
    {
     "name": "stderr",
     "output_type": "stream",
     "text": [
      "100%|██████████| 96/96 [00:00<00:00, 761159.14it/s]"
     ]
    },
    {
     "name": "stdout",
     "output_type": "stream",
     "text": [
      "--------------------------------------------------\n",
      "Starting the segmenter.\n"
     ]
    },
    {
     "name": "stderr",
     "output_type": "stream",
     "text": [
      "\n"
     ]
    },
    {
     "name": "stdout",
     "output_type": "stream",
     "text": [
      "imgs shape (96, 148, 148, 148, 2)\n",
      "Feature shape:  (96, 148, 148, 148, 2)\n",
      "INFO:tensorflow:Restoring parameters from ./models/unet_trained_mix_dropout-05-clahe30_f32/model 4.cpkt\n"
     ]
    },
    {
     "name": "stderr",
     "output_type": "stream",
     "text": [
      "100%|██████████| 96/96 [00:36<00:00,  2.55it/s]\n"
     ]
    },
    {
     "name": "stdout",
     "output_type": "stream",
     "text": [
      "prediction shape: (96, 1, 60, 60, 60, 1)\n",
      "Merging subvolumes\n",
      "--------------------------------------------------\n",
      "Padded input shape: (388, 283, 267)\n",
      "# of parts 7 7 5\n",
      "# of subvolumes merged:  96\n",
      "(array([0, 1, 2, 3], dtype=uint16), array([10463793,     6376,     1287,       44]))\n",
      "(300, 195, 179)\n",
      "Number of regions: 35\n",
      "1 1.02334708534 153\n",
      "2 1.00581173292 98\n",
      "3 0.973794034472 58\n",
      "4 1.00086846344 94\n",
      "5 1.22165731201 686\n",
      "6 1.1208292246 826\n",
      "7 1.23658469983 193\n",
      "8 1.03380132658 115\n",
      "9 2.44964022432 1277\n",
      "10 2.64015613684 1865\n",
      "11 2.36298170596 1813\n",
      "12 1.0146393675 100\n",
      "--------------------------------------------------\n",
      "Loading and Preparing the data\n",
      "Original input shape (300, 195, 179)\n",
      "Padded input shape: (388, 283, 267)\n",
      "# of parts 7 7 5\n",
      "number of tiles: 96 \n",
      "data shape (96, 148, 148, 148)\n",
      "Original input shape (300, 195, 179)\n",
      "Padded input shape: (388, 283, 267)\n",
      "# of parts 7 7 5\n",
      "number of tiles: 96 \n",
      "data shape (96, 148, 148, 148)\n"
     ]
    },
    {
     "name": "stderr",
     "output_type": "stream",
     "text": [
      "100%|██████████| 96/96 [00:00<00:00, 439577.71it/s]"
     ]
    },
    {
     "name": "stdout",
     "output_type": "stream",
     "text": [
      "--------------------------------------------------\n",
      "Starting the segmenter.\n"
     ]
    },
    {
     "name": "stderr",
     "output_type": "stream",
     "text": [
      "\n"
     ]
    },
    {
     "name": "stdout",
     "output_type": "stream",
     "text": [
      "imgs shape (96, 148, 148, 148, 2)\n",
      "Feature shape:  (96, 148, 148, 148, 2)\n",
      "INFO:tensorflow:Restoring parameters from ./models/unet_trained_mix_dropout-05-clahe30_f32/model 4.cpkt\n"
     ]
    },
    {
     "name": "stderr",
     "output_type": "stream",
     "text": [
      "100%|██████████| 96/96 [00:40<00:00,  1.87it/s]\n"
     ]
    },
    {
     "name": "stdout",
     "output_type": "stream",
     "text": [
      "prediction shape: (96, 1, 60, 60, 60, 1)\n",
      "Merging subvolumes\n",
      "--------------------------------------------------\n",
      "Padded input shape: (388, 283, 267)\n",
      "# of parts 7 7 5\n",
      "# of subvolumes merged:  96\n",
      "(array([0, 1, 2, 3, 4, 5, 6], dtype=uint16), array([10454426,    11042,     5486,      115,      373,       17,       41]))\n",
      "(300, 195, 179)\n",
      "Number of regions: 76\n",
      "1 2.15762588459 282\n",
      "2 1.02863046525 59\n",
      "3 1.07742430347 52\n",
      "4 1.74647583453 233\n",
      "5 1.94559309858 476\n",
      "6 1.41527831842 130\n",
      "7 0.997369570728 55\n",
      "8 0.971488500001 78\n",
      "9 0.928392132038 88\n",
      "10 3.80449469443 2079\n",
      "11 3.51122551938 2292\n",
      "12 1.13172196616 167\n",
      "13 3.99629934262 2692\n",
      "14 1.11806446109 116\n",
      "15 1.03634567856 156\n",
      "16 1.16762302012 155\n",
      "17 1.77209306286 306\n",
      "18 1.15825461856 144\n",
      "19 1.16727554843 144\n",
      "20 2.03964434024 988\n",
      "21 1.09449699079 316\n",
      "22 1.01313597674 100\n",
      "23 1.31794379384 1192\n",
      "24 0.945860949197 59\n",
      "25 1.12477306434 277\n",
      "26 1.05388180602 198\n",
      "27 0.958062703093 65\n",
      "28 1.03395390851 256\n",
      "29 0.996891967061 155\n",
      "--------------------------------------------------\n",
      "Loading and Preparing the data\n",
      "Original input shape (300, 195, 166)\n",
      "Padded input shape: (388, 283, 254)\n",
      "# of parts 7 7 5\n",
      "number of tiles: 96 \n",
      "data shape (96, 148, 148, 148)\n",
      "Original input shape (300, 195, 166)\n",
      "Padded input shape: (388, 283, 254)\n",
      "# of parts 7 7 5\n",
      "number of tiles: 96 \n",
      "data shape (96, 148, 148, 148)\n"
     ]
    },
    {
     "name": "stderr",
     "output_type": "stream",
     "text": [
      "100%|██████████| 96/96 [00:00<00:00, 958698.06it/s]"
     ]
    },
    {
     "name": "stdout",
     "output_type": "stream",
     "text": [
      "--------------------------------------------------\n",
      "Starting the segmenter.\n"
     ]
    },
    {
     "name": "stderr",
     "output_type": "stream",
     "text": [
      "\n"
     ]
    },
    {
     "name": "stdout",
     "output_type": "stream",
     "text": [
      "imgs shape (96, 148, 148, 148, 2)\n",
      "Feature shape:  (96, 148, 148, 148, 2)\n",
      "INFO:tensorflow:Restoring parameters from ./models/unet_trained_mix_dropout-05-clahe30_f32/model 4.cpkt\n"
     ]
    },
    {
     "name": "stderr",
     "output_type": "stream",
     "text": [
      "100%|██████████| 96/96 [00:37<00:00,  2.32it/s]\n"
     ]
    },
    {
     "name": "stdout",
     "output_type": "stream",
     "text": [
      "prediction shape: (96, 1, 60, 60, 60, 1)\n",
      "Merging subvolumes\n",
      "--------------------------------------------------\n",
      "Padded input shape: (388, 283, 254)\n",
      "# of parts 7 7 5\n",
      "# of subvolumes merged:  96\n",
      "(array([0, 1, 2, 3, 4], dtype=uint16), array([9702724,    6109,    1808,     303,      56]))\n",
      "(300, 195, 166)\n",
      "Number of regions: 46\n",
      "1 0.900571086929 53\n",
      "2 1.12641023453 77\n",
      "3 0.943084434411 91\n",
      "4 0.98832450191 66\n",
      "5 1.09172542506 274\n",
      "6 1.34124100697 172\n",
      "7 1.85746295917 366\n",
      "8 1.06043336577 129\n",
      "9 1.02879602786 111\n",
      "10 1.05943386723 344\n",
      "11 1.09712349491 438\n",
      "12 3.03748097232 857\n",
      "13 0.958126135094 66\n",
      "14 1.131542999 574\n",
      "15 1.10704701568 522\n",
      "16 0.923792173739 68\n",
      "17 0.998394391793 110\n",
      "18 1.07250946042 103\n",
      "19 1.12413642399 61\n"
     ]
    }
   ],
   "source": [
    "for case in validationCases:\n",
    "    predict_and_save(case)"
   ]
  },
  {
   "cell_type": "code",
   "execution_count": 16,
   "metadata": {},
   "outputs": [
    {
     "name": "stdout",
     "output_type": "stream",
     "text": [
      "--------------------------------------------------\n",
      "Loading and Preparing the data\n",
      "Original input shape (220, 220, 204)\n",
      "Padded input shape: (308, 308, 292)\n",
      "# of parts 6 6 5\n",
      "number of tiles: 125 \n",
      "data shape (125, 148, 148, 148)\n",
      "Original input shape (220, 220, 204)\n",
      "Padded input shape: (308, 308, 292)\n",
      "# of parts 6 6 5\n",
      "number of tiles: 125 \n",
      "data shape (125, 148, 148, 148)\n"
     ]
    },
    {
     "name": "stderr",
     "output_type": "stream",
     "text": [
      "100%|██████████| 125/125 [00:00<00:00, 825650.39it/s]"
     ]
    },
    {
     "name": "stdout",
     "output_type": "stream",
     "text": [
      "--------------------------------------------------\n",
      "Starting the segmenter.\n"
     ]
    },
    {
     "name": "stderr",
     "output_type": "stream",
     "text": [
      "\n"
     ]
    },
    {
     "name": "stdout",
     "output_type": "stream",
     "text": [
      "imgs shape (125, 148, 148, 148, 2)\n",
      "Feature shape:  (125, 148, 148, 148, 2)\n",
      "INFO:tensorflow:Restoring parameters from ./models/unet_trained_mix_dropout-05-clahe30_f32/model 5.cpkt\n"
     ]
    },
    {
     "name": "stderr",
     "output_type": "stream",
     "text": [
      "100%|██████████| 125/125 [00:56<00:00,  2.50it/s]\n"
     ]
    },
    {
     "name": "stdout",
     "output_type": "stream",
     "text": [
      "prediction shape: (125, 1, 60, 60, 60, 1)\n",
      "Merging subvolumes\n",
      "--------------------------------------------------\n",
      "Padded input shape: (308, 308, 292)\n",
      "# of parts 6 6 5\n",
      "# of subvolumes merged:  125\n",
      "(array([0, 1, 2, 3, 4, 5, 6], dtype=uint16), array([9847801,   21688,    2651,    1436,      21,       2,       1]))\n",
      "(220, 220, 204)\n",
      "Number of regions: 95\n",
      "1 2.38153956868 381\n",
      "2 1.093609769 273\n",
      "3 1.1228390753 212\n",
      "4 1.13250899646 354\n",
      "5 1.25116053618 814\n",
      "6 1.07114313448 317\n",
      "7 1.1181439722 192\n",
      "8 1.24653381678 228\n",
      "9 1.08702711799 776\n",
      "10 1.72090621128 1207\n",
      "11 1.09295215791 375\n",
      "12 1.20499343663 1107\n",
      "13 1.11291849487 362\n",
      "14 1.08349993003 445\n",
      "15 1.03702757345 160\n",
      "16 1.12289795898 398\n",
      "17 1.12680020226 692\n",
      "18 2.28234143434 1233\n",
      "19 2.80049928738 840\n",
      "20 1.11545556484 811\n",
      "21 1.67531219544 704\n",
      "22 1.24011093843 938\n",
      "23 1.21915449635 115\n",
      "24 1.15467514923 1156\n",
      "25 0.94662267129 79\n",
      "26 2.71464288086 1396\n",
      "27 1.12917407491 112\n",
      "28 1.08665784329 70\n",
      "29 1.13586822945 702\n",
      "30 1.10940461747 1050\n",
      "31 2.59732949841 2336\n",
      "32 1.02043199247 201\n",
      "33 1.05847096133 92\n",
      "34 1.02432569296 75\n",
      "35 0.991576696543 70\n",
      "36 1.01028969963 98\n",
      "37 1.2418507405 469\n",
      "38 2.95509543678 1137\n",
      "39 0.94895124996 63\n",
      "40 1.08531059928 82\n",
      "41 1.14893962298 114\n",
      "42 1.84547195973 138\n",
      "43 1.37749059207 88\n",
      "44 1.14637990692 127\n",
      "--------------------------------------------------\n",
      "Loading and Preparing the data\n",
      "Original input shape (300, 195, 191)\n",
      "Padded input shape: (388, 283, 279)\n",
      "# of parts 7 7 5\n",
      "number of tiles: 96 \n",
      "data shape (96, 148, 148, 148)\n",
      "Original input shape (300, 195, 191)\n",
      "Padded input shape: (388, 283, 279)\n",
      "# of parts 7 7 5\n",
      "number of tiles: 96 \n",
      "data shape (96, 148, 148, 148)\n"
     ]
    },
    {
     "name": "stderr",
     "output_type": "stream",
     "text": [
      "100%|██████████| 96/96 [00:00<00:00, 131543.02it/s]"
     ]
    },
    {
     "name": "stdout",
     "output_type": "stream",
     "text": [
      "--------------------------------------------------\n",
      "Starting the segmenter.\n"
     ]
    },
    {
     "name": "stderr",
     "output_type": "stream",
     "text": [
      "\n"
     ]
    },
    {
     "name": "stdout",
     "output_type": "stream",
     "text": [
      "imgs shape (96, 148, 148, 148, 2)\n",
      "Feature shape:  (96, 148, 148, 148, 2)\n",
      "INFO:tensorflow:Restoring parameters from ./models/unet_trained_mix_dropout-05-clahe30_f32/model 5.cpkt\n"
     ]
    },
    {
     "name": "stderr",
     "output_type": "stream",
     "text": [
      "100%|██████████| 96/96 [00:42<00:00,  2.57it/s]\n"
     ]
    },
    {
     "name": "stdout",
     "output_type": "stream",
     "text": [
      "prediction shape: (96, 1, 60, 60, 60, 1)\n",
      "Merging subvolumes\n",
      "--------------------------------------------------\n",
      "Padded input shape: (388, 283, 279)\n",
      "# of parts 7 7 5\n",
      "# of subvolumes merged:  96\n",
      "(array([0, 1, 2, 3, 4, 5, 6, 7, 8], dtype=uint16), array([11158612,     8700,     2678,     1089,     2254,       94,\n",
      "             38,       26,        9]))\n",
      "(300, 195, 191)\n",
      "Number of regions: 43\n",
      "1 1.12683864877 153\n",
      "2 0.914007488551 93\n",
      "3 1.35710348167 474\n",
      "4 0.989136649154 64\n",
      "5 1.11355326443 620\n",
      "6 1.08622545468 574\n",
      "7 1.07895610794 444\n",
      "8 1.00882147404 76\n",
      "9 1.06264432326 126\n",
      "10 1.11084522808 196\n",
      "11 1.34581191833 110\n",
      "12 1.05179604345 61\n",
      "13 1.08288343321 110\n",
      "14 1.00166375313 86\n",
      "15 2.8502815031 1815\n",
      "16 1.12036773585 802\n",
      "17 1.11824762619 805\n",
      "18 1.17280033792 766\n",
      "19 1.07847369018 828\n",
      "20 0.948846526053 67\n",
      "21 1.02577706719 113\n",
      "--------------------------------------------------\n",
      "Loading and Preparing the data\n",
      "Original input shape (319, 319, 220)\n",
      "Padded input shape: (407, 407, 308)\n",
      "# of parts 7 7 6\n",
      "number of tiles: 245 \n",
      "data shape (245, 148, 148, 148)\n",
      "Original input shape (319, 319, 220)\n",
      "Padded input shape: (407, 407, 308)\n",
      "# of parts 7 7 6\n",
      "number of tiles: 245 \n",
      "data shape (245, 148, 148, 148)\n"
     ]
    },
    {
     "name": "stderr",
     "output_type": "stream",
     "text": [
      "100%|██████████| 245/245 [00:00<00:00, 1102579.91it/s]"
     ]
    },
    {
     "name": "stdout",
     "output_type": "stream",
     "text": [
      "--------------------------------------------------\n",
      "Starting the segmenter.\n"
     ]
    },
    {
     "name": "stderr",
     "output_type": "stream",
     "text": [
      "\n"
     ]
    },
    {
     "name": "stdout",
     "output_type": "stream",
     "text": [
      "imgs shape (245, 148, 148, 148, 2)\n",
      "Feature shape:  (245, 148, 148, 148, 2)\n",
      "INFO:tensorflow:Restoring parameters from ./models/unet_trained_mix_dropout-05-clahe30_f32/model 5.cpkt\n"
     ]
    },
    {
     "name": "stderr",
     "output_type": "stream",
     "text": [
      "100%|██████████| 245/245 [01:40<00:00,  2.59it/s]\n"
     ]
    },
    {
     "name": "stdout",
     "output_type": "stream",
     "text": [
      "prediction shape: (245, 1, 60, 60, 60, 1)\n",
      "Merging subvolumes\n",
      "--------------------------------------------------\n",
      "Padded input shape: (407, 407, 308)\n",
      "# of parts 7 7 6\n",
      "# of subvolumes merged:  245\n",
      "(array([0, 1, 2, 3], dtype=uint16), array([22377834,     9440,       36,      110]))\n",
      "(319, 319, 220)\n",
      "Number of regions: 35\n",
      "1 2.75415777664 440\n",
      "2 0.958465043059 74\n",
      "3 1.05409727428 190\n",
      "4 1.01509114766 132\n",
      "5 2.16910435777 1096\n",
      "6 1.12314136338 333\n",
      "7 1.07016822832 134\n",
      "8 1.07382002294 137\n",
      "9 1.00608888793 95\n",
      "10 1.10937917918 582\n",
      "11 1.06624199159 119\n",
      "12 1.09510772297 619\n",
      "13 0.964160450633 64\n",
      "14 1.12418258231 683\n",
      "15 1.10125371609 736\n",
      "16 1.15520018706 775\n",
      "17 1.02833033435 131\n",
      "18 1.1199639177 574\n",
      "19 1.16176050466 624\n",
      "20 1.07907222484 219\n"
     ]
    }
   ],
   "source": [
    "for case in testingCases:\n",
    "    predict_and_save(case)"
   ]
  },
  {
   "cell_type": "code",
   "execution_count": 25,
   "metadata": {},
   "outputs": [],
   "source": [
    "for case in validationCases:\n",
    "    save_case(case)"
   ]
  },
  {
   "cell_type": "code",
   "execution_count": 27,
   "metadata": {},
   "outputs": [
    {
     "name": "stdout",
     "output_type": "stream",
     "text": [
      "--------------------------------------------------\n",
      "Loading and Preparing the data\n",
      "Original input shape (300, 195, 230)\n",
      "Padded input shape: (388, 283, 318)\n",
      "# of parts 7 7 6\n",
      "number of tiles: 120 \n",
      "data shape (120, 148, 148, 148)\n",
      "Original input shape (300, 195, 230)\n",
      "Padded input shape: (388, 283, 318)\n",
      "# of parts 7 7 6\n",
      "number of tiles: 120 \n",
      "data shape (120, 148, 148, 148)\n"
     ]
    },
    {
     "name": "stderr",
     "output_type": "stream",
     "text": [
      "100%|██████████| 120/120 [00:00<00:00, 1157049.38it/s]"
     ]
    },
    {
     "name": "stdout",
     "output_type": "stream",
     "text": [
      "--------------------------------------------------\n",
      "Starting the segmenter.\n"
     ]
    },
    {
     "name": "stderr",
     "output_type": "stream",
     "text": [
      "\n"
     ]
    },
    {
     "name": "stdout",
     "output_type": "stream",
     "text": [
      "imgs shape (120, 148, 148, 148, 2)\n",
      "Feature shape:  (120, 148, 148, 148, 2)\n",
      "INFO:tensorflow:Restoring parameters from ./models/unet_trained_mix_dropout-05-clahe30_f32/model 36.cpkt\n"
     ]
    },
    {
     "name": "stderr",
     "output_type": "stream",
     "text": [
      "100%|██████████| 120/120 [00:58<00:00,  2.15it/s]\n"
     ]
    },
    {
     "name": "stdout",
     "output_type": "stream",
     "text": [
      "prediction shape: (120, 1, 60, 60, 60, 1)\n",
      "Merging subvolumes\n",
      "--------------------------------------------------\n",
      "Padded input shape: (388, 283, 318)\n",
      "# of parts 7 7 6\n",
      "# of subvolumes merged:  120\n",
      "(array([0, 1, 2, 3, 4, 5, 6], dtype=uint16), array([13428109,    20812,     5193,      521,      206,       96,       63]))\n",
      "(300, 195, 230)\n",
      "Number of regions: 92\n",
      "1 0.98763646574 51\n",
      "2 1.02812529399 105\n",
      "3 1.04107969125 72\n",
      "4 1.0012851112 121\n",
      "5 1.05151365476 109\n",
      "6 1.12319180549 1009\n",
      "7 1.10252404356 853\n",
      "8 1.09312485648 217\n",
      "9 0.9555976602 124\n",
      "10 2.89284458249 1270\n",
      "11 1.17048515054 933\n",
      "12 1.00609381915 85\n",
      "13 1.08516779962 181\n",
      "14 1.0064805911 101\n",
      "15 1.03475136384 132\n",
      "16 1.2745450089 239\n",
      "17 1.13800702657 369\n",
      "18 1.09530288982 285\n",
      "19 1.32960747025 306\n",
      "20 1.1024755718 655\n",
      "21 1.09802860691 278\n",
      "22 3.37097576361 2096\n",
      "23 1.14908229273 507\n",
      "24 0.994609393359 130\n",
      "25 1.08047846948 276\n",
      "26 1.1048067992 746\n",
      "27 0.924951826031 54\n",
      "28 0.961881228976 73\n",
      "29 1.07492767629 88\n",
      "30 2.90763647956 481\n",
      "31 1.04583439235 226\n",
      "32 1.18272721137 78\n",
      "33 1.18577876954 211\n",
      "34 1.33911029261 412\n",
      "35 1.87770727501 259\n",
      "36 1.04514158409 66\n",
      "37 3.55428306175 764\n",
      "38 1.30355468759 123\n",
      "High five! You successfuly sent some data to your account on plotly. View your plot in your browser at https://plot.ly/~gpernelle/0 or inside your plot.ly account where it is named 'simple-3d-scatter'\n"
     ]
    }
   ],
   "source": [
    "predict_and_plot3d('071')"
   ]
  },
  {
   "cell_type": "code",
   "execution_count": null,
   "metadata": {
    "collapsed": true
   },
   "outputs": [],
   "source": []
  }
 ],
 "metadata": {
  "anaconda-cloud": {},
  "kernelspec": {
   "display_name": "Python 3",
   "language": "python",
   "name": "python3"
  },
  "language_info": {
   "codemirror_mode": {
    "name": "ipython",
    "version": 3
   },
   "file_extension": ".py",
   "mimetype": "text/x-python",
   "name": "python",
   "nbconvert_exporter": "python",
   "pygments_lexer": "ipython3",
   "version": "3.6.2"
  }
 },
 "nbformat": 4,
 "nbformat_minor": 1
}
