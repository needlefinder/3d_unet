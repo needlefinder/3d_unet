{
 "cells": [
  {
   "cell_type": "code",
   "execution_count": 2,
   "metadata": {
    "collapsed": true
   },
   "outputs": [],
   "source": [
    "%matplotlib inline\n",
    "from fns import *\n",
    "from syntheticdata import synthetic_generation\n",
    "# import ipyvolume"
   ]
  },
  {
   "cell_type": "code",
   "execution_count": 3,
   "metadata": {
    "collapsed": true
   },
   "outputs": [],
   "source": [
    "import plotly\n",
    "plotly.tools.set_credentials_file(username='gpernelle', api_key='4KIdNJBBApIeebdKxyN9')\n",
    "import plotly.plotly as py\n",
    "import plotly.graph_objs as go\n"
   ]
  },
  {
   "cell_type": "code",
   "execution_count": 4,
   "metadata": {
    "collapsed": true
   },
   "outputs": [],
   "source": [
    "def dice(logits, labels):\n",
    "        flat_logits = logits.flatten()\n",
    "        flat_labels = labels.flatten()\n",
    "        intersection = np.sum(flat_logits*flat_labels)\n",
    "        union = np.sum(flat_logits) + np.sum(flat_labels)\n",
    "        loss = 1 - 2 * intersection / union\n",
    "        return loss"
   ]
  },
  {
   "cell_type": "markdown",
   "metadata": {
    "collapsed": true
   },
   "source": [
    "### Predict"
   ]
  },
  {
   "cell_type": "code",
   "execution_count": 5,
   "metadata": {
    "collapsed": true,
    "scrolled": false
   },
   "outputs": [],
   "source": [
    "def predict_case(caseNumber):\n",
    "    case=str(caseNumber)\n",
    "    image_name = '/home/gp1514/SSD/preprocessed_data/LabelMapsNEW2_1.00-1.00-1.00_split2/%s/case.nrrd'%case\n",
    "    label_name = '/home/gp1514/SSD/preprocessed_data/LabelMapsNEW2_1.00-1.00-1.00/%s/needles.nrrd'%case\n",
    "\n",
    "    data, options_ = nrrd.read(image_name)\n",
    "    data = data.astype(np.float32)\n",
    "    data1, options = nrrd.read(image_name.replace('_split2', ''))\n",
    "    data1 = data1.astype(np.float32)\n",
    "\n",
    "    label_data, options_ = nrrd.read(label_name)\n",
    "\n",
    "    prediction = predict([data1,data], \"./models/unet_trained_mix_dropout-05-clahe30_f32\")\n",
    "    return label_data, prediction, options\n",
    "\n",
    "\n",
    "def save_case(caseNumber):\n",
    "    case=str(caseNumber)\n",
    "    image_name = '/home/gp1514/SSD/preprocessed_data/LabelMapsNEW2_1.00-1.00-1.00_split2/%s/case.nrrd'%case\n",
    "    data1, options = nrrd.read(image_name.replace('_split2', ''))\n",
    "    data1 = data1.astype(np.float32)\n",
    "    nrrd.write('predictions/case_%s.nrrd'%str(caseNumber), data1, options=options)\n",
    "\n"
   ]
  },
  {
   "cell_type": "code",
   "execution_count": 9,
   "metadata": {
    "collapsed": true
   },
   "outputs": [],
   "source": [
    "def predict_and_save(caseNumber):\n",
    "    label_data, prediction, options = predict_case(caseNumber)\n",
    "    dice(prediction, label_data)\n",
    "    islands = post_processing(prediction, min_area=int(50), max_residual=float(4))\n",
    "    nrrd.write('predictions/%s.nrrd'%str(caseNumber), islands, options=options)\n",
    "\n",
    "def predict_and_plot3d(caseNumber):\n",
    "    label_data, prediction, options = predict_case(caseNumber)\n",
    "    dice(prediction, label_data)\n",
    "    islands = post_processing(prediction, min_area=int(100), max_residual=float(4))\n",
    "    nrrd.write('predictions/%s.nrrd'%str(caseNumber), islands, options=options)\n",
    "    x,y,z = np.where(label_data == 1)\n",
    "    xs,ys,zs = np.where(islands != 0)\n",
    "\n",
    "    x,y,z = np.where(label_data == 1)\n",
    "    xs,ys,zs = np.where(islands != 0)\n",
    "\n",
    "    trace1 = go.Scatter3d(\n",
    "        x=x,\n",
    "        y=y,\n",
    "        z=z,\n",
    "        mode='markers',\n",
    "        marker=dict(\n",
    "            size=3,\n",
    "            line=dict(\n",
    "                color='green',\n",
    "                width=2\n",
    "            ),\n",
    "            opacity=0.3\n",
    "        )\n",
    "    )\n",
    "\n",
    "    trace2 = go.Scatter3d(\n",
    "        x=xs,\n",
    "        y=ys,\n",
    "        z=zs,\n",
    "        mode='markers',\n",
    "        marker=dict(\n",
    "            color='red',\n",
    "            size=3,\n",
    "            symbol='circle',\n",
    "            line=dict(\n",
    "                color='rgb(204, 204, 204)',\n",
    "                width=1\n",
    "            ),\n",
    "            opacity=0.3\n",
    "        )\n",
    "    )\n",
    "    data = [trace1, trace2]\n",
    "    layout = go.Layout(\n",
    "        title=str(caseNumber),\n",
    "        margin=dict(\n",
    "            l=0,\n",
    "            r=0,\n",
    "            b=0,\n",
    "            t=100\n",
    "        )\n",
    "    )\n",
    "\n",
    "    fig = go.Figure(data=data, layout=layout)\n",
    "    py.iplot(fig, filename=str(caseNumber))"
   ]
  },
  {
   "cell_type": "code",
   "execution_count": 7,
   "metadata": {
    "collapsed": true
   },
   "outputs": [],
   "source": [
    "validationCases = loadCases(\"preprocessing/validation.txt\")\n",
    "testingCases = loadCases(\"preprocessing/testing.txt\")"
   ]
  },
  {
   "cell_type": "code",
   "execution_count": 9,
   "metadata": {},
   "outputs": [
    {
     "data": {
      "text/plain": [
       "['021', '023', '037', '038', '070', '071', '072', '074', '075', '076', '077']"
      ]
     },
     "execution_count": 9,
     "metadata": {},
     "output_type": "execute_result"
    }
   ],
   "source": [
    "validationCases"
   ]
  },
  {
   "cell_type": "code",
   "execution_count": 10,
   "metadata": {},
   "outputs": [
    {
     "data": {
      "text/plain": [
       "['028', '051', '054']"
      ]
     },
     "execution_count": 10,
     "metadata": {},
     "output_type": "execute_result"
    }
   ],
   "source": [
    "testingCases"
   ]
  },
  {
   "cell_type": "code",
   "execution_count": 11,
   "metadata": {},
   "outputs": [
    {
     "name": "stdout",
     "output_type": "stream",
     "text": [
      "--------------------------------------------------\n",
      "Loading and Preparing the data\n",
      "Original input shape (200, 200, 77)\n",
      "Padded input shape: (288, 288, 165)\n",
      "# of parts 5 5 3\n",
      "number of tiles: 75 \n",
      "data shape (75, 148, 148, 148)\n",
      "Original input shape (200, 200, 77)\n",
      "Padded input shape: (288, 288, 165)\n",
      "# of parts 5 5 3\n",
      "number of tiles: 75 \n",
      "data shape (75, 148, 148, 148)\n"
     ]
    },
    {
     "name": "stderr",
     "output_type": "stream",
     "text": [
      "100%|██████████| 75/75 [00:00<00:00, 944663.06it/s]"
     ]
    },
    {
     "name": "stdout",
     "output_type": "stream",
     "text": [
      "--------------------------------------------------\n",
      "Starting the segmenter.\n"
     ]
    },
    {
     "name": "stderr",
     "output_type": "stream",
     "text": [
      "\n"
     ]
    },
    {
     "name": "stdout",
     "output_type": "stream",
     "text": [
      "imgs shape (75, 148, 148, 148, 2)\n",
      "Feature shape:  (75, 148, 148, 148, 2)\n",
      "INFO:tensorflow:Restoring parameters from ./models/unet_trained_mix_dropout-05-clahe30_f32/model 50.cpkt\n"
     ]
    },
    {
     "name": "stderr",
     "output_type": "stream",
     "text": [
      "100%|██████████| 75/75 [00:09<00:00,  7.70it/s]\n"
     ]
    },
    {
     "name": "stdout",
     "output_type": "stream",
     "text": [
      "prediction shape: (75, 1, 60, 60, 60, 1)\n",
      "Merging subvolumes\n",
      "--------------------------------------------------\n",
      "Padded input shape: (288, 288, 165)\n",
      "# of parts 5 5 3\n",
      "# of subvolumes merged:  75\n",
      "(array([ 0,  1,  2,  3,  4,  5,  6,  7,  8,  9, 10, 11, 12, 13, 14, 15, 16,\n",
      "       17, 18], dtype=uint16), array([3074765,    2040,     726,    1056,     215,     207,     331,\n",
      "            46,      44,      38,      47,      37,      55,      60,\n",
      "            44,      48,      44,      85,     112]))\n",
      "(200, 200, 77)\n",
      "Number of regions: 37\n",
      "1 1.95342312477 151\n",
      "2 1.19406364806 227\n",
      "3 1.14619730123 366\n",
      "4 1.15749784846 247\n",
      "5 1.14085874575 191\n",
      "6 1.10449033882 169\n",
      "7 1.09305605204 113\n",
      "8 2.19508855661 246\n",
      "9 1.06578685487 107\n",
      "10 1.05190114476 195\n",
      "11 1.05835499086 118\n",
      "12 1.92607878772 341\n",
      "13 1.59773998413 225\n",
      "--------------------------------------------------\n",
      "Loading and Preparing the data\n",
      "Original input shape (200, 200, 240)\n",
      "Padded input shape: (288, 288, 328)\n",
      "# of parts 5 5 6\n",
      "number of tiles: 125 \n",
      "data shape (125, 148, 148, 148)\n",
      "Original input shape (200, 200, 240)\n",
      "Padded input shape: (288, 288, 328)\n",
      "# of parts 5 5 6\n",
      "number of tiles: 125 \n",
      "data shape (125, 148, 148, 148)\n"
     ]
    },
    {
     "name": "stderr",
     "output_type": "stream",
     "text": [
      "100%|██████████| 125/125 [00:00<00:00, 788403.01it/s]"
     ]
    },
    {
     "name": "stdout",
     "output_type": "stream",
     "text": [
      "--------------------------------------------------\n",
      "Starting the segmenter.\n"
     ]
    },
    {
     "name": "stderr",
     "output_type": "stream",
     "text": [
      "\n"
     ]
    },
    {
     "name": "stdout",
     "output_type": "stream",
     "text": [
      "imgs shape (125, 148, 148, 148, 2)\n",
      "Feature shape:  (125, 148, 148, 148, 2)\n",
      "INFO:tensorflow:Restoring parameters from ./models/unet_trained_mix_dropout-05-clahe30_f32/model 50.cpkt\n"
     ]
    },
    {
     "name": "stderr",
     "output_type": "stream",
     "text": [
      "100%|██████████| 125/125 [00:16<00:00,  7.64it/s]\n"
     ]
    },
    {
     "name": "stdout",
     "output_type": "stream",
     "text": [
      "prediction shape: (125, 1, 60, 60, 60, 1)\n",
      "Merging subvolumes\n",
      "--------------------------------------------------\n",
      "Padded input shape: (288, 288, 328)\n",
      "# of parts 5 5 6\n",
      "# of subvolumes merged:  125\n",
      "(array([0, 1, 2, 3, 4, 5, 6], dtype=uint16), array([9579306,   14756,    2310,    1369,     965,     729,     565]))\n",
      "(200, 200, 240)\n",
      "Number of regions: 67\n",
      "1 3.78211384823 2141\n",
      "2 1.29181700644 461\n",
      "3 1.13741951308 220\n",
      "4 1.08672351058 148\n",
      "5 1.07070466014 106\n",
      "6 1.03467650031 283\n",
      "7 2.62782622164 722\n",
      "8 1.0506065525 175\n",
      "9 1.13835058213 263\n",
      "10 1.08502525471 289\n",
      "11 1.09582160534 284\n",
      "12 2.18764155801 1114\n",
      "13 3.02316533574 508\n",
      "14 1.10477822656 316\n",
      "15 2.75084040593 1553\n",
      "16 1.10524508031 358\n",
      "17 1.13106046258 264\n",
      "18 1.85694822166 493\n",
      "19 1.08048129799 153\n",
      "20 2.91543600135 1659\n",
      "21 1.10982688284 560\n",
      "22 1.13111903715 335\n",
      "23 1.05476950543 207\n",
      "24 1.04415495507 130\n",
      "25 1.21691135356 424\n",
      "26 1.55592658523 480\n",
      "27 1.9775188957 157\n",
      "28 1.03468594507 132\n",
      "29 1.78831970034 118\n",
      "--------------------------------------------------\n",
      "Loading and Preparing the data\n",
      "Original input shape (300, 195, 153)\n",
      "Padded input shape: (388, 283, 241)\n",
      "# of parts 7 7 5\n",
      "number of tiles: 96 \n",
      "data shape (96, 148, 148, 148)\n",
      "Original input shape (300, 195, 153)\n",
      "Padded input shape: (388, 283, 241)\n",
      "# of parts 7 7 5\n",
      "number of tiles: 96 \n",
      "data shape (96, 148, 148, 148)\n"
     ]
    },
    {
     "name": "stderr",
     "output_type": "stream",
     "text": [
      "100%|██████████| 96/96 [00:00<00:00, 783371.95it/s]"
     ]
    },
    {
     "name": "stdout",
     "output_type": "stream",
     "text": [
      "--------------------------------------------------\n",
      "Starting the segmenter.\n"
     ]
    },
    {
     "name": "stderr",
     "output_type": "stream",
     "text": [
      "\n"
     ]
    },
    {
     "name": "stdout",
     "output_type": "stream",
     "text": [
      "imgs shape (96, 148, 148, 148, 2)\n",
      "Feature shape:  (96, 148, 148, 148, 2)\n",
      "INFO:tensorflow:Restoring parameters from ./models/unet_trained_mix_dropout-05-clahe30_f32/model 50.cpkt\n"
     ]
    },
    {
     "name": "stderr",
     "output_type": "stream",
     "text": [
      "100%|██████████| 96/96 [00:12<00:00,  7.68it/s]\n"
     ]
    },
    {
     "name": "stdout",
     "output_type": "stream",
     "text": [
      "prediction shape: (96, 1, 60, 60, 60, 1)\n",
      "Merging subvolumes\n",
      "--------------------------------------------------\n",
      "Padded input shape: (388, 283, 241)\n",
      "# of parts 7 7 5\n",
      "# of subvolumes merged:  96\n",
      "(array([ 0,  1,  2,  3,  4,  5,  6,  7,  8,  9, 10, 11, 12], dtype=uint16), array([8928452,   10134,    4318,    2948,    1354,     916,     795,\n",
      "           260,     413,      85,     177,     354,     294]))\n",
      "(300, 195, 153)\n",
      "Number of regions: 77\n",
      "1 1.0167895948 108\n",
      "2 1.03441018098 127\n",
      "3 1.04355693245 140\n",
      "4 1.12715884429 192\n",
      "5 1.08335145207 147\n",
      "6 1.3069535606 548\n",
      "7 1.14093626349 282\n",
      "8 1.19328226331 133\n",
      "9 1.18415175077 617\n",
      "10 1.17125112054 382\n",
      "11 1.09124699072 114\n",
      "12 1.1399359383 703\n",
      "13 1.27921295515 660\n",
      "14 1.10110059338 290\n",
      "15 1.16959597174 322\n",
      "16 1.11493056921 169\n",
      "17 1.19119655147 186\n",
      "18 1.0974903578 112\n",
      "19 1.11836210719 161\n",
      "20 1.1268581106 152\n",
      "21 1.30189633947 679\n",
      "22 1.00289929718 131\n",
      "23 1.20848415586 305\n",
      "24 1.39734460217 242\n",
      "25 1.23017872615 311\n",
      "26 1.14185142157 213\n",
      "27 3.37272526786 902\n",
      "--------------------------------------------------\n",
      "Loading and Preparing the data\n",
      "Original input shape (319, 319, 128)\n",
      "Padded input shape: (407, 407, 216)\n",
      "# of parts 7 7 4\n",
      "number of tiles: 147 \n",
      "data shape (147, 148, 148, 148)\n",
      "Original input shape (319, 319, 128)\n",
      "Padded input shape: (407, 407, 216)\n",
      "# of parts 7 7 4\n",
      "number of tiles: 147 \n",
      "data shape (147, 148, 148, 148)\n"
     ]
    },
    {
     "name": "stderr",
     "output_type": "stream",
     "text": [
      "100%|██████████| 147/147 [00:00<00:00, 961876.27it/s]"
     ]
    },
    {
     "name": "stdout",
     "output_type": "stream",
     "text": [
      "--------------------------------------------------\n",
      "Starting the segmenter.\n"
     ]
    },
    {
     "name": "stderr",
     "output_type": "stream",
     "text": [
      "\n"
     ]
    },
    {
     "name": "stdout",
     "output_type": "stream",
     "text": [
      "imgs shape (147, 148, 148, 148, 2)\n",
      "Feature shape:  (147, 148, 148, 148, 2)\n",
      "INFO:tensorflow:Restoring parameters from ./models/unet_trained_mix_dropout-05-clahe30_f32/model 50.cpkt\n"
     ]
    },
    {
     "name": "stderr",
     "output_type": "stream",
     "text": [
      "100%|██████████| 147/147 [00:19<00:00,  7.63it/s]\n"
     ]
    },
    {
     "name": "stdout",
     "output_type": "stream",
     "text": [
      "prediction shape: (147, 1, 60, 60, 60, 1)\n",
      "Merging subvolumes\n",
      "--------------------------------------------------\n",
      "Padded input shape: (407, 407, 216)\n",
      "# of parts 7 7 4\n",
      "# of subvolumes merged:  147\n",
      "(array([0, 1, 2, 3, 4], dtype=uint16), array([13008376,     9082,     5701,     1260,      989]))\n",
      "(319, 319, 128)\n",
      "Number of regions: 39\n",
      "1 1.0245349693 143\n",
      "2 1.20556968915 1014\n",
      "3 1.18217152899 918\n",
      "4 3.06052096797 2068\n",
      "5 1.13937277286 885\n",
      "6 1.19835356068 855\n",
      "7 1.06082426662 172\n",
      "8 2.25714950007 1167\n",
      "9 1.06392658291 154\n",
      "10 1.13257985134 200\n",
      "11 1.30148126976 316\n",
      "12 1.05673152606 169\n",
      "13 1.30240596805 882\n",
      "--------------------------------------------------\n",
      "Loading and Preparing the data\n",
      "Original input shape (300, 195, 230)\n",
      "Padded input shape: (388, 283, 318)\n",
      "# of parts 7 7 6\n",
      "number of tiles: 120 \n",
      "data shape (120, 148, 148, 148)\n",
      "Original input shape (300, 195, 230)\n",
      "Padded input shape: (388, 283, 318)\n",
      "# of parts 7 7 6\n",
      "number of tiles: 120 \n",
      "data shape (120, 148, 148, 148)\n"
     ]
    },
    {
     "name": "stderr",
     "output_type": "stream",
     "text": [
      "100%|██████████| 120/120 [00:00<00:00, 1154395.60it/s]"
     ]
    },
    {
     "name": "stdout",
     "output_type": "stream",
     "text": [
      "--------------------------------------------------\n",
      "Starting the segmenter.\n"
     ]
    },
    {
     "name": "stderr",
     "output_type": "stream",
     "text": [
      "\n"
     ]
    },
    {
     "name": "stdout",
     "output_type": "stream",
     "text": [
      "imgs shape (120, 148, 148, 148, 2)\n",
      "Feature shape:  (120, 148, 148, 148, 2)\n",
      "INFO:tensorflow:Restoring parameters from ./models/unet_trained_mix_dropout-05-clahe30_f32/model 50.cpkt\n"
     ]
    },
    {
     "name": "stderr",
     "output_type": "stream",
     "text": [
      "100%|██████████| 120/120 [00:15<00:00,  7.65it/s]\n"
     ]
    },
    {
     "name": "stdout",
     "output_type": "stream",
     "text": [
      "prediction shape: (120, 1, 60, 60, 60, 1)\n",
      "Merging subvolumes\n",
      "--------------------------------------------------\n",
      "Padded input shape: (388, 283, 318)\n",
      "# of parts 7 7 6\n",
      "# of subvolumes merged:  120\n",
      "(array([0, 1, 2, 3, 4], dtype=uint16), array([13438003,    15537,     1051,      394,       15]))\n",
      "(300, 195, 230)\n",
      "Number of regions: 59\n",
      "1 1.17572849735 165\n",
      "2 0.996255009489 124\n",
      "3 1.20051979029 220\n",
      "4 1.12525175199 710\n",
      "5 1.12757640128 617\n",
      "6 1.15349456376 490\n",
      "7 1.27658956824 287\n",
      "8 1.1599595623 417\n",
      "9 1.2639726879 433\n",
      "10 1.11642238 409\n",
      "11 1.06633612332 242\n",
      "12 1.09930845054 152\n",
      "13 1.18947722218 319\n",
      "14 1.08111474968 274\n",
      "15 1.33103174545 265\n",
      "16 1.11422052245 883\n",
      "17 1.09399595834 310\n",
      "18 1.26113504963 1043\n",
      "19 1.29501802128 542\n",
      "20 1.67024902666 137\n",
      "--------------------------------------------------\n",
      "Loading and Preparing the data\n",
      "Original input shape (300, 195, 230)\n",
      "Padded input shape: (388, 283, 318)\n",
      "# of parts 7 7 6\n",
      "number of tiles: 120 \n",
      "data shape (120, 148, 148, 148)\n",
      "Original input shape (300, 195, 230)\n",
      "Padded input shape: (388, 283, 318)\n",
      "# of parts 7 7 6\n",
      "number of tiles: 120 \n",
      "data shape (120, 148, 148, 148)\n"
     ]
    },
    {
     "name": "stderr",
     "output_type": "stream",
     "text": [
      "100%|██████████| 120/120 [00:00<00:00, 939023.28it/s]"
     ]
    },
    {
     "name": "stdout",
     "output_type": "stream",
     "text": [
      "--------------------------------------------------\n",
      "Starting the segmenter.\n"
     ]
    },
    {
     "name": "stderr",
     "output_type": "stream",
     "text": [
      "\n"
     ]
    },
    {
     "name": "stdout",
     "output_type": "stream",
     "text": [
      "imgs shape (120, 148, 148, 148, 2)\n",
      "Feature shape:  (120, 148, 148, 148, 2)\n",
      "INFO:tensorflow:Restoring parameters from ./models/unet_trained_mix_dropout-05-clahe30_f32/model 50.cpkt\n"
     ]
    },
    {
     "name": "stderr",
     "output_type": "stream",
     "text": [
      "100%|██████████| 120/120 [00:15<00:00,  7.61it/s]\n"
     ]
    },
    {
     "name": "stdout",
     "output_type": "stream",
     "text": [
      "prediction shape: (120, 1, 60, 60, 60, 1)\n",
      "Merging subvolumes\n",
      "--------------------------------------------------\n",
      "Padded input shape: (388, 283, 318)\n",
      "# of parts 7 7 6\n",
      "# of subvolumes merged:  120\n",
      "(array([0, 1, 2, 3, 4, 5, 6], dtype=uint16), array([13425250,    20833,     7906,      488,      147,      122,      254]))\n",
      "(300, 195, 230)\n",
      "Number of regions: 67\n",
      "1 1.10094976663 270\n",
      "2 1.13090289141 130\n",
      "3 1.11717666466 866\n",
      "4 1.14252009407 1025\n",
      "5 2.69747626717 1691\n",
      "6 1.18969863793 963\n",
      "7 1.04843482173 137\n",
      "8 1.15483879522 506\n",
      "9 1.10959184441 327\n",
      "10 1.1341519378 327\n",
      "11 1.26736905323 424\n",
      "12 1.1401923701 792\n",
      "13 1.12813797646 291\n",
      "14 1.26475906046 155\n",
      "15 1.13521349506 1024\n",
      "16 1.13906526801 494\n",
      "17 1.14618351165 690\n",
      "18 1.14506294407 917\n",
      "19 1.10390041993 753\n",
      "20 1.14882541775 297\n",
      "21 0.932077868634 108\n",
      "22 1.48589031729 207\n",
      "23 1.47955237507 441\n",
      "24 1.26515671352 149\n",
      "25 1.22634934475 315\n",
      "26 3.33912887747 480\n",
      "--------------------------------------------------\n",
      "Loading and Preparing the data\n",
      "Original input shape (300, 195, 192)\n",
      "Padded input shape: (388, 283, 280)\n",
      "# of parts 7 7 5\n",
      "number of tiles: 96 \n",
      "data shape (96, 148, 148, 148)\n",
      "Original input shape (300, 195, 192)\n",
      "Padded input shape: (388, 283, 280)\n",
      "# of parts 7 7 5\n",
      "number of tiles: 96 \n",
      "data shape (96, 148, 148, 148)\n"
     ]
    },
    {
     "name": "stderr",
     "output_type": "stream",
     "text": [
      "100%|██████████| 96/96 [00:00<00:00, 680157.41it/s]"
     ]
    },
    {
     "name": "stdout",
     "output_type": "stream",
     "text": [
      "--------------------------------------------------\n",
      "Starting the segmenter.\n"
     ]
    },
    {
     "name": "stderr",
     "output_type": "stream",
     "text": [
      "\n"
     ]
    },
    {
     "name": "stdout",
     "output_type": "stream",
     "text": [
      "imgs shape (96, 148, 148, 148, 2)\n",
      "Feature shape:  (96, 148, 148, 148, 2)\n",
      "INFO:tensorflow:Restoring parameters from ./models/unet_trained_mix_dropout-05-clahe30_f32/model 50.cpkt\n"
     ]
    },
    {
     "name": "stderr",
     "output_type": "stream",
     "text": [
      "100%|██████████| 96/96 [00:12<00:00,  7.63it/s]\n"
     ]
    },
    {
     "name": "stdout",
     "output_type": "stream",
     "text": [
      "prediction shape: (96, 1, 60, 60, 60, 1)\n",
      "Merging subvolumes\n",
      "--------------------------------------------------\n",
      "Padded input shape: (388, 283, 280)\n",
      "# of parts 7 7 5\n",
      "# of subvolumes merged:  96\n",
      "(array([0, 1, 2, 3, 4, 5, 6, 7, 8], dtype=uint16), array([11203033,    18812,     8297,      660,      939,       84,\n",
      "            100,       47,       28]))\n",
      "(300, 195, 192)\n",
      "Number of regions: 74\n",
      "1 0.985525972755 103\n",
      "2 1.12239065855 255\n",
      "3 1.12775265131 154\n",
      "4 3.67541290997 2358\n",
      "5 1.16277439246 939\n",
      "6 1.05617383283 106\n",
      "7 1.14045334489 826\n",
      "8 1.13251995034 174\n",
      "9 1.15905355161 931\n",
      "10 1.54029740174 947\n",
      "11 1.05408389051 105\n",
      "12 1.13161948139 945\n",
      "13 1.12540056669 428\n",
      "14 1.12028345744 185\n",
      "15 1.09259958909 459\n",
      "16 1.12295385638 155\n",
      "17 1.16461708162 431\n",
      "18 1.14577806639 1014\n",
      "19 1.12623609854 323\n",
      "20 1.15154868824 422\n",
      "21 1.14246848874 909\n",
      "22 1.19803119819 542\n",
      "23 1.17044221826 1086\n",
      "24 1.28199218604 724\n",
      "25 1.15703996561 846\n",
      "26 1.12568842779 738\n",
      "27 1.12378387574 841\n",
      "28 1.02521171327 133\n",
      "29 1.20508566403 922\n",
      "30 1.12767218167 858\n",
      "31 1.15716991172 983\n",
      "32 1.23904502263 207\n",
      "33 1.06817118534 282\n",
      "34 1.23935011456 101\n",
      "--------------------------------------------------\n",
      "Loading and Preparing the data\n",
      "Original input shape (300, 195, 204)\n",
      "Padded input shape: (388, 283, 292)\n",
      "# of parts 7 7 5\n",
      "number of tiles: 120 \n",
      "data shape (120, 148, 148, 148)\n",
      "Original input shape (300, 195, 204)\n",
      "Padded input shape: (388, 283, 292)\n",
      "# of parts 7 7 5\n",
      "number of tiles: 120 \n",
      "data shape (120, 148, 148, 148)\n"
     ]
    },
    {
     "name": "stderr",
     "output_type": "stream",
     "text": [
      "100%|██████████| 120/120 [00:00<00:00, 837465.02it/s]"
     ]
    },
    {
     "name": "stdout",
     "output_type": "stream",
     "text": [
      "--------------------------------------------------\n",
      "Starting the segmenter.\n"
     ]
    },
    {
     "name": "stderr",
     "output_type": "stream",
     "text": [
      "\n"
     ]
    },
    {
     "name": "stdout",
     "output_type": "stream",
     "text": [
      "imgs shape (120, 148, 148, 148, 2)\n",
      "Feature shape:  (120, 148, 148, 148, 2)\n",
      "INFO:tensorflow:Restoring parameters from ./models/unet_trained_mix_dropout-05-clahe30_f32/model 50.cpkt\n"
     ]
    },
    {
     "name": "stderr",
     "output_type": "stream",
     "text": [
      "100%|██████████| 120/120 [00:15<00:00,  7.61it/s]\n"
     ]
    },
    {
     "name": "stdout",
     "output_type": "stream",
     "text": [
      "prediction shape: (120, 1, 60, 60, 60, 1)\n",
      "Merging subvolumes\n",
      "--------------------------------------------------\n",
      "Padded input shape: (388, 283, 292)\n",
      "# of parts 7 7 5\n",
      "# of subvolumes merged:  120\n",
      "(array([ 0,  1,  2,  3,  4,  5,  6,  7,  8,  9, 10, 11, 12], dtype=uint16), array([11905545,    16055,     5895,     4117,     1161,      200,\n",
      "            227,      193,      153,      132,      138,      127,       57]))\n",
      "(300, 195, 204)\n",
      "Number of regions: 154\n",
      "1 3.17723896122 547\n",
      "2 3.51782743546 866\n",
      "3 1.90490041565 532\n",
      "4 2.51547514321 603\n",
      "5 1.0584957925 112\n",
      "6 2.00420792025 346\n",
      "7 1.07909655399 137\n",
      "8 1.14692576754 226\n",
      "9 1.1923847713 232\n",
      "10 1.11640992291 134\n",
      "11 1.62191059734 282\n",
      "12 1.21548075584 964\n",
      "13 0.963337157686 213\n",
      "14 2.49609752956 873\n",
      "15 1.21419954609 533\n",
      "16 1.59106061679 338\n",
      "17 1.09798999533 186\n",
      "18 1.16107557529 317\n",
      "19 1.1712117245 637\n",
      "20 1.2596749204 492\n",
      "21 1.17599857348 477\n",
      "22 1.03108171591 154\n",
      "23 1.34403072038 494\n",
      "24 1.17257211327 312\n",
      "25 0.954240787507 135\n",
      "26 1.08319967218 207\n",
      "27 1.21527507011 422\n",
      "28 1.9164982446 718\n",
      "29 1.19487337722 553\n",
      "30 1.17462799533 353\n",
      "31 1.10066332421 331\n",
      "32 1.1537382327 611\n",
      "33 1.44410935607 328\n",
      "34 1.17156215316 231\n",
      "35 1.13039990745 301\n",
      "36 1.13292551297 326\n",
      "37 1.13331962084 201\n",
      "38 1.08449613519 134\n",
      "39 1.12574465601 332\n",
      "40 1.33397349841 422\n",
      "41 1.1602362938 386\n",
      "42 1.13932014055 110\n",
      "43 1.40502917983 298\n",
      "44 1.11824721921 112\n",
      "45 3.83945107588 742\n",
      "--------------------------------------------------\n",
      "Loading and Preparing the data\n",
      "Original input shape (300, 195, 179)\n",
      "Padded input shape: (388, 283, 267)\n",
      "# of parts 7 7 5\n",
      "number of tiles: 96 \n",
      "data shape (96, 148, 148, 148)\n",
      "Original input shape (300, 195, 179)\n",
      "Padded input shape: (388, 283, 267)\n",
      "# of parts 7 7 5\n",
      "number of tiles: 96 \n",
      "data shape (96, 148, 148, 148)\n"
     ]
    },
    {
     "name": "stderr",
     "output_type": "stream",
     "text": [
      "100%|██████████| 96/96 [00:00<00:00, 1051313.80it/s]"
     ]
    },
    {
     "name": "stdout",
     "output_type": "stream",
     "text": [
      "--------------------------------------------------\n",
      "Starting the segmenter.\n"
     ]
    },
    {
     "name": "stderr",
     "output_type": "stream",
     "text": [
      "\n"
     ]
    },
    {
     "name": "stdout",
     "output_type": "stream",
     "text": [
      "imgs shape (96, 148, 148, 148, 2)\n",
      "Feature shape:  (96, 148, 148, 148, 2)\n",
      "INFO:tensorflow:Restoring parameters from ./models/unet_trained_mix_dropout-05-clahe30_f32/model 50.cpkt\n"
     ]
    },
    {
     "name": "stderr",
     "output_type": "stream",
     "text": [
      "100%|██████████| 96/96 [00:12<00:00,  7.64it/s]\n"
     ]
    },
    {
     "name": "stdout",
     "output_type": "stream",
     "text": [
      "prediction shape: (96, 1, 60, 60, 60, 1)\n",
      "Merging subvolumes\n",
      "--------------------------------------------------\n",
      "Padded input shape: (388, 283, 267)\n",
      "# of parts 7 7 5\n",
      "# of subvolumes merged:  96\n",
      "(array([0, 1, 2, 3], dtype=uint16), array([10462270,     7571,     1583,       76]))\n",
      "(300, 195, 179)\n",
      "Number of regions: 54\n",
      "1 1.06591878145 218\n",
      "2 0.963283341137 107\n",
      "3 1.17706141546 929\n",
      "4 1.13587575812 886\n",
      "5 1.06061372495 116\n",
      "6 1.06363236573 105\n",
      "7 1.07423139787 113\n",
      "8 2.50033708168 1329\n",
      "9 2.75167829813 1994\n",
      "10 2.5205819111 2248\n",
      "11 1.22201305647 103\n",
      "12 1.05902346586 109\n",
      "13 1.1376818083 119\n",
      "--------------------------------------------------\n",
      "Loading and Preparing the data\n",
      "Original input shape (300, 195, 179)\n",
      "Padded input shape: (388, 283, 267)\n",
      "# of parts 7 7 5\n",
      "number of tiles: 96 \n",
      "data shape (96, 148, 148, 148)\n",
      "Original input shape (300, 195, 179)\n",
      "Padded input shape: (388, 283, 267)\n",
      "# of parts 7 7 5\n",
      "number of tiles: 96 \n",
      "data shape (96, 148, 148, 148)\n"
     ]
    },
    {
     "name": "stderr",
     "output_type": "stream",
     "text": [
      "100%|██████████| 96/96 [00:00<00:00, 951898.78it/s]"
     ]
    },
    {
     "name": "stdout",
     "output_type": "stream",
     "text": [
      "--------------------------------------------------\n",
      "Starting the segmenter.\n"
     ]
    },
    {
     "name": "stderr",
     "output_type": "stream",
     "text": [
      "\n"
     ]
    },
    {
     "name": "stdout",
     "output_type": "stream",
     "text": [
      "imgs shape (96, 148, 148, 148, 2)\n",
      "Feature shape:  (96, 148, 148, 148, 2)\n",
      "INFO:tensorflow:Restoring parameters from ./models/unet_trained_mix_dropout-05-clahe30_f32/model 50.cpkt\n"
     ]
    },
    {
     "name": "stderr",
     "output_type": "stream",
     "text": [
      "100%|██████████| 96/96 [00:12<00:00,  7.64it/s]\n"
     ]
    },
    {
     "name": "stdout",
     "output_type": "stream",
     "text": [
      "prediction shape: (96, 1, 60, 60, 60, 1)\n",
      "Merging subvolumes\n",
      "--------------------------------------------------\n",
      "Padded input shape: (388, 283, 267)\n",
      "# of parts 7 7 5\n",
      "# of subvolumes merged:  96\n",
      "(array([0, 1, 2, 3, 4, 5, 6], dtype=uint16), array([10450571,    14176,     6192,      130,      360,       21,       50]))\n",
      "(300, 195, 179)\n",
      "Number of regions: 95\n",
      "1 2.06597406916 338\n",
      "2 2.46441309179 495\n",
      "3 1.43905430233 126\n",
      "4 1.07005147533 157\n",
      "5 1.11412249202 322\n",
      "6 1.05194106195 131\n",
      "7 1.02028258139 101\n",
      "8 1.06789197587 114\n",
      "9 3.81551363988 2105\n",
      "10 3.58175232703 2378\n",
      "11 1.17460039862 117\n",
      "12 1.17923682792 109\n",
      "13 1.8659179252 1012\n",
      "14 1.16846389063 191\n",
      "15 1.22043131509 147\n",
      "16 1.2271112286 111\n",
      "17 2.43152535402 1652\n",
      "18 1.09158251692 131\n",
      "19 1.09458625475 272\n",
      "20 1.29836767066 1250\n",
      "21 1.87964742758 228\n",
      "22 1.16463504505 158\n",
      "23 1.14627459393 311\n",
      "24 1.32991211937 329\n",
      "25 1.04275305739 223\n",
      "--------------------------------------------------\n",
      "Loading and Preparing the data\n",
      "Original input shape (300, 195, 166)\n",
      "Padded input shape: (388, 283, 254)\n",
      "# of parts 7 7 5\n",
      "number of tiles: 96 \n",
      "data shape (96, 148, 148, 148)\n",
      "Original input shape (300, 195, 166)\n",
      "Padded input shape: (388, 283, 254)\n",
      "# of parts 7 7 5\n",
      "number of tiles: 96 \n",
      "data shape (96, 148, 148, 148)\n"
     ]
    },
    {
     "name": "stderr",
     "output_type": "stream",
     "text": [
      "100%|██████████| 96/96 [00:00<00:00, 684784.33it/s]"
     ]
    },
    {
     "name": "stdout",
     "output_type": "stream",
     "text": [
      "--------------------------------------------------\n",
      "Starting the segmenter.\n"
     ]
    },
    {
     "name": "stderr",
     "output_type": "stream",
     "text": [
      "\n"
     ]
    },
    {
     "name": "stdout",
     "output_type": "stream",
     "text": [
      "imgs shape (96, 148, 148, 148, 2)\n",
      "Feature shape:  (96, 148, 148, 148, 2)\n",
      "INFO:tensorflow:Restoring parameters from ./models/unet_trained_mix_dropout-05-clahe30_f32/model 50.cpkt\n"
     ]
    },
    {
     "name": "stderr",
     "output_type": "stream",
     "text": [
      "100%|██████████| 96/96 [00:12<00:00,  7.65it/s]\n"
     ]
    },
    {
     "name": "stdout",
     "output_type": "stream",
     "text": [
      "prediction shape: (96, 1, 60, 60, 60, 1)\n",
      "Merging subvolumes\n",
      "--------------------------------------------------\n",
      "Padded input shape: (388, 283, 254)\n",
      "# of parts 7 7 5\n",
      "# of subvolumes merged:  96\n",
      "(array([0, 1, 2, 3, 4, 5], dtype=uint16), array([9701335,    7087,    2013,     466,      95,       4]))\n",
      "(300, 195, 166)\n",
      "Number of regions: 51\n",
      "1 1.83199243929 211\n",
      "2 1.32285395361 410\n",
      "3 1.29860601195 167\n",
      "4 1.49736061807 283\n",
      "5 1.01106651181 113\n",
      "6 1.09285266398 572\n",
      "7 1.14531630966 608\n",
      "8 2.1734208164 666\n",
      "9 1.0340549465 192\n",
      "10 1.14002887186 583\n",
      "11 1.12461882468 527\n",
      "12 1.04224932332 122\n",
      "13 1.30223425174 118\n",
      "14 1.03267489441 134\n",
      "15 2.80876019311 1023\n",
      "--------------------------------------------------\n",
      "Loading and Preparing the data\n",
      "Original input shape (220, 220, 204)\n",
      "Padded input shape: (308, 308, 292)\n",
      "# of parts 6 6 5\n",
      "number of tiles: 125 \n",
      "data shape (125, 148, 148, 148)\n",
      "Original input shape (220, 220, 204)\n",
      "Padded input shape: (308, 308, 292)\n",
      "# of parts 6 6 5\n",
      "number of tiles: 125 \n",
      "data shape (125, 148, 148, 148)\n"
     ]
    },
    {
     "name": "stderr",
     "output_type": "stream",
     "text": [
      "100%|██████████| 125/125 [00:00<00:00, 696265.60it/s]"
     ]
    },
    {
     "name": "stdout",
     "output_type": "stream",
     "text": [
      "--------------------------------------------------\n",
      "Starting the segmenter.\n"
     ]
    },
    {
     "name": "stderr",
     "output_type": "stream",
     "text": [
      "\n"
     ]
    },
    {
     "name": "stdout",
     "output_type": "stream",
     "text": [
      "imgs shape (125, 148, 148, 148, 2)\n",
      "Feature shape:  (125, 148, 148, 148, 2)\n",
      "INFO:tensorflow:Restoring parameters from ./models/unet_trained_mix_dropout-05-clahe30_f32/model 50.cpkt\n"
     ]
    },
    {
     "name": "stderr",
     "output_type": "stream",
     "text": [
      "100%|██████████| 125/125 [00:16<00:00,  7.59it/s]\n"
     ]
    },
    {
     "name": "stdout",
     "output_type": "stream",
     "text": [
      "prediction shape: (125, 1, 60, 60, 60, 1)\n",
      "Merging subvolumes\n",
      "--------------------------------------------------\n",
      "Padded input shape: (308, 308, 292)\n",
      "# of parts 6 6 5\n",
      "# of subvolumes merged:  125\n",
      "(array([ 0,  1,  2,  3,  4,  5,  6,  7,  8,  9, 10, 11, 12, 13, 14, 15, 16,\n",
      "       17, 18, 19, 20], dtype=uint16), array([9836580,   27917,    5700,    2851,     287,     111,      26,\n",
      "            15,      20,       5,       8,       7,      11,       8,\n",
      "             5,      14,      10,      11,       9,       4,       1]))\n",
      "(220, 220, 204)\n",
      "Number of regions: 110\n",
      "1 1.77723383929 144\n",
      "2 1.62832085586 424\n",
      "3 1.14549163852 430\n",
      "4 1.22560324983 731\n",
      "5 1.18001525696 461\n",
      "6 0.941220091684 146\n",
      "7 1.23994715054 235\n",
      "8 1.16306576291 242\n",
      "9 0.941640894851 103\n",
      "10 1.13951170132 816\n",
      "11 2.90934554628 1755\n",
      "12 1.21082931059 1109\n",
      "13 1.08101478359 451\n",
      "14 1.11062452316 359\n",
      "15 1.14277973818 407\n",
      "16 1.1458260046 890\n",
      "17 2.12656988334 1235\n",
      "18 1.13876498162 543\n",
      "19 1.14050790664 814\n",
      "20 1.90197197845 368\n",
      "21 1.65353948458 799\n",
      "22 1.21280108426 861\n",
      "23 1.09236145916 189\n",
      "24 1.09954403455 105\n",
      "25 1.14943110141 1166\n",
      "26 0.98943828196 101\n",
      "27 2.05785469685 369\n",
      "28 3.85788052174 2314\n",
      "29 1.13127125361 1063\n",
      "30 3.20590946652 2932\n",
      "31 1.04656215039 288\n",
      "32 1.37217787522 101\n",
      "33 1.363993769 313\n",
      "34 1.09940068553 116\n",
      "35 1.29816332832 550\n",
      "36 1.08567888003 199\n",
      "37 1.04327574597 162\n",
      "38 1.39516323842 116\n",
      "--------------------------------------------------\n",
      "Loading and Preparing the data\n",
      "Original input shape (300, 195, 191)\n",
      "Padded input shape: (388, 283, 279)\n",
      "# of parts 7 7 5\n",
      "number of tiles: 96 \n",
      "data shape (96, 148, 148, 148)\n",
      "Original input shape (300, 195, 191)\n",
      "Padded input shape: (388, 283, 279)\n",
      "# of parts 7 7 5\n",
      "number of tiles: 96 \n",
      "data shape (96, 148, 148, 148)\n"
     ]
    },
    {
     "name": "stderr",
     "output_type": "stream",
     "text": [
      "100%|██████████| 96/96 [00:00<00:00, 1043142.96it/s]"
     ]
    },
    {
     "name": "stdout",
     "output_type": "stream",
     "text": [
      "--------------------------------------------------\n",
      "Starting the segmenter.\n"
     ]
    },
    {
     "name": "stderr",
     "output_type": "stream",
     "text": [
      "\n"
     ]
    },
    {
     "name": "stdout",
     "output_type": "stream",
     "text": [
      "imgs shape (96, 148, 148, 148, 2)\n",
      "Feature shape:  (96, 148, 148, 148, 2)\n",
      "INFO:tensorflow:Restoring parameters from ./models/unet_trained_mix_dropout-05-clahe30_f32/model 50.cpkt\n"
     ]
    },
    {
     "name": "stderr",
     "output_type": "stream",
     "text": [
      "100%|██████████| 96/96 [00:12<00:00,  7.64it/s]\n"
     ]
    },
    {
     "name": "stdout",
     "output_type": "stream",
     "text": [
      "prediction shape: (96, 1, 60, 60, 60, 1)\n",
      "Merging subvolumes\n",
      "--------------------------------------------------\n",
      "Padded input shape: (388, 283, 279)\n",
      "# of parts 7 7 5\n",
      "# of subvolumes merged:  96\n",
      "(array([0, 1, 2, 3, 4, 5, 6, 7, 8], dtype=uint16), array([11150415,    12091,     4096,     1835,     3933,      325,\n",
      "            290,      241,      274]))\n",
      "(300, 195, 191)\n",
      "Number of regions: 81\n",
      "1 1.03343090045 123\n",
      "2 1.03114576436 195\n",
      "3 1.04743753705 125\n",
      "4 0.994366664807 115\n",
      "5 1.36676942471 436\n",
      "6 1.13147616748 689\n",
      "7 1.1050956066 636\n",
      "8 1.09286734849 733\n",
      "9 1.05699926888 118\n",
      "10 1.13335967557 217\n",
      "11 1.40865109766 211\n",
      "12 1.10609625808 131\n",
      "13 1.12703160351 151\n",
      "14 2.72812415791 1640\n",
      "15 1.12807101017 945\n",
      "16 1.17602572917 224\n",
      "17 1.21702241685 209\n",
      "18 1.09851920765 113\n",
      "19 1.09038612617 111\n",
      "20 1.45498828814 858\n",
      "21 1.11322601571 287\n",
      "22 1.06841589094 116\n",
      "--------------------------------------------------\n",
      "Loading and Preparing the data\n",
      "Original input shape (319, 319, 220)\n",
      "Padded input shape: (407, 407, 308)\n",
      "# of parts 7 7 6\n",
      "number of tiles: 245 \n",
      "data shape (245, 148, 148, 148)\n",
      "Original input shape (319, 319, 220)\n",
      "Padded input shape: (407, 407, 308)\n",
      "# of parts 7 7 6\n",
      "number of tiles: 245 \n",
      "data shape (245, 148, 148, 148)\n"
     ]
    },
    {
     "name": "stderr",
     "output_type": "stream",
     "text": [
      "100%|██████████| 245/245 [00:00<00:00, 1063772.75it/s]"
     ]
    },
    {
     "name": "stdout",
     "output_type": "stream",
     "text": [
      "--------------------------------------------------\n",
      "Starting the segmenter.\n"
     ]
    },
    {
     "name": "stderr",
     "output_type": "stream",
     "text": [
      "\n"
     ]
    },
    {
     "name": "stdout",
     "output_type": "stream",
     "text": [
      "imgs shape (245, 148, 148, 148, 2)\n",
      "Feature shape:  (245, 148, 148, 148, 2)\n",
      "INFO:tensorflow:Restoring parameters from ./models/unet_trained_mix_dropout-05-clahe30_f32/model 50.cpkt\n"
     ]
    },
    {
     "name": "stderr",
     "output_type": "stream",
     "text": [
      "100%|██████████| 245/245 [00:32<00:00,  7.53it/s]\n"
     ]
    },
    {
     "name": "stdout",
     "output_type": "stream",
     "text": [
      "prediction shape: (245, 1, 60, 60, 60, 1)\n",
      "Merging subvolumes\n",
      "--------------------------------------------------\n",
      "Padded input shape: (407, 407, 308)\n",
      "# of parts 7 7 6\n",
      "# of subvolumes merged:  245\n",
      "(array([0, 1, 2, 3], dtype=uint16), array([22376283,    10969,       50,      118]))\n",
      "(319, 319, 220)\n",
      "Number of regions: 44\n",
      "1 2.21699926633 260\n",
      "2 1.11507041178 507\n",
      "3 1.02636334125 145\n",
      "4 2.43138594818 1223\n",
      "5 2.35602087299 954\n",
      "6 1.09287907791 162\n",
      "7 1.06297751986 159\n",
      "8 1.09400983021 133\n",
      "9 1.13027008748 731\n",
      "10 1.1309131292 724\n",
      "11 3.90014135853 1977\n",
      "12 1.6243117554 445\n",
      "13 1.17151150116 812\n",
      "14 1.0891173995 423\n",
      "15 1.22177081367 685\n",
      "16 1.07443959932 226\n",
      "17 1.16609511569 672\n",
      "18 1.13606916751 219\n"
     ]
    }
   ],
   "source": [
    "for case in validationCases+testingCases:\n",
    "    predict_and_plot3d(case)"
   ]
  },
  {
   "cell_type": "code",
   "execution_count": 16,
   "metadata": {},
   "outputs": [
    {
     "name": "stdout",
     "output_type": "stream",
     "text": [
      "--------------------------------------------------\n",
      "Loading and Preparing the data\n",
      "Original input shape (220, 220, 204)\n",
      "Padded input shape: (308, 308, 292)\n",
      "# of parts 6 6 5\n",
      "number of tiles: 125 \n",
      "data shape (125, 148, 148, 148)\n",
      "Original input shape (220, 220, 204)\n",
      "Padded input shape: (308, 308, 292)\n",
      "# of parts 6 6 5\n",
      "number of tiles: 125 \n",
      "data shape (125, 148, 148, 148)\n"
     ]
    },
    {
     "name": "stderr",
     "output_type": "stream",
     "text": [
      "100%|██████████| 125/125 [00:00<00:00, 825650.39it/s]"
     ]
    },
    {
     "name": "stdout",
     "output_type": "stream",
     "text": [
      "--------------------------------------------------\n",
      "Starting the segmenter.\n"
     ]
    },
    {
     "name": "stderr",
     "output_type": "stream",
     "text": [
      "\n"
     ]
    },
    {
     "name": "stdout",
     "output_type": "stream",
     "text": [
      "imgs shape (125, 148, 148, 148, 2)\n",
      "Feature shape:  (125, 148, 148, 148, 2)\n",
      "INFO:tensorflow:Restoring parameters from ./models/unet_trained_mix_dropout-05-clahe30_f32/model 5.cpkt\n"
     ]
    },
    {
     "name": "stderr",
     "output_type": "stream",
     "text": [
      "100%|██████████| 125/125 [00:56<00:00,  2.50it/s]\n"
     ]
    },
    {
     "name": "stdout",
     "output_type": "stream",
     "text": [
      "prediction shape: (125, 1, 60, 60, 60, 1)\n",
      "Merging subvolumes\n",
      "--------------------------------------------------\n",
      "Padded input shape: (308, 308, 292)\n",
      "# of parts 6 6 5\n",
      "# of subvolumes merged:  125\n",
      "(array([0, 1, 2, 3, 4, 5, 6], dtype=uint16), array([9847801,   21688,    2651,    1436,      21,       2,       1]))\n",
      "(220, 220, 204)\n",
      "Number of regions: 95\n",
      "1 2.38153956868 381\n",
      "2 1.093609769 273\n",
      "3 1.1228390753 212\n",
      "4 1.13250899646 354\n",
      "5 1.25116053618 814\n",
      "6 1.07114313448 317\n",
      "7 1.1181439722 192\n",
      "8 1.24653381678 228\n",
      "9 1.08702711799 776\n",
      "10 1.72090621128 1207\n",
      "11 1.09295215791 375\n",
      "12 1.20499343663 1107\n",
      "13 1.11291849487 362\n",
      "14 1.08349993003 445\n",
      "15 1.03702757345 160\n",
      "16 1.12289795898 398\n",
      "17 1.12680020226 692\n",
      "18 2.28234143434 1233\n",
      "19 2.80049928738 840\n",
      "20 1.11545556484 811\n",
      "21 1.67531219544 704\n",
      "22 1.24011093843 938\n",
      "23 1.21915449635 115\n",
      "24 1.15467514923 1156\n",
      "25 0.94662267129 79\n",
      "26 2.71464288086 1396\n",
      "27 1.12917407491 112\n",
      "28 1.08665784329 70\n",
      "29 1.13586822945 702\n",
      "30 1.10940461747 1050\n",
      "31 2.59732949841 2336\n",
      "32 1.02043199247 201\n",
      "33 1.05847096133 92\n",
      "34 1.02432569296 75\n",
      "35 0.991576696543 70\n",
      "36 1.01028969963 98\n",
      "37 1.2418507405 469\n",
      "38 2.95509543678 1137\n",
      "39 0.94895124996 63\n",
      "40 1.08531059928 82\n",
      "41 1.14893962298 114\n",
      "42 1.84547195973 138\n",
      "43 1.37749059207 88\n",
      "44 1.14637990692 127\n",
      "--------------------------------------------------\n",
      "Loading and Preparing the data\n",
      "Original input shape (300, 195, 191)\n",
      "Padded input shape: (388, 283, 279)\n",
      "# of parts 7 7 5\n",
      "number of tiles: 96 \n",
      "data shape (96, 148, 148, 148)\n",
      "Original input shape (300, 195, 191)\n",
      "Padded input shape: (388, 283, 279)\n",
      "# of parts 7 7 5\n",
      "number of tiles: 96 \n",
      "data shape (96, 148, 148, 148)\n"
     ]
    },
    {
     "name": "stderr",
     "output_type": "stream",
     "text": [
      "100%|██████████| 96/96 [00:00<00:00, 131543.02it/s]"
     ]
    },
    {
     "name": "stdout",
     "output_type": "stream",
     "text": [
      "--------------------------------------------------\n",
      "Starting the segmenter.\n"
     ]
    },
    {
     "name": "stderr",
     "output_type": "stream",
     "text": [
      "\n"
     ]
    },
    {
     "name": "stdout",
     "output_type": "stream",
     "text": [
      "imgs shape (96, 148, 148, 148, 2)\n",
      "Feature shape:  (96, 148, 148, 148, 2)\n",
      "INFO:tensorflow:Restoring parameters from ./models/unet_trained_mix_dropout-05-clahe30_f32/model 5.cpkt\n"
     ]
    },
    {
     "name": "stderr",
     "output_type": "stream",
     "text": [
      "100%|██████████| 96/96 [00:42<00:00,  2.57it/s]\n"
     ]
    },
    {
     "name": "stdout",
     "output_type": "stream",
     "text": [
      "prediction shape: (96, 1, 60, 60, 60, 1)\n",
      "Merging subvolumes\n",
      "--------------------------------------------------\n",
      "Padded input shape: (388, 283, 279)\n",
      "# of parts 7 7 5\n",
      "# of subvolumes merged:  96\n",
      "(array([0, 1, 2, 3, 4, 5, 6, 7, 8], dtype=uint16), array([11158612,     8700,     2678,     1089,     2254,       94,\n",
      "             38,       26,        9]))\n",
      "(300, 195, 191)\n",
      "Number of regions: 43\n",
      "1 1.12683864877 153\n",
      "2 0.914007488551 93\n",
      "3 1.35710348167 474\n",
      "4 0.989136649154 64\n",
      "5 1.11355326443 620\n",
      "6 1.08622545468 574\n",
      "7 1.07895610794 444\n",
      "8 1.00882147404 76\n",
      "9 1.06264432326 126\n",
      "10 1.11084522808 196\n",
      "11 1.34581191833 110\n",
      "12 1.05179604345 61\n",
      "13 1.08288343321 110\n",
      "14 1.00166375313 86\n",
      "15 2.8502815031 1815\n",
      "16 1.12036773585 802\n",
      "17 1.11824762619 805\n",
      "18 1.17280033792 766\n",
      "19 1.07847369018 828\n",
      "20 0.948846526053 67\n",
      "21 1.02577706719 113\n",
      "--------------------------------------------------\n",
      "Loading and Preparing the data\n",
      "Original input shape (319, 319, 220)\n",
      "Padded input shape: (407, 407, 308)\n",
      "# of parts 7 7 6\n",
      "number of tiles: 245 \n",
      "data shape (245, 148, 148, 148)\n",
      "Original input shape (319, 319, 220)\n",
      "Padded input shape: (407, 407, 308)\n",
      "# of parts 7 7 6\n",
      "number of tiles: 245 \n",
      "data shape (245, 148, 148, 148)\n"
     ]
    },
    {
     "name": "stderr",
     "output_type": "stream",
     "text": [
      "100%|██████████| 245/245 [00:00<00:00, 1102579.91it/s]"
     ]
    },
    {
     "name": "stdout",
     "output_type": "stream",
     "text": [
      "--------------------------------------------------\n",
      "Starting the segmenter.\n"
     ]
    },
    {
     "name": "stderr",
     "output_type": "stream",
     "text": [
      "\n"
     ]
    },
    {
     "name": "stdout",
     "output_type": "stream",
     "text": [
      "imgs shape (245, 148, 148, 148, 2)\n",
      "Feature shape:  (245, 148, 148, 148, 2)\n",
      "INFO:tensorflow:Restoring parameters from ./models/unet_trained_mix_dropout-05-clahe30_f32/model 5.cpkt\n"
     ]
    },
    {
     "name": "stderr",
     "output_type": "stream",
     "text": [
      "100%|██████████| 245/245 [01:40<00:00,  2.59it/s]\n"
     ]
    },
    {
     "name": "stdout",
     "output_type": "stream",
     "text": [
      "prediction shape: (245, 1, 60, 60, 60, 1)\n",
      "Merging subvolumes\n",
      "--------------------------------------------------\n",
      "Padded input shape: (407, 407, 308)\n",
      "# of parts 7 7 6\n",
      "# of subvolumes merged:  245\n",
      "(array([0, 1, 2, 3], dtype=uint16), array([22377834,     9440,       36,      110]))\n",
      "(319, 319, 220)\n",
      "Number of regions: 35\n",
      "1 2.75415777664 440\n",
      "2 0.958465043059 74\n",
      "3 1.05409727428 190\n",
      "4 1.01509114766 132\n",
      "5 2.16910435777 1096\n",
      "6 1.12314136338 333\n",
      "7 1.07016822832 134\n",
      "8 1.07382002294 137\n",
      "9 1.00608888793 95\n",
      "10 1.10937917918 582\n",
      "11 1.06624199159 119\n",
      "12 1.09510772297 619\n",
      "13 0.964160450633 64\n",
      "14 1.12418258231 683\n",
      "15 1.10125371609 736\n",
      "16 1.15520018706 775\n",
      "17 1.02833033435 131\n",
      "18 1.1199639177 574\n",
      "19 1.16176050466 624\n",
      "20 1.07907222484 219\n"
     ]
    }
   ],
   "source": [
    "for case in testingCases:\n",
    "    predict_and_save(case)"
   ]
  },
  {
   "cell_type": "code",
   "execution_count": 25,
   "metadata": {
    "collapsed": true
   },
   "outputs": [],
   "source": [
    "for case in validationCases:\n",
    "    save_case(case)"
   ]
  },
  {
   "cell_type": "code",
   "execution_count": 27,
   "metadata": {},
   "outputs": [
    {
     "name": "stdout",
     "output_type": "stream",
     "text": [
      "--------------------------------------------------\n",
      "Loading and Preparing the data\n",
      "Original input shape (300, 195, 230)\n",
      "Padded input shape: (388, 283, 318)\n",
      "# of parts 7 7 6\n",
      "number of tiles: 120 \n",
      "data shape (120, 148, 148, 148)\n",
      "Original input shape (300, 195, 230)\n",
      "Padded input shape: (388, 283, 318)\n",
      "# of parts 7 7 6\n",
      "number of tiles: 120 \n",
      "data shape (120, 148, 148, 148)\n"
     ]
    },
    {
     "name": "stderr",
     "output_type": "stream",
     "text": [
      "100%|██████████| 120/120 [00:00<00:00, 1157049.38it/s]"
     ]
    },
    {
     "name": "stdout",
     "output_type": "stream",
     "text": [
      "--------------------------------------------------\n",
      "Starting the segmenter.\n"
     ]
    },
    {
     "name": "stderr",
     "output_type": "stream",
     "text": [
      "\n"
     ]
    },
    {
     "name": "stdout",
     "output_type": "stream",
     "text": [
      "imgs shape (120, 148, 148, 148, 2)\n",
      "Feature shape:  (120, 148, 148, 148, 2)\n",
      "INFO:tensorflow:Restoring parameters from ./models/unet_trained_mix_dropout-05-clahe30_f32/model 36.cpkt\n"
     ]
    },
    {
     "name": "stderr",
     "output_type": "stream",
     "text": [
      "100%|██████████| 120/120 [00:58<00:00,  2.15it/s]\n"
     ]
    },
    {
     "name": "stdout",
     "output_type": "stream",
     "text": [
      "prediction shape: (120, 1, 60, 60, 60, 1)\n",
      "Merging subvolumes\n",
      "--------------------------------------------------\n",
      "Padded input shape: (388, 283, 318)\n",
      "# of parts 7 7 6\n",
      "# of subvolumes merged:  120\n",
      "(array([0, 1, 2, 3, 4, 5, 6], dtype=uint16), array([13428109,    20812,     5193,      521,      206,       96,       63]))\n",
      "(300, 195, 230)\n",
      "Number of regions: 92\n",
      "1 0.98763646574 51\n",
      "2 1.02812529399 105\n",
      "3 1.04107969125 72\n",
      "4 1.0012851112 121\n",
      "5 1.05151365476 109\n",
      "6 1.12319180549 1009\n",
      "7 1.10252404356 853\n",
      "8 1.09312485648 217\n",
      "9 0.9555976602 124\n",
      "10 2.89284458249 1270\n",
      "11 1.17048515054 933\n",
      "12 1.00609381915 85\n",
      "13 1.08516779962 181\n",
      "14 1.0064805911 101\n",
      "15 1.03475136384 132\n",
      "16 1.2745450089 239\n",
      "17 1.13800702657 369\n",
      "18 1.09530288982 285\n",
      "19 1.32960747025 306\n",
      "20 1.1024755718 655\n",
      "21 1.09802860691 278\n",
      "22 3.37097576361 2096\n",
      "23 1.14908229273 507\n",
      "24 0.994609393359 130\n",
      "25 1.08047846948 276\n",
      "26 1.1048067992 746\n",
      "27 0.924951826031 54\n",
      "28 0.961881228976 73\n",
      "29 1.07492767629 88\n",
      "30 2.90763647956 481\n",
      "31 1.04583439235 226\n",
      "32 1.18272721137 78\n",
      "33 1.18577876954 211\n",
      "34 1.33911029261 412\n",
      "35 1.87770727501 259\n",
      "36 1.04514158409 66\n",
      "37 3.55428306175 764\n",
      "38 1.30355468759 123\n",
      "High five! You successfuly sent some data to your account on plotly. View your plot in your browser at https://plot.ly/~gpernelle/0 or inside your plot.ly account where it is named 'simple-3d-scatter'\n"
     ]
    }
   ],
   "source": [
    "predict_and_plot3d('071')"
   ]
  },
  {
   "cell_type": "code",
   "execution_count": null,
   "metadata": {
    "collapsed": true
   },
   "outputs": [],
   "source": []
  }
 ],
 "metadata": {
  "anaconda-cloud": {},
  "kernelspec": {
   "display_name": "Python 3",
   "language": "python",
   "name": "python3"
  },
  "language_info": {
   "codemirror_mode": {
    "name": "ipython",
    "version": 3
   },
   "file_extension": ".py",
   "mimetype": "text/x-python",
   "name": "python",
   "nbconvert_exporter": "python",
   "pygments_lexer": "ipython3",
   "version": "3.6.2"
  }
 },
 "nbformat": 4,
 "nbformat_minor": 1
}
