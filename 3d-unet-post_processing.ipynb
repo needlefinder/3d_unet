{
 "cells": [
  {
   "cell_type": "code",
   "execution_count": 2,
   "metadata": {},
   "outputs": [],
   "source": [
    "%matplotlib inline\n",
    "import sys\n",
    "sys.path.append('../')\n",
    "from fns import *\n",
    "import glob\n",
    "import xgboost as xgb\n",
    "import yadlt as ya"
   ]
  },
  {
   "cell_type": "code",
   "execution_count": 3,
   "metadata": {
    "collapsed": true
   },
   "outputs": [],
   "source": [
    "import plotly\n",
    "plotly.tools.set_credentials_file(username='gpernelle', api_key='4KIdNJBBApIeebdKxyN9')\n",
    "import plotly.plotly as py\n",
    "import plotly.graph_objs as go"
   ]
  },
  {
   "cell_type": "code",
   "execution_count": 4,
   "metadata": {
    "collapsed": true
   },
   "outputs": [],
   "source": [
    "def dice(logits, labels):\n",
    "        flat_logits = logits.flatten()\n",
    "        flat_labels = labels.flatten()\n",
    "        intersection = np.sum(flat_logits*flat_labels)\n",
    "        union = np.sum(flat_logits) + np.sum(flat_labels)\n",
    "        loss = 1 - 2 * intersection / union\n",
    "        return loss"
   ]
  },
  {
   "cell_type": "markdown",
   "metadata": {
    "collapsed": true
   },
   "source": [
    "### Predict"
   ]
  },
  {
   "cell_type": "code",
   "execution_count": 5,
   "metadata": {
    "collapsed": true
   },
   "outputs": [],
   "source": [
    "trainingCases = loadCases(\"preprocessing/training.txt\")\n",
    "validationCases = loadCases(\"preprocessing/validation.txt\")\n",
    "testingCases = loadCases(\"preprocessing/testing.txt\")"
   ]
  },
  {
   "cell_type": "code",
   "execution_count": 6,
   "metadata": {},
   "outputs": [
    {
     "data": {
      "text/plain": [
       "['007',\n",
       " '008',\n",
       " '012',\n",
       " '014',\n",
       " '016',\n",
       " '022',\n",
       " '024',\n",
       " '025',\n",
       " '026',\n",
       " '027',\n",
       " '029',\n",
       " '030',\n",
       " '031',\n",
       " '033',\n",
       " '034',\n",
       " '035',\n",
       " '039',\n",
       " '040',\n",
       " '041',\n",
       " '042',\n",
       " '044',\n",
       " '045',\n",
       " '048',\n",
       " '049',\n",
       " '050',\n",
       " '053',\n",
       " '056',\n",
       " '058',\n",
       " '059',\n",
       " '060',\n",
       " '063',\n",
       " '064',\n",
       " '069']"
      ]
     },
     "execution_count": 6,
     "metadata": {},
     "output_type": "execute_result"
    }
   ],
   "source": [
    "trainingCases"
   ]
  },
  {
   "cell_type": "code",
   "execution_count": 7,
   "metadata": {},
   "outputs": [],
   "source": [
    "# # for case in trainingCases:\n",
    "# for case in validationCases+testingCases:\n",
    "#     image_name = '/home/gp1514/SSD/preprocessed_data/LabelMapsNEW2_1.00-1.00-1.00_split2/%s/case.nrrd'%case\n",
    "#     label_name = '/home/gp1514/SSD/preprocessed_data/LabelMapsNEW2_1.00-1.00-1.00/%s/needles.nrrd'%case\n",
    "#     data, options = nrrd.read(image_name)\n",
    "#     label_data, options = nrrd.read(label_name)\n",
    "#     data = data.astype(np.float32)\n",
    "#     prediction = predict(data, \"./models/unet_trained_mix_dropout-05-f3_l4_148_clahe\")\n",
    "#     xs,ys,zs = np.where(prediction != 0)\n",
    "#     np.save('prediction/%s.npy'%case, np.array([xs,ys,zs]).T)"
   ]
  },
  {
   "cell_type": "markdown",
   "metadata": {},
   "source": [
    "## DATA for training"
   ]
  },
  {
   "cell_type": "code",
   "execution_count": 8,
   "metadata": {},
   "outputs": [
    {
     "data": {
      "text/plain": [
       "(1084019,)"
      ]
     },
     "execution_count": 8,
     "metadata": {},
     "output_type": "execute_result"
    }
   ],
   "source": [
    "X_ = []\n",
    "Y_ = []\n",
    "for case in trainingCases:\n",
    "    X = np.load('prediction/%s.npy'%case)\n",
    "    X_.append(X)\n",
    "    label_name = '/home/gp1514/SSD/preprocessed_data/LabelMapsNEW2_1.00-1.00-1.00/%s/needles.nrrd'%case\n",
    "    label_data, options = nrrd.read(label_name)\n",
    "    data = label_data.astype(np.float32)\n",
    "    # print(X.shape, data.shape)\n",
    "    Y_.append(data[[X[:,0], X[:,1], X[:,2]]])\n",
    "X_ = np.concatenate(X_)\n",
    "Y_ = np.concatenate(Y_)\n",
    "X_.shape\n",
    "Y_.shape\n",
    "\n",
    "Xval_, Yval_ = [], []\n",
    "for case in validationCases+testingCases:\n",
    "    X = np.load('prediction/%s.npy'%case)\n",
    "    Xval_.append(X)\n",
    "    label_name = '/home/gp1514/SSD/preprocessed_data/LabelMapsNEW2_1.00-1.00-1.00/%s/needles.nrrd'%case\n",
    "    label_data, options = nrrd.read(label_name)\n",
    "    data = label_data.astype(np.float32)\n",
    "    # print(X.shape, data.shape)\n",
    "    Yval_.append(data[[X[:,0], X[:,1], X[:,2]]])\n",
    "Xval_ = np.concatenate(Xval_)\n",
    "Yval_ = np.concatenate(Yval_)\n",
    "Xval_.shape\n",
    "Yval_.shape"
   ]
  },
  {
   "cell_type": "code",
   "execution_count": 9,
   "metadata": {},
   "outputs": [
    {
     "data": {
      "text/plain": [
       "(array([ 2646889.,        0.,        0.,        0.,        0.,        0.,\n",
       "               0.,        0.,        0.,   306257.]),\n",
       " array([ 0. ,  0.1,  0.2,  0.3,  0.4,  0.5,  0.6,  0.7,  0.8,  0.9,  1. ]),\n",
       " <a list of 10 Patch objects>)"
      ]
     },
     "execution_count": 9,
     "metadata": {},
     "output_type": "execute_result"
    },
    {
     "data": {
      "image/png": "[encoded data removed]",
      "text/plain": [
       "<matplotlib.figure.Figure at 0x7f18d17e36a0>"
      ]
     },
     "metadata": {},
     "output_type": "display_data"
    }
   ],
   "source": [
    "plt.hist(Y_)"
   ]
  },
  {
   "cell_type": "markdown",
   "metadata": {},
   "source": [
    "## Training"
   ]
  },
  {
   "cell_type": "code",
   "execution_count": 23,
   "metadata": {
    "collapsed": true
   },
   "outputs": [],
   "source": [
    "dtrain = xgb.DMatrix(X_,label=Y_)\n",
    "Xval = xgb.DMatrix(Xval_)\n",
    "param = {'max_depth':8, 'eta':0.1, 'silent':1, 'objective':'binary:logistic' }\n",
    "param['eval_metric'] = 'auc'\n",
    "param['gpu_id'] = 0\n",
    "param['max_bin'] = 64\n",
    "param['tree_method'] = 'gpu_hist'"
   ]
  },
  {
   "cell_type": "code",
   "execution_count": 24,
   "metadata": {},
   "outputs": [],
   "source": [
    "num_round = 300\n",
    "bst = xgb.train( param, dtrain, num_round )"
   ]
  },
  {
   "cell_type": "markdown",
   "metadata": {},
   "source": [
    "## Testing"
   ]
  },
  {
   "cell_type": "code",
   "execution_count": 25,
   "metadata": {},
   "outputs": [
    {
     "name": "stdout",
     "output_type": "stream",
     "text": [
      "5470\n"
     ]
    }
   ],
   "source": [
    "case = '070'\n",
    "label_name = '/home/gp1514/SSD/preprocessed_data/LabelMapsNEW2_1.00-1.00-1.00/%s/needles.nrrd'%case\n",
    "label_data, options = nrrd.read(label_name)\n",
    "X = np.load('prediction/%s.npy'%case)\n",
    "Xtest = xgb.DMatrix(X)\n",
    "\n",
    "pred = bst.predict(Xtest)\n",
    "\n",
    "x,y,z = np.where(label_data == 1)\n",
    "xs,ys,zs = X[pred>0.5].T\n",
    "# xs,ys,zs = X.T\n",
    "\n",
    "\n",
    "print(np.sum(pred>0.5))"
   ]
  },
  {
   "cell_type": "code",
   "execution_count": 26,
   "metadata": {},
   "outputs": [
    {
     "name": "stdout",
     "output_type": "stream",
     "text": [
      "High five! You successfuly sent some data to your account on plotly. View your plot in your browser at https://plot.ly/~gpernelle/0 or inside your plot.ly account where it is named 'simple-3d-scatter'\n"
     ]
    },
    {
     "data": {
      "text/html": [
       "<iframe id=\"igraph\" scrolling=\"no\" style=\"border:none;\" seamless=\"seamless\" src=\"https://plot.ly/~gpernelle/0.embed\" height=\"525px\" width=\"100%\"></iframe>"
      ],
      "text/plain": [
       "<plotly.tools.PlotlyDisplay object>"
      ]
     },
     "execution_count": 26,
     "metadata": {},
     "output_type": "execute_result"
    }
   ],
   "source": [
    "trace1 = go.Scatter3d(\n",
    "    x=x,\n",
    "    y=y,\n",
    "    z=z,\n",
    "    mode='markers',\n",
    "    marker=dict(\n",
    "        size=3,\n",
    "        line=dict(\n",
    "            color='green',\n",
    "            width=2\n",
    "        ),\n",
    "        opacity=0.3\n",
    "    )\n",
    ")\n",
    "\n",
    "trace2 = go.Scatter3d(\n",
    "    x=xs,\n",
    "    y=ys,\n",
    "    z=zs,\n",
    "    mode='markers',\n",
    "    marker=dict(\n",
    "        color='red',\n",
    "        size=3,\n",
    "        symbol='circle',\n",
    "        line=dict(\n",
    "            color='rgb(204, 204, 204)',\n",
    "            width=1\n",
    "        ),\n",
    "        opacity=0.3\n",
    "    )\n",
    ")\n",
    "data = [trace1, trace2]\n",
    "layout = go.Layout(\n",
    "    margin=dict(\n",
    "        l=0,\n",
    "        r=0,\n",
    "        b=0,\n",
    "        t=0\n",
    "    )\n",
    ")\n",
    "\n",
    "fig = go.Figure(data=data, layout=layout)\n",
    "py.iplot(fig, filename='simple-3d-scatter')"
   ]
  },
  {
   "cell_type": "code",
   "execution_count": 41,
   "metadata": {},
   "outputs": [
    {
     "data": {
      "text/plain": [
       "array([False, False, False, ..., False, False, False], dtype=bool)"
      ]
     },
     "execution_count": 41,
     "metadata": {},
     "output_type": "execute_result"
    }
   ],
   "source": [
    "pred>0.5"
   ]
  },
  {
   "cell_type": "code",
   "execution_count": 5,
   "metadata": {
    "collapsed": true
   },
   "outputs": [],
   "source": [
    "# image_name = '/home/gp1514/SSD/preprocessed_data/LabelMapsNEW2_1.00-1.00-1.00_synthetic_occulted_new/numpy/training_case831.npy'\n",
    "# label_name = '/home/gp1514/SSD/preprocessed_data/LabelMapsNEW2_1.00-1.00-1.00_synthetic_occulted_new/numpy/training_labelmap831.npy'\n",
    "# data = np.load(image_name)\n",
    "# label_data = np.load(label_name)"
   ]
  },
  {
   "cell_type": "code",
   "execution_count": 6,
   "metadata": {},
   "outputs": [
    {
     "data": {
      "text/plain": [
       "0.77363054813912235"
      ]
     },
     "execution_count": 6,
     "metadata": {},
     "output_type": "execute_result"
    }
   ],
   "source": [
    "dice(prediction, label_data)"
   ]
  },
  {
   "cell_type": "code",
   "execution_count": 7,
   "metadata": {},
   "outputs": [
    {
     "name": "stdout",
     "output_type": "stream",
     "text": [
      "Number of regions: 817\n",
      "1 1.16464669478 143\n",
      "2 1.69413118611 254\n",
      "3 2.75653816861 271\n",
      "4 2.22627113658 157\n",
      "5 1.70122839367 487\n",
      "6 1.1339726399 241\n",
      "7 1.1739844063 105\n",
      "8 1.20633406669 190\n",
      "9 1.21773331764 369\n",
      "10 1.22737532168 130\n",
      "11 1.13893731271 144\n",
      "12 1.2177035222 145\n",
      "13 1.4771532169 706\n",
      "14 1.09494129293 102\n",
      "15 2.95254678379 281\n",
      "16 2.59886672468 701\n",
      "17 1.91248214308 337\n",
      "18 1.19591432983 415\n",
      "19 2.2319504299 263\n",
      "20 1.05359213549 102\n",
      "21 1.06915015529 106\n",
      "22 1.33975957664 105\n",
      "23 2.08613400435 684\n",
      "24 1.97584304793 867\n",
      "25 1.29570554408 172\n",
      "26 1.43300573738 157\n",
      "27 2.13952962297 144\n",
      "28 1.7041465787 134\n",
      "29 1.41023546223 131\n",
      "30 1.91024777151 187\n",
      "31 5.71486458185 2375\n",
      "32 1.0579093242 174\n",
      "33 1.08515659246 162\n",
      "34 1.71480695721 112\n",
      "35 2.97174052751 535\n",
      "36 1.35257091197 217\n",
      "37 2.25076334156 382\n",
      "38 1.09321486413 270\n",
      "39 1.71331447339 413\n",
      "40 3.02712274889 874\n",
      "41 1.4697341907 138\n",
      "42 1.34105154463 169\n",
      "43 1.14220376308 107\n",
      "44 2.01992880794 429\n",
      "45 1.97009901754 121\n",
      "46 2.64223737395 723\n",
      "47 1.53525557151 382\n",
      "48 1.48630252835 120\n",
      "49 2.30227671703 237\n",
      "50 1.1527621622 147\n",
      "51 1.07534031844 106\n",
      "52 2.43436720173 227\n",
      "53 1.13466572626 144\n",
      "54 1.31976993608 257\n",
      "55 2.17928231713 689\n",
      "56 3.38588364048 547\n",
      "57 2.14740155138 418\n",
      "58 1.46959619439 115\n",
      "59 1.42802635649 152\n",
      "60 2.12331241617 235\n",
      "61 1.22674223715 128\n",
      "62 1.26756815672 135\n",
      "63 1.15428416701 111\n",
      "64 1.44564445434 199\n",
      "65 1.27137691591 142\n",
      "66 1.90734903401 433\n",
      "67 1.14574503642 374\n",
      "68 1.53143934159 234\n",
      "69 2.08835036668 494\n",
      "70 1.0612745443 133\n",
      "71 1.14696107562 129\n",
      "72 1.79059809871 953\n",
      "73 1.54128438911 256\n",
      "74 1.09412592858 102\n",
      "75 1.21068922437 126\n",
      "76 1.17520494239 333\n",
      "77 1.92668950823 566\n",
      "78 2.22919322707 423\n",
      "79 1.11076719634 120\n",
      "80 1.1882655077 235\n",
      "81 2.64448197587 258\n",
      "82 2.46495991055 2025\n",
      "83 2.01326930173 401\n",
      "84 1.34335148839 406\n",
      "85 2.03466209034 252\n",
      "86 1.87668367231 195\n",
      "87 2.73740823253 738\n",
      "88 9.95465052304 12037\n",
      "89 1.32222717576 117\n",
      "90 1.66960801234 166\n",
      "91 1.14653688492 253\n",
      "92 1.42692356604 217\n",
      "93 2.14152505179 631\n",
      "94 1.1970077319 142\n",
      "95 1.44336579486 159\n",
      "96 1.3293195025 112\n",
      "97 1.3532705764 130\n",
      "98 1.1146521644 140\n",
      "99 1.36833523531 163\n",
      "100 1.67973010409 1473\n",
      "101 1.17395585248 118\n",
      "102 1.26611210829 200\n",
      "103 2.14851378442 1434\n",
      "104 1.09726152621 204\n",
      "105 1.37764003598 341\n",
      "106 1.98648522639 182\n",
      "107 1.09264781959 101\n",
      "108 1.42413118869 149\n",
      "109 1.80659886252 119\n",
      "110 1.47459392357 399\n",
      "111 1.12327877474 242\n",
      "112 1.74237116249 685\n",
      "113 1.46688278583 145\n",
      "114 1.19321314376 151\n",
      "115 1.33784593914 372\n",
      "116 1.78210646423 238\n",
      "117 2.05422702489 274\n",
      "118 1.45442507667 101\n",
      "119 1.26586327895 229\n",
      "120 1.53781891208 185\n",
      "121 1.38761185049 192\n",
      "122 3.97559044421 521\n",
      "123 2.27232560118 319\n",
      "124 1.74131949721 720\n",
      "125 2.24683226664 645\n",
      "126 1.17865793508 102\n",
      "127 1.63661226345 437\n",
      "128 2.19766401618 294\n",
      "129 1.42722067968 136\n",
      "130 1.28210939682 125\n",
      "131 1.93302407599 617\n",
      "132 1.12401916113 112\n",
      "133 1.23296769513 152\n",
      "134 1.26484943046 104\n",
      "135 1.79999646449 240\n",
      "136 4.47147429302 1664\n",
      "137 1.09483911947 119\n",
      "138 1.10792580082 216\n",
      "139 1.83438291386 310\n",
      "140 2.83814836836 1639\n",
      "141 1.17933278453 115\n",
      "142 1.39523517004 302\n",
      "143 1.17314617389 121\n",
      "144 1.55280390978 126\n",
      "145 1.26704697004 141\n",
      "146 1.07080598431 112\n",
      "147 1.14303144501 184\n",
      "148 1.10942631211 122\n",
      "149 1.13650339706 255\n",
      "150 1.33256518479 369\n",
      "151 1.85654467171 285\n",
      "152 1.16022235673 102\n",
      "153 2.42503832947 277\n",
      "154 1.379586995 267\n",
      "155 1.19534754183 181\n",
      "156 2.23440696447 299\n",
      "157 0.959900351336 135\n",
      "158 2.21945587454 1106\n",
      "159 2.51787683608 695\n",
      "160 1.38980434942 178\n",
      "161 1.30667966046 388\n",
      "162 1.63509204694 340\n",
      "163 3.29639521299 996\n",
      "164 2.04121487089 242\n",
      "165 3.21922892941 837\n",
      "166 2.38484050606 348\n",
      "167 2.24007694781 677\n",
      "168 1.17028165549 117\n",
      "169 6.03149771034 1284\n",
      "170 0.938153655092 241\n",
      "171 1.00966783689 187\n",
      "172 1.86976483145 123\n",
      "173 1.59073993919 147\n",
      "174 1.61074178532 399\n",
      "175 1.57930171124 122\n",
      "176 1.56508154542 102\n",
      "177 2.00004005776 454\n",
      "178 1.8802314343 258\n",
      "179 6.06350855044 1832\n",
      "180 1.47505802882 146\n"
     ]
    }
   ],
   "source": [
    "islands = post_processing(prediction, min_area=int(100), max_residual=float(10))\n",
    "# islands.shape"
   ]
  },
  {
   "cell_type": "code",
   "execution_count": 8,
   "metadata": {
    "scrolled": true
   },
   "outputs": [
    {
     "name": "stderr",
     "output_type": "stream",
     "text": [
      "/home/gp1514/.pyenv/versions/anaconda3-4.3.0/envs/needles/lib/python3.6/site-packages/plotly/plotly/plotly.py:219: UserWarning:\n",
      "\n",
      "Woah there! Look at all those points! Due to browser limitations, the Plotly SVG drawing functions have a hard time graphing more than 500k data points for line charts, or 40k points for other types of charts. Here are some suggestions:\n",
      "(1) Use the `plotly.graph_objs.Scattergl` trace object to generate a WebGl graph.\n",
      "(2) Trying using the image API to return an image instead of a graph URL\n",
      "(3) Use matplotlib\n",
      "(4) See if you can create your visualization with fewer data points\n",
      "\n",
      "If the visualization you're using aggregates points (e.g., box plot, histogram, etc.) you can disregard this warning.\n",
      "\n"
     ]
    },
    {
     "name": "stdout",
     "output_type": "stream",
     "text": [
      "High five! You successfuly sent some data to your account on plotly. View your plot in your browser at https://plot.ly/~gpernelle/0 or inside your plot.ly account where it is named 'simple-3d-scatter'\n"
     ]
    },
    {
     "name": "stderr",
     "output_type": "stream",
     "text": [
      "/home/gp1514/.pyenv/versions/anaconda3-4.3.0/envs/needles/lib/python3.6/site-packages/plotly/api/v1/clientresp.py:40: UserWarning:\n",
      "\n",
      "Estimated Draw Time Slow\n",
      "\n"
     ]
    },
    {
     "data": {
      "text/html": [
       "<iframe id=\"igraph\" scrolling=\"no\" style=\"border:none;\" seamless=\"seamless\" src=\"https://plot.ly/~gpernelle/0.embed\" height=\"525px\" width=\"100%\"></iframe>"
      ],
      "text/plain": [
       "<plotly.tools.PlotlyDisplay object>"
      ]
     },
     "execution_count": 8,
     "metadata": {},
     "output_type": "execute_result"
    }
   ],
   "source": [
    "import plotly.plotly as py\n",
    "import plotly.graph_objs as go\n",
    "x,y,z = np.where(label_data == 1)\n",
    "xs,ys,zs = np.where(islands != 0)\n",
    "\n",
    "trace1 = go.Scatter3d(\n",
    "    x=x,\n",
    "    y=y,\n",
    "    z=z,\n",
    "    mode='markers',\n",
    "    marker=dict(\n",
    "        size=3,\n",
    "        line=dict(\n",
    "            color='green',\n",
    "            width=2\n",
    "        ),\n",
    "        opacity=0.3\n",
    "    )\n",
    ")\n",
    "\n",
    "trace2 = go.Scatter3d(\n",
    "    x=xs,\n",
    "    y=ys,\n",
    "    z=zs,\n",
    "    mode='markers',\n",
    "    marker=dict(\n",
    "        color='red',\n",
    "        size=3,\n",
    "        symbol='circle',\n",
    "        line=dict(\n",
    "            color='rgb(204, 204, 204)',\n",
    "            width=1\n",
    "        ),\n",
    "        opacity=0.3\n",
    "    )\n",
    ")\n",
    "data = [trace1, trace2]\n",
    "layout = go.Layout(\n",
    "    margin=dict(\n",
    "        l=0,\n",
    "        r=0,\n",
    "        b=0,\n",
    "        t=0\n",
    "    )\n",
    ")\n",
    "\n",
    "fig = go.Figure(data=data, layout=layout)\n",
    "py.iplot(fig, filename='simple-3d-scatter')"
   ]
  },
  {
   "cell_type": "code",
   "execution_count": 43,
   "metadata": {},
   "outputs": [
    {
     "ename": "IndexError",
     "evalue": "index 300 is out of bounds for axis 0 with size 300",
     "output_type": "error",
     "traceback": [
      "\u001b[0;31m---------------------------------------------------------------------------\u001b[0m",
      "\u001b[0;31mIndexError\u001b[0m                                Traceback (most recent call last)",
      "\u001b[0;32m<ipython-input-43-bab2f541f1fb>\u001b[0m in \u001b[0;36m<module>\u001b[0;34m()\u001b[0m\n\u001b[1;32m      1\u001b[0m \u001b[0mX\u001b[0m \u001b[0;34m=\u001b[0m \u001b[0mnp\u001b[0m\u001b[0;34m.\u001b[0m\u001b[0marray\u001b[0m\u001b[0;34m(\u001b[0m\u001b[0;34m[\u001b[0m\u001b[0mxs\u001b[0m\u001b[0;34m,\u001b[0m\u001b[0mys\u001b[0m\u001b[0;34m,\u001b[0m\u001b[0mzs\u001b[0m\u001b[0;34m]\u001b[0m\u001b[0;34m)\u001b[0m\u001b[0;34m.\u001b[0m\u001b[0mT\u001b[0m\u001b[0;34m\u001b[0m\u001b[0m\n\u001b[0;32m----> 2\u001b[0;31m \u001b[0mY\u001b[0m \u001b[0;34m=\u001b[0m \u001b[0mlabel_data\u001b[0m\u001b[0;34m[\u001b[0m\u001b[0;34m[\u001b[0m\u001b[0mxs\u001b[0m\u001b[0;34m,\u001b[0m\u001b[0mys\u001b[0m\u001b[0;34m,\u001b[0m\u001b[0mzs\u001b[0m\u001b[0;34m]\u001b[0m\u001b[0;34m]\u001b[0m\u001b[0;34m\u001b[0m\u001b[0m\n\u001b[0m",
      "\u001b[0;31mIndexError\u001b[0m: index 300 is out of bounds for axis 0 with size 300"
     ]
    }
   ],
   "source": [
    "X = np.array([xs,ys,zs]).T\n",
    "Y = label_data[[xs,ys,zs]]"
   ]
  },
  {
   "cell_type": "code",
   "execution_count": 34,
   "metadata": {},
   "outputs": [
    {
     "data": {
      "text/plain": [
       "(73993, 3)"
      ]
     },
     "execution_count": 34,
     "metadata": {},
     "output_type": "execute_result"
    }
   ],
   "source": [
    "X.shape"
   ]
  },
  {
   "cell_type": "code",
   "execution_count": 35,
   "metadata": {},
   "outputs": [
    {
     "data": {
      "text/plain": [
       "(73993,)"
      ]
     },
     "execution_count": 35,
     "metadata": {},
     "output_type": "execute_result"
    }
   ],
   "source": [
    "Y.shape"
   ]
  },
  {
   "cell_type": "code",
   "execution_count": 39,
   "metadata": {
    "collapsed": true
   },
   "outputs": [],
   "source": [
    "dtrain = xgb.DMatrix(X,label=Y)\n",
    "Xtest = xgb.DMatrix(X)"
   ]
  },
  {
   "cell_type": "code",
   "execution_count": 37,
   "metadata": {
    "collapsed": true
   },
   "outputs": [],
   "source": [
    "param = {'max_depth':2, 'eta':1, 'silent':1, 'objective':'binary:logistic' }\n",
    "param['eval_metric'] = 'auc'\n",
    "param['gpu_id'] = 0\n",
    "param['max_bin'] = 16\n",
    "param['tree_method'] = 'gpu_hist'\n"
   ]
  },
  {
   "cell_type": "code",
   "execution_count": 38,
   "metadata": {
    "collapsed": true
   },
   "outputs": [],
   "source": [
    "num_round = 10\n",
    "bst = xgb.train( param, dtrain, num_round )"
   ]
  },
  {
   "cell_type": "code",
   "execution_count": 42,
   "metadata": {},
   "outputs": [
    {
     "ename": "NameError",
     "evalue": "name 'Xtest' is not defined",
     "output_type": "error",
     "traceback": [
      "\u001b[0;31m---------------------------------------------------------------------------\u001b[0m",
      "\u001b[0;31mNameError\u001b[0m                                 Traceback (most recent call last)",
      "\u001b[0;32m<ipython-input-42-f564a093a125>\u001b[0m in \u001b[0;36m<module>\u001b[0;34m()\u001b[0m\n\u001b[0;32m----> 1\u001b[0;31m \u001b[0mpred\u001b[0m \u001b[0;34m=\u001b[0m \u001b[0mbst\u001b[0m\u001b[0;34m.\u001b[0m\u001b[0mpredict\u001b[0m\u001b[0;34m(\u001b[0m\u001b[0mXtest\u001b[0m\u001b[0;34m)\u001b[0m\u001b[0;34m\u001b[0m\u001b[0m\n\u001b[0m",
      "\u001b[0;31mNameError\u001b[0m: name 'Xtest' is not defined"
     ]
    }
   ],
   "source": [
    "pred = bst.predict(Xtest)"
   ]
  },
  {
   "cell_type": "code",
   "execution_count": 52,
   "metadata": {},
   "outputs": [
    {
     "data": {
      "text/plain": [
       "(3, 15094)"
      ]
     },
     "execution_count": 52,
     "metadata": {},
     "output_type": "execute_result"
    }
   ],
   "source": [
    "X[pred>0.5].T.shape"
   ]
  },
  {
   "cell_type": "code",
   "execution_count": 49,
   "metadata": {},
   "outputs": [
    {
     "data": {
      "text/plain": [
       "15094"
      ]
     },
     "execution_count": 49,
     "metadata": {},
     "output_type": "execute_result"
    }
   ],
   "source": [
    "np.sum(pred>0.5)"
   ]
  },
  {
   "cell_type": "code",
   "execution_count": 53,
   "metadata": {},
   "outputs": [
    {
     "name": "stdout",
     "output_type": "stream",
     "text": [
      "High five! You successfuly sent some data to your account on plotly. View your plot in your browser at https://plot.ly/~gpernelle/0 or inside your plot.ly account where it is named 'simple-3d-scatter'\n"
     ]
    },
    {
     "data": {
      "text/html": [
       "<iframe id=\"igraph\" scrolling=\"no\" style=\"border:none;\" seamless=\"seamless\" src=\"https://plot.ly/~gpernelle/0.embed\" height=\"525px\" width=\"100%\"></iframe>"
      ],
      "text/plain": [
       "<plotly.tools.PlotlyDisplay object>"
      ]
     },
     "execution_count": 53,
     "metadata": {},
     "output_type": "execute_result"
    }
   ],
   "source": [
    "x,y,z = np.where(label_data == 1)\n",
    "xs,ys,zs = X[pred>0.5].T\n",
    "\n",
    "trace1 = go.Scatter3d(\n",
    "    x=x,\n",
    "    y=y,\n",
    "    z=z,\n",
    "    mode='markers',\n",
    "    marker=dict(\n",
    "        size=3,\n",
    "        line=dict(\n",
    "            color='green',\n",
    "            width=2\n",
    "        ),\n",
    "        opacity=0.3\n",
    "    )\n",
    ")\n",
    "\n",
    "trace2 = go.Scatter3d(\n",
    "    x=xs,\n",
    "    y=ys,\n",
    "    z=zs,\n",
    "    mode='markers',\n",
    "    marker=dict(\n",
    "        color='red',\n",
    "        size=3,\n",
    "        symbol='circle',\n",
    "        line=dict(\n",
    "            color='rgb(204, 204, 204)',\n",
    "            width=1\n",
    "        ),\n",
    "        opacity=0.3\n",
    "    )\n",
    ")\n",
    "data = [trace1, trace2]\n",
    "layout = go.Layout(\n",
    "    margin=dict(\n",
    "        l=0,\n",
    "        r=0,\n",
    "        b=0,\n",
    "        t=0\n",
    "    )\n",
    ")\n",
    "\n",
    "fig = go.Figure(data=data, layout=layout)\n",
    "py.iplot(fig, filename='simple-3d-scatter')"
   ]
  },
  {
   "cell_type": "code",
   "execution_count": null,
   "metadata": {
    "collapsed": true
   },
   "outputs": [],
   "source": [
    "# %matplotlib notebook\n",
    "# xs,ys,zs = np.where(prediction == 1)\n",
    "\n",
    "# fig = plt.figure(figsize=(6,6))\n",
    "# ax = fig.add_subplot(111, projection='3d')\n",
    "# ax.scatter(xs, ys, zs, marker='o', alpha=0.1, s=1)\n",
    "# plt.show()\n",
    "\n",
    "# # fig = plt.figure(figsize=(6,6))\n",
    "# # ax = fig.add_subplot(111, projection='3d')\n",
    "# xs,ys,zs = np.where(label_data == 1)\n",
    "# ax.scatter(xs, ys, zs, marker='o',color='g', alpha=0.1, s=5)\n",
    "# plt.show()"
   ]
  },
  {
   "cell_type": "code",
   "execution_count": 48,
   "metadata": {
    "scrolled": true
   },
   "outputs": [
    {
     "name": "stderr",
     "output_type": "stream",
     "text": [
      "/mnt/DATA/gp1514/.pyenv/versions/anaconda3-4.4.0/envs/needles/lib/python3.6/site-packages/ipyvolume/serialize.py:29: RuntimeWarning: invalid value encountered in true_divide\n",
      "  gradient = gradient / np.sqrt(gradient[0]**2 + gradient[1]**2 + gradient[2]**2)\n",
      "/mnt/DATA/gp1514/.pyenv/versions/anaconda3-4.4.0/envs/needles/lib/python3.6/site-packages/ipyvolume/serialize.py:29: RuntimeWarning: invalid value encountered in true_divide\n",
      "  gradient = gradient / np.sqrt(gradient[0]**2 + gradient[1]**2 + gradient[2]**2)\n"
     ]
    },
    {
     "data": {
      "application/vnd.jupyter.widget-view+json": {
       "model_id": "691c59f04ce043ddbb5640f8e86d1f39"
      }
     },
     "metadata": {},
     "output_type": "display_data"
    }
   ],
   "source": [
    "import ipyvolume.pylab as p3\n",
    "p3.figure(figsize=(15,15))\n",
    "ipyvolume.quickvolshow(islands, opacity=1)\n",
    "ipyvolume.quickvolshow(label_data, opacity=1)"
   ]
  },
  {
   "cell_type": "code",
   "execution_count": 35,
   "metadata": {},
   "outputs": [
    {
     "data": {
      "application/vnd.jupyter.widget-view+json": {
       "model_id": "673c8791c9184766bdd701b5949ac948"
      }
     },
     "metadata": {},
     "output_type": "display_data"
    }
   ],
   "source": [
    "x,y,z = np.where(label_data == 1)\n",
    "ipyvolume.quickscatter(x,y,z, size=0.5, marker=\"sphere\", opacity=0.2)\n",
    "\n",
    "x,y,z = np.where(islands == 1)\n",
    "ipyvolume.quickscatter(x,y,z, size=0.5, marker=\"sphere\", opacity=0.2, color='blue')"
   ]
  },
  {
   "cell_type": "code",
   "execution_count": null,
   "metadata": {
    "collapsed": true
   },
   "outputs": [],
   "source": [
    "np.random.seed(1)\n",
    "islands = measure.label(prediction)\n",
    "K = np.max(islands)\n",
    "cp =sns.color_palette(\"Set2\", K)\n",
    "fig = plt.figure(figsize=(6,6))\n",
    "ax = fig.add_subplot(111, projection='3d')\n",
    "for j in range(1,K):\n",
    "    xs,ys,zs = np.where(islands == j)\n",
    "    ax.scatter(xs, ys, zs, marker='o',color=cp[j], alpha=0.9, s=2)\n",
    "plt.show()"
   ]
  },
  {
   "cell_type": "code",
   "execution_count": null,
   "metadata": {
    "collapsed": true
   },
   "outputs": [],
   "source": [
    "np.random.seed(1)\n",
    "islands = measure.label(label_data[i,...,0][44:-44,44:-44,44:-44])\n",
    "K = np.max(islands)\n",
    "cp =sns.color_palette(\"Set2\", K)\n",
    "fig = plt.figure(figsize=(6,6))\n",
    "ax = fig.add_subplot(111, projection='3d')\n",
    "for j in range(1,K):\n",
    "    xs,ys,zs = np.where(islands == j)\n",
    "    ax.scatter(xs, ys, zs, marker='o',color=cp[j], alpha=0.9, s=2)\n",
    "plt.show()"
   ]
  },
  {
   "cell_type": "code",
   "execution_count": null,
   "metadata": {
    "collapsed": true
   },
   "outputs": [],
   "source": [
    "image_name = '/mnt/DATA/gp1514/Dropbox/2016-paolo/preprocessed_data/LabelMapsNEW2_1.00-1.00-1.00/075/case.nrrd'\n",
    "label_name = '/mnt/DATA/gp1514/Dropbox/2016-paolo/preprocessed_data/LabelMapsNEW2_1.00-1.00-1.00/075/needles.nrrd'"
   ]
  },
  {
   "cell_type": "code",
   "execution_count": null,
   "metadata": {
    "collapsed": true
   },
   "outputs": [],
   "source": [
    "# print(img.shape)\n",
    "# print(data.shape)"
   ]
  },
  {
   "cell_type": "code",
   "execution_count": null,
   "metadata": {
    "collapsed": true
   },
   "outputs": [],
   "source": [
    "# data.shape"
   ]
  },
  {
   "cell_type": "code",
   "execution_count": null,
   "metadata": {
    "collapsed": true
   },
   "outputs": [],
   "source": [
    "tiles = (148,148,148)\n",
    "tile = 148"
   ]
  },
  {
   "cell_type": "code",
   "execution_count": null,
   "metadata": {
    "collapsed": true
   },
   "outputs": [],
   "source": [
    "data, options = nrrd.read(image_name)\n",
    "data = data.astype(np.float32)\n",
    "print(data.shape)\n",
    "d = data.resize(max(data.shape[0],tile),\n",
    "               max(data.shape[1],tile),\n",
    "               max(data.shape[2],tile))\n",
    "print(data.shape)\n",
    "print(options)"
   ]
  },
  {
   "cell_type": "markdown",
   "metadata": {},
   "source": [
    "## Inference pipeline"
   ]
  },
  {
   "cell_type": "code",
   "execution_count": null,
   "metadata": {
    "collapsed": true
   },
   "outputs": [],
   "source": [
    "arr_data = cutVolume(data)\n",
    "arr_pred = predict_full_volume(net, arr_data, model_path=\"./unet_trained/model 99.cpkt\")\n",
    "full_pred = recombine(arr_pred, data)"
   ]
  },
  {
   "cell_type": "code",
   "execution_count": null,
   "metadata": {
    "collapsed": true
   },
   "outputs": [],
   "source": [
    "def post_processing(full_pred, min_area=150, max_residual=10):\n",
    "    ''' Clustering + removing small clusters + keeping only line-looking clusters'''\n",
    "    islands_ = measure.label(full_pred)\n",
    "    regions = measure.regionprops(islands_)\n",
    "    islands = np.zeros_like(full_pred, dtype=np.uint8)\n",
    "    K = len(regions)\n",
    "    print('Number of regions: %d' % K)\n",
    "    i=0\n",
    "    for k in range(K):\n",
    "        region = regions[k]\n",
    "        coords = region.coords\n",
    "        if region.area > min_area:\n",
    "            lm = measure.LineModelND()\n",
    "            lm.estimate(coords)\n",
    "            res = lm.residuals(coords)\n",
    "            mean_res = np.mean(res)\n",
    "            if mean_res < max_residual:\n",
    "                i+=1\n",
    "                print(k, i, mean_res, np.std(res), region.area)\n",
    "                for x,y,z in coords:\n",
    "                    islands[x,y,z] = i\n"
   ]
  },
  {
   "cell_type": "code",
   "execution_count": null,
   "metadata": {
    "collapsed": true
   },
   "outputs": [],
   "source": [
    "islands = post_processing(full_pred)"
   ]
  },
  {
   "cell_type": "code",
   "execution_count": null,
   "metadata": {
    "collapsed": true
   },
   "outputs": [],
   "source": [
    "islands_ = measure.label(full_pred)\n",
    "regions = measure.regionprops(islands_)\n",
    "region = regions[691]\n",
    "lm = measure.LineModelND()\n",
    "lm.estimate(region.coords)\n",
    "res = lm.residuals(region.coords)\n",
    "res\n",
    "K = np.max(islands)\n",
    "cp = sns.color_palette(\"Set2\", K)\n",
    "fig = plt.figure(figsize=(6,6))\n",
    "ax = fig.add_subplot(111, projection='3d')\n",
    "\n",
    "xs,ys,zs = region.coords.T\n",
    "ax.scatter(xs, ys, zs, marker='o',color=cp[j], alpha=0.9, s=2)\n",
    "plt.show()"
   ]
  },
  {
   "cell_type": "code",
   "execution_count": null,
   "metadata": {
    "collapsed": true
   },
   "outputs": [],
   "source": [
    "print(np.unique(islands, return_counts=True))"
   ]
  },
  {
   "cell_type": "code",
   "execution_count": null,
   "metadata": {
    "collapsed": true
   },
   "outputs": [],
   "source": [
    "# islands = measure.label(full_pred)\n",
    "K = np.max(islands)\n",
    "cp = sns.color_palette(\"Set2\", K)\n",
    "fig = plt.figure(figsize=(6,6))\n",
    "ax = fig.add_subplot(111, projection='3d')\n",
    "for j in range(1,K):\n",
    "    xs,ys,zs = np.where(islands == j)\n",
    "    ax.scatter(xs, ys, zs, marker='o',color=cp[j], alpha=0.9, s=2)\n",
    "plt.show()"
   ]
  },
  {
   "cell_type": "code",
   "execution_count": null,
   "metadata": {
    "collapsed": true
   },
   "outputs": [],
   "source": [
    "nrrd.write('test75.nrrd', islands, options=options)"
   ]
  },
  {
   "cell_type": "code",
   "execution_count": null,
   "metadata": {
    "collapsed": true
   },
   "outputs": [],
   "source": [
    "islands.shape\n",
    "print(np.unique(islands, return_counts=True))"
   ]
  },
  {
   "cell_type": "code",
   "execution_count": null,
   "metadata": {
    "collapsed": true
   },
   "outputs": [],
   "source": [
    "image_name = '/mnt/DATA/gp1514/Dropbox/2016-paolo/preprocessed_data/LabelMapsNEW2_1.00-1.00-1.00/074/needles.nrrd'\n",
    "data, options = nrrd.read(image_name)\n",
    "data = data.astype(np.int8)"
   ]
  },
  {
   "cell_type": "code",
   "execution_count": null,
   "metadata": {
    "collapsed": true
   },
   "outputs": [],
   "source": [
    "arr_labels = cutVolume(data)"
   ]
  },
  {
   "cell_type": "code",
   "execution_count": null,
   "metadata": {
    "collapsed": true
   },
   "outputs": [],
   "source": [
    "# '''\n",
    "# EXPORT\n",
    "# '''\n",
    "\n",
    "# with tf.Graph().as_default():\n",
    "#         # Inject placeholder into the graph\n",
    "#         serialized_tf_example = tf.placeholder(tf.string, name='input_image')\n",
    "#         feature_configs = {'data': tf.FixedLenFeature(shape=[1,148,148,148,1], dtype=tf.float32),}\n",
    "#         tf_example = tf.parse_example(serialized_tf_example, feature_configs)\n",
    "#         x_test = tf_example['data']\n",
    "#         # now the image shape is (1,148,148,148,1)\n",
    "\n",
    "#         # Create UNET model\n",
    "#         net = Unet(channels=1, n_class=1, layers=4, pool_size=2, features_root=16, summaries=True)\n",
    "#         # Create saver to restore from checkpoints\n",
    "#         saver = tf.train.Saver()\n",
    "\n",
    "#         with tf.Session() as sess:\n",
    "            \n",
    "#             # Restore the model from last checkpoints\n",
    "#             saver.restore(sess, \"./unet_trained/model 99.cpkt\")\n",
    "            \n",
    "            \n",
    "#             y_dummy = np.empty((1,148,148,148,1))\n",
    "\n",
    "#             # (re-)create export directory\n",
    "#             export_path = './export/'\n",
    "#             if os.path.exists(export_path):\n",
    "#                 shutil.rmtree(export_path)\n",
    "\n",
    "#             # create model builder\n",
    "#             builder = tf.saved_model.builder.SavedModelBuilder(export_path)\n",
    "\n",
    "#             # create tensors info\n",
    "#             predict_tensor_inputs_info = tf.saved_model.utils.build_tensor_info(x_test)\n",
    "#             predict_tensor_scores_info = tf.saved_model.utils.build_tensor_info(net.predicter_label)\n",
    "\n",
    "#             # build prediction signature\n",
    "#             prediction_signature = (\n",
    "#                 tf.saved_model.signature_def_utils.build_signature_def(\n",
    "#                     inputs={'images': predict_tensor_inputs_info},\n",
    "#                     outputs={'scores': predict_tensor_scores_info},\n",
    "#                     method_name=tf.saved_model.signature_constants.PREDICT_METHOD_NAME\n",
    "#                 )\n",
    "#             )\n",
    "\n",
    "#             # save the model\n",
    "#             legacy_init_op = tf.group(tf.tables_initializer(), name='legacy_init_op')\n",
    "#             builder.add_meta_graph_and_variables(\n",
    "#                 sess, [tf.saved_model.tag_constants.SERVING],\n",
    "#                 signature_def_map={\n",
    "#                     'predict_images': prediction_signature\n",
    "#                 },\n",
    "#                 legacy_init_op=legacy_init_op)\n",
    "\n",
    "#             builder.save()\n",
    "\n",
    "# print(\"Successfully exported UNET model\")"
   ]
  },
  {
   "cell_type": "code",
   "execution_count": null,
   "metadata": {
    "collapsed": true
   },
   "outputs": [],
   "source": []
  }
 ],
 "metadata": {
  "anaconda-cloud": {},
  "kernelspec": {
   "display_name": "Python 3",
   "language": "python",
   "name": "python3"
  },
  "language_info": {
   "codemirror_mode": {
    "name": "ipython",
    "version": 3
   },
   "file_extension": ".py",
   "mimetype": "text/x-python",
   "name": "python",
   "nbconvert_exporter": "python",
   "pygments_lexer": "ipython3",
   "version": "3.6.2"
  }
 },
 "nbformat": 4,
 "nbformat_minor": 1
}
