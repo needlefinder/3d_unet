{
 "cells": [
  {
   "cell_type": "code",
   "execution_count": 18,
   "metadata": {
    "collapsed": true
   },
   "outputs": [],
   "source": [
    "%matplotlib inline\n",
    "from fns import *\n",
    "from syntheticdata import synthetic_generation"
   ]
  },
  {
   "cell_type": "code",
   "execution_count": 3,
   "metadata": {},
   "outputs": [
    {
     "name": "stdout",
     "output_type": "stream",
     "text": [
      "Number of Needles: 1145\n",
      "Number of Cases: 54\n"
     ]
    }
   ],
   "source": [
    "training_array = []\n",
    "validation_array = []\n",
    "testing_array = []\n",
    "\n",
    "synthetic = synthetic_generation.Synthetic(N=10000)"
   ]
  },
  {
   "cell_type": "code",
   "execution_count": null,
   "metadata": {},
   "outputs": [
    {
     "name": "stderr",
     "output_type": "stream",
     "text": [
      "\r",
      "  0%|          | 0/300 [00:00<?, ?it/s]"
     ]
    },
    {
     "name": "stdout",
     "output_type": "stream",
     "text": [
      "Num:  0 [0 1] [  84076 3157716]\n",
      "Num:  0 [0 1] [3159577   82215]\n",
      "Num:  0 [0 1] [3221513   20279]\n"
     ]
    },
    {
     "name": "stderr",
     "output_type": "stream",
     "text": [
      "\r",
      "  0%|          | 1/300 [00:41<3:28:11, 41.78s/it]"
     ]
    },
    {
     "name": "stdout",
     "output_type": "stream",
     "text": [
      "Num:  1 [0 1] [  16946 3224846]\n",
      "Num:  1 [0 1] [3181248   60544]\n"
     ]
    },
    {
     "name": "stderr",
     "output_type": "stream",
     "text": [
      "\r",
      "  1%|          | 2/300 [01:23<3:26:40, 41.61s/it]"
     ]
    },
    {
     "name": "stdout",
     "output_type": "stream",
     "text": [
      "Num:  2 [0 1] [3219720   22072]\n"
     ]
    },
    {
     "name": "stderr",
     "output_type": "stream",
     "text": [
      "\r",
      "  1%|          | 3/300 [01:27<2:31:12, 30.55s/it]"
     ]
    },
    {
     "name": "stdout",
     "output_type": "stream",
     "text": [
      "Num:  3 [0 1] [3199021   42771]\n"
     ]
    },
    {
     "name": "stderr",
     "output_type": "stream",
     "text": [
      "\r",
      "  1%|▏         | 4/300 [01:32<1:52:59, 22.90s/it]"
     ]
    },
    {
     "name": "stdout",
     "output_type": "stream",
     "text": [
      "Num:  4 [0 1] [3166163   75629]\n"
     ]
    },
    {
     "name": "stderr",
     "output_type": "stream",
     "text": [
      "\r",
      "  2%|▏         | 5/300 [01:38<1:26:46, 17.65s/it]"
     ]
    },
    {
     "name": "stdout",
     "output_type": "stream",
     "text": [
      "Num:  5 [0 1] [3192370   49422]\n"
     ]
    },
    {
     "name": "stderr",
     "output_type": "stream",
     "text": [
      "\r",
      "  2%|▏         | 6/300 [01:43<1:07:45, 13.83s/it]"
     ]
    },
    {
     "name": "stdout",
     "output_type": "stream",
     "text": [
      "Num:  6 [0 1] [  36189 3205603]\n",
      "Num:  6 [0 1] [3218226   23566]\n"
     ]
    },
    {
     "name": "stderr",
     "output_type": "stream",
     "text": [
      "\r",
      "  2%|▏         | 7/300 [02:25<1:49:54, 22.51s/it]"
     ]
    },
    {
     "name": "stdout",
     "output_type": "stream",
     "text": [
      "Num:  7 [0 1] [3216783   25009]\n"
     ]
    },
    {
     "name": "stderr",
     "output_type": "stream",
     "text": [
      "\r",
      "  3%|▎         | 8/300 [02:30<1:23:48, 17.22s/it]"
     ]
    },
    {
     "name": "stdout",
     "output_type": "stream",
     "text": [
      "Num:  8 [0 1] [3219070   22722]\n"
     ]
    },
    {
     "name": "stderr",
     "output_type": "stream",
     "text": [
      "\r",
      "  3%|▎         | 9/300 [02:35<1:05:06, 13.42s/it]"
     ]
    },
    {
     "name": "stdout",
     "output_type": "stream",
     "text": [
      "Num:  9 [0 1] [3205323   36469]\n"
     ]
    },
    {
     "name": "stderr",
     "output_type": "stream",
     "text": [
      "\r",
      "  3%|▎         | 10/300 [02:40<52:44, 10.91s/it] "
     ]
    },
    {
     "name": "stdout",
     "output_type": "stream",
     "text": [
      "Num:  10 [0 1] [ 246795 2994997]\n",
      "Num:  10 [0 1] [  40349 3201443]\n",
      "Num:  10 [0 1] [3218974   22818]\n"
     ]
    },
    {
     "name": "stderr",
     "output_type": "stream",
     "text": [
      "\r",
      "  4%|▎         | 11/300 [03:52<2:20:57, 29.27s/it]"
     ]
    },
    {
     "name": "stdout",
     "output_type": "stream",
     "text": [
      "Num:  11 [0 1] [3217999   23793]\n"
     ]
    },
    {
     "name": "stderr",
     "output_type": "stream",
     "text": [
      "\r",
      "  4%|▍         | 12/300 [03:57<1:45:11, 21.92s/it]"
     ]
    },
    {
     "name": "stdout",
     "output_type": "stream",
     "text": [
      "Num:  12 [0 1] [3198894   42898]\n"
     ]
    },
    {
     "name": "stderr",
     "output_type": "stream",
     "text": [
      "\r",
      "  4%|▍         | 13/300 [04:02<1:20:42, 16.87s/it]"
     ]
    },
    {
     "name": "stdout",
     "output_type": "stream",
     "text": [
      "Num:  13 [0 1] [ 411561 2830231]\n",
      "Num:  13 [0 1] [  31646 3210146]\n",
      "Num:  13 [0 1] [3210763   31029]\n"
     ]
    },
    {
     "name": "stderr",
     "output_type": "stream",
     "text": [
      "\r",
      "  5%|▍         | 14/300 [05:12<2:36:39, 32.87s/it]"
     ]
    },
    {
     "name": "stdout",
     "output_type": "stream",
     "text": [
      "Num:  14 [0 1] [3219043   22749]\n"
     ]
    },
    {
     "name": "stderr",
     "output_type": "stream",
     "text": [
      "\r",
      "  5%|▌         | 15/300 [05:17<1:56:00, 24.42s/it]"
     ]
    },
    {
     "name": "stdout",
     "output_type": "stream",
     "text": [
      "Num:  15 [0 1] [ 103749 3138043]\n",
      "Num:  15 [0 1] [3207158   34634]\n"
     ]
    },
    {
     "name": "stderr",
     "output_type": "stream",
     "text": [
      "\r",
      "  5%|▌         | 16/300 [05:49<2:06:13, 26.67s/it]"
     ]
    },
    {
     "name": "stdout",
     "output_type": "stream",
     "text": [
      "Num:  16 [0 1] [ 278208 2963584]\n",
      "Num:  16 [0 1] [3199288   42504]\n"
     ]
    },
    {
     "name": "stderr",
     "output_type": "stream",
     "text": [
      "\r",
      "  6%|▌         | 17/300 [06:34<2:31:36, 32.14s/it]"
     ]
    },
    {
     "name": "stdout",
     "output_type": "stream",
     "text": [
      "Num:  17 [0 1] [ 843462 2398330]\n",
      "Num:  17 [0 1] [3184603   57189]\n"
     ]
    },
    {
     "name": "stderr",
     "output_type": "stream",
     "text": [
      "\r",
      "  6%|▌         | 18/300 [07:06<2:31:42, 32.28s/it]"
     ]
    },
    {
     "name": "stdout",
     "output_type": "stream",
     "text": [
      "Num:  18 [0 1] [  95083 3146709]\n",
      "Num:  18 [0 1] [3212588   29204]\n"
     ]
    },
    {
     "name": "stderr",
     "output_type": "stream",
     "text": [
      "\r",
      "  6%|▋         | 19/300 [07:54<2:53:07, 36.97s/it]"
     ]
    },
    {
     "name": "stdout",
     "output_type": "stream",
     "text": [
      "Num:  19 [0 1] [3219810   21982]\n"
     ]
    },
    {
     "name": "stderr",
     "output_type": "stream",
     "text": [
      "\r",
      "  7%|▋         | 20/300 [07:59<2:08:07, 27.46s/it]"
     ]
    },
    {
     "name": "stdout",
     "output_type": "stream",
     "text": [
      "Num:  20 [0 1] [ 232469 3009323]\n",
      "Num:  20 [0 1] [ 114662 3127130]\n",
      "Num:  20 [0 1] [3211921   29871]\n"
     ]
    },
    {
     "name": "stderr",
     "output_type": "stream",
     "text": [
      "\r",
      "  7%|▋         | 21/300 [09:24<3:27:57, 44.72s/it]"
     ]
    },
    {
     "name": "stdout",
     "output_type": "stream",
     "text": [
      "Num:  21 [0 1] [ 204070 3037722]\n",
      "Num:  21 [0 1] [3205841   35951]\n"
     ]
    },
    {
     "name": "stderr",
     "output_type": "stream",
     "text": [
      "\r",
      "  7%|▋         | 22/300 [10:04<3:20:08, 43.19s/it]"
     ]
    },
    {
     "name": "stdout",
     "output_type": "stream",
     "text": [
      "Num:  22 [0 1] [   8003 3233789]\n",
      "Num:  22 [0 1] [3207238   34554]\n"
     ]
    },
    {
     "name": "stderr",
     "output_type": "stream",
     "text": [
      "\r",
      "  8%|▊         | 23/300 [11:02<3:40:16, 47.71s/it]"
     ]
    },
    {
     "name": "stdout",
     "output_type": "stream",
     "text": [
      "Num:  23 [0 1] [  62083 3179709]\n",
      "Num:  23 [0 1] [3186843   54949]\n"
     ]
    },
    {
     "name": "stderr",
     "output_type": "stream",
     "text": [
      "\r",
      "  8%|▊         | 24/300 [11:38<3:22:27, 44.01s/it]"
     ]
    },
    {
     "name": "stdout",
     "output_type": "stream",
     "text": [
      "Num:  24 [0 1] [ 168673 3073119]\n",
      "Num:  24 [0 1] [  56756 3185036]\n",
      "Num:  24 [0 1] [3198835   42957]\n"
     ]
    },
    {
     "name": "stderr",
     "output_type": "stream",
     "text": [
      "\r",
      "  8%|▊         | 25/300 [12:45<3:53:17, 50.90s/it]"
     ]
    },
    {
     "name": "stdout",
     "output_type": "stream",
     "text": [
      "Num:  25 [0 1] [  46098 3195694]\n",
      "Num:  25 [0 1] [ 116981 3124811]\n",
      "Num:  25 [0 1] [  88401 3153391]\n",
      "Num:  25 [0 1] [  46579 3195213]\n",
      "Num:  25 [0 1] [3203400   38392]\n"
     ]
    },
    {
     "name": "stderr",
     "output_type": "stream",
     "text": [
      "\r",
      "  9%|▊         | 26/300 [15:40<6:42:32, 88.15s/it]"
     ]
    },
    {
     "name": "stdout",
     "output_type": "stream",
     "text": [
      "Num:  26 [0 1] [3188046   53746]\n"
     ]
    },
    {
     "name": "stderr",
     "output_type": "stream",
     "text": [
      "\r",
      "  9%|▉         | 27/300 [15:45<4:47:24, 63.17s/it]"
     ]
    },
    {
     "name": "stdout",
     "output_type": "stream",
     "text": [
      "Num:  27 [0 1] [ 181342 3060450]\n",
      "Num:  27 [0 1] [ 113611 3128181]\n",
      "Empty Needle /mnt/DATA/gp1514/Dropbox/2016-paolo/preprocessed_data/LabelMapsNEW2_1.00-1.00-1.00/014/needle-7-Manual_CY.nrrd\n",
      "Num:  27 [0 1] [3213306   28486]\n"
     ]
    },
    {
     "name": "stderr",
     "output_type": "stream",
     "text": [
      "\r",
      "  9%|▉         | 28/300 [16:59<5:02:07, 66.64s/it]"
     ]
    },
    {
     "name": "stdout",
     "output_type": "stream",
     "text": [
      "Num:  28 [0 1] [3200262   41530]\n"
     ]
    },
    {
     "name": "stderr",
     "output_type": "stream",
     "text": [
      "\r",
      " 10%|▉         | 29/300 [17:04<3:36:57, 48.04s/it]"
     ]
    },
    {
     "name": "stdout",
     "output_type": "stream",
     "text": [
      "Num:  29 [0 1] [ 826901 2414891]\n",
      "Num:  29 [0 1] [  93879 3147913]\n",
      "Num:  29 [0 1] [3154030   87762]\n",
      "Num:  29 [0 1] [3215338   26454]\n"
     ]
    },
    {
     "name": "stderr",
     "output_type": "stream",
     "text": [
      "\r",
      " 10%|█         | 30/300 [18:15<4:07:19, 54.96s/it]"
     ]
    },
    {
     "name": "stdout",
     "output_type": "stream",
     "text": [
      "Num:  30 [0 1] [3171261   70531]\n"
     ]
    },
    {
     "name": "stderr",
     "output_type": "stream",
     "text": [
      "\r",
      " 10%|█         | 31/300 [18:20<2:59:14, 39.98s/it]"
     ]
    },
    {
     "name": "stdout",
     "output_type": "stream",
     "text": [
      "Num:  31 [0 1] [3198399   43393]\n"
     ]
    },
    {
     "name": "stderr",
     "output_type": "stream",
     "text": [
      "\r",
      " 11%|█         | 32/300 [18:25<2:11:38, 29.47s/it]"
     ]
    },
    {
     "name": "stdout",
     "output_type": "stream",
     "text": [
      "Num:  32 [0 1] [  71585 3170207]\n",
      "Num:  32 [0 1] [3213892   27900]\n"
     ]
    },
    {
     "name": "stderr",
     "output_type": "stream",
     "text": [
      "\r",
      " 11%|█         | 33/300 [19:08<2:28:55, 33.47s/it]"
     ]
    },
    {
     "name": "stdout",
     "output_type": "stream",
     "text": [
      "Num:  33 [0 1] [3189061   52731]\n"
     ]
    },
    {
     "name": "stderr",
     "output_type": "stream",
     "text": [
      "\r",
      " 11%|█▏        | 34/300 [19:13<1:50:40, 24.96s/it]"
     ]
    },
    {
     "name": "stdout",
     "output_type": "stream",
     "text": [
      "Num:  34 [0 1] [3214091   27701]\n"
     ]
    },
    {
     "name": "stderr",
     "output_type": "stream",
     "text": [
      "\r",
      " 12%|█▏        | 35/300 [19:19<1:24:38, 19.17s/it]"
     ]
    },
    {
     "name": "stdout",
     "output_type": "stream",
     "text": [
      "Num:  35 [0 1] [  44767 3197025]\n",
      "Num:  35 [0 1] [3164296   77496]\n"
     ]
    },
    {
     "name": "stderr",
     "output_type": "stream",
     "text": [
      "\r",
      " 12%|█▏        | 36/300 [19:54<1:46:10, 24.13s/it]"
     ]
    },
    {
     "name": "stdout",
     "output_type": "stream",
     "text": [
      "Num:  36 [0 1] [3197019   44773]\n"
     ]
    },
    {
     "name": "stderr",
     "output_type": "stream",
     "text": [
      "\r",
      " 12%|█▏        | 37/300 [19:59<1:20:14, 18.31s/it]"
     ]
    },
    {
     "name": "stdout",
     "output_type": "stream",
     "text": [
      "Num:  37 [0 1] [3183769   58023]\n"
     ]
    },
    {
     "name": "stderr",
     "output_type": "stream",
     "text": [
      "\r",
      " 13%|█▎        | 38/300 [20:04<1:02:35, 14.34s/it]"
     ]
    },
    {
     "name": "stdout",
     "output_type": "stream",
     "text": [
      "Num:  38 [0 1] [   9572 3232220]\n",
      "Num:  38 [0 1] [3210379   31413]\n"
     ]
    },
    {
     "name": "stderr",
     "output_type": "stream",
     "text": [
      "\r",
      " 13%|█▎        | 39/300 [20:43<1:34:56, 21.83s/it]"
     ]
    },
    {
     "name": "stdout",
     "output_type": "stream",
     "text": [
      "Num:  39 [0 1] [3168974   72818]\n"
     ]
    },
    {
     "name": "stderr",
     "output_type": "stream",
     "text": [
      "\r",
      " 13%|█▎        | 40/300 [20:48<1:12:52, 16.82s/it]"
     ]
    },
    {
     "name": "stdout",
     "output_type": "stream",
     "text": [
      "Num:  40 [0 1] [3218732   23060]\n"
     ]
    },
    {
     "name": "stderr",
     "output_type": "stream",
     "text": [
      "\r",
      " 14%|█▎        | 41/300 [20:53<57:11, 13.25s/it]  "
     ]
    },
    {
     "name": "stdout",
     "output_type": "stream",
     "text": [
      "Num:  41 [0 1] [3218352   23440]\n"
     ]
    },
    {
     "name": "stderr",
     "output_type": "stream",
     "text": [
      "\r",
      " 14%|█▍        | 42/300 [20:59<46:46, 10.88s/it]"
     ]
    },
    {
     "name": "stdout",
     "output_type": "stream",
     "text": [
      "Num:  42 [0 1] [3219262   22530]\n"
     ]
    },
    {
     "name": "stderr",
     "output_type": "stream",
     "text": [
      "\r",
      " 14%|█▍        | 43/300 [21:05<40:36,  9.48s/it]"
     ]
    },
    {
     "name": "stdout",
     "output_type": "stream",
     "text": [
      "Num:  43 [0 1] [3210435   31357]\n"
     ]
    },
    {
     "name": "stderr",
     "output_type": "stream",
     "text": [
      "\r",
      " 15%|█▍        | 44/300 [21:11<36:32,  8.56s/it]"
     ]
    },
    {
     "name": "stdout",
     "output_type": "stream",
     "text": [
      "Num:  44 [0 1] [3176153   65639]\n"
     ]
    },
    {
     "name": "stderr",
     "output_type": "stream",
     "text": [
      "\r",
      " 15%|█▌        | 45/300 [21:18<34:19,  8.08s/it]"
     ]
    },
    {
     "name": "stdout",
     "output_type": "stream",
     "text": [
      "Num:  45 [0 1] [3188210   53582]\n"
     ]
    },
    {
     "name": "stderr",
     "output_type": "stream",
     "text": [
      "\r",
      " 15%|█▌        | 46/300 [21:25<32:18,  7.63s/it]"
     ]
    },
    {
     "name": "stdout",
     "output_type": "stream",
     "text": [
      "Num:  46 [0 1] [    174 3241618]\n",
      "Empty Needle /mnt/DATA/gp1514/Dropbox/2016-paolo/preprocessed_data/LabelMapsNEW2_1.00-1.00-1.00/076/needle-5-Manual_CY.nrrd\n",
      "Num:  46 [0 1] [3218204   23588]\n"
     ]
    },
    {
     "name": "stderr",
     "output_type": "stream",
     "text": [
      "\r",
      " 16%|█▌        | 47/300 [22:31<1:46:05, 25.16s/it]"
     ]
    },
    {
     "name": "stdout",
     "output_type": "stream",
     "text": [
      "Num:  47 [0 1] [ 177489 3064303]\n",
      "Num:  47 [0 1] [3196191   45601]\n"
     ]
    },
    {
     "name": "stderr",
     "output_type": "stream",
     "text": [
      "\r",
      " 16%|█▌        | 48/300 [23:06<1:58:23, 28.19s/it]"
     ]
    },
    {
     "name": "stdout",
     "output_type": "stream",
     "text": [
      "Num:  48 [0 1] [3209527   32265]\n"
     ]
    },
    {
     "name": "stderr",
     "output_type": "stream",
     "text": [
      "\r",
      " 16%|█▋        | 49/300 [23:12<1:29:50, 21.48s/it]"
     ]
    },
    {
     "name": "stdout",
     "output_type": "stream",
     "text": [
      "Num:  49 [0 1] [3191888   49904]\n"
     ]
    },
    {
     "name": "stderr",
     "output_type": "stream",
     "text": [
      "\r",
      " 17%|█▋        | 50/300 [23:18<1:10:22, 16.89s/it]"
     ]
    },
    {
     "name": "stdout",
     "output_type": "stream",
     "text": [
      "Num:  50 [0 1] [  31961 3209831]\n",
      "Num:  50 [0 1] [   4000 3237792]\n",
      "Num:  50 [0 1] [ 125754 3116038]\n",
      "Num:  50 [0 1] [3201484   40308]\n"
     ]
    },
    {
     "name": "stderr",
     "output_type": "stream",
     "text": [
      "\r",
      " 17%|█▋        | 51/300 [25:24<3:25:24, 49.49s/it]"
     ]
    },
    {
     "name": "stdout",
     "output_type": "stream",
     "text": [
      "Num:  51 [0 1] [3218886   22906]\n"
     ]
    },
    {
     "name": "stderr",
     "output_type": "stream",
     "text": [
      "\r",
      " 17%|█▋        | 52/300 [25:30<2:30:42, 36.46s/it]"
     ]
    },
    {
     "name": "stdout",
     "output_type": "stream",
     "text": [
      "Num:  52 [0 1] [3178042   63750]\n"
     ]
    },
    {
     "name": "stderr",
     "output_type": "stream",
     "text": [
      "\r",
      " 18%|█▊        | 53/300 [25:37<1:53:40, 27.61s/it]"
     ]
    },
    {
     "name": "stdout",
     "output_type": "stream",
     "text": [
      "Num:  53 [0 1] [ 542107 2699685]\n",
      "Num:  53 [0 1] [3208910   32882]\n"
     ]
    },
    {
     "name": "stderr",
     "output_type": "stream",
     "text": [
      "\r",
      " 18%|█▊        | 54/300 [26:12<2:02:38, 29.91s/it]"
     ]
    },
    {
     "name": "stdout",
     "output_type": "stream",
     "text": [
      "Num:  54 [0 1] [3208700   33092]\n"
     ]
    },
    {
     "name": "stderr",
     "output_type": "stream",
     "text": [
      "\r",
      " 18%|█▊        | 55/300 [26:18<1:32:27, 22.64s/it]"
     ]
    },
    {
     "name": "stdout",
     "output_type": "stream",
     "text": [
      "Num:  55 [0 1] [3197582   44210]\n"
     ]
    },
    {
     "name": "stderr",
     "output_type": "stream",
     "text": [
      "\r",
      " 19%|█▊        | 56/300 [26:24<1:12:06, 17.73s/it]"
     ]
    },
    {
     "name": "stdout",
     "output_type": "stream",
     "text": [
      "Num:  56 [0 1] [3219945   21847]\n"
     ]
    },
    {
     "name": "stderr",
     "output_type": "stream",
     "text": [
      "\r",
      " 19%|█▉        | 57/300 [26:30<57:17, 14.15s/it]  "
     ]
    },
    {
     "name": "stdout",
     "output_type": "stream",
     "text": [
      "Num:  57 [0 1] [3219754   22038]\n"
     ]
    },
    {
     "name": "stderr",
     "output_type": "stream",
     "text": [
      "\r",
      " 19%|█▉        | 58/300 [26:36<47:05, 11.67s/it]"
     ]
    },
    {
     "name": "stdout",
     "output_type": "stream",
     "text": [
      "Num:  58 [0 1] [3192764   49028]\n"
     ]
    },
    {
     "name": "stderr",
     "output_type": "stream",
     "text": [
      "\r",
      " 20%|█▉        | 59/300 [26:42<40:42, 10.13s/it]"
     ]
    },
    {
     "name": "stdout",
     "output_type": "stream",
     "text": [
      "Num:  59 [0 1] [3198686   43106]\n"
     ]
    },
    {
     "name": "stderr",
     "output_type": "stream",
     "text": [
      "\r",
      " 20%|██        | 60/300 [26:49<36:01,  9.01s/it]"
     ]
    },
    {
     "name": "stdout",
     "output_type": "stream",
     "text": [
      "Num:  60 [0 1] [3162856   78936]\n"
     ]
    },
    {
     "name": "stderr",
     "output_type": "stream",
     "text": [
      "\r",
      " 20%|██        | 61/300 [26:55<33:01,  8.29s/it]"
     ]
    },
    {
     "name": "stdout",
     "output_type": "stream",
     "text": [
      "Num:  61 [0 1] [3179851   61941]\n"
     ]
    },
    {
     "name": "stderr",
     "output_type": "stream",
     "text": [
      "\r",
      " 21%|██        | 62/300 [27:01<30:17,  7.64s/it]"
     ]
    },
    {
     "name": "stdout",
     "output_type": "stream",
     "text": [
      "Num:  62 [0 1] [3219072   22720]\n"
     ]
    },
    {
     "name": "stderr",
     "output_type": "stream",
     "text": [
      "\r",
      " 21%|██        | 63/300 [27:08<28:38,  7.25s/it]"
     ]
    },
    {
     "name": "stdout",
     "output_type": "stream",
     "text": [
      "Num:  63 [0 1] [3216476   25316]\n"
     ]
    },
    {
     "name": "stderr",
     "output_type": "stream",
     "text": [
      "\r",
      " 21%|██▏       | 64/300 [27:14<27:07,  6.90s/it]"
     ]
    },
    {
     "name": "stdout",
     "output_type": "stream",
     "text": [
      "Num:  64 [0 1] [3196092   45700]\n"
     ]
    },
    {
     "name": "stderr",
     "output_type": "stream",
     "text": [
      "\r",
      " 22%|██▏       | 65/300 [27:20<26:12,  6.69s/it]"
     ]
    },
    {
     "name": "stdout",
     "output_type": "stream",
     "text": [
      "Num:  65 [0 1] [3174763   67029]\n"
     ]
    },
    {
     "name": "stderr",
     "output_type": "stream",
     "text": [
      "\r",
      " 22%|██▏       | 66/300 [27:27<26:36,  6.82s/it]"
     ]
    },
    {
     "name": "stdout",
     "output_type": "stream",
     "text": [
      "Num:  66 [0 1] [3216691   25101]\n"
     ]
    },
    {
     "name": "stderr",
     "output_type": "stream",
     "text": [
      "\r",
      " 22%|██▏       | 67/300 [27:33<25:53,  6.67s/it]"
     ]
    },
    {
     "name": "stdout",
     "output_type": "stream",
     "text": [
      "Num:  67 [0 1] [3216328   25464]\n"
     ]
    },
    {
     "name": "stderr",
     "output_type": "stream",
     "text": [
      "\r",
      " 23%|██▎       | 68/300 [27:40<25:10,  6.51s/it]"
     ]
    },
    {
     "name": "stdout",
     "output_type": "stream",
     "text": [
      "Num:  68 [0 1] [ 206392 3035400]\n",
      "Num:  68 [0 1] [3212450   29342]\n"
     ]
    },
    {
     "name": "stderr",
     "output_type": "stream",
     "text": [
      "\r",
      " 23%|██▎       | 69/300 [28:27<1:12:06, 18.73s/it]"
     ]
    },
    {
     "name": "stdout",
     "output_type": "stream",
     "text": [
      "Num:  69 [0 1] [3220774   21018]\n"
     ]
    },
    {
     "name": "stderr",
     "output_type": "stream",
     "text": [
      "\r",
      " 23%|██▎       | 70/300 [28:32<56:16, 14.68s/it]  "
     ]
    },
    {
     "name": "stdout",
     "output_type": "stream",
     "text": [
      "Num:  70 [0 1] [3192639   49153]\n"
     ]
    },
    {
     "name": "stderr",
     "output_type": "stream",
     "text": [
      "\r",
      " 24%|██▎       | 71/300 [28:38<46:19, 12.14s/it]"
     ]
    },
    {
     "name": "stdout",
     "output_type": "stream",
     "text": [
      "Num:  71 [0 1] [3205108   36684]\n"
     ]
    },
    {
     "name": "stderr",
     "output_type": "stream",
     "text": [
      "\r",
      " 24%|██▍       | 72/300 [28:45<39:32, 10.41s/it]"
     ]
    },
    {
     "name": "stdout",
     "output_type": "stream",
     "text": [
      "Num:  72 [0 1] [3202509   39283]\n"
     ]
    },
    {
     "name": "stderr",
     "output_type": "stream",
     "text": [
      "\r",
      " 24%|██▍       | 73/300 [28:51<35:12,  9.30s/it]"
     ]
    },
    {
     "name": "stdout",
     "output_type": "stream",
     "text": [
      "Num:  73 [0 1] [3187775   54017]\n"
     ]
    },
    {
     "name": "stderr",
     "output_type": "stream",
     "text": [
      "\r",
      " 25%|██▍       | 74/300 [28:58<31:56,  8.48s/it]"
     ]
    },
    {
     "name": "stdout",
     "output_type": "stream",
     "text": [
      "Num:  74 [0 1] [3173136   68656]\n"
     ]
    },
    {
     "name": "stderr",
     "output_type": "stream",
     "text": [
      "\r",
      " 25%|██▌       | 75/300 [29:05<29:49,  7.95s/it]"
     ]
    },
    {
     "name": "stdout",
     "output_type": "stream",
     "text": [
      "Num:  75 [0 1] [3191163   50629]\n"
     ]
    },
    {
     "name": "stderr",
     "output_type": "stream",
     "text": [
      "\r",
      " 25%|██▌       | 76/300 [29:11<28:00,  7.50s/it]"
     ]
    },
    {
     "name": "stdout",
     "output_type": "stream",
     "text": [
      "Num:  76 [0 1] [3210350   31442]\n"
     ]
    },
    {
     "name": "stderr",
     "output_type": "stream",
     "text": [
      "\r",
      " 26%|██▌       | 77/300 [29:17<26:04,  7.01s/it]"
     ]
    },
    {
     "name": "stdout",
     "output_type": "stream",
     "text": [
      "Num:  77 [0 1] [3178833   62959]\n"
     ]
    },
    {
     "name": "stderr",
     "output_type": "stream",
     "text": [
      "\r",
      " 26%|██▌       | 78/300 [29:24<25:52,  6.99s/it]"
     ]
    },
    {
     "name": "stdout",
     "output_type": "stream",
     "text": [
      "Num:  78 [0 1] [  25149 3216643]\n",
      "Num:  78 [0 1] [ 312435 2929357]\n",
      "Num:  78 [0 1] [  27240 3214552]\n",
      "Num:  78 [0 1] [3207946   33846]\n"
     ]
    },
    {
     "name": "stderr",
     "output_type": "stream",
     "text": [
      "\r",
      " 26%|██▋       | 79/300 [31:36<2:43:59, 44.52s/it]"
     ]
    },
    {
     "name": "stdout",
     "output_type": "stream",
     "text": [
      "Num:  79 [0 1] [3212279   29513]\n"
     ]
    },
    {
     "name": "stderr",
     "output_type": "stream",
     "text": [
      "\r",
      " 27%|██▋       | 80/300 [31:42<2:00:59, 33.00s/it]"
     ]
    },
    {
     "name": "stdout",
     "output_type": "stream",
     "text": [
      "Num:  80 [0 1] [3193209   48583]\n"
     ]
    },
    {
     "name": "stderr",
     "output_type": "stream",
     "text": [
      "\r",
      " 27%|██▋       | 81/300 [31:49<1:31:31, 25.08s/it]"
     ]
    },
    {
     "name": "stdout",
     "output_type": "stream",
     "text": [
      "Num:  81 [0 1] [3177991   63801]\n"
     ]
    },
    {
     "name": "stderr",
     "output_type": "stream",
     "text": [
      "\r",
      " 27%|██▋       | 82/300 [31:56<1:11:12, 19.60s/it]"
     ]
    },
    {
     "name": "stdout",
     "output_type": "stream",
     "text": [
      "Num:  82 [0 1] [3142962   98830]\n",
      "Num:  82 [0 1] [3209290   32502]\n"
     ]
    },
    {
     "name": "stderr",
     "output_type": "stream",
     "text": [
      "\r",
      " 28%|██▊       | 83/300 [32:07<1:02:32, 17.29s/it]"
     ]
    },
    {
     "name": "stdout",
     "output_type": "stream",
     "text": [
      "Num:  83 [0 1] [3203241   38551]\n"
     ]
    },
    {
     "name": "stderr",
     "output_type": "stream",
     "text": [
      "\r",
      " 28%|██▊       | 84/300 [32:14<50:20, 13.98s/it]  "
     ]
    },
    {
     "name": "stdout",
     "output_type": "stream",
     "text": [
      "Num:  84 [0 1] [3151658   90134]\n",
      "Num:  84 [0 1] [  66473 3175319]\n",
      "Num:  84 [0 1] [3218778   23014]\n"
     ]
    },
    {
     "name": "stderr",
     "output_type": "stream",
     "text": [
      "\r",
      " 28%|██▊       | 85/300 [33:05<1:30:00, 25.12s/it]"
     ]
    },
    {
     "name": "stdout",
     "output_type": "stream",
     "text": [
      "Num:  85 [0 1] [3189661   52131]\n"
     ]
    },
    {
     "name": "stderr",
     "output_type": "stream",
     "text": [
      "\r",
      " 29%|██▊       | 86/300 [33:10<1:08:49, 19.30s/it]"
     ]
    },
    {
     "name": "stdout",
     "output_type": "stream",
     "text": [
      "Num:  86 [0 1] [3186885   54907]\n"
     ]
    },
    {
     "name": "stderr",
     "output_type": "stream",
     "text": [
      "\r",
      " 29%|██▉       | 87/300 [33:17<55:06, 15.52s/it]  "
     ]
    },
    {
     "name": "stdout",
     "output_type": "stream",
     "text": [
      "Num:  87 [0 1] [3182599   59193]\n"
     ]
    },
    {
     "name": "stderr",
     "output_type": "stream",
     "text": [
      "\r",
      " 29%|██▉       | 88/300 [33:24<45:49, 12.97s/it]"
     ]
    },
    {
     "name": "stdout",
     "output_type": "stream",
     "text": [
      "Num:  88 [0 1] [3203483   38309]\n"
     ]
    },
    {
     "name": "stderr",
     "output_type": "stream",
     "text": [
      "\r",
      " 30%|██▉       | 89/300 [33:30<38:31, 10.95s/it]"
     ]
    },
    {
     "name": "stdout",
     "output_type": "stream",
     "text": [
      "Num:  89 [0 1] [ 105575 3136217]\n",
      "Num:  89 [0 1] [ 169618 3072174]\n",
      "Num:  89 [0 1] [3210894   30898]\n"
     ]
    },
    {
     "name": "stderr",
     "output_type": "stream",
     "text": [
      "\r",
      " 30%|███       | 90/300 [34:40<1:40:07, 28.61s/it]"
     ]
    },
    {
     "name": "stdout",
     "output_type": "stream",
     "text": [
      "Num:  90 [0 1] [3189921   51871]\n"
     ]
    },
    {
     "name": "stderr",
     "output_type": "stream",
     "text": [
      "\r",
      " 30%|███       | 91/300 [34:46<1:15:30, 21.68s/it]"
     ]
    },
    {
     "name": "stdout",
     "output_type": "stream",
     "text": [
      "Num:  91 [0 1] [ 207369 3034423]\n",
      "Num:  91 [0 1] [3222504   19288]\n"
     ]
    },
    {
     "name": "stderr",
     "output_type": "stream",
     "text": [
      "\r",
      " 31%|███       | 92/300 [35:29<1:37:18, 28.07s/it]"
     ]
    },
    {
     "name": "stdout",
     "output_type": "stream",
     "text": [
      "Num:  92 [0 1] [3200323   41469]\n"
     ]
    },
    {
     "name": "stderr",
     "output_type": "stream",
     "text": [
      "\r",
      " 31%|███       | 93/300 [35:34<1:12:45, 21.09s/it]"
     ]
    },
    {
     "name": "stdout",
     "output_type": "stream",
     "text": [
      "Num:  93 [0 1] [  90030 3151762]\n",
      "Num:  93 [0 1] [3207629   34163]\n"
     ]
    },
    {
     "name": "stderr",
     "output_type": "stream",
     "text": [
      "\r",
      " 31%|███▏      | 94/300 [36:15<1:33:14, 27.16s/it]"
     ]
    },
    {
     "name": "stdout",
     "output_type": "stream",
     "text": [
      "Num:  94 [0 1] [3199498   42294]\n"
     ]
    },
    {
     "name": "stderr",
     "output_type": "stream",
     "text": [
      "\r",
      " 32%|███▏      | 95/300 [36:20<1:09:56, 20.47s/it]"
     ]
    },
    {
     "name": "stdout",
     "output_type": "stream",
     "text": [
      "Num:  95 [0 1] [3177900   63892]\n"
     ]
    },
    {
     "name": "stderr",
     "output_type": "stream",
     "text": [
      "\r",
      " 32%|███▏      | 96/300 [36:25<53:45, 15.81s/it]  "
     ]
    },
    {
     "name": "stdout",
     "output_type": "stream",
     "text": [
      "Num:  96 [0 1] [  82049 3159743]\n",
      "Num:  96 [0 1] [3202541   39251]\n"
     ]
    },
    {
     "name": "stderr",
     "output_type": "stream",
     "text": [
      "\r",
      " 32%|███▏      | 97/300 [37:03<1:16:24, 22.58s/it]"
     ]
    },
    {
     "name": "stdout",
     "output_type": "stream",
     "text": [
      "Num:  97 [0 1] [3186496   55296]\n"
     ]
    },
    {
     "name": "stderr",
     "output_type": "stream",
     "text": [
      "\r",
      " 33%|███▎      | 98/300 [37:08<58:14, 17.30s/it]  "
     ]
    },
    {
     "name": "stdout",
     "output_type": "stream",
     "text": [
      "Num:  98 [0 1] [3210820   30972]\n"
     ]
    },
    {
     "name": "stderr",
     "output_type": "stream",
     "text": [
      "\r",
      " 33%|███▎      | 99/300 [37:13<45:31, 13.59s/it]"
     ]
    },
    {
     "name": "stdout",
     "output_type": "stream",
     "text": [
      "Num:  99 [0 1] [  81067 3160725]\n",
      "Num:  99 [0 1] [3180153   61639]\n"
     ]
    },
    {
     "name": "stderr",
     "output_type": "stream",
     "text": [
      "\r",
      " 33%|███▎      | 100/300 [37:44<1:03:03, 18.92s/it]"
     ]
    },
    {
     "name": "stdout",
     "output_type": "stream",
     "text": [
      "Num:  100 [0 1] [3208378   33414]\n"
     ]
    },
    {
     "name": "stderr",
     "output_type": "stream",
     "text": [
      "\r",
      " 34%|███▎      | 101/300 [37:50<49:15, 14.85s/it]  "
     ]
    },
    {
     "name": "stdout",
     "output_type": "stream",
     "text": [
      "Num:  101 [0 1] [3205780   36012]\n"
     ]
    },
    {
     "name": "stderr",
     "output_type": "stream",
     "text": [
      "\r",
      " 34%|███▍      | 102/300 [37:57<41:14, 12.50s/it]"
     ]
    },
    {
     "name": "stdout",
     "output_type": "stream",
     "text": [
      "Num:  102 [0 1] [  88247 3153545]\n",
      "Num:  102 [0 1] [3178020   63772]\n"
     ]
    },
    {
     "name": "stderr",
     "output_type": "stream",
     "text": [
      "\r",
      " 34%|███▍      | 103/300 [38:41<1:11:53, 21.90s/it]"
     ]
    },
    {
     "name": "stdout",
     "output_type": "stream",
     "text": [
      "Num:  103 [0 1] [  67839 3173953]\n",
      "Num:  103 [0 1] [3186862   54930]\n"
     ]
    },
    {
     "name": "stderr",
     "output_type": "stream",
     "text": [
      "\r",
      " 35%|███▍      | 104/300 [39:14<1:23:15, 25.49s/it]"
     ]
    },
    {
     "name": "stdout",
     "output_type": "stream",
     "text": [
      "Num:  104 [0 1] [3219158   22634]\n"
     ]
    },
    {
     "name": "stderr",
     "output_type": "stream",
     "text": [
      "\r",
      " 35%|███▌      | 105/300 [39:20<1:03:35, 19.57s/it]"
     ]
    },
    {
     "name": "stdout",
     "output_type": "stream",
     "text": [
      "Num:  105 [0 1] [3216362   25430]\n"
     ]
    },
    {
     "name": "stderr",
     "output_type": "stream",
     "text": [
      "\r",
      " 35%|███▌      | 106/300 [39:26<50:12, 15.53s/it]  "
     ]
    },
    {
     "name": "stdout",
     "output_type": "stream",
     "text": [
      "Num:  106 [0 1] [3199456   42336]\n"
     ]
    },
    {
     "name": "stderr",
     "output_type": "stream",
     "text": [
      "\r",
      " 36%|███▌      | 107/300 [39:32<40:45, 12.67s/it]"
     ]
    },
    {
     "name": "stdout",
     "output_type": "stream",
     "text": [
      "Num:  107 [0 1] [   1234 3240558]\n"
     ]
    }
   ],
   "source": [
    "Num_Training = 300\n",
    "Num_Validation = 10\n",
    "Num_Testing = 10\n",
    "\n",
    "SAVEPATH = \"/mnt/DATA/gp1514/Dropbox/2016-paolo/preprocessed_data/LabelMapsNEW2_1.00-1.00-1.00_synthetic_occulted/\"\n",
    "NUMPYPATH = SAVEPATH + \"numpy/\"\n",
    "NRRDPATH = SAVEPATH + \"nrrd/\"\n",
    "try:\n",
    "    os.mkdir(SAVEPATH)\n",
    "    os.mkdir(NUMPYPATH)\n",
    "    os.mkdir(NRRDPATH)\n",
    "except:\n",
    "    pass\n",
    "\n",
    "for num in trange(Num_Training):\n",
    "    while True:\n",
    "        labelmap, case = synthetic.get_array(num_needles=40, degree=10, shape = (148, 148, 148))\n",
    "        labelmap[labelmap != 0] = 1 \n",
    "        unique, counts = np.unique(labelmap, return_counts = True)\n",
    "        print(\"Num: \", num, unique, counts)\n",
    "        if counts[1] >= 5000 and counts[1] <= 80000:\n",
    "                training_array.append([case, labelmap])\n",
    "                np.save(NUMPYPATH + \"training_labelmap{}.npy\".format(num+1), labelmap)\n",
    "                np.save(NUMPYPATH + \"training_case{}.npy\".format(num+1), case)\n",
    "                nrrd.write(NRRDPATH + \"training_labelmap{}.nrrd\".format(num+1), labelmap)\n",
    "                nrrd.write(NRRDPATH + \"training_case{}.nrrd\".format(num+1), case)\n",
    "                break\n",
    "    \n",
    "print('*'* 20)\n",
    "\n",
    "for num in trange(Num_Validation):\n",
    "    while True:\n",
    "        labelmap, case = synthetic.get_array(num_needles=10, degree=10, shape = (148, 148, 148))\n",
    "        labelmap[labelmap != 0] = 1 \n",
    "        unique, counts = np.unique(labelmap, return_counts = True)\n",
    "        print(\"Num: \", num, unique, counts)\n",
    "        if counts[1] >= 5000 and counts[1] <= 48000:\n",
    "                validation_array.append([case, labelmap])\n",
    "                np.save(NUMPYPATH + \"validation_labelmap{}.npy\".format(num+1), labelmap)\n",
    "                np.save(NUMPYPATH + \"validation_case{}.npy\".format(num+1), case)\n",
    "                nrrd.write(NRRDPATH + \"validation_labelmap{}.nrrd\".format(num+1), labelmap)\n",
    "                nrrd.write(NRRDPATH + \"validation_case{}.nrrd\".format(num+1), case)\n",
    "                break\n",
    "\n",
    "print('*'*20)    \n",
    "    \n",
    "for num in trange(Num_Testing):\n",
    "    while True:\n",
    "        labelmap, case = synthetic.get_array(num_needles=10, degree=10, shape = (148, 148, 148))\n",
    "        labelmap[labelmap != 0] = 1 \n",
    "        unique, counts = np.unique(labelmap, return_counts = True)\n",
    "        print(\"Num: \", num, unique, counts)\n",
    "        if counts[1] >= 5000 and counts[1] <= 80000:\n",
    "                testing_array.append([case, labelmap])\n",
    "                np.save(NUMPYPATH + \"testing_labelmap{}.npy\".format(num+1), labelmap)\n",
    "                np.save(NUMPYPATH + \"testing_case{}.npy\".format(num+1), case)\n",
    "                nrrd.write(NRRDPATH + \"testing_labelmap{}.nrrd\".format(num+1), labelmap)\n",
    "                nrrd.write(NRRDPATH + \"testing_case{}.nrrd\".format(num+1), case)\n",
    "                break\n",
    "\n",
    "                "
   ]
  },
  {
   "cell_type": "code",
   "execution_count": 15,
   "metadata": {},
   "outputs": [
    {
     "data": {
      "text/plain": [
       "0"
      ]
     },
     "execution_count": 15,
     "metadata": {},
     "output_type": "execute_result"
    }
   ],
   "source": []
  },
  {
   "cell_type": "code",
   "execution_count": 11,
   "metadata": {
    "collapsed": true
   },
   "outputs": [],
   "source": [
    "\n",
    "# assert len(training_array) == Num_Training\n",
    "# for num, array in enumerate(training_array):\n",
    "#     case = array[0].astype(np.int32)\n",
    "#     labelmap = array[1].astype(np.int32)\n",
    "#     np.save(NUMPYPATH + \"training_labelmap{}.npy\".format(num+1), labelmap)\n",
    "#     np.save(NUMPYPATH + \"training_case{}.npy\".format(num+1), case)\n",
    "#     nrrd.write(NRRDPATH + \"training_labelmap{}.nrrd\".format(num+1), labelmap)\n",
    "#     nrrd.write(NRRDPATH + \"training_case{}.nrrd\".format(num+1), case)\n",
    "    \n",
    "# assert len(validation_array) == Num_Validation\n",
    "# for num, array in enumerate(validation_array):\n",
    "#     case = array[0].astype(np.int32)\n",
    "#     labelmap = array[1].astype(np.int32)\n",
    "#     np.save(NUMPYPATH + \"validation_labelmap{}.npy\".format(num+1), labelmap)\n",
    "#     np.save(NUMPYPATH + \"validation_case{}.npy\".format(num+1), case)\n",
    "#     nrrd.write(NRRDPATH + \"validation_labelmap{}.nrrd\".format(num+1), labelmap)\n",
    "#     nrrd.write(NRRDPATH + \"validation_case{}.nrrd\".format(num+1), case)\n",
    "    \n",
    "# assert len(testing_array) == Num_Testing\n",
    "# for num, array in enumerate(testing_array):\n",
    "#     case = array[0].astype(np.int32)\n",
    "#     labelmap = array[1].astype(np.int32)\n",
    "#     np.save(NUMPYPATH + \"testing_labelmap{}.npy\".format(num+1), labelmap)\n",
    "#     np.save(NUMPYPATH + \"testing_case{}.npy\".format(num+1), case)\n",
    "#     nrrd.write(NRRDPATH + \"testing_labelmap{}.nrrd\".format(num+1), labelmap)\n",
    "#     nrrd.write(NRRDPATH + \"testing_case{}.nrrd\".format(num+1), case)"
   ]
  },
  {
   "cell_type": "code",
   "execution_count": 4,
   "metadata": {},
   "outputs": [
    {
     "data": {
      "application/javascript": [
       "/* Put everything inside the global mpl namespace */\n",
       "window.mpl = {};\n",
       "\n",
       "\n",
       "mpl.get_websocket_type = function() {\n",
       "    if (typeof(WebSocket) !== 'undefined') {\n",
       "        return WebSocket;\n",
       "    } else if (typeof(MozWebSocket) !== 'undefined') {\n",
       "        return MozWebSocket;\n",
       "    } else {\n",
       "        alert('Your browser does not have WebSocket support.' +\n",
       "              'Please try Chrome, Safari or Firefox ≥ 6. ' +\n",
       "              'Firefox 4 and 5 are also supported but you ' +\n",
       "              'have to enable WebSockets in about:config.');\n",
       "    };\n",
       "}\n",
       "\n",
       "mpl.figure = function(figure_id, websocket, ondownload, parent_element) {\n",
       "    this.id = figure_id;\n",
       "\n",
       "    this.ws = websocket;\n",
       "\n",
       "    this.supports_binary = (this.ws.binaryType != undefined);\n",
       "\n",
       "    if (!this.supports_binary) {\n",
       "        var warnings = document.getElementById(\"mpl-warnings\");\n",
       "        if (warnings) {\n",
       "            warnings.style.display = 'block';\n",
       "            warnings.textContent = (\n",
       "                \"This browser does not support binary websocket messages. \" +\n",
       "                    \"Performance may be slow.\");\n",
       "        }\n",
       "    }\n",
       "\n",
       "    this.imageObj = new Image();\n",
       "\n",
       "    this.context = undefined;\n",
       "    this.message = undefined;\n",
       "    this.canvas = undefined;\n",
       "    this.rubberband_canvas = undefined;\n",
       "    this.rubberband_context = undefined;\n",
       "    this.format_dropdown = undefined;\n",
       "\n",
       "    this.image_mode = 'full';\n",
       "\n",
       "    this.root = $('<div/>');\n",
       "    this._root_extra_style(this.root)\n",
       "    this.root.attr('style', 'display: inline-block');\n",
       "\n",
       "    $(parent_element).append(this.root);\n",
       "\n",
       "    this._init_header(this);\n",
       "    this._init_canvas(this);\n",
       "    this._init_toolbar(this);\n",
       "\n",
       "    var fig = this;\n",
       "\n",
       "    this.waiting = false;\n",
       "\n",
       "    this.ws.onopen =  function () {\n",
       "            fig.send_message(\"supports_binary\", {value: fig.supports_binary});\n",
       "            fig.send_message(\"send_image_mode\", {});\n",
       "            if (mpl.ratio != 1) {\n",
       "                fig.send_message(\"set_dpi_ratio\", {'dpi_ratio': mpl.ratio});\n",
       "            }\n",
       "            fig.send_message(\"refresh\", {});\n",
       "        }\n",
       "\n",
       "    this.imageObj.onload = function() {\n",
       "            if (fig.image_mode == 'full') {\n",
       "                // Full images could contain transparency (where diff images\n",
       "                // almost always do), so we need to clear the canvas so that\n",
       "                // there is no ghosting.\n",
       "                fig.context.clearRect(0, 0, fig.canvas.width, fig.canvas.height);\n",
       "            }\n",
       "            fig.context.drawImage(fig.imageObj, 0, 0);\n",
       "        };\n",
       "\n",
       "    this.imageObj.onunload = function() {\n",
       "        this.ws.close();\n",
       "    }\n",
       "\n",
       "    this.ws.onmessage = this._make_on_message_function(this);\n",
       "\n",
       "    this.ondownload = ondownload;\n",
       "}\n",
       "\n",
       "mpl.figure.prototype._init_header = function() {\n",
       "    var titlebar = $(\n",
       "        '<div class=\"ui-dialog-titlebar ui-widget-header ui-corner-all ' +\n",
       "        'ui-helper-clearfix\"/>');\n",
       "    var titletext = $(\n",
       "        '<div class=\"ui-dialog-title\" style=\"width: 100%; ' +\n",
       "        'text-align: center; padding: 3px;\"/>');\n",
       "    titlebar.append(titletext)\n",
       "    this.root.append(titlebar);\n",
       "    this.header = titletext[0];\n",
       "}\n",
       "\n",
       "\n",
       "\n",
       "mpl.figure.prototype._canvas_extra_style = function(canvas_div) {\n",
       "\n",
       "}\n",
       "\n",
       "\n",
       "mpl.figure.prototype._root_extra_style = function(canvas_div) {\n",
       "\n",
       "}\n",
       "\n",
       "mpl.figure.prototype._init_canvas = function() {\n",
       "    var fig = this;\n",
       "\n",
       "    var canvas_div = $('<div/>');\n",
       "\n",
       "    canvas_div.attr('style', 'position: relative; clear: both; outline: 0');\n",
       "\n",
       "    function canvas_keyboard_event(event) {\n",
       "        return fig.key_event(event, event['data']);\n",
       "    }\n",
       "\n",
       "    canvas_div.keydown('key_press', canvas_keyboard_event);\n",
       "    canvas_div.keyup('key_release', canvas_keyboard_event);\n",
       "    this.canvas_div = canvas_div\n",
       "    this._canvas_extra_style(canvas_div)\n",
       "    this.root.append(canvas_div);\n",
       "\n",
       "    var canvas = $('<canvas/>');\n",
       "    canvas.addClass('mpl-canvas');\n",
       "    canvas.attr('style', \"left: 0; top: 0; z-index: 0; outline: 0\")\n",
       "\n",
       "    this.canvas = canvas[0];\n",
       "    this.context = canvas[0].getContext(\"2d\");\n",
       "\n",
       "    var backingStore = this.context.backingStorePixelRatio ||\n",
       "\tthis.context.webkitBackingStorePixelRatio ||\n",
       "\tthis.context.mozBackingStorePixelRatio ||\n",
       "\tthis.context.msBackingStorePixelRatio ||\n",
       "\tthis.context.oBackingStorePixelRatio ||\n",
       "\tthis.context.backingStorePixelRatio || 1;\n",
       "\n",
       "    mpl.ratio = (window.devicePixelRatio || 1) / backingStore;\n",
       "\n",
       "    var rubberband = $('<canvas/>');\n",
       "    rubberband.attr('style', \"position: absolute; left: 0; top: 0; z-index: 1;\")\n",
       "\n",
       "    var pass_mouse_events = true;\n",
       "\n",
       "    canvas_div.resizable({\n",
       "        start: function(event, ui) {\n",
       "            pass_mouse_events = false;\n",
       "        },\n",
       "        resize: function(event, ui) {\n",
       "            fig.request_resize(ui.size.width, ui.size.height);\n",
       "        },\n",
       "        stop: function(event, ui) {\n",
       "            pass_mouse_events = true;\n",
       "            fig.request_resize(ui.size.width, ui.size.height);\n",
       "        },\n",
       "    });\n",
       "\n",
       "    function mouse_event_fn(event) {\n",
       "        if (pass_mouse_events)\n",
       "            return fig.mouse_event(event, event['data']);\n",
       "    }\n",
       "\n",
       "    rubberband.mousedown('button_press', mouse_event_fn);\n",
       "    rubberband.mouseup('button_release', mouse_event_fn);\n",
       "    // Throttle sequential mouse events to 1 every 20ms.\n",
       "    rubberband.mousemove('motion_notify', mouse_event_fn);\n",
       "\n",
       "    rubberband.mouseenter('figure_enter', mouse_event_fn);\n",
       "    rubberband.mouseleave('figure_leave', mouse_event_fn);\n",
       "\n",
       "    canvas_div.on(\"wheel\", function (event) {\n",
       "        event = event.originalEvent;\n",
       "        event['data'] = 'scroll'\n",
       "        if (event.deltaY < 0) {\n",
       "            event.step = 1;\n",
       "        } else {\n",
       "            event.step = -1;\n",
       "        }\n",
       "        mouse_event_fn(event);\n",
       "    });\n",
       "\n",
       "    canvas_div.append(canvas);\n",
       "    canvas_div.append(rubberband);\n",
       "\n",
       "    this.rubberband = rubberband;\n",
       "    this.rubberband_canvas = rubberband[0];\n",
       "    this.rubberband_context = rubberband[0].getContext(\"2d\");\n",
       "    this.rubberband_context.strokeStyle = \"#000000\";\n",
       "\n",
       "    this._resize_canvas = function(width, height) {\n",
       "        // Keep the size of the canvas, canvas container, and rubber band\n",
       "        // canvas in synch.\n",
       "        canvas_div.css('width', width)\n",
       "        canvas_div.css('height', height)\n",
       "\n",
       "        canvas.attr('width', width * mpl.ratio);\n",
       "        canvas.attr('height', height * mpl.ratio);\n",
       "        canvas.attr('style', 'width: ' + width + 'px; height: ' + height + 'px;');\n",
       "\n",
       "        rubberband.attr('width', width);\n",
       "        rubberband.attr('height', height);\n",
       "    }\n",
       "\n",
       "    // Set the figure to an initial 600x600px, this will subsequently be updated\n",
       "    // upon first draw.\n",
       "    this._resize_canvas(600, 600);\n",
       "\n",
       "    // Disable right mouse context menu.\n",
       "    $(this.rubberband_canvas).bind(\"contextmenu\",function(e){\n",
       "        return false;\n",
       "    });\n",
       "\n",
       "    function set_focus () {\n",
       "        canvas.focus();\n",
       "        canvas_div.focus();\n",
       "    }\n",
       "\n",
       "    window.setTimeout(set_focus, 100);\n",
       "}\n",
       "\n",
       "mpl.figure.prototype._init_toolbar = function() {\n",
       "    var fig = this;\n",
       "\n",
       "    var nav_element = $('<div/>')\n",
       "    nav_element.attr('style', 'width: 100%');\n",
       "    this.root.append(nav_element);\n",
       "\n",
       "    // Define a callback function for later on.\n",
       "    function toolbar_event(event) {\n",
       "        return fig.toolbar_button_onclick(event['data']);\n",
       "    }\n",
       "    function toolbar_mouse_event(event) {\n",
       "        return fig.toolbar_button_onmouseover(event['data']);\n",
       "    }\n",
       "\n",
       "    for(var toolbar_ind in mpl.toolbar_items) {\n",
       "        var name = mpl.toolbar_items[toolbar_ind][0];\n",
       "        var tooltip = mpl.toolbar_items[toolbar_ind][1];\n",
       "        var image = mpl.toolbar_items[toolbar_ind][2];\n",
       "        var method_name = mpl.toolbar_items[toolbar_ind][3];\n",
       "\n",
       "        if (!name) {\n",
       "            // put a spacer in here.\n",
       "            continue;\n",
       "        }\n",
       "        var button = $('<button/>');\n",
       "        button.addClass('ui-button ui-widget ui-state-default ui-corner-all ' +\n",
       "                        'ui-button-icon-only');\n",
       "        button.attr('role', 'button');\n",
       "        button.attr('aria-disabled', 'false');\n",
       "        button.click(method_name, toolbar_event);\n",
       "        button.mouseover(tooltip, toolbar_mouse_event);\n",
       "\n",
       "        var icon_img = $('<span/>');\n",
       "        icon_img.addClass('ui-button-icon-primary ui-icon');\n",
       "        icon_img.addClass(image);\n",
       "        icon_img.addClass('ui-corner-all');\n",
       "\n",
       "        var tooltip_span = $('<span/>');\n",
       "        tooltip_span.addClass('ui-button-text');\n",
       "        tooltip_span.html(tooltip);\n",
       "\n",
       "        button.append(icon_img);\n",
       "        button.append(tooltip_span);\n",
       "\n",
       "        nav_element.append(button);\n",
       "    }\n",
       "\n",
       "    var fmt_picker_span = $('<span/>');\n",
       "\n",
       "    var fmt_picker = $('<select/>');\n",
       "    fmt_picker.addClass('mpl-toolbar-option ui-widget ui-widget-content');\n",
       "    fmt_picker_span.append(fmt_picker);\n",
       "    nav_element.append(fmt_picker_span);\n",
       "    this.format_dropdown = fmt_picker[0];\n",
       "\n",
       "    for (var ind in mpl.extensions) {\n",
       "        var fmt = mpl.extensions[ind];\n",
       "        var option = $(\n",
       "            '<option/>', {selected: fmt === mpl.default_extension}).html(fmt);\n",
       "        fmt_picker.append(option)\n",
       "    }\n",
       "\n",
       "    // Add hover states to the ui-buttons\n",
       "    $( \".ui-button\" ).hover(\n",
       "        function() { $(this).addClass(\"ui-state-hover\");},\n",
       "        function() { $(this).removeClass(\"ui-state-hover\");}\n",
       "    );\n",
       "\n",
       "    var status_bar = $('<span class=\"mpl-message\"/>');\n",
       "    nav_element.append(status_bar);\n",
       "    this.message = status_bar[0];\n",
       "}\n",
       "\n",
       "mpl.figure.prototype.request_resize = function(x_pixels, y_pixels) {\n",
       "    // Request matplotlib to resize the figure. Matplotlib will then trigger a resize in the client,\n",
       "    // which will in turn request a refresh of the image.\n",
       "    this.send_message('resize', {'width': x_pixels, 'height': y_pixels});\n",
       "}\n",
       "\n",
       "mpl.figure.prototype.send_message = function(type, properties) {\n",
       "    properties['type'] = type;\n",
       "    properties['figure_id'] = this.id;\n",
       "    this.ws.send(JSON.stringify(properties));\n",
       "}\n",
       "\n",
       "mpl.figure.prototype.send_draw_message = function() {\n",
       "    if (!this.waiting) {\n",
       "        this.waiting = true;\n",
       "        this.ws.send(JSON.stringify({type: \"draw\", figure_id: this.id}));\n",
       "    }\n",
       "}\n",
       "\n",
       "\n",
       "mpl.figure.prototype.handle_save = function(fig, msg) {\n",
       "    var format_dropdown = fig.format_dropdown;\n",
       "    var format = format_dropdown.options[format_dropdown.selectedIndex].value;\n",
       "    fig.ondownload(fig, format);\n",
       "}\n",
       "\n",
       "\n",
       "mpl.figure.prototype.handle_resize = function(fig, msg) {\n",
       "    var size = msg['size'];\n",
       "    if (size[0] != fig.canvas.width || size[1] != fig.canvas.height) {\n",
       "        fig._resize_canvas(size[0], size[1]);\n",
       "        fig.send_message(\"refresh\", {});\n",
       "    };\n",
       "}\n",
       "\n",
       "mpl.figure.prototype.handle_rubberband = function(fig, msg) {\n",
       "    var x0 = msg['x0'] / mpl.ratio;\n",
       "    var y0 = (fig.canvas.height - msg['y0']) / mpl.ratio;\n",
       "    var x1 = msg['x1'] / mpl.ratio;\n",
       "    var y1 = (fig.canvas.height - msg['y1']) / mpl.ratio;\n",
       "    x0 = Math.floor(x0) + 0.5;\n",
       "    y0 = Math.floor(y0) + 0.5;\n",
       "    x1 = Math.floor(x1) + 0.5;\n",
       "    y1 = Math.floor(y1) + 0.5;\n",
       "    var min_x = Math.min(x0, x1);\n",
       "    var min_y = Math.min(y0, y1);\n",
       "    var width = Math.abs(x1 - x0);\n",
       "    var height = Math.abs(y1 - y0);\n",
       "\n",
       "    fig.rubberband_context.clearRect(\n",
       "        0, 0, fig.canvas.width, fig.canvas.height);\n",
       "\n",
       "    fig.rubberband_context.strokeRect(min_x, min_y, width, height);\n",
       "}\n",
       "\n",
       "mpl.figure.prototype.handle_figure_label = function(fig, msg) {\n",
       "    // Updates the figure title.\n",
       "    fig.header.textContent = msg['label'];\n",
       "}\n",
       "\n",
       "mpl.figure.prototype.handle_cursor = function(fig, msg) {\n",
       "    var cursor = msg['cursor'];\n",
       "    switch(cursor)\n",
       "    {\n",
       "    case 0:\n",
       "        cursor = 'pointer';\n",
       "        break;\n",
       "    case 1:\n",
       "        cursor = 'default';\n",
       "        break;\n",
       "    case 2:\n",
       "        cursor = 'crosshair';\n",
       "        break;\n",
       "    case 3:\n",
       "        cursor = 'move';\n",
       "        break;\n",
       "    }\n",
       "    fig.rubberband_canvas.style.cursor = cursor;\n",
       "}\n",
       "\n",
       "mpl.figure.prototype.handle_message = function(fig, msg) {\n",
       "    fig.message.textContent = msg['message'];\n",
       "}\n",
       "\n",
       "mpl.figure.prototype.handle_draw = function(fig, msg) {\n",
       "    // Request the server to send over a new figure.\n",
       "    fig.send_draw_message();\n",
       "}\n",
       "\n",
       "mpl.figure.prototype.handle_image_mode = function(fig, msg) {\n",
       "    fig.image_mode = msg['mode'];\n",
       "}\n",
       "\n",
       "mpl.figure.prototype.updated_canvas_event = function() {\n",
       "    // Called whenever the canvas gets updated.\n",
       "    this.send_message(\"ack\", {});\n",
       "}\n",
       "\n",
       "// A function to construct a web socket function for onmessage handling.\n",
       "// Called in the figure constructor.\n",
       "mpl.figure.prototype._make_on_message_function = function(fig) {\n",
       "    return function socket_on_message(evt) {\n",
       "        if (evt.data instanceof Blob) {\n",
       "            /* FIXME: We get \"Resource interpreted as Image but\n",
       "             * transferred with MIME type text/plain:\" errors on\n",
       "             * Chrome.  But how to set the MIME type?  It doesn't seem\n",
       "             * to be part of the websocket stream */\n",
       "            evt.data.type = \"image/png\";\n",
       "\n",
       "            /* Free the memory for the previous frames */\n",
       "            if (fig.imageObj.src) {\n",
       "                (window.URL || window.webkitURL).revokeObjectURL(\n",
       "                    fig.imageObj.src);\n",
       "            }\n",
       "\n",
       "            fig.imageObj.src = (window.URL || window.webkitURL).createObjectURL(\n",
       "                evt.data);\n",
       "            fig.updated_canvas_event();\n",
       "            fig.waiting = false;\n",
       "            return;\n",
       "        }\n",
       "        else if (typeof evt.data === 'string' && evt.data.slice(0, 21) == \"data:image/png;base64\") {\n",
       "            fig.imageObj.src = evt.data;\n",
       "            fig.updated_canvas_event();\n",
       "            fig.waiting = false;\n",
       "            return;\n",
       "        }\n",
       "\n",
       "        var msg = JSON.parse(evt.data);\n",
       "        var msg_type = msg['type'];\n",
       "\n",
       "        // Call the  \"handle_{type}\" callback, which takes\n",
       "        // the figure and JSON message as its only arguments.\n",
       "        try {\n",
       "            var callback = fig[\"handle_\" + msg_type];\n",
       "        } catch (e) {\n",
       "            console.log(\"No handler for the '\" + msg_type + \"' message type: \", msg);\n",
       "            return;\n",
       "        }\n",
       "\n",
       "        if (callback) {\n",
       "            try {\n",
       "                // console.log(\"Handling '\" + msg_type + \"' message: \", msg);\n",
       "                callback(fig, msg);\n",
       "            } catch (e) {\n",
       "                console.log(\"Exception inside the 'handler_\" + msg_type + \"' callback:\", e, e.stack, msg);\n",
       "            }\n",
       "        }\n",
       "    };\n",
       "}\n",
       "\n",
       "// from http://stackoverflow.com/questions/1114465/getting-mouse-location-in-canvas\n",
       "mpl.findpos = function(e) {\n",
       "    //this section is from http://www.quirksmode.org/js/events_properties.html\n",
       "    var targ;\n",
       "    if (!e)\n",
       "        e = window.event;\n",
       "    if (e.target)\n",
       "        targ = e.target;\n",
       "    else if (e.srcElement)\n",
       "        targ = e.srcElement;\n",
       "    if (targ.nodeType == 3) // defeat Safari bug\n",
       "        targ = targ.parentNode;\n",
       "\n",
       "    // jQuery normalizes the pageX and pageY\n",
       "    // pageX,Y are the mouse positions relative to the document\n",
       "    // offset() returns the position of the element relative to the document\n",
       "    var x = e.pageX - $(targ).offset().left;\n",
       "    var y = e.pageY - $(targ).offset().top;\n",
       "\n",
       "    return {\"x\": x, \"y\": y};\n",
       "};\n",
       "\n",
       "/*\n",
       " * return a copy of an object with only non-object keys\n",
       " * we need this to avoid circular references\n",
       " * http://stackoverflow.com/a/24161582/3208463\n",
       " */\n",
       "function simpleKeys (original) {\n",
       "  return Object.keys(original).reduce(function (obj, key) {\n",
       "    if (typeof original[key] !== 'object')\n",
       "        obj[key] = original[key]\n",
       "    return obj;\n",
       "  }, {});\n",
       "}\n",
       "\n",
       "mpl.figure.prototype.mouse_event = function(event, name) {\n",
       "    var canvas_pos = mpl.findpos(event)\n",
       "\n",
       "    if (name === 'button_press')\n",
       "    {\n",
       "        this.canvas.focus();\n",
       "        this.canvas_div.focus();\n",
       "    }\n",
       "\n",
       "    var x = canvas_pos.x * mpl.ratio;\n",
       "    var y = canvas_pos.y * mpl.ratio;\n",
       "\n",
       "    this.send_message(name, {x: x, y: y, button: event.button,\n",
       "                             step: event.step,\n",
       "                             guiEvent: simpleKeys(event)});\n",
       "\n",
       "    /* This prevents the web browser from automatically changing to\n",
       "     * the text insertion cursor when the button is pressed.  We want\n",
       "     * to control all of the cursor setting manually through the\n",
       "     * 'cursor' event from matplotlib */\n",
       "    event.preventDefault();\n",
       "    return false;\n",
       "}\n",
       "\n",
       "mpl.figure.prototype._key_event_extra = function(event, name) {\n",
       "    // Handle any extra behaviour associated with a key event\n",
       "}\n",
       "\n",
       "mpl.figure.prototype.key_event = function(event, name) {\n",
       "\n",
       "    // Prevent repeat events\n",
       "    if (name == 'key_press')\n",
       "    {\n",
       "        if (event.which === this._key)\n",
       "            return;\n",
       "        else\n",
       "            this._key = event.which;\n",
       "    }\n",
       "    if (name == 'key_release')\n",
       "        this._key = null;\n",
       "\n",
       "    var value = '';\n",
       "    if (event.ctrlKey && event.which != 17)\n",
       "        value += \"ctrl+\";\n",
       "    if (event.altKey && event.which != 18)\n",
       "        value += \"alt+\";\n",
       "    if (event.shiftKey && event.which != 16)\n",
       "        value += \"shift+\";\n",
       "\n",
       "    value += 'k';\n",
       "    value += event.which.toString();\n",
       "\n",
       "    this._key_event_extra(event, name);\n",
       "\n",
       "    this.send_message(name, {key: value,\n",
       "                             guiEvent: simpleKeys(event)});\n",
       "    return false;\n",
       "}\n",
       "\n",
       "mpl.figure.prototype.toolbar_button_onclick = function(name) {\n",
       "    if (name == 'download') {\n",
       "        this.handle_save(this, null);\n",
       "    } else {\n",
       "        this.send_message(\"toolbar_button\", {name: name});\n",
       "    }\n",
       "};\n",
       "\n",
       "mpl.figure.prototype.toolbar_button_onmouseover = function(tooltip) {\n",
       "    this.message.textContent = tooltip;\n",
       "};\n",
       "mpl.toolbar_items = [[\"Home\", \"Reset original view\", \"fa fa-home icon-home\", \"home\"], [\"Back\", \"Back to  previous view\", \"fa fa-arrow-left icon-arrow-left\", \"back\"], [\"Forward\", \"Forward to next view\", \"fa fa-arrow-right icon-arrow-right\", \"forward\"], [\"\", \"\", \"\", \"\"], [\"Pan\", \"Pan axes with left mouse, zoom with right\", \"fa fa-arrows icon-move\", \"pan\"], [\"Zoom\", \"Zoom to rectangle\", \"fa fa-square-o icon-check-empty\", \"zoom\"], [\"\", \"\", \"\", \"\"], [\"Download\", \"Download plot\", \"fa fa-floppy-o icon-save\", \"download\"]];\n",
       "\n",
       "mpl.extensions = [\"eps\", \"jpeg\", \"pdf\", \"png\", \"ps\", \"raw\", \"svg\", \"tif\"];\n",
       "\n",
       "mpl.default_extension = \"png\";var comm_websocket_adapter = function(comm) {\n",
       "    // Create a \"websocket\"-like object which calls the given IPython comm\n",
       "    // object with the appropriate methods. Currently this is a non binary\n",
       "    // socket, so there is still some room for performance tuning.\n",
       "    var ws = {};\n",
       "\n",
       "    ws.close = function() {\n",
       "        comm.close()\n",
       "    };\n",
       "    ws.send = function(m) {\n",
       "        //console.log('sending', m);\n",
       "        comm.send(m);\n",
       "    };\n",
       "    // Register the callback with on_msg.\n",
       "    comm.on_msg(function(msg) {\n",
       "        //console.log('receiving', msg['content']['data'], msg);\n",
       "        // Pass the mpl event to the overriden (by mpl) onmessage function.\n",
       "        ws.onmessage(msg['content']['data'])\n",
       "    });\n",
       "    return ws;\n",
       "}\n",
       "\n",
       "mpl.mpl_figure_comm = function(comm, msg) {\n",
       "    // This is the function which gets called when the mpl process\n",
       "    // starts-up an IPython Comm through the \"matplotlib\" channel.\n",
       "\n",
       "    var id = msg.content.data.id;\n",
       "    // Get hold of the div created by the display call when the Comm\n",
       "    // socket was opened in Python.\n",
       "    var element = $(\"#\" + id);\n",
       "    var ws_proxy = comm_websocket_adapter(comm)\n",
       "\n",
       "    function ondownload(figure, format) {\n",
       "        window.open(figure.imageObj.src);\n",
       "    }\n",
       "\n",
       "    var fig = new mpl.figure(id, ws_proxy,\n",
       "                           ondownload,\n",
       "                           element.get(0));\n",
       "\n",
       "    // Call onopen now - mpl needs it, as it is assuming we've passed it a real\n",
       "    // web socket which is closed, not our websocket->open comm proxy.\n",
       "    ws_proxy.onopen();\n",
       "\n",
       "    fig.parent_element = element.get(0);\n",
       "    fig.cell_info = mpl.find_output_cell(\"<div id='\" + id + \"'></div>\");\n",
       "    if (!fig.cell_info) {\n",
       "        console.error(\"Failed to find cell for figure\", id, fig);\n",
       "        return;\n",
       "    }\n",
       "\n",
       "    var output_index = fig.cell_info[2]\n",
       "    var cell = fig.cell_info[0];\n",
       "\n",
       "};\n",
       "\n",
       "mpl.figure.prototype.handle_close = function(fig, msg) {\n",
       "    var width = fig.canvas.width/mpl.ratio\n",
       "    fig.root.unbind('remove')\n",
       "\n",
       "    // Update the output cell to use the data from the current canvas.\n",
       "    fig.push_to_output();\n",
       "    var dataURL = fig.canvas.toDataURL();\n",
       "    // Re-enable the keyboard manager in IPython - without this line, in FF,\n",
       "    // the notebook keyboard shortcuts fail.\n",
       "    IPython.keyboard_manager.enable()\n",
       "    $(fig.parent_element).html('<img src=\"' + dataURL + '\" width=\"' + width + '\">');\n",
       "    fig.close_ws(fig, msg);\n",
       "}\n",
       "\n",
       "mpl.figure.prototype.close_ws = function(fig, msg){\n",
       "    fig.send_message('closing', msg);\n",
       "    // fig.ws.close()\n",
       "}\n",
       "\n",
       "mpl.figure.prototype.push_to_output = function(remove_interactive) {\n",
       "    // Turn the data on the canvas into data in the output cell.\n",
       "    var width = this.canvas.width/mpl.ratio\n",
       "    var dataURL = this.canvas.toDataURL();\n",
       "    this.cell_info[1]['text/html'] = '<img src=\"' + dataURL + '\" width=\"' + width + '\">';\n",
       "}\n",
       "\n",
       "mpl.figure.prototype.updated_canvas_event = function() {\n",
       "    // Tell IPython that the notebook contents must change.\n",
       "    IPython.notebook.set_dirty(true);\n",
       "    this.send_message(\"ack\", {});\n",
       "    var fig = this;\n",
       "    // Wait a second, then push the new image to the DOM so\n",
       "    // that it is saved nicely (might be nice to debounce this).\n",
       "    setTimeout(function () { fig.push_to_output() }, 1000);\n",
       "}\n",
       "\n",
       "mpl.figure.prototype._init_toolbar = function() {\n",
       "    var fig = this;\n",
       "\n",
       "    var nav_element = $('<div/>')\n",
       "    nav_element.attr('style', 'width: 100%');\n",
       "    this.root.append(nav_element);\n",
       "\n",
       "    // Define a callback function for later on.\n",
       "    function toolbar_event(event) {\n",
       "        return fig.toolbar_button_onclick(event['data']);\n",
       "    }\n",
       "    function toolbar_mouse_event(event) {\n",
       "        return fig.toolbar_button_onmouseover(event['data']);\n",
       "    }\n",
       "\n",
       "    for(var toolbar_ind in mpl.toolbar_items){\n",
       "        var name = mpl.toolbar_items[toolbar_ind][0];\n",
       "        var tooltip = mpl.toolbar_items[toolbar_ind][1];\n",
       "        var image = mpl.toolbar_items[toolbar_ind][2];\n",
       "        var method_name = mpl.toolbar_items[toolbar_ind][3];\n",
       "\n",
       "        if (!name) { continue; };\n",
       "\n",
       "        var button = $('<button class=\"btn btn-default\" href=\"#\" title=\"' + name + '\"><i class=\"fa ' + image + ' fa-lg\"></i></button>');\n",
       "        button.click(method_name, toolbar_event);\n",
       "        button.mouseover(tooltip, toolbar_mouse_event);\n",
       "        nav_element.append(button);\n",
       "    }\n",
       "\n",
       "    // Add the status bar.\n",
       "    var status_bar = $('<span class=\"mpl-message\" style=\"text-align:right; float: right;\"/>');\n",
       "    nav_element.append(status_bar);\n",
       "    this.message = status_bar[0];\n",
       "\n",
       "    // Add the close button to the window.\n",
       "    var buttongrp = $('<div class=\"btn-group inline pull-right\"></div>');\n",
       "    var button = $('<button class=\"btn btn-mini btn-primary\" href=\"#\" title=\"Stop Interaction\"><i class=\"fa fa-power-off icon-remove icon-large\"></i></button>');\n",
       "    button.click(function (evt) { fig.handle_close(fig, {}); } );\n",
       "    button.mouseover('Stop Interaction', toolbar_mouse_event);\n",
       "    buttongrp.append(button);\n",
       "    var titlebar = this.root.find($('.ui-dialog-titlebar'));\n",
       "    titlebar.prepend(buttongrp);\n",
       "}\n",
       "\n",
       "mpl.figure.prototype._root_extra_style = function(el){\n",
       "    var fig = this\n",
       "    el.on(\"remove\", function(){\n",
       "\tfig.close_ws(fig, {});\n",
       "    });\n",
       "}\n",
       "\n",
       "mpl.figure.prototype._canvas_extra_style = function(el){\n",
       "    // this is important to make the div 'focusable\n",
       "    el.attr('tabindex', 0)\n",
       "    // reach out to IPython and tell the keyboard manager to turn it's self\n",
       "    // off when our div gets focus\n",
       "\n",
       "    // location in version 3\n",
       "    if (IPython.notebook.keyboard_manager) {\n",
       "        IPython.notebook.keyboard_manager.register_events(el);\n",
       "    }\n",
       "    else {\n",
       "        // location in version 2\n",
       "        IPython.keyboard_manager.register_events(el);\n",
       "    }\n",
       "\n",
       "}\n",
       "\n",
       "mpl.figure.prototype._key_event_extra = function(event, name) {\n",
       "    var manager = IPython.notebook.keyboard_manager;\n",
       "    if (!manager)\n",
       "        manager = IPython.keyboard_manager;\n",
       "\n",
       "    // Check for shift+enter\n",
       "    if (event.shiftKey && event.which == 13) {\n",
       "        this.canvas_div.blur();\n",
       "        // select the cell after this one\n",
       "        var index = IPython.notebook.find_cell_index(this.cell_info[0]);\n",
       "        IPython.notebook.select(index + 1);\n",
       "    }\n",
       "}\n",
       "\n",
       "mpl.figure.prototype.handle_save = function(fig, msg) {\n",
       "    fig.ondownload(fig, null);\n",
       "}\n",
       "\n",
       "\n",
       "mpl.find_output_cell = function(html_output) {\n",
       "    // Return the cell and output element which can be found *uniquely* in the notebook.\n",
       "    // Note - this is a bit hacky, but it is done because the \"notebook_saving.Notebook\"\n",
       "    // IPython event is triggered only after the cells have been serialised, which for\n",
       "    // our purposes (turning an active figure into a static one), is too late.\n",
       "    var cells = IPython.notebook.get_cells();\n",
       "    var ncells = cells.length;\n",
       "    for (var i=0; i<ncells; i++) {\n",
       "        var cell = cells[i];\n",
       "        if (cell.cell_type === 'code'){\n",
       "            for (var j=0; j<cell.output_area.outputs.length; j++) {\n",
       "                var data = cell.output_area.outputs[j];\n",
       "                if (data.data) {\n",
       "                    // IPython >= 3 moved mimebundle to data attribute of output\n",
       "                    data = data.data;\n",
       "                }\n",
       "                if (data['text/html'] == html_output) {\n",
       "                    return [cell, data, j];\n",
       "                }\n",
       "            }\n",
       "        }\n",
       "    }\n",
       "}\n",
       "\n",
       "// Register the function which deals with the matplotlib target/channel.\n",
       "// The kernel may be null if the page has been refreshed.\n",
       "if (IPython.notebook.kernel != null) {\n",
       "    IPython.notebook.kernel.comm_manager.register_target('matplotlib', mpl.mpl_figure_comm);\n",
       "}\n"
      ],
      "text/plain": [
       "<IPython.core.display.Javascript object>"
      ]
     },
     "metadata": {},
     "output_type": "display_data"
    },
    {
     "data": {
      "text/html": [
       "<img src=\"data:image/png;base64,iVBORw0KGgoAAAANSUhEUgAAAjEAAAF2CAYAAACf2sm9AAAgAElEQVR4Xu3df9BtVX3f8Tc/rrViAjqxEzLq3BjwV2FqHUh0BLT+SLWYIFUzZhJARsYW2oJAGO8U+aFBQxQqTNRRW8oP+aM1iUotCZi2CWKGPxIExZmYCPVSMzEzqT+KQvS5MHS+zHrafW6e63OeddbeZ62132fG8d7n7L32d72+ax4+d519zjkIHwoooIACCiigQIMCBzVYsyUroIACCiiggAIYYlwECiiggAIKKNCkgCGmybZZtAIKKKCAAgoYYlwDCiiggAIKKNCkgCGmybZZtAIKKKCAAgoYYlwDCiiggAIKKNCkgCGmybZZtAIKKKCAAgoYYlwDCiiggAIKKNCkgCGmybZZtAIKKKCAAgoYYlwDCiiggAIKKNCkgCGmybZZtAIKKKCAAgoYYlwDCiiggAIKKNCkgCGmybZZtAIKKKCAAgoYYlwDCiiggAIKKNCkgCGmybZZtAIKKKCAAgoYYlwDCiiggAIKKNCkgCGmybZZtAIKKKCAAgoYYlwDCiiggAIKKNCkgCGmybZZtAIKKKCAAgoYYlwDCiiggAIKKNCkgCGmybZZtAIKKKCAAgoYYlwDCiiggAIKKNCkgCGmybZZtAIKKKCAAgoYYlwDCiiggAIKKNCkgCGmybZZtAIKKKCAAgoYYlwDCiiggAIKKNCkgCGmybZZtAIKKKCAAgoYYlwDCiiggAIKKNCkgCGmybZZtAIKKKCAAgoYYlwDCiiggAIKKNCkgCGmybZZtAIKKKCAAgoYYlwDCiiggAIKKNCkgCGmybZZtAIKKKCAAgoYYlwDCiiggAIKKNCkgCGmybZZtAIKKKCAAgoYYlwDCiiggAIKKNCkgCGmybZZtAIKKKCAAgoYYlwDCiiggAIKKNCkgCGmybZZtAIKKKCAAgoYYlwDCiiggAIKKNCkgCGmybZZtAIKKKCAAgqsK8S8BfhXwD8CngIcul8rXgtcDTwHeAC4APjc4JijgI8CLwW+A3wwHb95SIz5IeCfpx/8LvCvgb+15QoooIACCijQh8C6Qsw/BZ4O/H3g4/uFmAguXwHeDnwSeHM65h8Ce4FD0vP/DXgn8HzgNuDfAP85teXfA3H8qcDjwGeALwFn99E2Z6GAAgoooIAC6woxm/KvACKMDHdi3g28Ejhx0J4703Hx3D8BbgX+AfD9dMyvAyek5yIYfRt4PfDf0/OvAj6bgtMPlmh7uDwZeHSJYz1EAQUUUECBWgXiv6/x3734B313jxpDTOyaxI7LOwba1wLPSi8Pxc/fCrxo8HzsuFyXQkr8/B7gacB30zHx5wg28fLVl7foYuzuHDz4eQSYh7rrthNSQAEFFJijQNxi0eXtFDWGmNg9+QJw2WClxQ7My4BXA5ek/3/54PnYnfmDtKMTOzifT6FkM3lGQHks7e7E2Ps/Lt/vek88//DDD7Nr1645LnjnrIACCijQuMC+ffs47LDDYhZPAvY1Pp0ty68xxNSwExPbb49sbGwYYnpc9c5JAQUUmIFAhJgnPSnyiyFmrHYf6J6Y2Fk5aXDR2FmJHZrhPTHPiM2SdMx70i5LnLd5T8zJwP9Iz8c9Nv91B/fExPbLhiFmrLY7rgIKKKDA2AKGmPGE4x6UCAoRVH4PeGq61A/T26rvA94G/A7wJuA/pHcbDd+dFG+53gM8D7gdOA/4T2mceHfSCwZvsf5UekfTv1xySoaYJaE8TAEFFFCgTgFDzHh9iRtzr99i+J9ON/UOPyfmfwLnb/E5MR9LnxMTN+/+O+CqwXjxIuBvrfA5MYaY8XrvyAoooIACEwgYYiZArvQShphKG2NZCiiggALLCRhilnPq8ShDTI9ddU4KKKDAjAQMMTNq9n5TNcTMt/fOXAEFFOhCwBDTRRuzJmGIyWLzJAUUUECBWgQMMbV0Yvo6DDHTm3tFBRRQQIGCAoaYgpiNDWWIaaxhlquAAgoosChgiJnvijDEzLf3zlwBBRToQsAQ00UbsyZRPMTs3hNfvF3vY++V8QHHPhRQQAEFehEwxPTSyZ3PwxCzczPPUEABBRSoSMAQU1EzJi7FEDMxuJdTQAEFFCgrYIgp69nSaIaYlrplrQoooIACf0fAEDPfRWGImW/vnbkCCijQhYAhpos2Zk3CEJPF5kkKKKCAArUIGGJq6cT0dRhipjf3igoooIACBQUMMQUxGxvKENNYwyxXAQUUUGBRwBAz3xVhiJlv7525Agoo0IWAIaaLNmZNwhCTxeZJCiiggAK1CBhiaunE9HUYYqY394oKKKCAAgUFDDEFMRsbyhDTWMMsVwEFFFBgUcAQM98VYYiZb++duQIKKNCFgCGmizZmTcIQk8XmSQoooIACtQgYYmrpxPR1GGKmN/eKCiiggAIFBQwxBTEbG8oQ01jDLFcBBRRQYFHAEDPfFWGImW/vnbkCCijQhYAhpos2Zk3CEJPF5kkKKKCAArUIGGJq6cT0dRhipjf3igoooIACBQUMMQUxGxvKENNYwyxXAQUUUGBRwBAz3xVhiJlv7525Agoo0IWAIaaLNmZNwhCTxeZJCiiggAK1CBhiaunE9HUYYqY394oKKKCAAgUFDDEFMRsbyhDTWMMsVwEFFFBgUcAQM98VYYiZb++duQIKKNCFgCGmizZmTcIQk8XmSQoooIACtQgYYmrpxPR1GGKmN/eKCiiggAIFBQwxBTEbG8oQ01jDLFcBBRRQYFHAEDPfFWGImW/vnbkCCijQhYAhpos2Zk3CEJPF5kkKKKCAArUIGGJq6cT0dRhipjf3igoooIACBQUMMQUxGxvKENNYwyxXAQUUUGBRwBAz3xVhiJlv7525Agoo0IWAIaaLNmZNwhCTxeZJCiiggAK1CBhiaunE9HUYYqY394oKKKCAAgUFDDEFMRsbyhDTWMMsVwEFFFBgUcAQM98VYYiZb++duQIKKNCFgCGmizZmTcIQk8XmSQoooIACtQgYYmrpxPR1GGKmN/eKCiiggAIFBQwxBTEbG8oQ01jDLFcBBRRQYFHAELPeFfGTwLXAK4FDgXuA84EvpbJOBy4DjgTuA84B7h6UfBzwEeAY4Jvp2JuXnJIhZkkoD1NAAQUUqFPAELPevnwK+DHgl4CHgSuAXwaeDbwMuB04FbgDOA+4EDgaeAg4HLgfuAq4BjgJ+DTwGuCuJaZliFkCyUMUUEABBeoVMMSstzdfBj4EfDyV8Tzgq8AzgKuBg4HT0nMHAQ8ClwA3AmcClwO7gcfTMZ8AHk3PbTczQ8x2Qj6vgAIKKFC1gCFmve2JgPKr6X/fA94L/CxwInAvcEPaZdms8hbgAeCC9PMIMG8YTCFeiooxX7zFtA5JoWjzqXj56pGNjQ127Yo8s/pj955bVx9kxBH2XnnyiKM7tAIKKKDA1AKGmKnFF6/3nLQL8yrgMeAbwOvSbkyElXh56frBKbEDsw84C7gu3UdzxuD52J25GDhqi2nFrk3cX7PwMMSsdwF4dQUUUECBfAFDTL7dqmfGS0VxT8ttwB7gB0DcyPsb6UbduB/GnZhVlQfnuxNTENOhFFBAgQoEDDHra8JPAH8DvBD4s0EZ3wLelm7ojftgItjEI/68F7h0cE9M7KzES0qbj5vSjk7syGz38J6Y7YR8XgEFFFCgagFDzHrb8+fA59JOzA9TYPko8Hzgp9IuzSnAncC5wEWDdycdAXwNeH96m3bcRxP3zPjupAP01J2Y9S52r66AAgqUFjDElBbd2XgvAD4AvASInZF4eek9KYzESLELE/eybH5OzNn7fU7M8cCHgWPT58TELo2fE2OI2dkq9GgFFFCgUQFDTKONK1C2LycVQHQIBRRQQIH1CRhi1me/7isbYtbdAa+vgAIKKLCSgCFmJb6mTzbENN0+i1dAAQUUMMTMdw0YYubbe2eugAIKdCFgiOmijVmTMMRksXmSAgoooEAtAoaYWjoxfR2GmOnNvaICCiigQEEBQ0xBzMaGMsQ01jDLVUABBRRYFDDEzHdFGGLm23tnroACCnQhYIjpoo1ZkzDEZLF5kgIKKKBALQKGmFo6MX0dhpjpzb2iAgoooEBBAUNMQczGhjLENNYwy1VAAQUUWBQwxMx3RRhi5tt7Z66AAgp0IWCI6aKNWZMwxGSxeZICCiigQC0ChphaOjF9HYaY6c29ogIKKKBAQQFDTEHMxoYyxDTWMMtVQAEFFFgUMMTMd0UYYubbe2eugAIKdCFgiOmijVmTMMRksXmSAgoooEAtAoaYWjoxfR2GmOnNvaICCiigQEEBQ0xBzMaGMsQ01jDLVUABBRRYFDDEzHdFGGLm23tnroACCnQhYIjpoo1ZkzDEZLF5kgIKKKBALQKGmFo6MX0dhpjpzb2iAgoooEBBAUNMQczGhjLENNYwy1VAAQUUWBQwxMx3RRhi5tt7Z66AAgp0IWCI6aKNWZMwxGSxeZICCiigQC0ChphaOjF9HYaY6c29ogIKKKBAQQFDTEHMxoYyxDTWMMtVQAEFFFgUMMTMd0UYYubbe2eugAIKdCFgiOmijVmTMMRksXmSAgoooEAtAoaYWjoxfR2GmOnNvaICCiigQEEBQ0xBzMaGMsQ01jDLVUABBRRYFDDEzHdFGGLm23tnroACCnQhYIjpoo1ZkzDEZLF5kgIKKKBALQKGmFo6MX0dhpjpzb2iAgoooEBBAUNMQczGhjLENNYwy1VAAQUUWBQwxMx3RRhi5tt7Z66AAgp0IWCI6aKNWZMwxGSxeZICCiigQC0ChphaOjF9HYaY6c29ogIKKKBAQQFDTEHMxoYyxDTWMMtVQAEFFFgUMMTMd0UYYubbe2eugAIKdCFgiOmijVmTMMRksXmSAgoooEAtAoaYWjoxfR2GmOnNvaICCiigQEEBQ0xBzMaGMsQ01jDLVUABBRRYFDDEzHdFGGLm23tnroACCnQhYIjpoo1ZkzDEZLF5kgIKKKBALQKGmFo6MX0dhpjpzb2iAgoooEBBAUNMQczGhjLENNYwy1VAAQUUWBQwxKx/RbwauAI4BvgB8EngnFTW6cBlwJHAfenndw9KPg74SDr3m+nYm5eckiFmSSgPU0ABBRSoU8AQs96+vAL4DHAW8FngIOCFwBeBE4DbgVOBO4DzgAuBo4GHgMOB+4GrgGuAk4BPA68B7lpiWoaYJZA8RAEFFFCgXgFDzHp7E2EjAsqeLcq4ETgYOC09FwHnQeASIJ47E7gc2A08no75BPBoem67mRlithPyeQUUUECBqgUMMetrz2FpR+WDwCuBZwNfAX4N+FPgXuCGtMuyWeUtwAPABennEWDeMJjC+Sn0vHiLaR2SQtHmU4cCj2xsbLBrV+SZ1R+799y6+iAjjrD3ypNHHN2hFVBAAQWmFjDETC3+/6/3TOAbwF8BrwO+mgLMO4DnAnHvS9wrc/2gxNiB2ZdefroOiCByxuD52J25GDhqi2nFrk3cX7PwMMSsbwF4ZQUUUECB1QQMMav5rXJ23NPyXeC9wLvSQPGS0beBXwHe507MKrx/91x3Ysp6OpoCCiiwbgFDzHo78HUg3k0U97nEI0LMt1KIeUv6e7xDafO5vcClg3tiYmclXlLafNwEPOY9MVs31RCz3sXu1RVQQIHSAoaY0qI7G++i9K6jnwf+It3rEve1PB84FrgNOAW4EzgXiOM33510BPA14P3AtcCJQNwz47uTDtADQ8zOFqdHK6CAArULGGLW26HYeXk38HbgycA9QISYuKk3HrELE/eybH5OzNnpXpnNqo8HPpwCT3xOTOzS+Dkxhpj1rmqvroACCkwkYIiZCLrCy/gW6wqbYkkKKKCAAssLGGKWt+rtSENMbx11PgoooMDMBAwxM2v4YLqGmPn23pkroIACXQgYYrpoY9YkDDFZbJ6kgAIKKFCLgCGmlk5MX4chZnpzr6iAAgooUFDAEFMQs7GhDDGNNcxyFVBAAQUWBQwx810Rhpj59t6ZK6CAAl0IGGK6aGPWJAwxWWyepIACCihQi4AhppZOTF+HIWZ6c6+ogAIKKFBQwBBTELOxoQwxjTXMchVQQAEFFgUMMfNdEYaY+fbemSuggAJdCBhiumhj1iQMMVlsnqSAAgooUIuAIaaWTkxfhyFmenOvqIACCihQUMAQUxCzsaEMMY01zHIVUEABBRYFDDHzXRGGmPn23pkroIACXQgYYrpoY9YkDDFZbJ6kgAIKKFCLgCGmlk5MX4chZnpzr6iAAgooUFDAEFMQs7GhDDGNNcxyFVBAAQUWBQwx810Rhpj59t6ZK6CAAl0IGGK6aGPWJAwxWWyepIACCihQi4AhppZOTF+HIWZ6c6+ogAIKKFBQwBBTELOxoQwxjTXMchVQQAEFFgUMMfNdEYaY+fbemSuggAJdCBhiumhj1iQMMVlsnqSAAgooUIuAIaaWTkxfhyFmenOvqIACCihQUMAQUxCzsaEMMY01zHIVUEABBRYFDDHzXRGGmPn23pkroIACXQgYYrpoY9YkDDFZbJ6kgAIKKFCLgCGmlk5MX4chZnpzr6iAAgooUFDAEFMQs7GhDDGNNcxyFVBAAQUWBQwx810Rhpj59t6ZK6CAAl0IGGK6aGPWJAwxWWyepIACCihQi4AhppZOTF+HIWZ6c6+ogAIKKFBQwBBTELOxoQwxjTXMchVQQAEFFgUMMfNdEYaY+fbemSuggAJdCBhiumhj1iQMMVlsnqSAAgooUIuAIaaWTkxfhyFmenOvqIACCihQUMAQUxCzsaEMMY01zHIVUEABBRYFDDHzXRGGmPn23pkroIACXQgYYrpoY9YkDDFZbJ6kgAIKKFCLgCGmlk5MX4chZnpzr6iAAgooUFDAEFMQs7GhDDGNNcxyFVBAAQUWBQwx810Rhpj59t6ZK6CAAl0IGGK6aGPWJAwxWWyepIACCihQi4AhppZOTF+HIWZ6c6+ogAIKKFBQwBBTELOxoQwxjTXMchVQQAEFFgUMMfNdEYaY+fbemSuggAJdCBhiumhj1iQMMVlsnqSAAgooUIuAIaaOThwMfAF4KfAs4C9TWacDlwFHAvcB5wB3D0o+DvgIcAzwzXTszUtOyRCzJJSHKaCAAgrUKWCIqaMvFwKvA141CDEnALcDpwJ3AOcBcdzRwEPA4cD9wFXANcBJwKeB1wB3LTEtQ8wSSB6igAIKKFCvgCFm/b15LvD7wBuBewYh5kYgdmhOSyUeBDwIXALEc2cClwO7gcfTMZ8AHk3PbTczQ8x2Qj6vgAIKKFC1gCFmve2JkPJ54OoUYL4+CDH3AjekXZbNKm8BHgAuSD+PAPOGwRTOT6HnxVtM65AUijafOhR4ZGNjg127Is+s/ti959bVBxlxhL1Xnjzi6A6tgAIKKDC1gCFmavHF60XoeBnwprSjMgwxEVauAK4fnBI7MPuAs4DrgAgiZwyej92Zi4GjtphW7NrE/TULD0PMeheAV1dAAQUUyBcwxOTbrXpmBI0/AuLm3L/eIsS4E7Oq8H7nuxNTGNThFFBAgTULGGLW14C3Ah8DvpdKiJeWngZ8B3gX8HNA3AcT71CKR/x5L3Dp4J6Y2FmJl5Q2HzcBj3lPzNZNNcSsb7F7ZQUUUGAMAUPMGKrLjfkU4OmDQ5+Z3lV0PPBV4EXAbcApwJ3AucBFg3cnHQF8DXg/cC1wIhD3zPjupAP4G2KWW5gepYACCrQiYIipp1OxozK8JyYqi12YuJdl83Nizt7vc2Ii8HwYODZ9Tkzs0vg5MYaYela1lSiggAIjChhiRsStfGjfYl15gyxPAQUUUOBHCxhi5rtCDDHz7b0zV0ABBboQMMR00casSRhistg8SQEFFFCgFgFDTC2dmL4OQ8z05l5RAQUUUKCggCGmIGZjQxliGmuY5SqggAIKLAoYYua7Igwx8+29M1dAAQW6EDDEdNHGrEkYYrLYPEkBBRRQoBYBQ0wtnZi+DkPM9OZeUQEFFFCgoIAhpiBmY0MZYhprmOUqoIACCiwKGGLmuyIMMfPtvTNXQAEFuhAwxHTRxqxJGGKy2DxJAQUUUKAWAUNMLZ2Yvg5DzPTmXlEBBRRQoKCAIaYgZmNDGWIaa5jlKqCAAgosChhi5rsiDDHz7b0zV0ABBboQMMR00casSRhistg8SQEFFFCgFgFDTC2dmL4OQ8z05l5RAQUUUKCggCGmIGZjQxliGmuY5SqggAIKLAoYYua7Igwx8+29M1dAAQW6EDDEdNHGrEkYYrLYPEkBBRRQoBYBQ0wtnZi+DkPM9OZeUQEFFFCgoIAhpiBmY0MZYhprmOUqoIACCiwKGGLmuyIMMfPtvTNXQAEFuhAwxHTRxqxJGGKy2DxJAQUUUKAWAUNMLZ2Yvg5DzPTmXlEBBRRQoKCAIaYgZmNDGWIaa5jlKqCAAgosChhi5rsiDDHz7b0zV0ABBboQMMR00casSRhistg8SQEFFFCgFgFDTC2dmL4OQ8z05l5RAQUUUKCggCGmIGZjQxliGmuY5SqggAIKLAoYYua7Igwx8+29M1dAAQW6EDDEdNHGrEkYYrLYPEkBBRRQoBYBQ0wtnZi+DkPM9OZeUQEFFFCgoIAhpiBmY0MZYhprmOUqoIACCiwKGGLmuyIMMfPtvTNXQAEFuhAwxHTRxqxJGGKy2DxJAQUUUKAWAUNMLZ2Yvg5DzPTmXlEBBRRQoKCAIaYgZmNDGWIaa5jlKqCAAgosChhi5rsiDDHz7b0zV0ABBboQMMR00casSRhistg8SQEFFFCgFgFDTC2dmL4OQ8z05l5RAQUUUKCggCGmIGZjQxliGmuY5SqggAIKLAoYYua7Igwx8+29M1dAAQW6EDDEdNHGrEkYYrLYPEkBBRRQoBYBQ0wtnZi+DkPM9OZeUQEFFFCgoIAhpiBmY0MZYhprmOUqoIACCiwKGGLmuyIMMfPtvTNXQAEFuhAwxHTRxqxJGGKy2DxJAQUUUKAWAUPM+jrxm8DrgWcB3wduBd4JfHtQ0unAZcCRwH3AOcDdg+ePAz4CHAN8Mx1785JTMsQsCeVhCiiggAJ1Chhi1teX9wG/DXwFOAK4CdgH/GIq6QTgduBU4A7gPOBC4GjgIeBw4H7gKuAa4CTg08BrgLuWmJYhZgkkD1FAAQUUqFfAEFNPb14LfBL48VTSjcDBwGnp7wcBDwKXAPHcmcDlwG7g8XTMJ4BH03PbzcwQs52QzyuggAIKVC1giKmnPR8AXgKcmEq6F7gh7bJsVnkL8ABwQfp5BJg3DKZwfgo9L95iWoekULT51KHAIxsbG+zaFXlm9cfuPfGKWL2PvVeeXG9xVqaAAgoosGMBQ8yOyUY54Y0psLwc+GK6QoSVK4DrB1eMHZh4yeks4DoggsgZg+djd+Zi4Kgtqoxdm7i/ZuFhiBmlnw6qgAIKKDCBgCFmAuRtLvFm4GNABJk/HBzrTkzh3rgTUxjU4RRQQIE1Cxhi1tuA2Dm5GvgF4I/3KyV2XeI+mHiHUjziz3uBSwf3xMTOSryktPmIm4Mf856YrZtqiFnvYvfqCiigQGkBQ0xp0eXHOze9vBM39P7JFqfFu5NuA04B7gTi+IsG706KdzR9DXg/cG26lybumfHdSQfogSFm+cXpkQoooEALAoaY9XUp3lEU7yT64X4lPHXw99iFiXtZNj8n5uz9PifmeODDwLHpc2Jil8bPiTHErG9Ve2UFFFBgQgFDzITYlV3Kt1hX1hDLUUABBRTYmYAhZmdePR1tiOmpm85FAQUUmKGAIWaGTU9TNsTMt/fOXAEFFOhCwBDTRRuzJmGIyWLzJAUUUECBWgQMMbV0Yvo6DDHTm3tFBRRQQIGCAoaYgpiNDWWIaaxhlquAAgoosChgiJnvijDEzLf3zlwBBRToQsAQ00UbsyZhiMli8yQFFFBAgVoEDDG1dGL6Ogwx05t7RQUUUECBggKGmIKYjQ1liGmsYZargAIKKLAoYIiZ74owxMy3985cAQUU6ELAENNFG7MmYYjJYvMkBRRQQIFaBAwxtXRi+joMMdObe0UFFFBAgYIChpiCmI0NZYhprGGWq4ACCiiwKGCIme+KMMTMt/fOXAEFFOhCwBDTRRuzJmGIyWLzJAUUUECBWgQMMbV0Yvo6DDHTm3tFBRRQQIGCAoaYgpiNDWWIaaxhlquAAgoosChgiJnvijDEzLf3zlwBBRToQsAQ00UbsyZhiMli8yQFFFBAgVoEDDG1dGL6Ogwx05t7RQUUUECBggKGmIKYjQ1liGmsYZargAIKKLAoYIiZ74owxMy3985cAQUU6ELAENNFG7MmYYjJYvMkBRRQQIFaBAwxtXRi+joMMdObe0UFFFBAgYIChpiCmI0NZYhprGGWq4ACCiiwKGCIme+KMMTMt/fOXAEFFOhCwBDTRRuzJmGIyWLzJAUUUECBWgQMMbV0Yvo6DDHTm3tFBRRQQIGCAoaYgpiNDWWIaaxhlquAAgoosChgiJnvijDEzLf3zlwBBRToQsAQ00UbsyZhiMli8yQFFFBAgVoEDDG1dGL6Ogwx05t7RQUUUECBggKGmIKYjQ1liGmsYZargAIKKLAoYIiZ74owxMy3985cAQUU6ELAENNFG7MmYYjJYvMkBRRQQIFaBAwxtXRi+joMMdObe0UFFFBAgYIChpiCmI0NZYhprGGWq4ACCiiwKGCIme+KMMTMt/fOXAEFFOhCwBDTRRuzJmGIyWLzJAUUUECBWgQMMbV0Yvo6DDHTm3tFBRRQQIGCAoaYgpiNDWWIaaxhlquAAgoosChgiJnviphdiKm51XuvPLnm8qxNAQUUqFLAEFNlWyYpyhAzCfNyFzHELOfkUQoooMBQwBAz3/VgiKmo94aYipphKQoo0IyAIaaZVhUv1BBTnDR/QENMvp1nKqDAfAUMMfPtvSGmot4bYipqhqUooEAzAoaYZlp1wEIPAa4E3go8Gfgc8C+A/73N1AwxFfXeEFNRMyxFAQWaETDENNOqA9xTgiMAAAdsSURBVBZ6MXAG8FrgW8B/BJ4CvM4Q005zDTHt9MpKFVCgHgFDTD29yK3kQeA9wHVpgJ8B7gd2A/HcgR7uxOSKz/A8Q9YMm+6UFWhAwBDTQJN+RIlHAN8B/jFw7+C4/wOcBvyXwc/iZaeDB38/FHjk4YcfZteuyDOrP476t7+3+iCOoMAOBe5/3z/b4RkeroACvQhEiDnssMNiOk8C9vUyr+E8DupxUmlOzwL+F/Ac4OuDecYOTLzMdPPgZ5cDl3Vs4dQUUEABBeYrELdR/G2P0+85xKyyE7OZXDcKNf2JnZ10P86jhcZ0mOUEtF/Oaayj9B9Ldvtxtd/eaKwjarKPWn4APD7WZNc5bs8hJlxj1+Xd6Ybe+HvsyjwA/DSwd0L4J+6x6XlLb0LLnV5K+52KlT1e/7KeOxlN+51olT1W+7KeBxyt9xATLxudPnh3Utzg+2Pp7xMRP3EZF/SU2ovX0n599q597dcrsL6r+3tnIvveQ0zcsPub6XNi/h7wB8Dbl/icmNL8LujSosuPp/3yVmMcqf8YqsuNqf1yTmMcpf0YqluM2XuImYhx28tEmLoE+HXgsW2P9oCSAtqX1Nz5WPrv3KzUGdqXktz5ONrv3CzrDENMFpsnKaCAAgoooMC6BQwx6+6A11dAAQUUUECBLAFDTBabJymggAIKKKDAugUMMevugNdXQAEFFFBAgSwBQ0wW245Oyv0m7R1dxIOfeBfa64H4pObvA7cC7wS+PbCJt9vHJzMfCdwHnAPcrV1Rgfj6ji8AL029+Ms0uvZFmbcc7NXAFcAx6cPNPpnWeBys/3j+PwlcC7wSiA+Wuwc4H/iSa3889M2RDTHjG+d+k/b4lfV1hfcBvw18BYhPa74pfVfIL6ZpngDcDpwK3AGcB1wIHA081BfFWmcTpvEt8a8ahBjtx2/JK4DPAGcBnwXid/sLgS8C+o/r/6n0+WO/BDycguQvA88GXubvnXHxDTHj+sboud+kPX5lfV/htUD8S/TH0zRvTF/yGV/+GY9Y+9GbeOt7POdjdYHnAr8PvDH9azR2xWInRvvVbbcb4a4UzvdscaD+2+mt9vyXgQ8BH0/DPA/4KvAM4Gp/76yGu93ZhpjthFZ7fiff37TalTx7f4EPAC8BTkxPxDeZ3wBcMzjwlvQ1FBfIt7JAvIz0+fRLO7bT40tXN0OM9ivz/sgB4muKYzfxg+kljdgBiB3JXwP+FNB/XP/4h9Gvpv99D3gv8LPpd4/249o/8a9RH+MJ7OSbtMerYn4jx05ABJaXp+30EIjvzIr7Ba4fcMS/UOPr6WML3sdqAnEPQGydvwnYvV+I0X412+3OfibwDeCv0kt5sQsQAeYdQOyOxX1frv3tFPOfj+/ki12YeAk1Psw0ehEvqUYfXPv5rkudaYhZiin7IHdisumyT3wz8LH0ksYfDkbxX0TZpNueeBTwR8BxwF9vEWK035ZwpQMOB76bdgDelUaK3+1xU/uvAHG/mLuQKxEf8OTYgbwfuA2Il/Li26LjJurfSDdYx3142o9j/8SohpgRcdPQtXyT9vgzXf8VzkwvZ/wC8Mf7lRO7LrHe4xfM5tqPbzK/1HtiVm7cW1NwjK30eMQv9qcB3wHiP6o/p/3KxtsNEC/f3Zzu8dpc399KIeYt+m/Hl/38TwB/k26i/rPBKGH/tvRGAn/vZPNuf6IhZnujVY+o5Zu0V51H7eefm94+HTf0/skWxcY7NOJfS6cAdwJx/EW+O6lIW58CPH0wUry8ETeaHp+21F+kfRHnHzVIrOV4x93PA38BxH1e8RLf84Fj9R/V/8+Bz6WdmB+mfyh9NNn/lPaj2rsTMy7vE6PX8k3aE0x1rZd4HHgUiF8iw8dTB3+JXZjLB58Tc7afEzNKz/a/JyYuov0o1P9v0PgH6buBtwNPHnxWSbyUp/+49i8ANt9IEN9eHS8vvQeINw5oP669IWZkX4dXQAEFFFBAgZEEfDlpJFiHVUABBRRQQIFxBQwx4/o6ugIKKKCAAgqMJGCIGQnWYRVQQAEFFFBgXAFDzLi+jq6AAgoooIACIwkYYkaCdVgFFFBAAQUUGFfAEDOur6MroIACCiigwEgChpiRYB1WAQUUUEABBcYVMMSM6+voCiiggAIKKDCSgCFmJFiHVUABBRRQQIFxBQwx4/o6ugIKKKCAAgqMJGCIGQnWYRVQQAEFFFBgXAFDzLi+jq6AAgoooIACIwkYYkaCdVgFFFBAAQUUGFfAEDOur6MroIACCiigwEgChpiRYB1WAQUUUEABBcYVMMSM6+voCiiggAIKKDCSgCFmJFiHVUABBRRQQIFxBQwx4/o6ugIKKKCAAgqMJGCIGQnWYRVQQAEFFFBgXAFDzLi+jq6AAgoooIACIwkYYkaCdVgFFFBAAQUUGFfAEDOur6MroIACCiigwEgChpiRYB1WAQUUUEABBcYVMMSM6+voCiiggAIKKDCSgCFmJFiHVUABBRRQQIFxBQwx4/o6ugIKKKCAAgqMJGCIGQnWYRVQQAEFFFBgXIH/CzjODFinnpF1AAAAAElFTkSuQmCC\" width=\"431.53847736719854\">"
      ],
      "text/plain": [
       "<IPython.core.display.HTML object>"
      ]
     },
     "metadata": {},
     "output_type": "display_data"
    },
    {
     "data": {
      "text/plain": [
       "(array([ 956.,   32.,    7.,    3.,    1.,    0.,    0.,    0.,    0.,    1.]),\n",
       " array([  2.36686875e-02,   8.32326030e+00,   1.66228519e+01,\n",
       "          2.49224435e+01,   3.32220352e+01,   4.15216268e+01,\n",
       "          4.98212184e+01,   5.81208100e+01,   6.64204016e+01,\n",
       "          7.47199932e+01,   8.30195848e+01]),\n",
       " <a list of 10 Patch objects>)"
      ]
     },
     "execution_count": 4,
     "metadata": {},
     "output_type": "execute_result"
    }
   ],
   "source": [
    "# plt.hist(np.random.lognormal(0,1.3,1000))"
   ]
  },
  {
   "cell_type": "code",
   "execution_count": null,
   "metadata": {
    "collapsed": true
   },
   "outputs": [],
   "source": []
  }
 ],
 "metadata": {
  "anaconda-cloud": {},
  "kernelspec": {
   "display_name": "Python 3",
   "language": "python",
   "name": "python3"
  },
  "language_info": {
   "codemirror_mode": {
    "name": "ipython",
    "version": 3
   },
   "file_extension": ".py",
   "mimetype": "text/x-python",
   "name": "python",
   "nbconvert_exporter": "python",
   "pygments_lexer": "ipython3",
   "version": "3.6.1"
  }
 },
 "nbformat": 4,
 "nbformat_minor": 1
}
