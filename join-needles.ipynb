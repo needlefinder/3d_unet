{
 "cells": [
  {
   "cell_type": "code",
   "execution_count": 3,
   "metadata": {
    "collapsed": false
   },
   "outputs": [
    {
     "name": "stdout",
     "output_type": "stream",
     "text": [
      "/home/gp1514/Dropbox/2016-paolo/preprocessed_data/LabelMaps_1.00-1.00-1.00/053\n",
      " 8 valid needles on 8\n",
      "/home/gp1514/Dropbox/2016-paolo/preprocessed_data/LabelMaps_1.00-1.00-1.00/014\n",
      " 8 valid needles on 8\n",
      "/home/gp1514/Dropbox/2016-paolo/preprocessed_data/LabelMaps_1.00-1.00-1.00/039\n",
      " 15 valid needles on 15\n",
      "/home/gp1514/Dropbox/2016-paolo/preprocessed_data/LabelMaps_1.00-1.00-1.00/054\n",
      " 12 valid needles on 12\n",
      "/home/gp1514/Dropbox/2016-paolo/preprocessed_data/LabelMaps_1.00-1.00-1.00/045\n",
      " 17 valid needles on 17\n",
      "/home/gp1514/Dropbox/2016-paolo/preprocessed_data/LabelMaps_1.00-1.00-1.00/028\n",
      " 12 valid needles on 12\n",
      "/home/gp1514/Dropbox/2016-paolo/preprocessed_data/LabelMaps_1.00-1.00-1.00/002\n",
      " 7 valid needles on 7\n",
      "/home/gp1514/Dropbox/2016-paolo/preprocessed_data/LabelMaps_1.00-1.00-1.00/021\n",
      " 6 valid needles on 6\n",
      "/home/gp1514/Dropbox/2016-paolo/preprocessed_data/LabelMaps_1.00-1.00-1.00/029\n",
      " 8 valid needles on 8\n",
      "/home/gp1514/Dropbox/2016-paolo/preprocessed_data/LabelMaps_1.00-1.00-1.00/040\n",
      " 14 valid needles on 14\n",
      "/home/gp1514/Dropbox/2016-paolo/preprocessed_data/LabelMaps_1.00-1.00-1.00/016\n",
      " 15 valid needles on 15\n",
      "/home/gp1514/Dropbox/2016-paolo/preprocessed_data/LabelMaps_1.00-1.00-1.00/022\n",
      " 7 valid needles on 7\n",
      "/home/gp1514/Dropbox/2016-paolo/preprocessed_data/LabelMaps_1.00-1.00-1.00/012\n",
      " 9 valid needles on 9\n",
      "/home/gp1514/Dropbox/2016-paolo/preprocessed_data/LabelMaps_1.00-1.00-1.00/063\n",
      " 26 valid needles on 26\n",
      "/home/gp1514/Dropbox/2016-paolo/preprocessed_data/LabelMaps_1.00-1.00-1.00/069\n",
      " 35 valid needles on 35\n",
      "/home/gp1514/Dropbox/2016-paolo/preprocessed_data/LabelMaps_1.00-1.00-1.00/072\n",
      " 20 valid needles on 20\n",
      "/home/gp1514/Dropbox/2016-paolo/preprocessed_data/LabelMaps_1.00-1.00-1.00/041\n",
      " 32 valid needles on 32\n",
      "/home/gp1514/Dropbox/2016-paolo/preprocessed_data/LabelMaps_1.00-1.00-1.00/076\n",
      " 11 valid needles on 12\n",
      "/home/gp1514/Dropbox/2016-paolo/preprocessed_data/LabelMaps_1.00-1.00-1.00/048\n",
      " 19 valid needles on 19\n",
      "/home/gp1514/Dropbox/2016-paolo/preprocessed_data/LabelMaps_1.00-1.00-1.00/064\n",
      " 19 valid needles on 19\n",
      "/home/gp1514/Dropbox/2016-paolo/preprocessed_data/LabelMaps_1.00-1.00-1.00/033\n",
      " 5 valid needles on 5\n",
      "/home/gp1514/Dropbox/2016-paolo/preprocessed_data/LabelMaps_1.00-1.00-1.00/049\n",
      " 9 valid needles on 9\n",
      "/home/gp1514/Dropbox/2016-paolo/preprocessed_data/LabelMaps_1.00-1.00-1.00/060\n",
      " 10 valid needles on 11\n",
      "/home/gp1514/Dropbox/2016-paolo/preprocessed_data/LabelMaps_1.00-1.00-1.00/035\n",
      " 17 valid needles on 17\n",
      "/home/gp1514/Dropbox/2016-paolo/preprocessed_data/LabelMaps_1.00-1.00-1.00/075\n",
      " 7 valid needles on 7\n",
      "/home/gp1514/Dropbox/2016-paolo/preprocessed_data/LabelMaps_1.00-1.00-1.00/026\n",
      " 14 valid needles on 14\n",
      "/home/gp1514/Dropbox/2016-paolo/preprocessed_data/LabelMaps_1.00-1.00-1.00/038\n",
      " 9 valid needles on 9\n",
      "/home/gp1514/Dropbox/2016-paolo/preprocessed_data/LabelMaps_1.00-1.00-1.00/051\n",
      " 9 valid needles on 9\n",
      "/home/gp1514/Dropbox/2016-paolo/preprocessed_data/LabelMaps_1.00-1.00-1.00/037\n",
      " 6 valid needles on 6\n",
      "/home/gp1514/Dropbox/2016-paolo/preprocessed_data/LabelMaps_1.00-1.00-1.00/070\n",
      " 15 valid needles on 15\n",
      "/home/gp1514/Dropbox/2016-paolo/preprocessed_data/LabelMaps_1.00-1.00-1.00/044\n",
      " 14 valid needles on 14\n",
      "/home/gp1514/Dropbox/2016-paolo/preprocessed_data/LabelMaps_1.00-1.00-1.00/058\n",
      " 11 valid needles on 11\n",
      "/home/gp1514/Dropbox/2016-paolo/preprocessed_data/LabelMaps_1.00-1.00-1.00/042\n",
      " 18 valid needles on 18\n",
      "/home/gp1514/Dropbox/2016-paolo/preprocessed_data/LabelMaps_1.00-1.00-1.00/077\n",
      " 7 valid needles on 7\n",
      "/home/gp1514/Dropbox/2016-paolo/preprocessed_data/LabelMaps_1.00-1.00-1.00/024\n",
      " 7 valid needles on 7\n",
      "/home/gp1514/Dropbox/2016-paolo/preprocessed_data/LabelMaps_1.00-1.00-1.00/023\n",
      " 14 valid needles on 14\n",
      "/home/gp1514/Dropbox/2016-paolo/preprocessed_data/LabelMaps_1.00-1.00-1.00/008\n",
      " 8 valid needles on 8\n",
      "/home/gp1514/Dropbox/2016-paolo/preprocessed_data/LabelMaps_1.00-1.00-1.00/034\n",
      " 7 valid needles on 7\n",
      "/home/gp1514/Dropbox/2016-paolo/preprocessed_data/LabelMaps_1.00-1.00-1.00/071\n",
      " 13 valid needles on 13\n",
      "/home/gp1514/Dropbox/2016-paolo/preprocessed_data/LabelMaps_1.00-1.00-1.00/030\n",
      " 15 valid needles on 15\n",
      "/home/gp1514/Dropbox/2016-paolo/preprocessed_data/LabelMaps_1.00-1.00-1.00/074\n",
      " 14 valid needles on 16\n",
      "/home/gp1514/Dropbox/2016-paolo/preprocessed_data/LabelMaps_1.00-1.00-1.00/050\n",
      " 20 valid needles on 20\n",
      "/home/gp1514/Dropbox/2016-paolo/preprocessed_data/LabelMaps_1.00-1.00-1.00/059\n",
      " 33 valid needles on 35\n",
      "/home/gp1514/Dropbox/2016-paolo/preprocessed_data/LabelMaps_1.00-1.00-1.00/056\n",
      " 12 valid needles on 12\n",
      "/home/gp1514/Dropbox/2016-paolo/preprocessed_data/LabelMaps_1.00-1.00-1.00/031\n",
      " 15 valid needles on 16\n",
      "/home/gp1514/Dropbox/2016-paolo/preprocessed_data/LabelMaps_1.00-1.00-1.00/025\n",
      " 9 valid needles on 9\n",
      "/home/gp1514/Dropbox/2016-paolo/preprocessed_data/LabelMaps_1.00-1.00-1.00/027\n",
      " 5 valid needles on 5\n",
      "/home/gp1514/Dropbox/2016-paolo/preprocessed_data/LabelMaps_1.00-1.00-1.00/007\n",
      " 7 valid needles on 7\n",
      "Done!\n"
     ]
    }
   ],
   "source": [
    "#!/usr/bin/env python\n",
    "\n",
    "import os\n",
    "import numpy as np\n",
    "import nrrd\n",
    "\n",
    "main_dir = \"/home/gp1514/Dropbox/2016-paolo/preprocessed_data/LabelMaps_1.00-1.00-1.00\"\n",
    "\n",
    "all_cases = [os.path.join(main_dir, folder) for folder in os.listdir(main_dir) if os.path.isdir(os.path.join(main_dir, folder))]\n",
    "\n",
    "for case in all_cases:\n",
    "\n",
    "    print(case)\n",
    "    \n",
    "    needles = [needle for needle in os.listdir(case) if os.path.isfile(os.path.join(case, needle)) and 'needle' in needle]\n",
    "    \n",
    "    mri = nrrd.read('%s/case.nrrd' % case)[0]\n",
    "\n",
    "    needles_sum = np.zeros_like(mri).astype(np.uint16)\n",
    "\n",
    "    valid_needles = 0\n",
    "\n",
    "    for needle in needles:\n",
    "        needle = nrrd.read('%s/%s' % (case, needle))[0].astype(np.uint16)\n",
    "\n",
    "        needle[needle!=0] = 1\n",
    "\n",
    "        if needle.sum() > int(0.25 * needle.shape[0] * needle.shape[1] * needle.shape[2]):\n",
    "            pass\n",
    "\n",
    "        else:\n",
    "            needles_sum += needle\n",
    "            valid_needles += 1\n",
    "\n",
    "    print(' %d valid needles on %d' % (valid_needles, len(needles)))\n",
    "    \n",
    "    needles_sum[needles_sum!=0] = 1\n",
    "\n",
    "    nrrd.write('%s/needles.nrrd' % (case), needles_sum)\n",
    "\n",
    "print(\"Done!\")"
   ]
  },
  {
   "cell_type": "code",
   "execution_count": 12,
   "metadata": {
    "collapsed": false
   },
   "outputs": [
    {
     "data": {
      "text/plain": [
       "0"
      ]
     },
     "execution_count": 12,
     "metadata": {},
     "output_type": "execute_result"
    }
   ],
   "source": [
    "np.sum(nrrd.read(main_dir+'/002/needle-1.nrrd')[0])"
   ]
  },
  {
   "cell_type": "code",
   "execution_count": null,
   "metadata": {
    "collapsed": true
   },
   "outputs": [],
   "source": []
  }
 ],
 "metadata": {
  "kernelspec": {
   "display_name": "Python 3",
   "language": "python",
   "name": "python3"
  },
  "language_info": {
   "codemirror_mode": {
    "name": "ipython",
    "version": 3
   },
   "file_extension": ".py",
   "mimetype": "text/x-python",
   "name": "python",
   "nbconvert_exporter": "python",
   "pygments_lexer": "ipython3",
   "version": "3.6.0"
  }
 },
 "nbformat": 4,
 "nbformat_minor": 2
}
