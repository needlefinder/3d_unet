{
 "cells": [
  {
   "cell_type": "code",
   "execution_count": 1,
   "metadata": {
    "collapsed": true
   },
   "outputs": [],
   "source": [
    "import sys\n",
    "sys.path.append('../')\n",
    "from fns import *\n",
    "import glob"
   ]
  },
  {
   "cell_type": "code",
   "execution_count": 2,
   "metadata": {
    "collapsed": true
   },
   "outputs": [],
   "source": [
    "rootPath = \"/mnt/DATA/gp1514/Dropbox/2016-paolo/preprocessed_data/\"\n",
    "dataPath = rootPath + \"LabelMapsNEW2_1.00-1.00-1.00/\"\n",
    "claheDataPath = rootPath + \"LabelMapsNEW2_1.00-1.00-1.00/\"\n",
    "trainingCases = loadCases(\"training.txt\")\n",
    "validationCases = loadCases(\"validation.txt\")\n",
    "testingCases = loadCases(\"testing.txt\")\n",
    "\n",
    "files_training = [claheDataPath + name + '/case.nrrd' for name in trainingCases]\n",
    "files_validation = [claheDataPath + name + '/case.nrrd' for name in validationCases]\n",
    "files_testing = [claheDataPath + name + '/case.nrrd' for name in testingCases]"
   ]
  },
  {
   "cell_type": "code",
   "execution_count": 5,
   "metadata": {
    "collapsed": true,
    "scrolled": false
   },
   "outputs": [],
   "source": [
    "off = 44 \n",
    "\n",
    "inputs = [files_training, \n",
    "          files_validation, \n",
    "          files_testing]\n",
    "\n",
    "outputs = ['training_subvolumes.txt', 'validation_subvolumes.txt', 'testing_subvolumes.txt']\n",
    "\n",
    "for i in range(3):\n",
    "    files = []\n",
    "\n",
    "    for file in inputs[i]: \n",
    "        folder = file.replace('case.nrrd', '')\n",
    "        files.append(glob.glob(folder+'case_*.nrrd'))\n",
    "\n",
    "    files = np.concatenate(files)\n",
    "    with open(outputs[i], 'w') as f:\n",
    "        for file in files:\n",
    "            label_file = file.replace('case', 'needles')\n",
    "            label = nrrd.read(label_file)[0].astype('uint16')\n",
    "            sum_label = np.sum(label[off:-off,off:-off,off:-off])\n",
    "            if sum_label > 400:\n",
    "                f.write(file + '\\n')\n",
    "\n"
   ]
  },
  {
   "cell_type": "code",
   "execution_count": 6,
   "metadata": {},
   "outputs": [
    {
     "data": {
      "text/plain": [
       "['/home/gp1514/DATA/LabelMapsNEW2_1.00-1.00-1.00/028/case.nrrd',\n",
       " '/home/gp1514/DATA/LabelMapsNEW2_1.00-1.00-1.00/051/case.nrrd',\n",
       " '/home/gp1514/DATA/LabelMapsNEW2_1.00-1.00-1.00/054/case.nrrd']"
      ]
     },
     "execution_count": 6,
     "metadata": {},
     "output_type": "execute_result"
    }
   ],
   "source": [
    "inputs[2]"
   ]
  },
  {
   "cell_type": "code",
   "execution_count": 7,
   "metadata": {},
   "outputs": [
    {
     "name": "stdout",
     "output_type": "stream",
     "text": [
      "['/home/gp1514/DATA/LabelMapsNEW2_1.00-1.00-1.00/007/case_11.nrrd', '/home/gp1514/DATA/LabelMapsNEW2_1.00-1.00-1.00/007/case_7.nrrd', '/home/gp1514/DATA/LabelMapsNEW2_1.00-1.00-1.00/007/case_10.nrrd', '/home/gp1514/DATA/LabelMapsNEW2_1.00-1.00-1.00/008/case_4.nrrd', '/home/gp1514/DATA/LabelMapsNEW2_1.00-1.00-1.00/012/case_4.nrrd', '/home/gp1514/DATA/LabelMapsNEW2_1.00-1.00-1.00/012/case_5.nrrd', '/home/gp1514/DATA/LabelMapsNEW2_1.00-1.00-1.00/014/case_4.nrrd', '/home/gp1514/DATA/LabelMapsNEW2_1.00-1.00-1.00/014/case_7.nrrd', '/home/gp1514/DATA/LabelMapsNEW2_1.00-1.00-1.00/014/case_5.nrrd', '/home/gp1514/DATA/LabelMapsNEW2_1.00-1.00-1.00/014/case_8.nrrd', '/home/gp1514/DATA/LabelMapsNEW2_1.00-1.00-1.00/016/case_7.nrrd', '/home/gp1514/DATA/LabelMapsNEW2_1.00-1.00-1.00/016/case_8.nrrd', '/home/gp1514/DATA/LabelMapsNEW2_1.00-1.00-1.00/021/case_4.nrrd', '/home/gp1514/DATA/LabelMapsNEW2_1.00-1.00-1.00/021/case_7.nrrd', '/home/gp1514/DATA/LabelMapsNEW2_1.00-1.00-1.00/022/case_22.nrrd', '/home/gp1514/DATA/LabelMapsNEW2_1.00-1.00-1.00/022/case_30.nrrd', '/home/gp1514/DATA/LabelMapsNEW2_1.00-1.00-1.00/022/case_34.nrrd', '/home/gp1514/DATA/LabelMapsNEW2_1.00-1.00-1.00/022/case_29.nrrd', '/home/gp1514/DATA/LabelMapsNEW2_1.00-1.00-1.00/022/case_23.nrrd', '/home/gp1514/DATA/LabelMapsNEW2_1.00-1.00-1.00/022/case_17.nrrd', '/home/gp1514/DATA/LabelMapsNEW2_1.00-1.00-1.00/023/case_22.nrrd', '/home/gp1514/DATA/LabelMapsNEW2_1.00-1.00-1.00/023/case_18.nrrd', '/home/gp1514/DATA/LabelMapsNEW2_1.00-1.00-1.00/023/case_17.nrrd', '/home/gp1514/DATA/LabelMapsNEW2_1.00-1.00-1.00/024/case_4.nrrd', '/home/gp1514/DATA/LabelMapsNEW2_1.00-1.00-1.00/025/case_14.nrrd', '/home/gp1514/DATA/LabelMapsNEW2_1.00-1.00-1.00/025/case_15.nrrd', '/home/gp1514/DATA/LabelMapsNEW2_1.00-1.00-1.00/025/case_17.nrrd', '/home/gp1514/DATA/LabelMapsNEW2_1.00-1.00-1.00/025/case_16.nrrd', '/home/gp1514/DATA/LabelMapsNEW2_1.00-1.00-1.00/026/case_22.nrrd', '/home/gp1514/DATA/LabelMapsNEW2_1.00-1.00-1.00/026/case_34.nrrd', '/home/gp1514/DATA/LabelMapsNEW2_1.00-1.00-1.00/026/case_26.nrrd', '/home/gp1514/DATA/LabelMapsNEW2_1.00-1.00-1.00/026/case_35.nrrd', '/home/gp1514/DATA/LabelMapsNEW2_1.00-1.00-1.00/026/case_23.nrrd', '/home/gp1514/DATA/LabelMapsNEW2_1.00-1.00-1.00/026/case_21.nrrd', '/home/gp1514/DATA/LabelMapsNEW2_1.00-1.00-1.00/027/case_4.nrrd', '/home/gp1514/DATA/LabelMapsNEW2_1.00-1.00-1.00/029/case_13.nrrd', '/home/gp1514/DATA/LabelMapsNEW2_1.00-1.00-1.00/029/case_22.nrrd', '/home/gp1514/DATA/LabelMapsNEW2_1.00-1.00-1.00/029/case_12.nrrd', '/home/gp1514/DATA/LabelMapsNEW2_1.00-1.00-1.00/029/case_25.nrrd', '/home/gp1514/DATA/LabelMapsNEW2_1.00-1.00-1.00/029/case_14.nrrd', '/home/gp1514/DATA/LabelMapsNEW2_1.00-1.00-1.00/029/case_15.nrrd', '/home/gp1514/DATA/LabelMapsNEW2_1.00-1.00-1.00/029/case_16.nrrd', '/home/gp1514/DATA/LabelMapsNEW2_1.00-1.00-1.00/030/case_14.nrrd', '/home/gp1514/DATA/LabelMapsNEW2_1.00-1.00-1.00/030/case_15.nrrd', '/home/gp1514/DATA/LabelMapsNEW2_1.00-1.00-1.00/031/case_33.nrrd', '/home/gp1514/DATA/LabelMapsNEW2_1.00-1.00-1.00/031/case_30.nrrd', '/home/gp1514/DATA/LabelMapsNEW2_1.00-1.00-1.00/031/case_34.nrrd', '/home/gp1514/DATA/LabelMapsNEW2_1.00-1.00-1.00/031/case_35.nrrd', '/home/gp1514/DATA/LabelMapsNEW2_1.00-1.00-1.00/031/case_29.nrrd', '/home/gp1514/DATA/LabelMapsNEW2_1.00-1.00-1.00/033/case_22.nrrd', '/home/gp1514/DATA/LabelMapsNEW2_1.00-1.00-1.00/033/case_25.nrrd', '/home/gp1514/DATA/LabelMapsNEW2_1.00-1.00-1.00/033/case_26.nrrd', '/home/gp1514/DATA/LabelMapsNEW2_1.00-1.00-1.00/033/case_23.nrrd', '/home/gp1514/DATA/LabelMapsNEW2_1.00-1.00-1.00/034/case_4.nrrd', '/home/gp1514/DATA/LabelMapsNEW2_1.00-1.00-1.00/034/case_7.nrrd', '/home/gp1514/DATA/LabelMapsNEW2_1.00-1.00-1.00/034/case_5.nrrd', '/home/gp1514/DATA/LabelMapsNEW2_1.00-1.00-1.00/034/case_8.nrrd', '/home/gp1514/DATA/LabelMapsNEW2_1.00-1.00-1.00/035/case_22.nrrd', '/home/gp1514/DATA/LabelMapsNEW2_1.00-1.00-1.00/035/case_23.nrrd', '/home/gp1514/DATA/LabelMapsNEW2_1.00-1.00-1.00/035/case_21.nrrd', '/home/gp1514/DATA/LabelMapsNEW2_1.00-1.00-1.00/037/case_15.nrrd', '/home/gp1514/DATA/LabelMapsNEW2_1.00-1.00-1.00/038/case_25.nrrd', '/home/gp1514/DATA/LabelMapsNEW2_1.00-1.00-1.00/038/case_27.nrrd', '/home/gp1514/DATA/LabelMapsNEW2_1.00-1.00-1.00/039/case_20.nrrd', '/home/gp1514/DATA/LabelMapsNEW2_1.00-1.00-1.00/039/case_14.nrrd', '/home/gp1514/DATA/LabelMapsNEW2_1.00-1.00-1.00/039/case_15.nrrd', '/home/gp1514/DATA/LabelMapsNEW2_1.00-1.00-1.00/040/case_11.nrrd', '/home/gp1514/DATA/LabelMapsNEW2_1.00-1.00-1.00/040/case_9.nrrd', '/home/gp1514/DATA/LabelMapsNEW2_1.00-1.00-1.00/040/case_10.nrrd', '/home/gp1514/DATA/LabelMapsNEW2_1.00-1.00-1.00/040/case_8.nrrd', '/home/gp1514/DATA/LabelMapsNEW2_1.00-1.00-1.00/040/case_14.nrrd', '/home/gp1514/DATA/LabelMapsNEW2_1.00-1.00-1.00/040/case_15.nrrd', '/home/gp1514/DATA/LabelMapsNEW2_1.00-1.00-1.00/040/case_17.nrrd', '/home/gp1514/DATA/LabelMapsNEW2_1.00-1.00-1.00/040/case_16.nrrd', '/home/gp1514/DATA/LabelMapsNEW2_1.00-1.00-1.00/041/case_11.nrrd', '/home/gp1514/DATA/LabelMapsNEW2_1.00-1.00-1.00/041/case_9.nrrd', '/home/gp1514/DATA/LabelMapsNEW2_1.00-1.00-1.00/041/case_20.nrrd', '/home/gp1514/DATA/LabelMapsNEW2_1.00-1.00-1.00/041/case_14.nrrd', '/home/gp1514/DATA/LabelMapsNEW2_1.00-1.00-1.00/041/case_15.nrrd', '/home/gp1514/DATA/LabelMapsNEW2_1.00-1.00-1.00/041/case_21.nrrd', '/home/gp1514/DATA/LabelMapsNEW2_1.00-1.00-1.00/041/case_17.nrrd', '/home/gp1514/DATA/LabelMapsNEW2_1.00-1.00-1.00/041/case_16.nrrd', '/home/gp1514/DATA/LabelMapsNEW2_1.00-1.00-1.00/042/case_4.nrrd', '/home/gp1514/DATA/LabelMapsNEW2_1.00-1.00-1.00/042/case_7.nrrd', '/home/gp1514/DATA/LabelMapsNEW2_1.00-1.00-1.00/042/case_5.nrrd', '/home/gp1514/DATA/LabelMapsNEW2_1.00-1.00-1.00/042/case_8.nrrd', '/home/gp1514/DATA/LabelMapsNEW2_1.00-1.00-1.00/044/case_13.nrrd', '/home/gp1514/DATA/LabelMapsNEW2_1.00-1.00-1.00/044/case_12.nrrd', '/home/gp1514/DATA/LabelMapsNEW2_1.00-1.00-1.00/044/case_25.nrrd', '/home/gp1514/DATA/LabelMapsNEW2_1.00-1.00-1.00/044/case_15.nrrd', '/home/gp1514/DATA/LabelMapsNEW2_1.00-1.00-1.00/044/case_17.nrrd', '/home/gp1514/DATA/LabelMapsNEW2_1.00-1.00-1.00/044/case_16.nrrd', '/home/gp1514/DATA/LabelMapsNEW2_1.00-1.00-1.00/045/case_14.nrrd', '/home/gp1514/DATA/LabelMapsNEW2_1.00-1.00-1.00/045/case_15.nrrd', '/home/gp1514/DATA/LabelMapsNEW2_1.00-1.00-1.00/045/case_17.nrrd', '/home/gp1514/DATA/LabelMapsNEW2_1.00-1.00-1.00/048/case_22.nrrd', '/home/gp1514/DATA/LabelMapsNEW2_1.00-1.00-1.00/048/case_32.nrrd', '/home/gp1514/DATA/LabelMapsNEW2_1.00-1.00-1.00/048/case_25.nrrd', '/home/gp1514/DATA/LabelMapsNEW2_1.00-1.00-1.00/048/case_34.nrrd', '/home/gp1514/DATA/LabelMapsNEW2_1.00-1.00-1.00/048/case_26.nrrd', '/home/gp1514/DATA/LabelMapsNEW2_1.00-1.00-1.00/048/case_31.nrrd', '/home/gp1514/DATA/LabelMapsNEW2_1.00-1.00-1.00/048/case_35.nrrd', '/home/gp1514/DATA/LabelMapsNEW2_1.00-1.00-1.00/048/case_23.nrrd', '/home/gp1514/DATA/LabelMapsNEW2_1.00-1.00-1.00/048/case_21.nrrd', '/home/gp1514/DATA/LabelMapsNEW2_1.00-1.00-1.00/049/case_22.nrrd', '/home/gp1514/DATA/LabelMapsNEW2_1.00-1.00-1.00/049/case_26.nrrd', '/home/gp1514/DATA/LabelMapsNEW2_1.00-1.00-1.00/049/case_23.nrrd', '/home/gp1514/DATA/LabelMapsNEW2_1.00-1.00-1.00/050/case_9.nrrd', '/home/gp1514/DATA/LabelMapsNEW2_1.00-1.00-1.00/050/case_14.nrrd', '/home/gp1514/DATA/LabelMapsNEW2_1.00-1.00-1.00/050/case_15.nrrd', '/home/gp1514/DATA/LabelMapsNEW2_1.00-1.00-1.00/050/case_21.nrrd', '/home/gp1514/DATA/LabelMapsNEW2_1.00-1.00-1.00/053/case_13.nrrd', '/home/gp1514/DATA/LabelMapsNEW2_1.00-1.00-1.00/053/case_22.nrrd', '/home/gp1514/DATA/LabelMapsNEW2_1.00-1.00-1.00/053/case_12.nrrd', '/home/gp1514/DATA/LabelMapsNEW2_1.00-1.00-1.00/053/case_14.nrrd', '/home/gp1514/DATA/LabelMapsNEW2_1.00-1.00-1.00/053/case_23.nrrd', '/home/gp1514/DATA/LabelMapsNEW2_1.00-1.00-1.00/053/case_21.nrrd', '/home/gp1514/DATA/LabelMapsNEW2_1.00-1.00-1.00/056/case_22.nrrd', '/home/gp1514/DATA/LabelMapsNEW2_1.00-1.00-1.00/056/case_23.nrrd', '/home/gp1514/DATA/LabelMapsNEW2_1.00-1.00-1.00/058/case_22.nrrd', '/home/gp1514/DATA/LabelMapsNEW2_1.00-1.00-1.00/058/case_23.nrrd', '/home/gp1514/DATA/LabelMapsNEW2_1.00-1.00-1.00/059/case_13.nrrd', '/home/gp1514/DATA/LabelMapsNEW2_1.00-1.00-1.00/059/case_22.nrrd', '/home/gp1514/DATA/LabelMapsNEW2_1.00-1.00-1.00/059/case_32.nrrd', '/home/gp1514/DATA/LabelMapsNEW2_1.00-1.00-1.00/059/case_26.nrrd', '/home/gp1514/DATA/LabelMapsNEW2_1.00-1.00-1.00/059/case_14.nrrd', '/home/gp1514/DATA/LabelMapsNEW2_1.00-1.00-1.00/059/case_31.nrrd', '/home/gp1514/DATA/LabelMapsNEW2_1.00-1.00-1.00/059/case_23.nrrd', '/home/gp1514/DATA/LabelMapsNEW2_1.00-1.00-1.00/059/case_17.nrrd', '/home/gp1514/DATA/LabelMapsNEW2_1.00-1.00-1.00/060/case_12.nrrd', '/home/gp1514/DATA/LabelMapsNEW2_1.00-1.00-1.00/060/case_14.nrrd', '/home/gp1514/DATA/LabelMapsNEW2_1.00-1.00-1.00/060/case_15.nrrd', '/home/gp1514/DATA/LabelMapsNEW2_1.00-1.00-1.00/063/case_13.nrrd', '/home/gp1514/DATA/LabelMapsNEW2_1.00-1.00-1.00/063/case_22.nrrd', '/home/gp1514/DATA/LabelMapsNEW2_1.00-1.00-1.00/063/case_32.nrrd', '/home/gp1514/DATA/LabelMapsNEW2_1.00-1.00-1.00/063/case_25.nrrd', '/home/gp1514/DATA/LabelMapsNEW2_1.00-1.00-1.00/063/case_34.nrrd', '/home/gp1514/DATA/LabelMapsNEW2_1.00-1.00-1.00/063/case_26.nrrd', '/home/gp1514/DATA/LabelMapsNEW2_1.00-1.00-1.00/063/case_31.nrrd', '/home/gp1514/DATA/LabelMapsNEW2_1.00-1.00-1.00/063/case_23.nrrd', '/home/gp1514/DATA/LabelMapsNEW2_1.00-1.00-1.00/063/case_21.nrrd', '/home/gp1514/DATA/LabelMapsNEW2_1.00-1.00-1.00/063/case_17.nrrd', '/home/gp1514/DATA/LabelMapsNEW2_1.00-1.00-1.00/063/case_16.nrrd', '/home/gp1514/DATA/LabelMapsNEW2_1.00-1.00-1.00/064/case_22.nrrd', '/home/gp1514/DATA/LabelMapsNEW2_1.00-1.00-1.00/064/case_32.nrrd', '/home/gp1514/DATA/LabelMapsNEW2_1.00-1.00-1.00/064/case_18.nrrd', '/home/gp1514/DATA/LabelMapsNEW2_1.00-1.00-1.00/064/case_26.nrrd', '/home/gp1514/DATA/LabelMapsNEW2_1.00-1.00-1.00/064/case_31.nrrd', '/home/gp1514/DATA/LabelMapsNEW2_1.00-1.00-1.00/064/case_23.nrrd', '/home/gp1514/DATA/LabelMapsNEW2_1.00-1.00-1.00/064/case_21.nrrd', '/home/gp1514/DATA/LabelMapsNEW2_1.00-1.00-1.00/069/case_20.nrrd', '/home/gp1514/DATA/LabelMapsNEW2_1.00-1.00-1.00/069/case_14.nrrd', '/home/gp1514/DATA/LabelMapsNEW2_1.00-1.00-1.00/069/case_15.nrrd', '/home/gp1514/DATA/LabelMapsNEW2_1.00-1.00-1.00/069/case_23.nrrd', '/home/gp1514/DATA/LabelMapsNEW2_1.00-1.00-1.00/069/case_21.nrrd', '/home/gp1514/DATA/LabelMapsNEW2_1.00-1.00-1.00/069/case_17.nrrd', '/home/gp1514/DATA/LabelMapsNEW2_1.00-1.00-1.00/069/case_16.nrrd']\n"
     ]
    }
   ],
   "source": [
    "with open('training_subvolumes.txt', 'r') as f:\n",
    "    training_cases = f.read().splitlines()\n",
    "\n",
    "print(training_cases)"
   ]
  },
  {
   "cell_type": "markdown",
   "metadata": {},
   "source": [
    "## synthetic"
   ]
  },
  {
   "cell_type": "code",
   "execution_count": 3,
   "metadata": {
    "collapsed": true
   },
   "outputs": [],
   "source": [
    "rootPath = \"/mnt/DATA/gp1514/Dropbox/2016-paolo/preprocessed_data/\"\n",
    "dataPath = rootPath + \"LabelMapsNEW2_1.00-1.00-1.00_synthetic_occulted/\"\n",
    "cases = glob.glob(dataPath + 'nrrd/' + 'training_case*')"
   ]
  },
  {
   "cell_type": "code",
   "execution_count": 4,
   "metadata": {
    "collapsed": true
   },
   "outputs": [],
   "source": [
    "nbTraining = int(len(cases)*0.8)\n",
    "numberOfValidation = int(len(cases)*0.1)\n",
    "training_cases = cases[:nbTraining]\n",
    "validation_cases = cases[nbTraining:nbTraining+numberOfValidation]\n",
    "testing_cases = cases[nbTraining+numberOfValidation:]\n",
    "\n",
    "inputs = [training_cases, validation_cases, testing_cases]\n",
    "outputs = ['training_subvolumes_synth.txt', 'validation_subvolumes_synth.txt', 'testing_subvolumes_synth.txt']\n",
    "outputs_lab = ['training_subvolumes_synth_label.txt', 'validation_subvolumes_synth_label.txt', 'testing_subvolumes_synth_label.txt']"
   ]
  },
  {
   "cell_type": "code",
   "execution_count": 5,
   "metadata": {
    "collapsed": true
   },
   "outputs": [],
   "source": [
    "for i in range(3):\n",
    "    with open(outputs[i], 'w') as f:\n",
    "        for file in inputs[i]: \n",
    "            f.write(file + '\\n')\n",
    "            \n",
    "for i in range(3):\n",
    "    with open(outputs_lab[i], 'w') as f:\n",
    "        for file in inputs[i]: \n",
    "            file= file.replace('case', 'labelmap')\n",
    "            f.write(file + '\\n')\n",
    "        "
   ]
  },
  {
   "cell_type": "code",
   "execution_count": 6,
   "metadata": {},
   "outputs": [
    {
     "name": "stdout",
     "output_type": "stream",
     "text": [
      "308\n"
     ]
    }
   ],
   "source": [
    "print(len(training_cases))"
   ]
  },
  {
   "cell_type": "code",
   "execution_count": null,
   "metadata": {
    "collapsed": true
   },
   "outputs": [],
   "source": []
  }
 ],
 "metadata": {
  "kernelspec": {
   "display_name": "Python 3",
   "language": "python",
   "name": "python3"
  },
  "language_info": {
   "codemirror_mode": {
    "name": "ipython",
    "version": 3
   },
   "file_extension": ".py",
   "mimetype": "text/x-python",
   "name": "python",
   "nbconvert_exporter": "python",
   "pygments_lexer": "ipython3",
   "version": "3.6.2"
  }
 },
 "nbformat": 4,
 "nbformat_minor": 2
}
