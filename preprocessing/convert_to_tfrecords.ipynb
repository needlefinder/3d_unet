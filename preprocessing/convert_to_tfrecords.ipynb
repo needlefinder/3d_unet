{
 "cells": [
  {
   "cell_type": "code",
   "execution_count": 1,
   "metadata": {
    "collapsed": true
   },
   "outputs": [],
   "source": [
    "import sys\n",
    "sys.path.append('../')\n",
    "from fns import *"
   ]
  },
  {
   "cell_type": "code",
   "execution_count": 8,
   "metadata": {
    "collapsed": true
   },
   "outputs": [],
   "source": [
    "def _process_data(data):\n",
    "        # normalization\n",
    "        data -= np.amin(data)\n",
    "        data /= np.amax(data)\n",
    "        return data"
   ]
  },
  {
   "cell_type": "code",
   "execution_count": 10,
   "metadata": {},
   "outputs": [
    {
     "data": {
      "application/vnd.jupyter.widget-view+json": {
       "model_id": "c2cf827cf2e94cda8fd8ef5daf82c39b"
      }
     },
     "metadata": {},
     "output_type": "display_data"
    },
    {
     "name": "stdout",
     "output_type": "stream",
     "text": [
      "\n"
     ]
    }
   ],
   "source": [
    "files_training, files_validation, files_testing = [], [], []\n",
    "\n",
    "with open('../preprocessing/training_subvolumes_synth.txt', 'r') as f:\n",
    "    files_training = f.read().splitlines()\n",
    "with open('../preprocessing/validation_subvolumes_synth.txt', 'r') as f:\n",
    "    files_validation = f.read().splitlines()\n",
    "with open('../preprocessing/testing_subvolumes_synth.txt', 'r') as f:\n",
    "    files_testing = f.read().splitlines()   \n",
    "\n",
    "with open('../preprocessing/training_subvolumes.txt', 'r') as f:\n",
    "    files_training += f.read().splitlines()\n",
    "with open('../preprocessing/validation_subvolumes.txt', 'r') as f:\n",
    "    files_validation += f.read().splitlines()\n",
    "with open('../preprocessing/testing_subvolumes.txt', 'r') as f:\n",
    "    files_testing += f.read().splitlines() \n",
    "\n",
    "\n",
    "def _bytes_feature(value):\n",
    "    return tf.train.Feature(bytes_list=tf.train.BytesList(value=[value]))\n",
    "\n",
    "def _int64_feature(value):\n",
    "    return tf.train.Feature(int64_list=tf.train.Int64List(value=[value]))\n",
    "\n",
    "tfrecords_filename = '../data.tfrecords'\n",
    "\n",
    "writer = tf.python_io.TFRecordWriter(tfrecords_filename)\n",
    "\n",
    "\n",
    "for i in tnrange(len(files_training)):\n",
    "    image_path = files_training[i]\n",
    "    \n",
    "    label_name = image_path.replace('_case', '_labelmap')\n",
    "    label_name = label_name.replace('case', 'needles')\n",
    "    \n",
    "    img = nrrd.read(img_path)[0]\n",
    "    img = img.astype(np.float32)\n",
    "    img = _process_data(img)\n",
    "    \n",
    "    annotation = nrrd.read(label_name)[0]\n",
    "    annotation = annotation.astype(np.uint8)\n",
    "    annotation = crop_to_shape2(annotation, (60,60,60))\n",
    "    \n",
    "    height = img.shape[0]\n",
    "    width = img.shape[1]\n",
    "    deepth = img.shape[2]\n",
    "    \n",
    "    img_raw = img.tostring()\n",
    "    annotation_raw = annotation.tostring()\n",
    "    \n",
    "    example = tf.train.Example(features=tf.train.Features(feature={\n",
    "        'height': _int64_feature(height),\n",
    "        'width': _int64_feature(width),\n",
    "        'deepth': _int64_feature(deepth),\n",
    "        'image_raw': _bytes_feature(img_raw),\n",
    "        'mask_raw': _bytes_feature(annotation_raw)}))\n",
    "    \n",
    "    writer.write(example.SerializeToString())\n",
    "\n",
    "writer.close()"
   ]
  },
  {
   "cell_type": "code",
   "execution_count": 11,
   "metadata": {
    "collapsed": true
   },
   "outputs": [],
   "source": [
    "def load_data():\n",
    "    files_training, files_validation, files_testing = [], [], []\n",
    "\n",
    "    with open('../preprocessing/training_subvolumes_synth.txt', 'r') as f:\n",
    "        files_training = f.read().splitlines()\n",
    "    with open('../preprocessing/validation_subvolumes_synth.txt', 'r') as f:\n",
    "        files_validation = f.read().splitlines()\n",
    "    with open('../preprocessing/testing_subvolumes_synth.txt', 'r') as f:\n",
    "        files_testing = f.read().splitlines()   \n",
    "\n",
    "    with open('../preprocessing/training_subvolumes.txt', 'r') as f:\n",
    "        files_training += f.read().splitlines()\n",
    "    with open('../preprocessing/validation_subvolumes.txt', 'r') as f:\n",
    "        files_validation += f.read().splitlines()\n",
    "    with open('../preprocessing/testing_subvolumes.txt', 'r') as f:\n",
    "        files_testing += f.read().splitlines() \n",
    "\n",
    "\n",
    "    def _bytes_feature(value):\n",
    "        return tf.train.Feature(bytes_list=tf.train.BytesList(value=[value]))\n",
    "\n",
    "    def _int64_feature(value):\n",
    "        return tf.train.Feature(int64_list=tf.train.Int64List(value=[value]))\n",
    "\n",
    "    tfrecords_filename = '../data.tfrecords'\n",
    "\n",
    "    writer = tf.python_io.TFRecordWriter(tfrecords_filename)\n",
    "\n",
    "    data, target = [], []\n",
    "    for i in tnrange(len(files_training)):\n",
    "        image_path = files_training[i]\n",
    "\n",
    "        label_name = image_path.replace('_case', '_labelmap')\n",
    "        label_name = label_name.replace('case', 'needles')\n",
    "\n",
    "        img = nrrd.read(img_path)[0]\n",
    "        img = img.astype(np.float32)\n",
    "        img = _process_data(img)\n",
    "\n",
    "        annotation = nrrd.read(label_name)[0]\n",
    "        annotation = annotation.astype(np.float32)\n",
    "        annotation = crop_to_shape2(annotation, (60,60,60))\n",
    "\n",
    "        data.append(img)\n",
    "        target.append(annotation)\n",
    "    return data, target"
   ]
  },
  {
   "cell_type": "code",
   "execution_count": null,
   "metadata": {
    "collapsed": true
   },
   "outputs": [],
   "source": []
  }
 ],
 "metadata": {
  "kernelspec": {
   "display_name": "Python 3",
   "language": "python",
   "name": "python3"
  },
  "language_info": {
   "codemirror_mode": {
    "name": "ipython",
    "version": 3
   },
   "file_extension": ".py",
   "mimetype": "text/x-python",
   "name": "python",
   "nbconvert_exporter": "python",
   "pygments_lexer": "ipython3",
   "version": "3.6.2"
  }
 },
 "nbformat": 4,
 "nbformat_minor": 2
}
